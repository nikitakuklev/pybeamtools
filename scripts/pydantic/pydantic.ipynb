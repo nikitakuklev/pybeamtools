{
 "cells": [
  {
   "cell_type": "code",
   "execution_count": 1,
   "metadata": {
    "collapsed": true
   },
   "outputs": [
    {
     "name": "stderr",
     "output_type": "stream",
     "text": [
      "[INFO ] [     MainThread] [17:51:21      logging.py  23] [pybeamtools.utils.logging] Starting shared logging thread on PID 12780\n",
      "[INFO ] [   log_listener] [17:51:21      logging.py  32] [pybeamtools.utils.logging] Logging listener started on PID 12780\n",
      "[INFO ] [     MainThread] [17:51:21      logging.py  27] [pybeamtools.utils.logging] Logging setup finished\n",
      "[INFO ] [     MainThread] [17:51:21        utils.py 148] [numexpr.utils] Note: NumExpr detected 12 cores but \"NUMEXPR_MAX_THREADS\" not set, so enforcing safe limit of 8.\n",
      "[INFO ] [     MainThread] [17:51:21        utils.py 160] [numexpr.utils] NumExpr defaulting to 8 threads.\n"
     ]
    }
   ],
   "source": [
    "import sys\n",
    "sys.path.append('../..')\n",
    "import pybeamtools.utils.pydantic as pd\n",
    "import inspect"
   ]
  },
  {
   "cell_type": "code",
   "execution_count": 2,
   "metadata": {},
   "outputs": [],
   "source": [
    "from pydantic import BaseModel\n",
    "\n",
    "class DummyOptions(BaseModel):\n",
    "    param: str\n",
    "    param2: str = 'bar'\n",
    "\n",
    "class DummyOptionsNoPD():\n",
    "    param: str\n",
    "    param2: str = 'bar'  \n",
    "\n",
    "class Dummy(pd.PBClass):\n",
    "    __options_model__: BaseModel = DummyOptions"
   ]
  },
  {
   "cell_type": "code",
   "execution_count": 3,
   "metadata": {},
   "outputs": [
    {
     "name": "stdout",
     "output_type": "stream",
     "text": [
      "__init__ options=DummyOptions(param='a', param2='foo') kwargs={}\n"
     ]
    }
   ],
   "source": [
    "d = Dummy(options=DummyOptions(param='a',param2='foo'))"
   ]
  },
  {
   "cell_type": "code",
   "execution_count": 4,
   "metadata": {},
   "outputs": [
    {
     "name": "stdout",
     "output_type": "stream",
     "text": [
      "__getattribute__ __dict__\n"
     ]
    },
    {
     "data": {
      "text/plain": [
       "{'options': DummyOptions(param='a', param2='foo')}"
      ]
     },
     "execution_count": 4,
     "metadata": {},
     "output_type": "execute_result"
    }
   ],
   "source": [
    "d.__dict__"
   ]
  },
  {
   "cell_type": "code",
   "execution_count": 5,
   "metadata": {},
   "outputs": [
    {
     "name": "stdout",
     "output_type": "stream",
     "text": [
      "__getattribute__ __class__\n"
     ]
    },
    {
     "data": {
      "text/plain": [
       "mappingproxy({'__module__': '__main__',\n",
       "              '__annotations__': {'__options_model__': pydantic.main.BaseModel},\n",
       "              '__options_model__': __main__.DummyOptions,\n",
       "              '__doc__': None})"
      ]
     },
     "execution_count": 5,
     "metadata": {},
     "output_type": "execute_result"
    }
   ],
   "source": [
    "d.__class__.__dict__"
   ]
  },
  {
   "cell_type": "code",
   "execution_count": 6,
   "metadata": {},
   "outputs": [],
   "source": [
    "d.param = 'b'"
   ]
  },
  {
   "cell_type": "code",
   "execution_count": 7,
   "metadata": {},
   "outputs": [
    {
     "name": "stdout",
     "output_type": "stream",
     "text": [
      "__getattribute__ __dict__\n",
      "__getattribute__ __class__\n"
     ]
    },
    {
     "data": {
      "text/plain": [
       "({'options': DummyOptions(param='b', param2='foo')},\n",
       " mappingproxy({'__module__': '__main__',\n",
       "               '__annotations__': {'__options_model__': pydantic.main.BaseModel},\n",
       "               '__options_model__': __main__.DummyOptions,\n",
       "               '__doc__': None}))"
      ]
     },
     "execution_count": 7,
     "metadata": {},
     "output_type": "execute_result"
    }
   ],
   "source": [
    "d.__dict__, d.__class__.__dict__"
   ]
  },
  {
   "cell_type": "code",
   "execution_count": null,
   "metadata": {},
   "outputs": [],
   "source": []
  },
  {
   "cell_type": "code",
   "execution_count": 4,
   "metadata": {},
   "outputs": [],
   "source": [
    "def get_user_attributes(cls):\n",
    "    boring = dir(type('dummy', (object,), {}))\n",
    "    return [item\n",
    "            for item in inspect.getmembers(cls)\n",
    "            if item[0] not in boring]"
   ]
  },
  {
   "cell_type": "code",
   "execution_count": 5,
   "metadata": {},
   "outputs": [],
   "source": [
    "# List default class attributes\n",
    "#dir(type('dummy', (object,), {}))"
   ]
  },
  {
   "cell_type": "code",
   "execution_count": 6,
   "metadata": {},
   "outputs": [
    {
     "data": {
      "text/plain": [
       "mappingproxy({'__config__': __main__.Config,\n",
       "              '__fields__': {'param': ModelField(name='param', type=str, required=True),\n",
       "               'param2': ModelField(name='param2', type=str, required=False, default='bar')},\n",
       "              '__exclude_fields__': None,\n",
       "              '__include_fields__': None,\n",
       "              '__validators__': {},\n",
       "              '__pre_root_validators__': [],\n",
       "              '__post_root_validators__': [],\n",
       "              '__schema_cache__': {},\n",
       "              '__json_encoder__': <staticmethod at 0x215231f3670>,\n",
       "              '__custom_root_type__': False,\n",
       "              '__private_attributes__': {},\n",
       "              '__slots__': set(),\n",
       "              '__hash__': None,\n",
       "              '__class_vars__': set(),\n",
       "              '__module__': '__main__',\n",
       "              '__annotations__': {'param': str, 'param2': str},\n",
       "              '__doc__': None,\n",
       "              '__abstractmethods__': frozenset(),\n",
       "              '_abc_impl': <_abc._abc_data at 0x21523270180>,\n",
       "              '__signature__': <pydantic.utils.ClassAttribute at 0x215231f3790>})"
      ]
     },
     "execution_count": 6,
     "metadata": {},
     "output_type": "execute_result"
    }
   ],
   "source": [
    "do = DummyOptions(param='bla')\n",
    "do.__class__.__dict__"
   ]
  },
  {
   "cell_type": "code",
   "execution_count": 7,
   "metadata": {},
   "outputs": [
    {
     "data": {
      "text/plain": [
       "{'param': 'bla', 'param2': 'bar'}"
      ]
     },
     "execution_count": 7,
     "metadata": {},
     "output_type": "execute_result"
    }
   ],
   "source": [
    "do.__dict__"
   ]
  },
  {
   "cell_type": "code",
   "execution_count": 11,
   "metadata": {},
   "outputs": [
    {
     "data": {
      "text/plain": [
       "mappingproxy({'__module__': '__main__',\n",
       "              '__annotations__': {'param': str, 'param2': str},\n",
       "              'param2': 'bar',\n",
       "              '__dict__': <attribute '__dict__' of 'DummyOptionsNoPD' objects>,\n",
       "              '__weakref__': <attribute '__weakref__' of 'DummyOptionsNoPD' objects>,\n",
       "              '__doc__': None})"
      ]
     },
     "execution_count": 11,
     "metadata": {},
     "output_type": "execute_result"
    }
   ],
   "source": [
    "do = DummyOptionsNoPD()\n",
    "do.__class__.__dict__"
   ]
  },
  {
   "cell_type": "code",
   "execution_count": null,
   "metadata": {},
   "outputs": [],
   "source": []
  },
  {
   "cell_type": "code",
   "execution_count": 11,
   "metadata": {},
   "outputs": [
    {
     "data": {
      "text/plain": [
       "{'Config': (pydantic.config.BaseConfig, pydantic.config.BaseConfig),\n",
       " '__abstractmethods__': (frozenset(), frozenset()),\n",
       " '__annotations__': ({'param': str}, {'param': str}),\n",
       " '__class__': (__main__.DummyOptions, __main__.DummyOptions),\n",
       " '__class_vars__': (set(), set()),\n",
       " '__config__': (__main__.Config, __main__.Config),\n",
       " '__custom_root_type__': (False, False),\n",
       " '__delattr__': (<method-wrapper '__delattr__' of DummyOptions object at 0x0000026E6307BB20>,\n",
       "  <method-wrapper '__delattr__' of DummyOptions object at 0x0000026E6307BB20>),\n",
       " '__dict__': ({'param': 'bla'}, {'param': 'bla'}),\n",
       " '__dir__': (<function DummyOptions.__dir__()>,\n",
       "  <function DummyOptions.__dir__()>),\n",
       " '__doc__': (None, None),\n",
       " '__eq__': (<bound method BaseModel.__eq__ of DummyOptions(param='bla')>,\n",
       "  <bound method BaseModel.__eq__ of DummyOptions(param='bla')>),\n",
       " '__exclude_fields__': (None, None),\n",
       " '__fields__': ({'param': ModelField(name='param', type=str, required=True)},\n",
       "  {'param': ModelField(name='param', type=str, required=True)}),\n",
       " '__fields_set__': ({'param'}, {'param'}),\n",
       " '__format__': (<function DummyOptions.__format__(format_spec, /)>,\n",
       "  <function DummyOptions.__format__(format_spec, /)>),\n",
       " '__ge__': (<method-wrapper '__ge__' of DummyOptions object at 0x0000026E6307BB20>,\n",
       "  <method-wrapper '__ge__' of DummyOptions object at 0x0000026E6307BB20>),\n",
       " '__get_validators__': (<bound method BaseModel.__get_validators__ of <class '__main__.DummyOptions'>>,\n",
       "  <bound method BaseModel.__get_validators__ of <class '__main__.DummyOptions'>>),\n",
       " '__getattribute__': (<method-wrapper '__getattribute__' of DummyOptions object at 0x0000026E6307BB20>,\n",
       "  <method-wrapper '__getattribute__' of DummyOptions object at 0x0000026E6307BB20>),\n",
       " '__getstate__': (<bound method BaseModel.__getstate__ of DummyOptions(param='bla')>,\n",
       "  <bound method BaseModel.__getstate__ of DummyOptions(param='bla')>),\n",
       " '__gt__': (<method-wrapper '__gt__' of DummyOptions object at 0x0000026E6307BB20>,\n",
       "  <method-wrapper '__gt__' of DummyOptions object at 0x0000026E6307BB20>),\n",
       " '__hash__': (None, None),\n",
       " '__include_fields__': (None, None),\n",
       " '__init__': (<bound method BaseModel.__init__ of DummyOptions(param='bla')>,\n",
       "  <bound method BaseModel.__init__ of DummyOptions(param='bla')>),\n",
       " '__init_subclass__': (<function DummyOptions.__init_subclass__>,\n",
       "  <function DummyOptions.__init_subclass__>),\n",
       " '__iter__': (<bound method BaseModel.__iter__ of DummyOptions(param='bla')>,\n",
       "  <bound method BaseModel.__iter__ of DummyOptions(param='bla')>),\n",
       " '__json_encoder__': (<cyfunction pydantic_encoder at 0x0000026E630FDBA0>,\n",
       "  <cyfunction pydantic_encoder at 0x0000026E630FDBA0>),\n",
       " '__le__': (<method-wrapper '__le__' of DummyOptions object at 0x0000026E6307BB20>,\n",
       "  <method-wrapper '__le__' of DummyOptions object at 0x0000026E6307BB20>),\n",
       " '__lt__': (<method-wrapper '__lt__' of DummyOptions object at 0x0000026E6307BB20>,\n",
       "  <method-wrapper '__lt__' of DummyOptions object at 0x0000026E6307BB20>),\n",
       " '__module__': ('__main__', '__main__'),\n",
       " '__ne__': (<method-wrapper '__ne__' of DummyOptions object at 0x0000026E6307BB20>,\n",
       "  <method-wrapper '__ne__' of DummyOptions object at 0x0000026E6307BB20>),\n",
       " '__new__': (<function object.__new__(*args, **kwargs)>,\n",
       "  <function object.__new__(*args, **kwargs)>),\n",
       " '__post_root_validators__': ([], []),\n",
       " '__pre_root_validators__': ([], []),\n",
       " '__pretty__': (<bound method Representation.__pretty__ of DummyOptions(param='bla')>,\n",
       "  <bound method Representation.__pretty__ of DummyOptions(param='bla')>),\n",
       " '__private_attributes__': ({}, {}),\n",
       " '__reduce__': (<function DummyOptions.__reduce__()>,\n",
       "  <function DummyOptions.__reduce__()>),\n",
       " '__reduce_ex__': (<function DummyOptions.__reduce_ex__(protocol, /)>,\n",
       "  <function DummyOptions.__reduce_ex__(protocol, /)>),\n",
       " '__repr__': (<bound method Representation.__repr__ of DummyOptions(param='bla')>,\n",
       "  <bound method Representation.__repr__ of DummyOptions(param='bla')>),\n",
       " '__repr_args__': (<bound method BaseModel.__repr_args__ of DummyOptions(param='bla')>,\n",
       "  <bound method BaseModel.__repr_args__ of DummyOptions(param='bla')>),\n",
       " '__repr_name__': (<bound method Representation.__repr_name__ of DummyOptions(param='bla')>,\n",
       "  <bound method Representation.__repr_name__ of DummyOptions(param='bla')>),\n",
       " '__repr_str__': (<bound method Representation.__repr_str__ of DummyOptions(param='bla')>,\n",
       "  <bound method Representation.__repr_str__ of DummyOptions(param='bla')>),\n",
       " '__rich_repr__': (<bound method Representation.__rich_repr__ of DummyOptions(param='bla')>,\n",
       "  <bound method Representation.__rich_repr__ of DummyOptions(param='bla')>),\n",
       " '__schema_cache__': ({}, {}),\n",
       " '__setattr__': (<bound method BaseModel.__setattr__ of DummyOptions(param='bla')>,\n",
       "  <bound method BaseModel.__setattr__ of DummyOptions(param='bla')>),\n",
       " '__setstate__': (<bound method BaseModel.__setstate__ of DummyOptions(param='bla')>,\n",
       "  <bound method BaseModel.__setstate__ of DummyOptions(param='bla')>),\n",
       " '__sizeof__': (<function DummyOptions.__sizeof__()>,\n",
       "  <function DummyOptions.__sizeof__()>),\n",
       " '__slots__': (set(), set()),\n",
       " '__str__': (<bound method Representation.__str__ of DummyOptions(param='bla')>,\n",
       "  <bound method Representation.__str__ of DummyOptions(param='bla')>),\n",
       " '__subclasshook__': (<function DummyOptions.__subclasshook__>,\n",
       "  <function DummyOptions.__subclasshook__>),\n",
       " '__try_update_forward_refs__': (<bound method BaseModel.__try_update_forward_refs__ of <class '__main__.DummyOptions'>>,\n",
       "  <bound method BaseModel.__try_update_forward_refs__ of <class '__main__.DummyOptions'>>),\n",
       " '__validators__': ({}, {}),\n",
       " '_abc_impl': (<_abc._abc_data at 0x26e7c180940>,\n",
       "  <_abc._abc_data at 0x26e7c180940>),\n",
       " '_calculate_keys': (<bound method BaseModel._calculate_keys of DummyOptions(param='bla')>,\n",
       "  <bound method BaseModel._calculate_keys of DummyOptions(param='bla')>),\n",
       " '_copy_and_set_values': (<bound method BaseModel._copy_and_set_values of DummyOptions(param='bla')>,\n",
       "  <bound method BaseModel._copy_and_set_values of DummyOptions(param='bla')>),\n",
       " '_decompose_class': (<bound method BaseModel._decompose_class of <class '__main__.DummyOptions'>>,\n",
       "  <bound method BaseModel._decompose_class of <class '__main__.DummyOptions'>>),\n",
       " '_enforce_dict_if_root': (<bound method BaseModel._enforce_dict_if_root of <class '__main__.DummyOptions'>>,\n",
       "  <bound method BaseModel._enforce_dict_if_root of <class '__main__.DummyOptions'>>),\n",
       " '_get_value': (<bound method BaseModel._get_value of <class '__main__.DummyOptions'>>,\n",
       "  <bound method BaseModel._get_value of <class '__main__.DummyOptions'>>),\n",
       " '_init_private_attributes': (<bound method BaseModel._init_private_attributes of DummyOptions(param='bla')>,\n",
       "  <bound method BaseModel._init_private_attributes of DummyOptions(param='bla')>),\n",
       " '_iter': (<bound method BaseModel._iter of DummyOptions(param='bla')>,\n",
       "  <bound method BaseModel._iter of DummyOptions(param='bla')>),\n",
       " 'construct': (<bound method BaseModel.construct of <class '__main__.DummyOptions'>>,\n",
       "  <bound method BaseModel.construct of <class '__main__.DummyOptions'>>),\n",
       " 'copy': (<bound method BaseModel.copy of DummyOptions(param='bla')>,\n",
       "  <bound method BaseModel.copy of DummyOptions(param='bla')>),\n",
       " 'dict': (<bound method BaseModel.dict of DummyOptions(param='bla')>,\n",
       "  <bound method BaseModel.dict of DummyOptions(param='bla')>),\n",
       " 'from_orm': (<bound method BaseModel.from_orm of <class '__main__.DummyOptions'>>,\n",
       "  <bound method BaseModel.from_orm of <class '__main__.DummyOptions'>>),\n",
       " 'json': (<bound method BaseModel.json of DummyOptions(param='bla')>,\n",
       "  <bound method BaseModel.json of DummyOptions(param='bla')>),\n",
       " 'param': ('bla', 'bla'),\n",
       " 'parse_file': (<bound method BaseModel.parse_file of <class '__main__.DummyOptions'>>,\n",
       "  <bound method BaseModel.parse_file of <class '__main__.DummyOptions'>>),\n",
       " 'parse_obj': (<bound method BaseModel.parse_obj of <class '__main__.DummyOptions'>>,\n",
       "  <bound method BaseModel.parse_obj of <class '__main__.DummyOptions'>>),\n",
       " 'parse_raw': (<bound method BaseModel.parse_raw of <class '__main__.DummyOptions'>>,\n",
       "  <bound method BaseModel.parse_raw of <class '__main__.DummyOptions'>>),\n",
       " 'schema': (<bound method BaseModel.schema of <class '__main__.DummyOptions'>>,\n",
       "  <bound method BaseModel.schema of <class '__main__.DummyOptions'>>),\n",
       " 'schema_json': (<bound method BaseModel.schema_json of <class '__main__.DummyOptions'>>,\n",
       "  <bound method BaseModel.schema_json of <class '__main__.DummyOptions'>>),\n",
       " 'update_forward_refs': (<bound method BaseModel.update_forward_refs of <class '__main__.DummyOptions'>>,\n",
       "  <bound method BaseModel.update_forward_refs of <class '__main__.DummyOptions'>>),\n",
       " 'validate': (<bound method BaseModel.validate of <class '__main__.DummyOptions'>>,\n",
       "  <bound method BaseModel.validate of <class '__main__.DummyOptions'>>)}"
      ]
     },
     "execution_count": 11,
     "metadata": {},
     "output_type": "execute_result"
    }
   ],
   "source": [
    "#dict((k, getattr(do, k)) for k, v in inspect.getmembers(do) if inspect.isdatadescriptor(v) or inspect.isfunction(v))\n",
    "{k: (getattr(do, k), v) for k, v in inspect.getmembers(do)}"
   ]
  },
  {
   "cell_type": "code",
   "execution_count": 12,
   "metadata": {},
   "outputs": [
    {
     "ename": "AttributeError",
     "evalue": "'__signature__' attribute of 'DummyOptions' is class-only",
     "output_type": "error",
     "traceback": [
      "\u001b[1;31m---------------------------------------------------------------------------\u001b[0m",
      "\u001b[1;31mAttributeError\u001b[0m                            Traceback (most recent call last)",
      "Cell \u001b[1;32mIn [12], line 1\u001b[0m\n\u001b[1;32m----> 1\u001b[0m {k: (\u001b[39mgetattr\u001b[39m(do, k), v) \u001b[39mfor\u001b[39;00m k, v \u001b[39min\u001b[39;00m inspect\u001b[39m.\u001b[39mgetmembers(do\u001b[39m.\u001b[39m\u001b[39m__class__\u001b[39m)}\n",
      "Cell \u001b[1;32mIn [12], line 1\u001b[0m, in \u001b[0;36m<dictcomp>\u001b[1;34m(.0)\u001b[0m\n\u001b[1;32m----> 1\u001b[0m {k: (\u001b[39mgetattr\u001b[39;49m(do, k), v) \u001b[39mfor\u001b[39;00m k, v \u001b[39min\u001b[39;00m inspect\u001b[39m.\u001b[39mgetmembers(do\u001b[39m.\u001b[39m\u001b[39m__class__\u001b[39m)}\n",
      "File \u001b[1;32mc:\\Users\\boss\\Anaconda3\\envs\\py39ml\\lib\\site-packages\\pydantic\\utils.py:647\u001b[0m, in \u001b[0;36mpydantic.utils.ClassAttribute.__get__\u001b[1;34m()\u001b[0m\n",
      "\u001b[1;31mAttributeError\u001b[0m: '__signature__' attribute of 'DummyOptions' is class-only"
     ]
    }
   ],
   "source": [
    "{k: (getattr(do, k), v) for k, v in inspect.getmembers(do.__class__)}"
   ]
  },
  {
   "cell_type": "code",
   "execution_count": 13,
   "metadata": {},
   "outputs": [
    {
     "data": {
      "text/plain": [
       "{'param': 'bla'}"
      ]
     },
     "execution_count": 13,
     "metadata": {},
     "output_type": "execute_result"
    }
   ],
   "source": [
    "do.__dict__"
   ]
  },
  {
   "cell_type": "code",
   "execution_count": 3,
   "metadata": {},
   "outputs": [
    {
     "name": "stdout",
     "output_type": "stream",
     "text": [
      "__init__ options=None {}\n",
      "__getattribute__ _PBClass__set_options\n",
      "__getattribute__ exception\n"
     ]
    },
    {
     "ename": "TypeError",
     "evalue": "expected 1 argument, got 2",
     "output_type": "error",
     "traceback": [
      "\u001b[1;31m---------------------------------------------------------------------------\u001b[0m",
      "\u001b[1;31mTypeError\u001b[0m                                 Traceback (most recent call last)",
      "File \u001b[1;32mc:\\googledrive\\work\\acc_code\\pybeamtools\\pybeamtools\\utils\\pydantic.py:315\u001b[0m, in \u001b[0;36mPBClass.__getattribute__\u001b[1;34m(self, item)\u001b[0m\n\u001b[0;32m    314\u001b[0m     \u001b[39mprint\u001b[39m(\u001b[39mf\u001b[39m\u001b[39m'\u001b[39m\u001b[39m__getattribute__ exception\u001b[39m\u001b[39m'\u001b[39m)\n\u001b[1;32m--> 315\u001b[0m     \u001b[39mraise\u001b[39;00m ex\n\u001b[0;32m    316\u001b[0m \u001b[39mfinally\u001b[39;00m:\n",
      "File \u001b[1;32mc:\\googledrive\\work\\acc_code\\pybeamtools\\pybeamtools\\utils\\pydantic.py:308\u001b[0m, in \u001b[0;36mPBClass.__getattribute__\u001b[1;34m(self, item)\u001b[0m\n\u001b[0;32m    307\u001b[0m \u001b[39mtry\u001b[39;00m:\n\u001b[1;32m--> 308\u001b[0m     opt \u001b[39m=\u001b[39m \u001b[39msuper\u001b[39;49m(PBClass, \u001b[39mself\u001b[39;49m)\u001b[39m.\u001b[39;49m\u001b[39m__getattribute__\u001b[39;49m(\u001b[39mself\u001b[39;49m, \u001b[39m'\u001b[39;49m\u001b[39moptions\u001b[39;49m\u001b[39m'\u001b[39;49m)\n\u001b[0;32m    309\u001b[0m     \u001b[39mif\u001b[39;00m \u001b[39mhasattr\u001b[39m(opt, item):\n",
      "\u001b[1;31mTypeError\u001b[0m: expected 1 argument, got 2",
      "\nDuring handling of the above exception, another exception occurred:\n",
      "\u001b[1;31mTypeError\u001b[0m                                 Traceback (most recent call last)",
      "Cell \u001b[1;32mIn [3], line 1\u001b[0m\n\u001b[1;32m----> 1\u001b[0m d \u001b[39m=\u001b[39m Dummy()\n",
      "File \u001b[1;32mc:\\googledrive\\work\\acc_code\\pybeamtools\\pybeamtools\\utils\\pydantic.py:300\u001b[0m, in \u001b[0;36mPBClass.__init__\u001b[1;34m(self, options, **kwargs)\u001b[0m\n\u001b[0;32m    298\u001b[0m \u001b[39mprint\u001b[39m(\u001b[39mf\u001b[39m\u001b[39m'\u001b[39m\u001b[39m__init__ \u001b[39m\u001b[39m{\u001b[39;00moptions\u001b[39m=}\u001b[39;00m\u001b[39m \u001b[39m\u001b[39m{\u001b[39;00mkwargs\u001b[39m}\u001b[39;00m\u001b[39m'\u001b[39m)\n\u001b[0;32m    299\u001b[0m \u001b[39mif\u001b[39;00m options \u001b[39mis\u001b[39;00m \u001b[39mNone\u001b[39;00m:\n\u001b[1;32m--> 300\u001b[0m     \u001b[39mself\u001b[39;49m\u001b[39m.\u001b[39;49m__set_options(\u001b[39m*\u001b[39m\u001b[39m*\u001b[39mkwargs)\n\u001b[0;32m    301\u001b[0m \u001b[39melse\u001b[39;00m:\n\u001b[0;32m    302\u001b[0m     \u001b[39msuper\u001b[39m(PBClass, \u001b[39mself\u001b[39m)\u001b[39m.\u001b[39m\u001b[39m__setattr__\u001b[39m(\u001b[39mself\u001b[39m, \u001b[39m'\u001b[39m\u001b[39moptions\u001b[39m\u001b[39m'\u001b[39m, options)\n",
      "File \u001b[1;32mc:\\googledrive\\work\\acc_code\\pybeamtools\\pybeamtools\\utils\\pydantic.py:317\u001b[0m, in \u001b[0;36mPBClass.__getattribute__\u001b[1;34m(self, item)\u001b[0m\n\u001b[0;32m    315\u001b[0m     \u001b[39mraise\u001b[39;00m ex\n\u001b[0;32m    316\u001b[0m \u001b[39mfinally\u001b[39;00m:\n\u001b[1;32m--> 317\u001b[0m     \u001b[39mreturn\u001b[39;00m \u001b[39msuper\u001b[39;49m(PBClass, \u001b[39mself\u001b[39;49m)\u001b[39m.\u001b[39;49m\u001b[39m__getattribute__\u001b[39;49m(\u001b[39mself\u001b[39;49m, item)\n",
      "\u001b[1;31mTypeError\u001b[0m: expected 1 argument, got 2"
     ]
    }
   ],
   "source": [
    "d = Dummy()"
   ]
  },
  {
   "cell_type": "code",
   "execution_count": null,
   "metadata": {},
   "outputs": [],
   "source": [
    "dict((k, getattr(d, k)) for k, v in inspect.getmembers(d) if inspect.isdatadescriptor(v) or inspect.isfunction(v))"
   ]
  },
  {
   "cell_type": "code",
   "execution_count": null,
   "metadata": {},
   "outputs": [
    {
     "ename": "AttributeError",
     "evalue": "'Dummy' object has no attribute 'options'",
     "output_type": "error",
     "traceback": [
      "\u001b[1;31m---------------------------------------------------------------------------\u001b[0m",
      "\u001b[1;31mAttributeError\u001b[0m                            Traceback (most recent call last)",
      "Cell \u001b[1;32mIn [6], line 1\u001b[0m\n\u001b[1;32m----> 1\u001b[0m d\u001b[39m.\u001b[39;49mparam \u001b[39m=\u001b[39m \u001b[39m'\u001b[39m\u001b[39mbla\u001b[39m\u001b[39m'\u001b[39m\n",
      "File \u001b[1;32mc:\\googledrive\\work\\acc_code\\pybeamtools\\pybeamtools\\utils\\pydantic.py:318\u001b[0m, in \u001b[0;36mPBClass.__setattr__\u001b[1;34m(self, item, value)\u001b[0m\n\u001b[0;32m    316\u001b[0m     \u001b[39mobject\u001b[39m\u001b[39m.\u001b[39m\u001b[39m__setattr__\u001b[39m(\u001b[39mself\u001b[39m, item, value)\n\u001b[0;32m    317\u001b[0m \u001b[39melse\u001b[39;00m:\n\u001b[1;32m--> 318\u001b[0m     opt \u001b[39m=\u001b[39m \u001b[39mobject\u001b[39;49m\u001b[39m.\u001b[39;49m\u001b[39m__getattribute__\u001b[39;49m(\u001b[39mself\u001b[39;49m, \u001b[39m'\u001b[39;49m\u001b[39moptions\u001b[39;49m\u001b[39m'\u001b[39;49m)\n\u001b[0;32m    319\u001b[0m     \u001b[39mif\u001b[39;00m \u001b[39mhasattr\u001b[39m(opt, item):\n\u001b[0;32m    320\u001b[0m         \u001b[39msetattr\u001b[39m(opt, item, value)\n",
      "\u001b[1;31mAttributeError\u001b[0m: 'Dummy' object has no attribute 'options'"
     ]
    }
   ],
   "source": [
    "d.param = 'bla'"
   ]
  },
  {
   "cell_type": "code",
   "execution_count": null,
   "metadata": {},
   "outputs": [],
   "source": []
  }
 ],
 "metadata": {
  "kernelspec": {
   "display_name": "Python 3.9.15 ('py39ml')",
   "language": "python",
   "name": "python3"
  },
  "language_info": {
   "codemirror_mode": {
    "name": "ipython",
    "version": 3
   },
   "file_extension": ".py",
   "mimetype": "text/x-python",
   "name": "python",
   "nbconvert_exporter": "python",
   "pygments_lexer": "ipython3",
   "version": "3.9.15"
  },
  "vscode": {
   "interpreter": {
    "hash": "13374264484fde26a6608662cb4d9f2b357aebc4acc640560464425c35bd54c0"
   }
  }
 },
 "nbformat": 4,
 "nbformat_minor": 0
}
