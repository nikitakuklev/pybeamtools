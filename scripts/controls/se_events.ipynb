{
 "cells": [
  {
   "cell_type": "code",
   "execution_count": 1,
   "metadata": {
    "collapsed": true
   },
   "outputs": [
    {
     "name": "stderr",
     "output_type": "stream",
     "text": [
      "[INFO ][MainThread][17:04:55.100 logging.py  23] Starting shared logging thread on PID 23644\n",
      "[INFO ][log_listen][17:04:55.101 logging.py  32] Logging listener started on PID 23644\n",
      "[INFO ][MainThread][17:04:55.103 logging.py  27] Logging setup finished\n"
     ]
    }
   ],
   "source": [
    "import sys, time, random\n",
    "import os\n",
    "sys.path.append('../..')\n",
    "import pybeamtools"
   ]
  },
  {
   "cell_type": "code",
   "execution_count": 2,
   "metadata": {},
   "outputs": [],
   "source": [
    "def time_fun():\n",
    "    return time.time()*0.5\n",
    "\n",
    "t = 0.0\n",
    "def fixed_time():\n",
    "    return t"
   ]
  },
  {
   "cell_type": "code",
   "execution_count": 3,
   "metadata": {},
   "outputs": [
    {
     "name": "stderr",
     "output_type": "stream",
     "text": [
      "[INFO ][MainThread][17:04:55.690   utils.py 145] Note: NumExpr detected 12 cores but \"NUMEXPR_MAX_THREADS\" not set, so enforcing safe limit of 8.\n",
      "[INFO ][MainThread][17:04:55.690   utils.py 157] NumExpr defaulting to 8 threads.\n",
      "[DEBUG][MainThread][17:04:56.073 _backend.py  35] Backend 'array' registered\n",
      "[DEBUG][MainThread][17:04:56.075 _backend.py  35] Backend 'numpy' registered\n",
      "[DEBUG][MainThread][17:04:56.075 _backend.py  47] Selecting backend: 'numpy'\n"
     ]
    }
   ],
   "source": [
    "from pybeamtools.sim.core import SimulationEngine, SignalEngineOptions\n",
    "from pybeamtools.sim.pddevices2 import *"
   ]
  },
  {
   "cell_type": "code",
   "execution_count": 4,
   "metadata": {},
   "outputs": [
    {
     "name": "stderr",
     "output_type": "stream",
     "text": [
      "[DEBUG][MainThread][17:04:56.143    core.py 697] Starting update thread\n",
      "[DEBUG][update_thr][17:04:56.144    core.py 546] Update thread (id 16916) on\n"
     ]
    }
   ],
   "source": [
    "sim = SimulationEngine(SignalEngineOptions(time_function=fixed_time))\n",
    "sim.TRACE = True\n",
    "sim.TIME_TRACE = True\n",
    "ctx = SignalContext(se=sim)\n",
    "echo1 = EchoDevice(EchoDeviceOptions(name='echo1', data={'TEST:ECHO:1':5}))\n",
    "echo2 = EchoDevice(EchoDeviceOptions(name='echo2', data={'TEST:ECHO:2':15}))\n",
    "echo3= EchoDevice(EchoDeviceOptions(name='echo3', data={'TEST:ECHO:3':25}))\n",
    "echo4 = EchoDevice(EchoDeviceOptions(name='echo4', data={'TEST:ECHO:4':35}))\n",
    "\n",
    "proxy1 = ProxyDevice(ProxyDeviceOptions(name='proxy1', channel_map={'TEST:PROXY:1':{'TEST:ECHO:1': TRIG.PROPAGATE}}))\n",
    "proxy2 = ProxyDevice(ProxyDeviceOptions(name='proxy2', channel_map={'TEST:PROXY:2':{'TEST:ECHO:2': TRIG.IGNORE}}))\n",
    "proxy3 = ProxyDevice(ProxyDeviceOptions(name='proxy3', channel_map={'TEST:PROXY:3':{'TEST:PROXY:1': TRIG.PROPAGATE}}))\n",
    "proxy4 = ProxyDevice(ProxyDeviceOptions(name='proxy4', channel_map={'TEST:PROXY:4':{'TEST:PROXY:1': TRIG.PROPAGATE}}))"
   ]
  },
  {
   "cell_type": "code",
   "execution_count": 5,
   "metadata": {},
   "outputs": [
    {
     "name": "stderr",
     "output_type": "stream",
     "text": [
      "[DEBUG][MainThread][17:04:56.213    core.py 201] Added device (echo1) (device.channel_map={'TEST:ECHO:1': {}})\n",
      "[DEBUG][MainThread][17:04:56.214    core.py 201] Added device (echo2) (device.channel_map={'TEST:ECHO:2': {}})\n",
      "[DEBUG][MainThread][17:04:56.214    core.py 201] Added device (echo3) (device.channel_map={'TEST:ECHO:3': {}})\n",
      "[DEBUG][MainThread][17:04:56.215    core.py 201] Added device (echo4) (device.channel_map={'TEST:ECHO:4': {}})\n"
     ]
    }
   ],
   "source": [
    "for dev in [echo1, echo2, echo3, echo4]:\n",
    "    sim.add_device(dev)"
   ]
  },
  {
   "cell_type": "code",
   "execution_count": 6,
   "metadata": {},
   "outputs": [
    {
     "name": "stderr",
     "output_type": "stream",
     "text": [
      "[DEBUG][MainThread][17:04:56.304    core.py 506] Future event added\n",
      "[DEBUG][MainThread][17:04:56.304    core.py 215] E0| waiting for futures\n",
      "[DEBUG][update_thr][17:04:56.304    core.py 554] Processing E0:0 ev.op=<OP.ENABLE: 3> ev.data={}\n",
      "[DEBUG][update_thr][17:04:56.305    core.py 565] E0:0 | Enable (dn='echo1') at (0.0)\n",
      "[DEBUG][update_thr][17:04:56.306    core.py 499] Future callback for ev.txid=0\n",
      "[DEBUG][MainThread][17:04:56.306    core.py 217] done={<Future at 0x1aae5389f70 state=finished returned bool>} not_done=set()\n",
      "[DEBUG][MainThread][17:04:56.307    core.py 220] Device (echo1) enabled\n"
     ]
    }
   ],
   "source": [
    "sim.enable_device(echo1)"
   ]
  },
  {
   "cell_type": "code",
   "execution_count": 7,
   "metadata": {},
   "outputs": [
    {
     "data": {
      "text/plain": [
       "True"
      ]
     },
     "execution_count": 7,
     "metadata": {},
     "output_type": "execute_result"
    }
   ],
   "source": [
    "sim.update_thread_running"
   ]
  },
  {
   "cell_type": "code",
   "execution_count": 8,
   "metadata": {},
   "outputs": [
    {
     "name": "stderr",
     "output_type": "stream",
     "text": [
      "[DEBUG][MainThread][17:04:56.437    core.py 407] Read event (TEST:ECHO:1) added\n",
      "[DEBUG][update_thr][17:04:56.437    core.py 554] Processing E1000:1000 ev.op=<OP.READ: 1> ev.data={'TEST:ECHO:1': None}\n",
      "[DEBUG][update_thr][17:04:56.438    core.py 605] E1000:1000 | Read (TEST:ECHO:1=5) at (0.0)\n",
      "[DEBUG][update_thr][17:04:56.438    core.py 400] Read callback (TEST:ECHO:1)=({'TEST:ECHO:1': 5})\n",
      "[DEBUG][MainThread][17:04:56.439    core.py 410] Read event (results={'TEST:ECHO:1': 5} (success=True)\n"
     ]
    },
    {
     "data": {
      "text/plain": [
       "5"
      ]
     },
     "execution_count": 8,
     "metadata": {},
     "output_type": "execute_result"
    }
   ],
   "source": [
    "sim.read_channel('TEST:ECHO:1')"
   ]
  },
  {
   "cell_type": "code",
   "execution_count": null,
   "metadata": {},
   "outputs": [],
   "source": []
  },
  {
   "cell_type": "code",
   "execution_count": 9,
   "metadata": {},
   "outputs": [
    {
     "ename": "TypeError",
     "evalue": "__init__() got multiple values for argument 'options'",
     "output_type": "error",
     "traceback": [
      "\u001B[1;31m---------------------------------------------------------------------------\u001B[0m",
      "\u001B[1;31mTypeError\u001B[0m                                 Traceback (most recent call last)",
      "Cell \u001B[1;32mIn[9], line 24\u001B[0m\n\u001B[0;32m     22\u001B[0m     th\u001B[39m.\u001B[39mstart()\n\u001B[0;32m     23\u001B[0m gopt \u001B[39m=\u001B[39m GenericDeviceOptions(name\u001B[39m=\u001B[39m\u001B[39m'\u001B[39m\u001B[39mgen\u001B[39m\u001B[39m'\u001B[39m, update_fun\u001B[39m=\u001B[39mupdate_fun, read_fun\u001B[39m=\u001B[39mread_fun, write_fun\u001B[39m=\u001B[39mwrite_fun, startup_fun\u001B[39m=\u001B[39mstartup_fun, channel_map\u001B[39m=\u001B[39m{var:{}})\n\u001B[1;32m---> 24\u001B[0m generic1 \u001B[39m=\u001B[39m GenericDevice(ctx, options\u001B[39m=\u001B[39;49mgopt)\n",
      "\u001B[1;31mTypeError\u001B[0m: __init__() got multiple values for argument 'options'"
     ]
    }
   ],
   "source": [
    "var = 'TEST:GEN1'\n",
    "data = {var:1.5}\n",
    "def update_fun(t_sched, t_run, dep_data, self):\n",
    "    return data\n",
    "\n",
    "def read_fun(t_sched, t_run, channel_name, self):\n",
    "    return data[var]\n",
    "\n",
    "def write_fun(t_sched, t_run, value_dict, self):\n",
    "    data[var] = value_dict[var]\n",
    "\n",
    "def startup_fun(dev):\n",
    "    import threading\n",
    "    def updater():\n",
    "        while True:\n",
    "            data[var] = random.random()*10\n",
    "            #print(f'Issuing update {data=}')\n",
    "            dev.ctx.issue_update(dev, data)\n",
    "            time.sleep(20)\n",
    "    th = threading.Thread(target=updater, name='updater')\n",
    "    th.daemon = True\n",
    "    th.start()\n",
    "gopt = GenericDeviceOptions(name='gen', update_fun=update_fun, read_fun=read_fun, write_fun=write_fun, startup_fun=startup_fun, channel_map={var:{}})\n",
    "generic1 = GenericDevice(ctx, options=gopt)"
   ]
  },
  {
   "cell_type": "code",
   "execution_count": null,
   "metadata": {},
   "outputs": [],
   "source": [
    "sim.dev_channels_map"
   ]
  },
  {
   "cell_type": "code",
   "execution_count": null,
   "metadata": {},
   "outputs": [],
   "source": [
    "proxy1 = ProxyDevice(ctx, options=ProxyDeviceOptions(name='proxy1', channel_map={'TEST:PROXY:1':{var: TRIGSPEC.PROPAGATE}}))\n",
    "proxy2 = ProxyDevice(ctx, options=ProxyDeviceOptions(name='proxy2', channel_map={'TEST:PROXY:2':{'TEST:ECHO:2': TRIGSPEC.IGNORE}}))\n",
    "proxy3 = ProxyDevice(ctx, options=ProxyDeviceOptions(name='proxy3', channel_map={'TEST:PROXY:3':{'TEST:PROXY:1': TRIGSPEC.PROPAGATE}}))\n",
    "proxy4 = ProxyDevice(ctx, options=ProxyDeviceOptions(name='proxy4', channel_map={'TEST:PROXY:4':{'TEST:PROXY:1': TRIGSPEC.PROPAGATE}}))"
   ]
  },
  {
   "cell_type": "code",
   "execution_count": null,
   "metadata": {},
   "outputs": [],
   "source": [
    "proxy1.state"
   ]
  },
  {
   "cell_type": "code",
   "execution_count": null,
   "metadata": {},
   "outputs": [],
   "source": [
    "generic1.state"
   ]
  },
  {
   "cell_type": "code",
   "execution_count": null,
   "metadata": {},
   "outputs": [],
   "source": [
    "sim.latest_data"
   ]
  },
  {
   "cell_type": "code",
   "execution_count": null,
   "metadata": {},
   "outputs": [],
   "source": [
    "sim.enable_device(echo)\n",
    "sim.enable_device(echo2)\n",
    "sim.enable_device(proxy1)"
   ]
  },
  {
   "cell_type": "code",
   "execution_count": null,
   "metadata": {},
   "outputs": [],
   "source": [
    "sim.latest_data"
   ]
  },
  {
   "cell_type": "code",
   "execution_count": null,
   "metadata": {},
   "outputs": [],
   "source": [
    "sim.write_channel('TEST:ECHO:1', 3.0)"
   ]
  },
  {
   "cell_type": "code",
   "execution_count": null,
   "metadata": {},
   "outputs": [],
   "source": [
    "sim.latest_data"
   ]
  },
  {
   "cell_type": "code",
   "execution_count": null,
   "metadata": {},
   "outputs": [],
   "source": [
    "print(sim.channels_map_chain)\n",
    "print(sim.channels_dep_chain)\n",
    "print(sim.next_periodic_read_time)"
   ]
  },
  {
   "cell_type": "code",
   "execution_count": null,
   "metadata": {},
   "outputs": [],
   "source": [
    "import typing\n",
    "field_to_type = typing.get_type_hints(echo.options)"
   ]
  },
  {
   "cell_type": "code",
   "execution_count": null,
   "metadata": {},
   "outputs": [],
   "source": [
    "field_to_type"
   ]
  },
  {
   "cell_type": "code",
   "execution_count": null,
   "metadata": {},
   "outputs": [],
   "source": [
    "sim.latest_data"
   ]
  }
 ],
 "metadata": {
  "kernelspec": {
   "display_name": "Python 3.9.15 ('py39ml')",
   "language": "python",
   "name": "python3"
  },
  "language_info": {
   "codemirror_mode": {
    "name": "ipython",
    "version": 3
   },
   "file_extension": ".py",
   "mimetype": "text/x-python",
   "name": "python",
   "nbconvert_exporter": "python",
   "pygments_lexer": "ipython3",
   "version": "3.9.15"
  },
  "vscode": {
   "interpreter": {
    "hash": "13374264484fde26a6608662cb4d9f2b357aebc4acc640560464425c35bd54c0"
   }
  }
 },
 "nbformat": 4,
 "nbformat_minor": 0
}
