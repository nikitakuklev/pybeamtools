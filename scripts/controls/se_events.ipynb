{
 "cells": [
  {
   "cell_type": "code",
   "execution_count": null,
   "metadata": {
    "collapsed": true
   },
   "outputs": [],
   "source": [
    "import sys, time, random\n",
    "import os\n",
    "sys.path.append('../..')\n",
    "import pybeamtools"
   ]
  },
  {
   "cell_type": "code",
   "execution_count": null,
   "metadata": {},
   "outputs": [],
   "source": [
    "def time_fun():\n",
    "    return time.time()*0.5\n",
    "\n",
    "t = 0.0\n",
    "def fixed_time():\n",
    "    return t"
   ]
  },
  {
   "cell_type": "code",
   "execution_count": null,
   "metadata": {},
   "outputs": [],
   "source": [
    "from pybeamtools.sim.core import SimulationEngine, SignalEngineOptions\n",
    "sim = SimulationEngine(SignalEngineOptions(time_function=fixed_time))\n",
    "sim.TRACE = True\n",
    "from pybeamtools.sim.pddevices import *\n",
    "ctx = SignalContext(se=sim)\n",
    "echo = EchoDevice(ctx,options=EchoDeviceOptions(name='echo', data={'TEST:ECHO:1':5}))\n",
    "echo2 = EchoDevice(ctx, options=EchoDeviceOptions(name='echo2', data={'TEST:ECHO:2':15}))\n",
    "echo3= EchoDevice(ctx,options=EchoDeviceOptions(name='echo3', data={'TEST:ECHO:3':25}))\n",
    "echo4 = EchoDevice(ctx, options=EchoDeviceOptions(name='echo4', data={'TEST:ECHO:4':35}))\n",
    "\n",
    "var = 'TEST:GEN1'\n",
    "data = {var:1.5}\n",
    "def update_fun(t_sched, t_run, dep_data, self):\n",
    "    return data\n",
    "\n",
    "def read_fun(t_sched, t_run, channel_name, self):\n",
    "    return data[var]\n",
    "\n",
    "def write_fun(t_sched, t_run, value_dict, self):\n",
    "    data[var] = value_dict[var]\n",
    "\n",
    "def startup_fun(dev):\n",
    "    import threading\n",
    "    def updater():\n",
    "        while True:\n",
    "            data[var] = random.random()*10\n",
    "            #print(f'Issuing update {data=}')\n",
    "            for k in data:\n",
    "                dev.ctx.issue_update(k)\n",
    "            time.sleep(20)\n",
    "    th = threading.Thread(target=updater, name='updater')\n",
    "    th.daemon = True\n",
    "    th.start()\n",
    "gopt = GenericDeviceOptions(name='gen', update_fun=update_fun, read_fun=read_fun, write_fun=write_fun, startup_fun=startup_fun, channel_map={var:{}})\n",
    "generic1 = GenericDevice(ctx, options=gopt)\n",
    "\n",
    "proxy1 = ProxyDevice(ctx, options=ProxyDeviceOptions(name='proxy1', channel_map={'TEST:PROXY:1':{var: TRIGSPEC.PROPAGATE}}))\n",
    "proxy2 = ProxyDevice(ctx, options=ProxyDeviceOptions(name='proxy2', channel_map={'TEST:PROXY:2':{'TEST:ECHO:2': TRIGSPEC.IGNORE}}))\n",
    "proxy3 = ProxyDevice(ctx, options=ProxyDeviceOptions(name='proxy3', channel_map={'TEST:PROXY:3':{'TEST:PROXY:1': TRIGSPEC.PROPAGATE}}))\n",
    "proxy4 = ProxyDevice(ctx, options=ProxyDeviceOptions(name='proxy4', channel_map={'TEST:PROXY:4':{'TEST:PROXY:1': TRIGSPEC.PROPAGATE}}))"
   ]
  },
  {
   "cell_type": "code",
   "execution_count": null,
   "metadata": {},
   "outputs": [],
   "source": [
    "variables = ['X0', 'X1']\n",
    "objectives = ['OBJ0']\n",
    "test_variables = []\n",
    "\n",
    "from pybeamtools.sim.templates import OptimizationTest\n",
    "opt = OptimizationTest(variables, objectives)"
   ]
  },
  {
   "cell_type": "code",
   "execution_count": null,
   "metadata": {},
   "outputs": [],
   "source": [
    "options_list = opt.setup()\n",
    "options_list"
   ]
  },
  {
   "cell_type": "code",
   "execution_count": null,
   "metadata": {},
   "outputs": [],
   "source": [
    "#gen_x0ai, gen_x0ao, gen_x1ai, gen_x1ao, gen_obj  = [GenericDevice(ctx, options=opt) for opt in options_list]\n",
    "gen_x0ai, gen_x0ao, gen_x1ai, gen_x1ao, gen_obj = options_list"
   ]
  },
  {
   "cell_type": "code",
   "execution_count": null,
   "metadata": {},
   "outputs": [],
   "source": [
    "for dev in options_list:\n",
    "    dev.ctx = ctx\n",
    "    ctx.add_device(dev)\n",
    "    ctx.issue_update(dev.name)"
   ]
  },
  {
   "cell_type": "code",
   "execution_count": null,
   "metadata": {},
   "outputs": [],
   "source": [
    "sim.latest_data"
   ]
  },
  {
   "cell_type": "code",
   "execution_count": null,
   "metadata": {},
   "outputs": [],
   "source": [
    "sim.write_channel('X0:AI', 3.0)"
   ]
  },
  {
   "cell_type": "code",
   "execution_count": null,
   "metadata": {},
   "outputs": [],
   "source": [
    "sim.latest_data"
   ]
  },
  {
   "cell_type": "code",
   "execution_count": null,
   "metadata": {},
   "outputs": [],
   "source": [
    "print(sim.channels_map_chain)\n",
    "print(sim.channels_dep_chain)\n",
    "print(sim.next_periodic_read_time)"
   ]
  },
  {
   "cell_type": "code",
   "execution_count": null,
   "metadata": {},
   "outputs": [],
   "source": [
    "sim.write_channel('VARX0AI',random.random())"
   ]
  },
  {
   "cell_type": "code",
   "execution_count": null,
   "metadata": {},
   "outputs": [],
   "source": [
    "sim.latest_data"
   ]
  },
  {
   "cell_type": "code",
   "execution_count": null,
   "metadata": {},
   "outputs": [],
   "source": []
  },
  {
   "cell_type": "code",
   "execution_count": null,
   "metadata": {},
   "outputs": [],
   "source": [
    "sim.latest_data"
   ]
  },
  {
   "cell_type": "code",
   "execution_count": null,
   "metadata": {},
   "outputs": [],
   "source": []
  }
 ],
 "metadata": {
  "kernelspec": {
   "display_name": "Python 3.9.15 ('py39ml')",
   "language": "python",
   "name": "python3"
  },
  "language_info": {
   "codemirror_mode": {
    "name": "ipython",
    "version": 3
   },
   "file_extension": ".py",
   "mimetype": "text/x-python",
   "name": "python",
   "nbconvert_exporter": "python",
   "pygments_lexer": "ipython3",
   "version": "3.9.15"
  },
  "vscode": {
   "interpreter": {
    "hash": "13374264484fde26a6608662cb4d9f2b357aebc4acc640560464425c35bd54c0"
   }
  }
 },
 "nbformat": 4,
 "nbformat_minor": 0
}
