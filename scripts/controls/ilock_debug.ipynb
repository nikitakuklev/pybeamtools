{
 "cells": [
  {
   "cell_type": "code",
   "execution_count": 1,
   "metadata": {
    "collapsed": true
   },
   "outputs": [
    {
     "name": "stderr",
     "output_type": "stream",
     "text": [
      "[INFO ] [     MainThread] [12:58:54      logging.py  23] [pybeamtools.utils.logging] Starting shared logging thread on PID 26308\n",
      "[INFO ] [   log_listener] [12:58:54      logging.py  32] [pybeamtools.utils.logging] Logging listener started on PID 26308\n",
      "[INFO ] [     MainThread] [12:58:54      logging.py  27] [pybeamtools.utils.logging] Logging setup finished\n",
      "[INFO ] [     MainThread] [12:58:55        utils.py 148] [numexpr.utils] Note: NumExpr detected 12 cores but \"NUMEXPR_MAX_THREADS\" not set, so enforcing safe limit of 8.\n",
      "[INFO ] [     MainThread] [12:58:55        utils.py 160] [numexpr.utils] NumExpr defaulting to 8 threads.\n",
      "[DEBUG] [     MainThread] [12:58:55     _backend.py  35] [caproto] Backend 'array' registered\n",
      "[DEBUG] [     MainThread] [12:58:55     _backend.py  35] [caproto] Backend 'numpy' registered\n",
      "[DEBUG] [     MainThread] [12:58:55     _backend.py  47] [caproto] Selecting backend: 'numpy'\n"
     ]
    }
   ],
   "source": [
    "import sys\n",
    "sys.path.append('../..')\n",
    "import pybeamtools.controls as pc"
   ]
  },
  {
   "cell_type": "code",
   "execution_count": 2,
   "metadata": {},
   "outputs": [
    {
     "name": "stderr",
     "output_type": "stream",
     "text": [
      "[DEBUG] [     MainThread] [12:58:55         core.py 129] [SimulationEngine] Added device mag1 with update period of 10.0\n",
      "[DEBUG] [     MainThread] [12:58:55         core.py 144] [SimulationEngine] Added mapper for outputs ['WRITE_PV_1'] from devices ['mag1']\n",
      "[DEBUG] [     MainThread] [12:58:55         core.py 129] [SimulationEngine] Added device mag2 with update period of 10.0\n",
      "[DEBUG] [     MainThread] [12:58:55         core.py 144] [SimulationEngine] Added mapper for outputs ['READ_PV_1'] from devices ['mag2']\n",
      "[DEBUG] [     MainThread] [12:58:55         core.py 129] [SimulationEngine] Added device osc with update period of 5.0\n",
      "[DEBUG] [     MainThread] [12:58:55         core.py 144] [SimulationEngine] Added mapper for outputs ['GENERIC_PV_1'] from devices ['osc']\n",
      "[DEBUG] [     MainThread] [12:58:55         core.py 200] [SimulationEngine] Starting poll thread\n",
      "[DEBUG] [sim_engine_poll] [12:58:55         core.py 168] [SimulationEngine] Hello from simulation poll thread (id 26748)\n"
     ]
    },
    {
     "data": {
      "text/plain": [
       "<function print>"
      ]
     },
     "execution_count": 2,
     "metadata": {},
     "output_type": "execute_result"
    }
   ],
   "source": [
    "from pybeamtools.sim.core import SimulationEngine, ChannelMap, ChannelMapper\n",
    "from pybeamtools.sim.devices import RealisticMagnet, Oscillator\n",
    "\n",
    "sim = SimulationEngine()\n",
    "\n",
    "def read_device(device, output):\n",
    "    return device.read()\n",
    "\n",
    "def write_device(device, output, value):\n",
    "    return device.write(value)\n",
    "\n",
    "mag1 = RealisticMagnet(name='mag1', value=0, low=-20.0, high=20.0, noise=0.1, resolution=None, model='instant')\n",
    "m = ChannelMap(device=mag1, output='WRITE_PV_1', read_fun=read_device, write_fun=write_device)\n",
    "chm = ChannelMapper(maps=[m])\n",
    "sim.add_device(mag1, period=10.0)\n",
    "sim.add_mapper(chm)\n",
    "\n",
    "mag2 = RealisticMagnet(name='mag2', value=0, low=-20.0, high=20.0, noise=0.1, resolution=None, model='instant')\n",
    "m = ChannelMap(device=mag2, output='READ_PV_1', read_fun=read_device)\n",
    "chm = ChannelMapper(maps=[m])\n",
    "sim.add_device(mag2, period=10.0)\n",
    "sim.add_mapper(chm)\n",
    "\n",
    "osc = Oscillator(name='osc', period = 20.0, amplitude = 2.0)\n",
    "m = ChannelMap(device=osc, output='GENERIC_PV_1', read_fun=read_device)\n",
    "chm = ChannelMapper(maps=[m])\n",
    "sim.add_device(osc, period=5.0)\n",
    "sim.add_mapper(chm)\n",
    "\n",
    "sim.start_update_thread()\n",
    "print"
   ]
  },
  {
   "cell_type": "code",
   "execution_count": 3,
   "metadata": {},
   "outputs": [
    {
     "data": {
      "text/plain": [
       "(['WRITE_PV_1', 'READ_PV_1', 'GENERIC_PV_1'],\n",
       " {'mag1': <pybeamtools.sim.devices.RealisticMagnet at 0x1b093f06070>,\n",
       "  'mag2': <pybeamtools.sim.devices.RealisticMagnet at 0x1b093f06250>,\n",
       "  'osc': <pybeamtools.sim.devices.Oscillator at 0x1b093f06310>})"
      ]
     },
     "execution_count": 3,
     "metadata": {},
     "output_type": "execute_result"
    }
   ],
   "source": [
    "sim.channels, sim.devices"
   ]
  },
  {
   "cell_type": "code",
   "execution_count": 4,
   "metadata": {},
   "outputs": [
    {
     "name": "stderr",
     "output_type": "stream",
     "text": [
      "[INFO ] [     MainThread] [12:58:55  control_lib.py  49] [Accelerator] Control lib init\n",
      "[INFO ] [     MainThread] [12:58:55      network.py 157] [SimConnectionManager] Creating dummy connection manager\n",
      "[INFO ] [     MainThread] [12:58:55  control_lib.py  71] [Accelerator] Startup finished\n"
     ]
    }
   ],
   "source": [
    "from pybeamtools.controls.control_lib import ConnectionOptions\n",
    "ao = pc.AcceleratorOptions(connection_settings=ConnectionOptions(network='dummy'))\n",
    "acc = pc.Accelerator(options=ao, ctx=sim)"
   ]
  },
  {
   "cell_type": "code",
   "execution_count": 5,
   "metadata": {},
   "outputs": [
    {
     "name": "stdout",
     "output_type": "stream",
     "text": [
      "['GENERIC_PV_1', 'READ_PV_1', 'WRITE_PV_1']\n"
     ]
    }
   ],
   "source": [
    "# Add PVs\n",
    "from pybeamtools.controls.network import SimPV, PVOptions, PVAccess\n",
    "\n",
    "write_triggers = ['WRITE_PV_1']\n",
    "write_pv_1 = SimPV(PVOptions(name='WRITE_PV_1', low=-5.0, high=5.0, security=PVAccess.READWRITE))\n",
    "\n",
    "read_triggers = ['READ_PV_1']\n",
    "read_pv_1 = SimPV(PVOptions(name='READ_PV_1', security=PVAccess.READONLY))\n",
    "\n",
    "generic_pv_1 = SimPV(PVOptions(name='GENERIC_PV_1', security=PVAccess.READONLY))\n",
    "\n",
    "pv_list = ['GENERIC_PV_1'] + read_triggers + write_triggers\n",
    "print(pv_list)"
   ]
  },
  {
   "cell_type": "code",
   "execution_count": 6,
   "metadata": {},
   "outputs": [
    {
     "name": "stderr",
     "output_type": "stream",
     "text": [
      "[DEBUG] [     MainThread] [12:58:55      network.py 184] [SimConnectionManager] Adding 3 PV objects\n",
      "[DEBUG] [     MainThread] [12:58:55         core.py 157] [SimulationEngine] Created subscription for channel READ_PV_1\n",
      "[DEBUG] [     MainThread] [12:58:55         core.py 157] [SimulationEngine] Created subscription for channel WRITE_PV_1\n",
      "[DEBUG] [     MainThread] [12:58:55         core.py 157] [SimulationEngine] Created subscription for channel GENERIC_PV_1\n"
     ]
    },
    {
     "name": "stdout",
     "output_type": "stream",
     "text": [
      "\n"
     ]
    }
   ],
   "source": [
    "acc.add_pv_object([read_pv_1, write_pv_1, generic_pv_1])\n",
    "sim.schedule_update()\n",
    "print()"
   ]
  },
  {
   "cell_type": "code",
   "execution_count": 7,
   "metadata": {},
   "outputs": [
    {
     "ename": "InvalidWriteError",
     "evalue": "Value 5.5 above bounds (-5.0|5.0)",
     "output_type": "error",
     "traceback": [
      "\u001B[1;31m---------------------------------------------------------------------------\u001B[0m",
      "\u001B[1;31mInvalidWriteError\u001B[0m                         Traceback (most recent call last)",
      "Cell \u001B[1;32mIn [7], line 2\u001B[0m\n\u001B[0;32m      1\u001B[0m \u001B[39m# This fails because of PV limits (no interlocks)\u001B[39;00m\n\u001B[1;32m----> 2\u001B[0m write_pv_1\u001B[39m.\u001B[39;49mwrite(\u001B[39m5.5\u001B[39;49m)\n\u001B[0;32m      3\u001B[0m \u001B[39mprint\u001B[39m()\n",
      "File \u001B[1;32mc:\\googledrive\\work\\acc_code\\pybeamtools\\pybeamtools\\controls\\network.py:123\u001B[0m, in \u001B[0;36mSimPV.write\u001B[1;34m(self, data, wait, callback, timeout, notify, data_type, data_count)\u001B[0m\n\u001B[0;32m    121\u001B[0m     \u001B[39mraise\u001B[39;00m SecurityError(\u001B[39mf\u001B[39m\u001B[39m'\u001B[39m\u001B[39mWrite on PV (\u001B[39m\u001B[39m{\u001B[39;00m\u001B[39mself\u001B[39m\u001B[39m.\u001B[39mname\u001B[39m}\u001B[39;00m\u001B[39m) forbidden by access mask\u001B[39m\u001B[39m'\u001B[39m)\n\u001B[0;32m    122\u001B[0m \u001B[39m# Propose a write - any issues will raise an Exception\u001B[39;00m\n\u001B[1;32m--> 123\u001B[0m \u001B[39mself\u001B[39;49m\u001B[39m.\u001B[39;49mcm\u001B[39m.\u001B[39;49macc\u001B[39m.\u001B[39;49mpropose_write([\u001B[39mself\u001B[39;49m\u001B[39m.\u001B[39;49mname], [data])\n\u001B[0;32m    124\u001B[0m \u001B[39m# Perform write\u001B[39;00m\n\u001B[0;32m    125\u001B[0m \u001B[39mreturn\u001B[39;00m \u001B[39mself\u001B[39m\u001B[39m.\u001B[39mcm\u001B[39m.\u001B[39msim\u001B[39m.\u001B[39mwrite_channel(\u001B[39mself\u001B[39m\u001B[39m.\u001B[39mname, data)\n",
      "File \u001B[1;32mc:\\googledrive\\work\\acc_code\\pybeamtools\\pybeamtools\\controls\\control_lib.py:156\u001B[0m, in \u001B[0;36mAccelerator.propose_writes\u001B[1;34m(self, pvs_name, pvs_data)\u001B[0m\n\u001B[0;32m    154\u001B[0m     \u001B[39massert\u001B[39;00m pv_name \u001B[39min\u001B[39;00m \u001B[39mself\u001B[39m\u001B[39m.\u001B[39mcm\u001B[39m.\u001B[39mpv_map\n\u001B[0;32m    155\u001B[0m     pv \u001B[39m=\u001B[39m \u001B[39mself\u001B[39m\u001B[39m.\u001B[39mcm\u001B[39m.\u001B[39mpv_map[pv_name]\n\u001B[1;32m--> 156\u001B[0m     pv\u001B[39m.\u001B[39;49m_check_proposed_write(data)\n\u001B[0;32m    157\u001B[0m \u001B[39mself\u001B[39m\u001B[39m.\u001B[39mlogger\u001B[39m.\u001B[39mdebug(\u001B[39mf\u001B[39m\u001B[39m'\u001B[39m\u001B[39mIndividual PV validation passed\u001B[39m\u001B[39m'\u001B[39m)\n\u001B[0;32m    158\u001B[0m triggered_interlocks \u001B[39m=\u001B[39m [i \u001B[39mfor\u001B[39;00m i \u001B[39min\u001B[39;00m \u001B[39mself\u001B[39m\u001B[39m.\u001B[39minterlocks \u001B[39mif\u001B[39;00m i\u001B[39m.\u001B[39mcheck_match_write(pvs_name, pvs_data)]\n",
      "File \u001B[1;32mc:\\googledrive\\work\\acc_code\\pybeamtools\\pybeamtools\\controls\\network.py:64\u001B[0m, in \u001B[0;36mPV._check_proposed_write\u001B[1;34m(self, data)\u001B[0m\n\u001B[0;32m     62\u001B[0m         \u001B[39m# return False\u001B[39;00m\n\u001B[0;32m     63\u001B[0m     \u001B[39mif\u001B[39;00m \u001B[39mself\u001B[39m\u001B[39m.\u001B[39moptions\u001B[39m.\u001B[39mhigh \u001B[39mand\u001B[39;00m data \u001B[39m>\u001B[39m \u001B[39mself\u001B[39m\u001B[39m.\u001B[39moptions\u001B[39m.\u001B[39mhigh:\n\u001B[1;32m---> 64\u001B[0m         \u001B[39mraise\u001B[39;00m InvalidWriteError(\u001B[39mf\u001B[39m\u001B[39m'\u001B[39m\u001B[39mValue \u001B[39m\u001B[39m{\u001B[39;00mdata\u001B[39m}\u001B[39;00m\u001B[39m above bounds (\u001B[39m\u001B[39m{\u001B[39;00m\u001B[39mself\u001B[39m\u001B[39m.\u001B[39moptions\u001B[39m.\u001B[39mlow\u001B[39m}\u001B[39;00m\u001B[39m|\u001B[39m\u001B[39m{\u001B[39;00m\u001B[39mself\u001B[39m\u001B[39m.\u001B[39moptions\u001B[39m.\u001B[39mhigh\u001B[39m}\u001B[39;00m\u001B[39m)\u001B[39m\u001B[39m'\u001B[39m)\n\u001B[0;32m     65\u001B[0m \u001B[39melif\u001B[39;00m \u001B[39misinstance\u001B[39m(data, \u001B[39mstr\u001B[39m):\n\u001B[0;32m     66\u001B[0m     \u001B[39mpass\u001B[39;00m\n",
      "\u001B[1;31mInvalidWriteError\u001B[0m: Value 5.5 above bounds (-5.0|5.0)"
     ]
    }
   ],
   "source": [
    "# This fails because of PV limits (no interlocks)\n",
    "write_pv_1.write(5.5)\n",
    "print()"
   ]
  },
  {
   "cell_type": "code",
   "execution_count": 8,
   "metadata": {},
   "outputs": [
    {
     "name": "stderr",
     "output_type": "stream",
     "text": [
      "[DEBUG] [     MainThread] [12:58:58  control_lib.py 157] [Accelerator] Individual PV validation passed\n",
      "[INFO ] [     MainThread] [12:58:58  control_lib.py 160] [Accelerator] Write on (['WRITE_PV_1']) triggered (0) of (0) interlocks\n",
      "[DEBUG] [     MainThread] [12:58:58  control_lib.py 163] [Accelerator] No interlocks triggered, skip polling stage\n",
      "[DEBUG] [     MainThread] [12:58:58         core.py 235] [SimulationEngine] Writing channel WRITE_PV_1\n"
     ]
    },
    {
     "name": "stdout",
     "output_type": "stream",
     "text": [
      "\n"
     ]
    }
   ],
   "source": [
    "# This is allowed\n",
    "write_pv_1.write(4.5)\n",
    "print()"
   ]
  },
  {
   "cell_type": "code",
   "execution_count": 9,
   "metadata": {},
   "outputs": [
    {
     "name": "stderr",
     "output_type": "stream",
     "text": [
      "[DEBUG] [     MainThread] [12:58:59  distributed.py  97] [ProcessManager] Interlock worker started on PID 31576\n",
      "[INFO ] [     MainThread] [12:58:59  control_lib.py 221] [Accelerator] Interlock (29705575-c49c-4500-89d6-159d0e960417) with PV list (['GENERIC_PV_1', 'READ_PV_1', 'WRITE_PV_1']) added\n"
     ]
    },
    {
     "name": "stdout",
     "output_type": "stream",
     "text": [
      "\n"
     ]
    }
   ],
   "source": [
    "# Add an interlock to further constraint PVs\n",
    "from pybeamtools.controls.interlocks import LimitInterlock, LimitInterlockOptions\n",
    "interlock_limits = {'WRITE_PV_1':(-1.0,1.0)}\n",
    "\n",
    "lopt = LimitInterlockOptions(pv_list=pv_list,\n",
    "                            read_events=read_triggers,\n",
    "                            write_events=pv_list,\n",
    "                            limits=interlock_limits)\n",
    "ilock = LimitInterlock(options=lopt)\n",
    "acc.add_interlock(ilock)\n",
    "print()"
   ]
  },
  {
   "cell_type": "code",
   "execution_count": 10,
   "metadata": {},
   "outputs": [
    {
     "name": "stderr",
     "output_type": "stream",
     "text": [
      "[INFO ] [     MainThread] [12:59:00      logging.py  56] [pybeamtools.utils.logging] Starting worker logging finished\n"
     ]
    },
    {
     "name": "stderr",
     "output_type": "stream",
     "text": [
      "[DEBUG] [     MainThread] [12:59:00  control_lib.py 157] [Accelerator] Individual PV validation passed\n",
      "[INFO ] [     MainThread] [12:59:00  control_lib.py 160] [Accelerator] Write on (['WRITE_PV_1']) triggered (1) of (1) interlocks\n",
      "[DEBUG] [     MainThread] [12:59:00  control_lib.py 184] [Accelerator] Polling process manager with data packages of sizes ([3])\n",
      "[DEBUG] [     MainThread] [12:59:00  control_lib.py 185] [Accelerator] data_packages=[{'trigger_pvs': {'WRITE_PV_1': 4.5}, 'data': {'READ_PV_1': array([-0.02338869]), 'GENERIC_PV_1': array([0.13822901]), 'WRITE_PV_1': array([0.10630662])}, 'timestamps': None}]\n",
      "[DEBUG] [     MainThread] [12:59:00  distributed.py 119] [ProcessManager] Sent message {'trigger_pvs': {'WRITE_PV_1': 4.5}, 'data': {'READ_PV_1': array([-0.02338869]), 'GENERIC_PV_1': array([0.13822901]), 'WRITE_PV_1': array([0.10630662])}, 'timestamps': None} (id 485295) to interlock (29705575-c49c-4500-89d6-159d0e960417)\n",
      "[INFO ] [     MainThread] [12:59:00  distributed.py  27] [pybeamtools.controls.distributed] RPC message msg.mode='write' received on PID 31576\n",
      "[DEBUG] [     MainThread] [12:59:00  distributed.py 131] [ProcessManager] Received response (id 485295) from interlock (29705575-c49c-4500-89d6-159d0e960417)\n",
      "[DEBUG] [     MainThread] [12:59:00   interlocks.py 120] [LimitInterlock] Interlock (29705575-c49c-4500-89d6-159d0e960417) write callback\n",
      "[INFO ] [     MainThread] [12:59:00  control_lib.py 188] [Accelerator] Polling completed in 3.13ms\n",
      "[ERROR] [     MainThread] [12:59:00  control_lib.py 203] [Accelerator] Interlock (29705575-c49c-4500-89d6-159d0e960417) rejected proposed write - result was ({'result': False, 'ex': InterlockInternalError('PV (WRITE_PV_1) at (4.5), outside (-1.0|1.0)'), 'reason': 'ex'})\n"
     ]
    },
    {
     "ename": "InterlockWriteError",
     "evalue": "Write on (['WRITE_PV_1']) of ([4.5]) failed due to interlock rejection",
     "output_type": "error",
     "traceback": [
      "\u001B[1;31m---------------------------------------------------------------------------\u001B[0m",
      "\u001B[1;31mInterlockWriteError\u001B[0m                       Traceback (most recent call last)",
      "Cell \u001B[1;32mIn [10], line 2\u001B[0m\n\u001B[0;32m      1\u001B[0m \u001B[39m# Same write now fails due to interlocks\u001B[39;00m\n\u001B[1;32m----> 2\u001B[0m write_pv_1\u001B[39m.\u001B[39;49mwrite(\u001B[39m4.5\u001B[39;49m)\n\u001B[0;32m      3\u001B[0m \u001B[39mprint\u001B[39m()\n",
      "File \u001B[1;32mc:\\googledrive\\work\\acc_code\\pybeamtools\\pybeamtools\\controls\\network.py:123\u001B[0m, in \u001B[0;36mSimPV.write\u001B[1;34m(self, data, wait, callback, timeout, notify, data_type, data_count)\u001B[0m\n\u001B[0;32m    121\u001B[0m     \u001B[39mraise\u001B[39;00m SecurityError(\u001B[39mf\u001B[39m\u001B[39m'\u001B[39m\u001B[39mWrite on PV (\u001B[39m\u001B[39m{\u001B[39;00m\u001B[39mself\u001B[39m\u001B[39m.\u001B[39mname\u001B[39m}\u001B[39;00m\u001B[39m) forbidden by access mask\u001B[39m\u001B[39m'\u001B[39m)\n\u001B[0;32m    122\u001B[0m \u001B[39m# Propose a write - any issues will raise an Exception\u001B[39;00m\n\u001B[1;32m--> 123\u001B[0m \u001B[39mself\u001B[39;49m\u001B[39m.\u001B[39;49mcm\u001B[39m.\u001B[39;49macc\u001B[39m.\u001B[39;49mpropose_write([\u001B[39mself\u001B[39;49m\u001B[39m.\u001B[39;49mname], [data])\n\u001B[0;32m    124\u001B[0m \u001B[39m# Perform write\u001B[39;00m\n\u001B[0;32m    125\u001B[0m \u001B[39mreturn\u001B[39;00m \u001B[39mself\u001B[39m\u001B[39m.\u001B[39mcm\u001B[39m.\u001B[39msim\u001B[39m.\u001B[39mwrite_channel(\u001B[39mself\u001B[39m\u001B[39m.\u001B[39mname, data)\n",
      "File \u001B[1;32mc:\\googledrive\\work\\acc_code\\pybeamtools\\pybeamtools\\controls\\control_lib.py:210\u001B[0m, in \u001B[0;36mAccelerator.propose_writes\u001B[1;34m(self, pvs_name, pvs_data)\u001B[0m\n\u001B[0;32m    207\u001B[0m     \u001B[39mraise\u001B[39;00m InterlockWriteError(\n\u001B[0;32m    208\u001B[0m         \u001B[39mf\u001B[39m\u001B[39m'\u001B[39m\u001B[39mWrite on (\u001B[39m\u001B[39m{\u001B[39;00mpvs_name\u001B[39m}\u001B[39;00m\u001B[39m) of (\u001B[39m\u001B[39m{\u001B[39;00mpvs_data\u001B[39m}\u001B[39;00m\u001B[39m) failed due to exceptions raised by interlocks\u001B[39m\u001B[39m'\u001B[39m)\n\u001B[0;32m    209\u001B[0m \u001B[39mif\u001B[39;00m failed_result:\n\u001B[1;32m--> 210\u001B[0m     \u001B[39mraise\u001B[39;00m InterlockWriteError(\u001B[39mf\u001B[39m\u001B[39m'\u001B[39m\u001B[39mWrite on (\u001B[39m\u001B[39m{\u001B[39;00mpvs_name\u001B[39m}\u001B[39;00m\u001B[39m) of (\u001B[39m\u001B[39m{\u001B[39;00mpvs_data\u001B[39m}\u001B[39;00m\u001B[39m) failed due to interlock rejection\u001B[39m\u001B[39m'\u001B[39m)\n",
      "\u001B[1;31mInterlockWriteError\u001B[0m: Write on (['WRITE_PV_1']) of ([4.5]) failed due to interlock rejection"
     ]
    }
   ],
   "source": [
    "# Same write now fails due to interlocks\n",
    "write_pv_1.write(4.5)\n",
    "print()"
   ]
  },
  {
   "cell_type": "code",
   "execution_count": 11,
   "metadata": {},
   "outputs": [
    {
     "name": "stderr",
     "output_type": "stream",
     "text": [
      "[DEBUG] [     MainThread] [12:59:02  control_lib.py 157] [Accelerator] Individual PV validation passed\n",
      "[INFO ] [     MainThread] [12:59:02  control_lib.py 160] [Accelerator] Write on (['WRITE_PV_1']) triggered (1) of (1) interlocks\n",
      "[DEBUG] [     MainThread] [12:59:02  control_lib.py 184] [Accelerator] Polling process manager with data packages of sizes ([3])\n",
      "[DEBUG] [     MainThread] [12:59:02  control_lib.py 185] [Accelerator] data_packages=[{'trigger_pvs': {'WRITE_PV_1': 0.5}, 'data': {'READ_PV_1': array([-0.02338869]), 'GENERIC_PV_1': array([1.99516599]), 'WRITE_PV_1': array([0.10630662])}, 'timestamps': None}]\n",
      "[DEBUG] [     MainThread] [12:59:02  distributed.py 119] [ProcessManager] Sent message {'trigger_pvs': {'WRITE_PV_1': 0.5}, 'data': {'READ_PV_1': array([-0.02338869]), 'GENERIC_PV_1': array([1.99516599]), 'WRITE_PV_1': array([0.10630662])}, 'timestamps': None} (id 541357) to interlock (29705575-c49c-4500-89d6-159d0e960417)\n",
      "[DEBUG] [     MainThread] [12:59:02  distributed.py 131] [ProcessManager] Received response (id 541357) from interlock (29705575-c49c-4500-89d6-159d0e960417)\n",
      "[INFO ] [     MainThread] [12:59:02  distributed.py  27] [pybeamtools.controls.distributed] RPC message msg.mode='write' received on PID 31576\n",
      "[INFO ] [     MainThread] [12:59:02  control_lib.py 188] [Accelerator] Polling completed in 1.69ms\n",
      "[DEBUG] [     MainThread] [12:59:02   interlocks.py 120] [LimitInterlock] Interlock (29705575-c49c-4500-89d6-159d0e960417) write callback\n",
      "[DEBUG] [     MainThread] [12:59:02         core.py 235] [SimulationEngine] Writing channel WRITE_PV_1\n"
     ]
    },
    {
     "name": "stdout",
     "output_type": "stream",
     "text": [
      "\n"
     ]
    }
   ],
   "source": [
    "# Smaller write is allowed\n",
    "write_pv_1.write(0.5)\n",
    "print()"
   ]
  },
  {
   "cell_type": "code",
   "execution_count": 12,
   "metadata": {},
   "outputs": [
    {
     "name": "stderr",
     "output_type": "stream",
     "text": [
      "[DEBUG] [     MainThread] [12:59:03  distributed.py  97] [ProcessManager] Interlock worker started on PID 25536\n",
      "[INFO ] [     MainThread] [12:59:03  control_lib.py 221] [Accelerator] Interlock (10a6ec92-dfbd-4260-b291-a74e85e55039) with PV list (['GENERIC_PV_1', 'READ_PV_1', 'WRITE_PV_1']) added\n"
     ]
    }
   ],
   "source": [
    "# Another interlock to block all writes when generic oscillator PV < 0\n",
    "lopt2 = LimitInterlockOptions(pv_list=pv_list,\n",
    "                            read_events=[],\n",
    "                            write_events=write_triggers,\n",
    "                            limits={'GENERIC_PV_1':(-10.0,0.0)},\n",
    "                            block_all_writes=True)\n",
    "ilock2 = LimitInterlock(options=lopt2)\n",
    "acc.add_interlock(ilock2)"
   ]
  },
  {
   "cell_type": "code",
   "execution_count": 13,
   "metadata": {},
   "outputs": [
    {
     "name": "stderr",
     "output_type": "stream",
     "text": [
      "[DEBUG] [     MainThread] [12:59:04  control_lib.py 157] [Accelerator] Individual PV validation passed\n",
      "[INFO ] [     MainThread] [12:59:04  control_lib.py 160] [Accelerator] Write on (['WRITE_PV_1']) triggered (2) of (2) interlocks\n",
      "[DEBUG] [     MainThread] [12:59:04  control_lib.py 184] [Accelerator] Polling process manager with data packages of sizes ([3, 3])\n",
      "[DEBUG] [     MainThread] [12:59:04  control_lib.py 185] [Accelerator] data_packages=[{'trigger_pvs': {'WRITE_PV_1': 0.5}, 'data': {'READ_PV_1': array([-0.02338869]), 'GENERIC_PV_1': array([1.99516599]), 'WRITE_PV_1': array([0.10630662])}, 'timestamps': None}, {'trigger_pvs': {'WRITE_PV_1': 0.5}, 'data': {'READ_PV_1': array([-0.02338869]), 'GENERIC_PV_1': array([1.99516599]), 'WRITE_PV_1': array([0.10630662])}, 'timestamps': None}]\n",
      "[DEBUG] [     MainThread] [12:59:04  distributed.py 119] [ProcessManager] Sent message {'trigger_pvs': {'WRITE_PV_1': 0.5}, 'data': {'READ_PV_1': array([-0.02338869]), 'GENERIC_PV_1': array([1.99516599]), 'WRITE_PV_1': array([0.10630662])}, 'timestamps': None} (id 86070) to interlock (29705575-c49c-4500-89d6-159d0e960417)\n",
      "[DEBUG] [     MainThread] [12:59:04  distributed.py 119] [ProcessManager] Sent message {'trigger_pvs': {'WRITE_PV_1': 0.5}, 'data': {'READ_PV_1': array([-0.02338869]), 'GENERIC_PV_1': array([1.99516599]), 'WRITE_PV_1': array([0.10630662])}, 'timestamps': None} (id 19659) to interlock (10a6ec92-dfbd-4260-b291-a74e85e55039)\n",
      "[INFO ] [     MainThread] [12:59:04  distributed.py  27] [pybeamtools.controls.distributed] RPC message msg.mode='write' received on PID 31576\n",
      "[DEBUG] [     MainThread] [12:59:04  distributed.py 131] [ProcessManager] Received response (id 86070) from interlock (29705575-c49c-4500-89d6-159d0e960417)\n",
      "[DEBUG] [     MainThread] [12:59:04   interlocks.py 120] [LimitInterlock] Interlock (29705575-c49c-4500-89d6-159d0e960417) write callback\n",
      "[INFO ] [     MainThread] [12:59:04      logging.py  56] [pybeamtools.utils.logging] Starting worker logging finished\n",
      "[INFO ] [     MainThread] [12:59:04  distributed.py  27] [pybeamtools.controls.distributed] RPC message msg.mode='write' received on PID 25536\n",
      "[DEBUG] [     MainThread] [12:59:04  distributed.py 131] [ProcessManager] Received response (id 19659) from interlock (10a6ec92-dfbd-4260-b291-a74e85e55039)\n",
      "[DEBUG] [     MainThread] [12:59:04   interlocks.py 120] [LimitInterlock] Interlock (10a6ec92-dfbd-4260-b291-a74e85e55039) write callback\n",
      "[INFO ] [     MainThread] [12:59:04  control_lib.py 188] [Accelerator] Polling completed in 89.86ms\n",
      "[DEBUG] [     MainThread] [12:59:04   interlocks.py 134] [LimitInterlock] Interlock (10a6ec92-dfbd-4260-b291-a74e85e55039) low=-10.0 value=array([1.99516599]) high=0.0\n",
      "[ERROR] [     MainThread] [12:59:04  control_lib.py 203] [Accelerator] Interlock (10a6ec92-dfbd-4260-b291-a74e85e55039) rejected proposed write - result was ({'result': False, 'ex': InterlockInternalError('PV (GENERIC_PV_1) at ([1.99516599]), outside (-10.0|0.0), blocking all'), 'reason': 'ex'})\n"
     ]
    },
    {
     "ename": "InterlockWriteError",
     "evalue": "Write on (['WRITE_PV_1']) of ([0.5]) failed due to interlock rejection",
     "output_type": "error",
     "traceback": [
      "\u001B[1;31m---------------------------------------------------------------------------\u001B[0m",
      "\u001B[1;31mInterlockWriteError\u001B[0m                       Traceback (most recent call last)",
      "Cell \u001B[1;32mIn [13], line 1\u001B[0m\n\u001B[1;32m----> 1\u001B[0m write_pv_1\u001B[39m.\u001B[39;49mwrite(\u001B[39m0.5\u001B[39;49m)\n\u001B[0;32m      2\u001B[0m \u001B[39mprint\u001B[39m()\n",
      "File \u001B[1;32mc:\\googledrive\\work\\acc_code\\pybeamtools\\pybeamtools\\controls\\network.py:123\u001B[0m, in \u001B[0;36mSimPV.write\u001B[1;34m(self, data, wait, callback, timeout, notify, data_type, data_count)\u001B[0m\n\u001B[0;32m    121\u001B[0m     \u001B[39mraise\u001B[39;00m SecurityError(\u001B[39mf\u001B[39m\u001B[39m'\u001B[39m\u001B[39mWrite on PV (\u001B[39m\u001B[39m{\u001B[39;00m\u001B[39mself\u001B[39m\u001B[39m.\u001B[39mname\u001B[39m}\u001B[39;00m\u001B[39m) forbidden by access mask\u001B[39m\u001B[39m'\u001B[39m)\n\u001B[0;32m    122\u001B[0m \u001B[39m# Propose a write - any issues will raise an Exception\u001B[39;00m\n\u001B[1;32m--> 123\u001B[0m \u001B[39mself\u001B[39;49m\u001B[39m.\u001B[39;49mcm\u001B[39m.\u001B[39;49macc\u001B[39m.\u001B[39;49mpropose_write([\u001B[39mself\u001B[39;49m\u001B[39m.\u001B[39;49mname], [data])\n\u001B[0;32m    124\u001B[0m \u001B[39m# Perform write\u001B[39;00m\n\u001B[0;32m    125\u001B[0m \u001B[39mreturn\u001B[39;00m \u001B[39mself\u001B[39m\u001B[39m.\u001B[39mcm\u001B[39m.\u001B[39msim\u001B[39m.\u001B[39mwrite_channel(\u001B[39mself\u001B[39m\u001B[39m.\u001B[39mname, data)\n",
      "File \u001B[1;32mc:\\googledrive\\work\\acc_code\\pybeamtools\\pybeamtools\\controls\\control_lib.py:210\u001B[0m, in \u001B[0;36mAccelerator.propose_writes\u001B[1;34m(self, pvs_name, pvs_data)\u001B[0m\n\u001B[0;32m    207\u001B[0m     \u001B[39mraise\u001B[39;00m InterlockWriteError(\n\u001B[0;32m    208\u001B[0m         \u001B[39mf\u001B[39m\u001B[39m'\u001B[39m\u001B[39mWrite on (\u001B[39m\u001B[39m{\u001B[39;00mpvs_name\u001B[39m}\u001B[39;00m\u001B[39m) of (\u001B[39m\u001B[39m{\u001B[39;00mpvs_data\u001B[39m}\u001B[39;00m\u001B[39m) failed due to exceptions raised by interlocks\u001B[39m\u001B[39m'\u001B[39m)\n\u001B[0;32m    209\u001B[0m \u001B[39mif\u001B[39;00m failed_result:\n\u001B[1;32m--> 210\u001B[0m     \u001B[39mraise\u001B[39;00m InterlockWriteError(\u001B[39mf\u001B[39m\u001B[39m'\u001B[39m\u001B[39mWrite on (\u001B[39m\u001B[39m{\u001B[39;00mpvs_name\u001B[39m}\u001B[39;00m\u001B[39m) of (\u001B[39m\u001B[39m{\u001B[39;00mpvs_data\u001B[39m}\u001B[39;00m\u001B[39m) failed due to interlock rejection\u001B[39m\u001B[39m'\u001B[39m)\n",
      "\u001B[1;31mInterlockWriteError\u001B[0m: Write on (['WRITE_PV_1']) of ([0.5]) failed due to interlock rejection"
     ]
    }
   ],
   "source": [
    "write_pv_1.write(0.5)\n",
    "print()"
   ]
  },
  {
   "cell_type": "code",
   "execution_count": 14,
   "metadata": {},
   "outputs": [
    {
     "name": "stderr",
     "output_type": "stream",
     "text": [
      "[DEBUG] [     MainThread] [12:59:08  distributed.py  97] [ProcessManager] Interlock worker started on PID 27332\n",
      "[INFO ] [     MainThread] [12:59:08  control_lib.py 221] [Accelerator] Interlock (49d9a24f-9566-4130-a738-18577994b599) with PV list (['GENERIC_PV_1', 'READ_PV_1', 'WRITE_PV_1']) added\n"
     ]
    },
    {
     "name": "stderr",
     "output_type": "stream",
     "text": [
      "[INFO ] [     MainThread] [12:59:09      logging.py  56] [pybeamtools.utils.logging] Starting worker logging finished\n"
     ]
    }
   ],
   "source": [
    "from pybeamtools.controls.interlocks import RatelimitInterlock,RatelimitInterlockOptions\n",
    "lopt3 = RatelimitInterlockOptions(pv_list=pv_list,\n",
    "                            read_events=[],\n",
    "                            write_events=write_triggers,\n",
    "                            min_delay=0.5)\n",
    "ilock3 = RatelimitInterlock(options=lopt3)\n",
    "acc.add_interlock(ilock3)"
   ]
  },
  {
   "cell_type": "code",
   "execution_count": 17,
   "metadata": {},
   "outputs": [
    {
     "name": "stderr",
     "output_type": "stream",
     "text": [
      "[DEBUG] [     MainThread] [12:59:14  control_lib.py 157] [Accelerator] Individual PV validation passed\n",
      "[INFO ] [     MainThread] [12:59:14  control_lib.py 160] [Accelerator] Write on (['WRITE_PV_1']) triggered (3) of (3) interlocks\n",
      "[DEBUG] [     MainThread] [12:59:14  control_lib.py 184] [Accelerator] Polling process manager with data packages of sizes ([3, 3, 3])\n",
      "[DEBUG] [     MainThread] [12:59:14  control_lib.py 185] [Accelerator] data_packages=[{'trigger_pvs': {'WRITE_PV_1': 0.5}, 'data': {'READ_PV_1': array([0.03684466]), 'GENERIC_PV_1': array([-1.9953702]), 'WRITE_PV_1': array([0.41808176])}, 'timestamps': None}, {'trigger_pvs': {'WRITE_PV_1': 0.5}, 'data': {'READ_PV_1': array([0.03684466]), 'GENERIC_PV_1': array([-1.9953702]), 'WRITE_PV_1': array([0.41808176])}, 'timestamps': None}, {'trigger_pvs': {'WRITE_PV_1': 0.5}, 'data': {'READ_PV_1': array([0.03684466]), 'GENERIC_PV_1': array([-1.9953702]), 'WRITE_PV_1': array([0.41808176])}, 'timestamps': None}]\n",
      "[DEBUG] [     MainThread] [12:59:14  distributed.py 119] [ProcessManager] Sent message {'trigger_pvs': {'WRITE_PV_1': 0.5}, 'data': {'READ_PV_1': array([0.03684466]), 'GENERIC_PV_1': array([-1.9953702]), 'WRITE_PV_1': array([0.41808176])}, 'timestamps': None} (id 577041) to interlock (29705575-c49c-4500-89d6-159d0e960417)\n",
      "[DEBUG] [     MainThread] [12:59:14  distributed.py 119] [ProcessManager] Sent message {'trigger_pvs': {'WRITE_PV_1': 0.5}, 'data': {'READ_PV_1': array([0.03684466]), 'GENERIC_PV_1': array([-1.9953702]), 'WRITE_PV_1': array([0.41808176])}, 'timestamps': None} (id 292330) to interlock (10a6ec92-dfbd-4260-b291-a74e85e55039)\n",
      "[INFO ] [     MainThread] [12:59:14  distributed.py  27] [pybeamtools.controls.distributed] RPC message msg.mode='write' received on PID 31576\n",
      "[DEBUG] [     MainThread] [12:59:14  distributed.py 119] [ProcessManager] Sent message {'trigger_pvs': {'WRITE_PV_1': 0.5}, 'data': {'READ_PV_1': array([0.03684466]), 'GENERIC_PV_1': array([-1.9953702]), 'WRITE_PV_1': array([0.41808176])}, 'timestamps': None} (id 945491) to interlock (49d9a24f-9566-4130-a738-18577994b599)\n",
      "[DEBUG] [     MainThread] [12:59:14   interlocks.py 120] [LimitInterlock] Interlock (29705575-c49c-4500-89d6-159d0e960417) write callback\n",
      "[DEBUG] [     MainThread] [12:59:14  distributed.py 131] [ProcessManager] Received response (id 577041) from interlock (29705575-c49c-4500-89d6-159d0e960417)\n",
      "[INFO ] [     MainThread] [12:59:14  distributed.py  27] [pybeamtools.controls.distributed] RPC message msg.mode='write' received on PID 25536\n",
      "[DEBUG] [     MainThread] [12:59:14  distributed.py 131] [ProcessManager] Received response (id 292330) from interlock (10a6ec92-dfbd-4260-b291-a74e85e55039)\n",
      "[DEBUG] [     MainThread] [12:59:14   interlocks.py 120] [LimitInterlock] Interlock (10a6ec92-dfbd-4260-b291-a74e85e55039) write callback\n",
      "[DEBUG] [     MainThread] [12:59:14  distributed.py 131] [ProcessManager] Received response (id 945491) from interlock (49d9a24f-9566-4130-a738-18577994b599)\n",
      "[DEBUG] [     MainThread] [12:59:14   interlocks.py 134] [LimitInterlock] Interlock (10a6ec92-dfbd-4260-b291-a74e85e55039) low=-10.0 value=array([-1.9953702]) high=0.0\n",
      "[INFO ] [     MainThread] [12:59:14  control_lib.py 188] [Accelerator] Polling completed in 6.35ms\n",
      "[ERROR] [     MainThread] [12:59:14  control_lib.py 203] [Accelerator] Interlock (49d9a24f-9566-4130-a738-18577994b599) rejected proposed write - result was ({'result': False, 'ex': None, 'reason': 'Rate throttled, '})\n",
      "[INFO ] [     MainThread] [12:59:14  distributed.py  27] [pybeamtools.controls.distributed] RPC message msg.mode='write' received on PID 27332\n"
     ]
    },
    {
     "ename": "InterlockWriteError",
     "evalue": "Write on (['WRITE_PV_1']) of ([0.5]) failed due to interlock rejection",
     "output_type": "error",
     "traceback": [
      "\u001B[1;31m---------------------------------------------------------------------------\u001B[0m",
      "\u001B[1;31mInterlockWriteError\u001B[0m                       Traceback (most recent call last)",
      "Cell \u001B[1;32mIn [17], line 1\u001B[0m\n\u001B[1;32m----> 1\u001B[0m write_pv_1\u001B[39m.\u001B[39;49mwrite(\u001B[39m0.5\u001B[39;49m)\n",
      "File \u001B[1;32mc:\\googledrive\\work\\acc_code\\pybeamtools\\pybeamtools\\controls\\network.py:123\u001B[0m, in \u001B[0;36mSimPV.write\u001B[1;34m(self, data, wait, callback, timeout, notify, data_type, data_count)\u001B[0m\n\u001B[0;32m    121\u001B[0m     \u001B[39mraise\u001B[39;00m SecurityError(\u001B[39mf\u001B[39m\u001B[39m'\u001B[39m\u001B[39mWrite on PV (\u001B[39m\u001B[39m{\u001B[39;00m\u001B[39mself\u001B[39m\u001B[39m.\u001B[39mname\u001B[39m}\u001B[39;00m\u001B[39m) forbidden by access mask\u001B[39m\u001B[39m'\u001B[39m)\n\u001B[0;32m    122\u001B[0m \u001B[39m# Propose a write - any issues will raise an Exception\u001B[39;00m\n\u001B[1;32m--> 123\u001B[0m \u001B[39mself\u001B[39;49m\u001B[39m.\u001B[39;49mcm\u001B[39m.\u001B[39;49macc\u001B[39m.\u001B[39;49mpropose_write([\u001B[39mself\u001B[39;49m\u001B[39m.\u001B[39;49mname], [data])\n\u001B[0;32m    124\u001B[0m \u001B[39m# Perform write\u001B[39;00m\n\u001B[0;32m    125\u001B[0m \u001B[39mreturn\u001B[39;00m \u001B[39mself\u001B[39m\u001B[39m.\u001B[39mcm\u001B[39m.\u001B[39msim\u001B[39m.\u001B[39mwrite_channel(\u001B[39mself\u001B[39m\u001B[39m.\u001B[39mname, data)\n",
      "File \u001B[1;32mc:\\googledrive\\work\\acc_code\\pybeamtools\\pybeamtools\\controls\\control_lib.py:210\u001B[0m, in \u001B[0;36mAccelerator.propose_writes\u001B[1;34m(self, pvs_name, pvs_data)\u001B[0m\n\u001B[0;32m    207\u001B[0m     \u001B[39mraise\u001B[39;00m InterlockWriteError(\n\u001B[0;32m    208\u001B[0m         \u001B[39mf\u001B[39m\u001B[39m'\u001B[39m\u001B[39mWrite on (\u001B[39m\u001B[39m{\u001B[39;00mpvs_name\u001B[39m}\u001B[39;00m\u001B[39m) of (\u001B[39m\u001B[39m{\u001B[39;00mpvs_data\u001B[39m}\u001B[39;00m\u001B[39m) failed due to exceptions raised by interlocks\u001B[39m\u001B[39m'\u001B[39m)\n\u001B[0;32m    209\u001B[0m \u001B[39mif\u001B[39;00m failed_result:\n\u001B[1;32m--> 210\u001B[0m     \u001B[39mraise\u001B[39;00m InterlockWriteError(\u001B[39mf\u001B[39m\u001B[39m'\u001B[39m\u001B[39mWrite on (\u001B[39m\u001B[39m{\u001B[39;00mpvs_name\u001B[39m}\u001B[39;00m\u001B[39m) of (\u001B[39m\u001B[39m{\u001B[39;00mpvs_data\u001B[39m}\u001B[39;00m\u001B[39m) failed due to interlock rejection\u001B[39m\u001B[39m'\u001B[39m)\n",
      "\u001B[1;31mInterlockWriteError\u001B[0m: Write on (['WRITE_PV_1']) of ([0.5]) failed due to interlock rejection"
     ]
    },
    {
     "name": "stderr",
     "output_type": "stream",
     "text": [
      "[DEBUG] [     MainThread] [12:59:14   interlocks.py 204] [RatelimitInterlock] Interlock (49d9a24f-9566-4130-a738-18577994b599) write callback evaluation with pv_list=['GENERIC_PV_1', 'READ_PV_1', 'WRITE_PV_1'] read_events=[] write_events=['WRITE_PV_1'] priority=0 min_delay=0.5 {'READ_PV_1': array([0.03684466]), 'GENERIC_PV_1': array([-1.9953702]), 'WRITE_PV_1': array([0.41808176])}\n"
     ]
    }
   ],
   "source": [
    "write_pv_1.write(0.5)"
   ]
  },
  {
   "cell_type": "code",
   "execution_count": 18,
   "metadata": {},
   "outputs": [
    {
     "data": {
      "text/plain": [
       "[<pybeamtools.controls.interlocks.LimitInterlock at 0x1b095470b20>,\n",
       " <pybeamtools.controls.interlocks.LimitInterlock at 0x1b09545ee80>,\n",
       " <pybeamtools.controls.interlocks.RatelimitInterlock at 0x1b0954d2790>]"
      ]
     },
     "execution_count": 18,
     "metadata": {},
     "output_type": "execute_result"
    }
   ],
   "source": [
    "acc.interlocks"
   ]
  },
  {
   "cell_type": "code",
   "execution_count": 26,
   "metadata": {},
   "outputs": [],
   "source": [
    "process = acc.pm.process_map[ilock2.uuid]"
   ]
  },
  {
   "cell_type": "code",
   "execution_count": 27,
   "metadata": {},
   "outputs": [
    {
     "data": {
      "text/plain": [
       "(<SpawnProcess name='SpawnProcess-2' pid=25536 parent=26308 started>, 25536)"
      ]
     },
     "execution_count": 27,
     "metadata": {},
     "output_type": "execute_result"
    }
   ],
   "source": [
    "process, process.pid"
   ]
  },
  {
   "cell_type": "code",
   "execution_count": 29,
   "metadata": {},
   "outputs": [
    {
     "data": {
      "text/plain": [
       "psutil.Process(pid=25536, name='python.exe', status='running', started='12:59:03')"
      ]
     },
     "execution_count": 29,
     "metadata": {},
     "output_type": "execute_result"
    }
   ],
   "source": [
    "# We fake a crash by killing process with a syscall\n",
    "import psutil\n",
    "p = psutil.Process(process.pid)\n",
    "p"
   ]
  },
  {
   "cell_type": "code",
   "execution_count": null,
   "metadata": {},
   "outputs": [],
   "source": [
    "process.terminate()"
   ]
  },
  {
   "cell_type": "code",
   "execution_count": null,
   "metadata": {},
   "outputs": [],
   "source": [
    "acc.pm.processes"
   ]
  },
  {
   "cell_type": "code",
   "execution_count": null,
   "metadata": {},
   "outputs": [],
   "source": [
    "acc.options.dict()"
   ]
  },
  {
   "cell_type": "code",
   "execution_count": 22,
   "metadata": {},
   "outputs": [
    {
     "name": "stderr",
     "output_type": "stream",
     "text": [
      "[DEBUG] [     MainThread] [13:01:34  control_lib.py 157] [Accelerator] Individual PV validation passed\n",
      "[INFO ] [     MainThread] [13:01:34  control_lib.py 160] [Accelerator] Write on (['WRITE_PV_1']) triggered (3) of (3) interlocks\n",
      "[DEBUG] [     MainThread] [13:01:34  control_lib.py 184] [Accelerator] Polling process manager with data packages of sizes ([3, 3, 3])\n",
      "[DEBUG] [     MainThread] [13:01:34  control_lib.py 185] [Accelerator] data_packages=[{'trigger_pvs': {'WRITE_PV_1': 0.5}, 'data': {'READ_PV_1': array([-0.03704671]), 'GENERIC_PV_1': array([-1.99567794]), 'WRITE_PV_1': array([0.45983416])}, 'timestamps': None}, {'trigger_pvs': {'WRITE_PV_1': 0.5}, 'data': {'READ_PV_1': array([-0.03704671]), 'GENERIC_PV_1': array([-1.99567794]), 'WRITE_PV_1': array([0.45983416])}, 'timestamps': None}, {'trigger_pvs': {'WRITE_PV_1': 0.5}, 'data': {'READ_PV_1': array([-0.03704671]), 'GENERIC_PV_1': array([-1.99567794]), 'WRITE_PV_1': array([0.45983416])}, 'timestamps': None}]\n"
     ]
    },
    {
     "ename": "ControlLibException",
     "evalue": "Interlock process_read terminated unexpectedly",
     "output_type": "error",
     "traceback": [
      "\u001B[1;31m---------------------------------------------------------------------------\u001B[0m",
      "\u001B[1;31mControlLibException\u001B[0m                       Traceback (most recent call last)",
      "Cell \u001B[1;32mIn [22], line 1\u001B[0m\n\u001B[1;32m----> 1\u001B[0m write_pv_1\u001B[39m.\u001B[39;49mwrite(\u001B[39m0.5\u001B[39;49m)\n",
      "File \u001B[1;32mc:\\googledrive\\work\\acc_code\\pybeamtools\\pybeamtools\\controls\\network.py:123\u001B[0m, in \u001B[0;36mSimPV.write\u001B[1;34m(self, data, wait, callback, timeout, notify, data_type, data_count)\u001B[0m\n\u001B[0;32m    121\u001B[0m     \u001B[39mraise\u001B[39;00m SecurityError(\u001B[39mf\u001B[39m\u001B[39m'\u001B[39m\u001B[39mWrite on PV (\u001B[39m\u001B[39m{\u001B[39;00m\u001B[39mself\u001B[39m\u001B[39m.\u001B[39mname\u001B[39m}\u001B[39;00m\u001B[39m) forbidden by access mask\u001B[39m\u001B[39m'\u001B[39m)\n\u001B[0;32m    122\u001B[0m \u001B[39m# Propose a write - any issues will raise an Exception\u001B[39;00m\n\u001B[1;32m--> 123\u001B[0m \u001B[39mself\u001B[39;49m\u001B[39m.\u001B[39;49mcm\u001B[39m.\u001B[39;49macc\u001B[39m.\u001B[39;49mpropose_write([\u001B[39mself\u001B[39;49m\u001B[39m.\u001B[39;49mname], [data])\n\u001B[0;32m    124\u001B[0m \u001B[39m# Perform write\u001B[39;00m\n\u001B[0;32m    125\u001B[0m \u001B[39mreturn\u001B[39;00m \u001B[39mself\u001B[39m\u001B[39m.\u001B[39mcm\u001B[39m.\u001B[39msim\u001B[39m.\u001B[39mwrite_channel(\u001B[39mself\u001B[39m\u001B[39m.\u001B[39mname, data)\n",
      "File \u001B[1;32mc:\\googledrive\\work\\acc_code\\pybeamtools\\pybeamtools\\controls\\control_lib.py:187\u001B[0m, in \u001B[0;36mAccelerator.propose_writes\u001B[1;34m(self, pvs_name, pvs_data)\u001B[0m\n\u001B[0;32m    185\u001B[0m \u001B[39mself\u001B[39m\u001B[39m.\u001B[39mlogger\u001B[39m.\u001B[39mdebug(\u001B[39mf\u001B[39m\u001B[39m'\u001B[39m\u001B[39m{\u001B[39;00mdata_packages\u001B[39m=}\u001B[39;00m\u001B[39m'\u001B[39m)\n\u001B[0;32m    186\u001B[0m t1 \u001B[39m=\u001B[39m time\u001B[39m.\u001B[39mperf_counter()\n\u001B[1;32m--> 187\u001B[0m responses \u001B[39m=\u001B[39m \u001B[39mself\u001B[39;49m\u001B[39m.\u001B[39;49mpm\u001B[39m.\u001B[39;49mpoll(interlocks_list\u001B[39m=\u001B[39;49mtriggered_interlocks, data_list\u001B[39m=\u001B[39;49mdata_packages)\n\u001B[0;32m    188\u001B[0m \u001B[39mself\u001B[39m\u001B[39m.\u001B[39mlogger\u001B[39m.\u001B[39minfo(\u001B[39mf\u001B[39m\u001B[39m'\u001B[39m\u001B[39mPolling completed in \u001B[39m\u001B[39m{\u001B[39;00m(time\u001B[39m.\u001B[39mperf_counter() \u001B[39m-\u001B[39m t1) \u001B[39m*\u001B[39m \u001B[39m1000\u001B[39m\u001B[39m:\u001B[39;00m\u001B[39m.2f\u001B[39m\u001B[39m}\u001B[39;00m\u001B[39mms\u001B[39m\u001B[39m'\u001B[39m)\n\u001B[0;32m    189\u001B[0m failed_ex \u001B[39m=\u001B[39m \u001B[39mFalse\u001B[39;00m\n",
      "File \u001B[1;32mc:\\googledrive\\work\\acc_code\\pybeamtools\\pybeamtools\\controls\\distributed.py:111\u001B[0m, in \u001B[0;36mProcessManager.poll\u001B[1;34m(self, interlocks_list, data_list, timeout)\u001B[0m\n\u001B[0;32m    109\u001B[0m         \u001B[39mraise\u001B[39;00m \u001B[39mKeyError\u001B[39;00m(\u001B[39mf\u001B[39m\u001B[39m'\u001B[39m\u001B[39mInterlock internal failure\u001B[39m\u001B[39m'\u001B[39m)\n\u001B[0;32m    110\u001B[0m     \u001B[39mif\u001B[39;00m \u001B[39mself\u001B[39m\u001B[39m.\u001B[39mqueue_map[\u001B[39mself\u001B[39m\u001B[39m.\u001B[39mid_map[i\u001B[39m.\u001B[39muuid]][\u001B[39m0\u001B[39m]\u001B[39m.\u001B[39mexitcode \u001B[39mis\u001B[39;00m \u001B[39mnot\u001B[39;00m \u001B[39mNone\u001B[39;00m:\n\u001B[1;32m--> 111\u001B[0m         \u001B[39mraise\u001B[39;00m ControlLibException(\u001B[39mf\u001B[39m\u001B[39m'\u001B[39m\u001B[39mInterlock process_read terminated unexpectedly\u001B[39m\u001B[39m'\u001B[39m)\n\u001B[0;32m    113\u001B[0m \u001B[39mfor\u001B[39;00m i, v \u001B[39min\u001B[39;00m \u001B[39mzip\u001B[39m(interlocks_list, data_list):\n\u001B[0;32m    114\u001B[0m     pid \u001B[39m=\u001B[39m \u001B[39mself\u001B[39m\u001B[39m.\u001B[39mid_map[i\u001B[39m.\u001B[39muuid]\n",
      "\u001B[1;31mControlLibException\u001B[0m: Interlock process_read terminated unexpectedly"
     ]
    }
   ],
   "source": [
    "write_pv_1.write(0.5)"
   ]
  },
  {
   "cell_type": "code",
   "execution_count": null,
   "metadata": {},
   "outputs": [],
   "source": []
  }
 ],
 "metadata": {
  "kernelspec": {
   "display_name": "Python 3.9.15 ('py39ml')",
   "language": "python",
   "name": "python3"
  },
  "language_info": {
   "codemirror_mode": {
    "name": "ipython",
    "version": 3
   },
   "file_extension": ".py",
   "mimetype": "text/x-python",
   "name": "python",
   "nbconvert_exporter": "python",
   "pygments_lexer": "ipython3",
   "version": "3.9.15"
  },
  "vscode": {
   "interpreter": {
    "hash": "13374264484fde26a6608662cb4d9f2b357aebc4acc640560464425c35bd54c0"
   }
  }
 },
 "nbformat": 4,
 "nbformat_minor": 0
}
