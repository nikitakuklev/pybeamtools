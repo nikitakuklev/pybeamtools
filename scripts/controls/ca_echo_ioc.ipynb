{
 "cells": [
  {
   "cell_type": "code",
   "execution_count": null,
   "metadata": {},
   "outputs": [],
   "source": [
    "import sys\n",
    "sys.path.append('../..')\n",
    "from pybeamtools.sim.softioc import EchoIOC\n",
    "# %load_ext autoreload\n",
    "# %autoreload 2"
   ]
  },
  {
   "cell_type": "code",
   "execution_count": null,
   "metadata": {
    "collapsed": false
   },
   "outputs": [],
   "source": [
    "#import logging\n",
    "#logging.basicConfig(level=logging.DEBUG, format='%(asctime)s|%(name)s|%(message)s', datefmt='%H:%M:%S')"
   ]
  },
  {
   "cell_type": "code",
   "execution_count": null,
   "metadata": {},
   "outputs": [],
   "source": [
    "from pybeamtools.sim.core import SimulationEngine, ChannelMap, ChannelMapper\n",
    "from pybeamtools.sim.devices import RealisticMagnet\n",
    "\n",
    "sim = SimulationEngine()\n",
    "mag = RealisticMagnet(name='TEST:DEVICE:A', value=0.5)\n",
    "sim.add_device(mag, period=0.05)\n",
    "mag2 = RealisticMagnet(name='TEST:DEVICE:B', value=1.5)\n",
    "sim.add_device(mag2, period=0.05)\n",
    "mag3 = RealisticMagnet(name='TEST:DEVICE:C', value=2.5)\n",
    "sim.add_device(mag3, period=0.05)\n",
    "\n",
    "def get(device, output):\n",
    "    return device.read()\n",
    "\n",
    "def set(device, output, value):\n",
    "    return device.write(value)\n",
    "\n",
    "m = ChannelMap(device=mag, output='TEST:CHANNEL:A', read_fun=get, write_fun=set)\n",
    "m2 = ChannelMap(device=mag2, output='TEST:CHANNEL:B', read_fun=get, write_fun=set)\n",
    "m3 = ChannelMap(device=mag3, output='TEST:CHANNEL:C', read_fun=get, write_fun=set)\n",
    "chm = ChannelMapper(maps=[m, m2, m3])\n",
    "sim.add_mapper(chm)"
   ]
  },
  {
   "cell_type": "code",
   "execution_count": null,
   "metadata": {},
   "outputs": [],
   "source": [
    "channels = ['TEST:CHANNEL:A', 'TEST:CHANNEL:B']"
   ]
  },
  {
   "cell_type": "code",
   "execution_count": null,
   "metadata": {},
   "outputs": [],
   "source": [
    "sioc = EchoIOC(channels=channels, sim_engine=sim)\n",
    "sioc.setup()"
   ]
  },
  {
   "cell_type": "code",
   "execution_count": null,
   "metadata": {
    "collapsed": false
   },
   "outputs": [],
   "source": [
    "#sioc.bl.pvdb['TEST:CHANNEL:A'].__dict__"
   ]
  },
  {
   "cell_type": "code",
   "execution_count": null,
   "metadata": {},
   "outputs": [],
   "source": [
    "#sioc.bl.pvdb['TEST:CHANNEL:A'].fields['LOPR'].__dict__"
   ]
  },
  {
   "cell_type": "code",
   "execution_count": null,
   "metadata": {
    "collapsed": false
   },
   "outputs": [],
   "source": [
    "#sioc.run()\n",
    "sioc.run_in_background()"
   ]
  },
  {
   "cell_type": "code",
   "execution_count": null,
   "metadata": {
    "collapsed": false
   },
   "outputs": [],
   "source": [
    "sioc.bl.pvdb['TEST:CHANNEL:A'].value"
   ]
  },
  {
   "cell_type": "code",
   "execution_count": null,
   "metadata": {},
   "outputs": [],
   "source": [
    "#sioc.bl.pvdb['TEST:CHANNEL:A'].write(1.0)\n"
   ]
  },
  {
   "cell_type": "code",
   "execution_count": null,
   "metadata": {},
   "outputs": [],
   "source": []
  }
 ],
 "metadata": {
  "kernelspec": {
   "display_name": "Python 3.9.15 ('py39ml')",
   "language": "python",
   "name": "python3"
  },
  "language_info": {
   "codemirror_mode": {
    "name": "ipython",
    "version": 3
   },
   "file_extension": ".py",
   "mimetype": "text/x-python",
   "name": "python",
   "nbconvert_exporter": "python",
   "pygments_lexer": "ipython3",
   "version": "3.9.15 | packaged by conda-forge | (main, Nov 22 2022, 08:41:22) [MSC v.1929 64 bit (AMD64)]"
  },
  "orig_nbformat": 4,
  "vscode": {
   "interpreter": {
    "hash": "13374264484fde26a6608662cb4d9f2b357aebc4acc640560464425c35bd54c0"
   }
  }
 },
 "nbformat": 4,
 "nbformat_minor": 2
}
