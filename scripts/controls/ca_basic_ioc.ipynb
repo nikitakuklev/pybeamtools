{
 "cells": [
  {
   "cell_type": "code",
   "execution_count": 1,
   "metadata": {},
   "outputs": [],
   "source": [
    "import os\n",
    "os.environ['EPICS_CA_AUTO_ADDR_LIST'] = 'no'\n",
    "os.environ['EPICS_CA_ADDR_LIST'] = '127.0.0.1'"
   ]
  },
  {
   "cell_type": "code",
   "execution_count": 2,
   "metadata": {
    "pycharm": {
     "name": "#%%\n"
    }
   },
   "outputs": [],
   "source": [
    "import sys\n",
    "sys.path.append('../..')"
   ]
  },
  {
   "cell_type": "code",
   "execution_count": 3,
   "metadata": {
    "collapsed": false,
    "pycharm": {
     "name": "#%%\n"
    }
   },
   "outputs": [],
   "source": [
    "import logging\n",
    "logging.basicConfig(level=logging.DEBUG, format='%(asctime)s|%(name)s|%(message)s', datefmt='%H:%M:%S')"
   ]
  },
  {
   "cell_type": "code",
   "execution_count": 4,
   "metadata": {
    "pycharm": {
     "name": "#%%\n"
    }
   },
   "outputs": [
    {
     "name": "stderr",
     "output_type": "stream",
     "text": [
      "13:50:28|caproto|Backend 'array' registered\n",
      "13:50:28|caproto|Backend 'numpy' registered\n",
      "13:50:28|caproto|Selecting backend: 'numpy'\n",
      "13:50:29|caproto.server.records.utils|Registered record type 'ai'\n",
      "13:50:29|caproto.server.records.utils|Registered record type 'aSub'\n",
      "13:50:29|caproto.server.records.utils|Registered record type 'aai'\n",
      "13:50:29|caproto.server.records.utils|Registered record type 'aao'\n",
      "13:50:29|caproto.server.records.utils|Registered record type 'ao'\n",
      "13:50:29|caproto.server.records.utils|Registered record type 'asyn'\n",
      "13:50:29|caproto.server.records.utils|Registered record type 'bi'\n",
      "13:50:29|caproto.server.records.utils|Registered record type 'bo'\n",
      "13:50:29|caproto.server.records.utils|Registered record type 'calc'\n",
      "13:50:29|caproto.server.records.utils|Registered record type 'calcout'\n",
      "13:50:29|caproto.server.records.utils|Registered record type 'compress'\n",
      "13:50:29|caproto.server.records.utils|Registered record type 'dfanout'\n",
      "13:50:29|caproto.server.records.utils|Registered record type 'event'\n",
      "13:50:29|caproto.server.records.utils|Registered record type 'fanout'\n",
      "13:50:29|caproto.server.records.utils|Registered record type 'histogram'\n",
      "13:50:29|caproto.server.records.utils|Registered record type 'int64in'\n",
      "13:50:29|caproto.server.records.utils|Registered record type 'int64out'\n",
      "13:50:29|caproto.server.records.utils|Registered record type 'longin'\n",
      "13:50:29|caproto.server.records.utils|Registered record type 'longout'\n",
      "13:50:29|caproto.server.records.utils|Registered record type 'lsi'\n",
      "13:50:29|caproto.server.records.utils|Registered record type 'lso'\n",
      "13:50:29|caproto.server.records.utils|Registered record type 'mbbi'\n",
      "13:50:29|caproto.server.records.utils|Registered record type 'mbbiDirect'\n",
      "13:50:29|caproto.server.records.utils|Registered record type 'mbbo'\n",
      "13:50:29|caproto.server.records.utils|Registered record type 'mbboDirect'\n",
      "13:50:29|caproto.server.records.utils|Registered record type 'motor'\n",
      "13:50:29|caproto.server.records.utils|Registered record type 'permissive'\n",
      "13:50:29|caproto.server.records.utils|Registered record type 'printf'\n",
      "13:50:29|caproto.server.records.utils|Registered record type 'sel'\n",
      "13:50:29|caproto.server.records.utils|Registered record type 'seq'\n",
      "13:50:29|caproto.server.records.utils|Registered record type 'state'\n",
      "13:50:29|caproto.server.records.utils|Registered record type 'stringin'\n",
      "13:50:29|caproto.server.records.utils|Registered record type 'stringout'\n",
      "13:50:29|caproto.server.records.utils|Registered record type 'sub'\n",
      "13:50:29|caproto.server.records.utils|Registered record type 'subArray'\n",
      "13:50:29|caproto.server.records.utils|Registered record type 'waveform'\n"
     ]
    }
   ],
   "source": [
    "from textwrap import dedent\n",
    "from caproto.server import PVGroup, ioc_arg_parser, pvproperty, run\n",
    "\n",
    "\n",
    "class SimpleIOC(PVGroup):\n",
    "    B = pvproperty(\n",
    "        value=2.0,\n",
    "        doc='A float'\n",
    "    )"
   ]
  },
  {
   "cell_type": "code",
   "execution_count": 5,
   "metadata": {},
   "outputs": [],
   "source": [
    "from caproto.server import template_arg_parser\n",
    "parser, split_args = template_arg_parser(default_prefix='TEST:',desc='bla')"
   ]
  },
  {
   "cell_type": "code",
   "execution_count": 6,
   "metadata": {},
   "outputs": [],
   "source": [
    "from caproto.server import PVGroup, ioc_arg_parser, pvproperty, run"
   ]
  },
  {
   "cell_type": "code",
   "execution_count": 7,
   "metadata": {},
   "outputs": [
    {
     "data": {
      "text/plain": [
       "ArgumentParser(prog='ipykernel_launcher.py', usage=None, description='bla', formatter_class=<class 'argparse.RawDescriptionHelpFormatter'>, conflict_handler='error', add_help=True)"
      ]
     },
     "execution_count": 7,
     "metadata": {},
     "output_type": "execute_result"
    }
   ],
   "source": [
    "parser"
   ]
  },
  {
   "cell_type": "code",
   "execution_count": 8,
   "metadata": {},
   "outputs": [
    {
     "data": {
      "text/plain": [
       "<function caproto.server.server.template_arg_parser.<locals>.split_args(args) -> 'Tuple[Dict[str, Any], Dict[str, Any]]'>"
      ]
     },
     "execution_count": 8,
     "metadata": {},
     "output_type": "execute_result"
    }
   ],
   "source": [
    "split_args"
   ]
  },
  {
   "cell_type": "code",
   "execution_count": 9,
   "metadata": {},
   "outputs": [
    {
     "data": {
      "text/plain": [
       "(Namespace(prefix='TEST:', quiet=False, verbose=3, list_pvs=True, async_lib='asyncio', interfaces=['0.0.0.0']),\n",
       " [])"
      ]
     },
     "execution_count": 9,
     "metadata": {},
     "output_type": "execute_result"
    }
   ],
   "source": [
    "a,b = parser.parse_known_args(['-vvv','--list-pvs'])\n",
    "a,b"
   ]
  },
  {
   "cell_type": "code",
   "execution_count": 10,
   "metadata": {},
   "outputs": [
    {
     "data": {
      "text/plain": [
       "({'prefix': 'TEST:', 'macros': {}},\n",
       " {'module_name': 'caproto.asyncio.server',\n",
       "  'log_pv_names': True,\n",
       "  'interfaces': ['0.0.0.0']})"
      ]
     },
     "execution_count": 10,
     "metadata": {},
     "output_type": "execute_result"
    }
   ],
   "source": [
    "ioc_options, run_options = split_args(a)\n",
    "ioc_options, run_options"
   ]
  },
  {
   "cell_type": "code",
   "execution_count": 11,
   "metadata": {},
   "outputs": [],
   "source": [
    "import nest_asyncio\n",
    "nest_asyncio.apply()"
   ]
  },
  {
   "cell_type": "code",
   "execution_count": 12,
   "metadata": {},
   "outputs": [
    {
     "name": "stdout",
     "output_type": "stream",
     "text": [
      "[D 13:50:29.659       common:  721] EPICS_CA_SERVER_PORT set to 5064. This is the UDP port to be used for searches, and the first TCP server port to be tried.\n"
     ]
    },
    {
     "name": "stderr",
     "output_type": "stream",
     "text": [
      "13:50:29|caproto.ctx|EPICS_CA_SERVER_PORT set to 5064. This is the UDP port to be used for searches, and the first TCP server port to be tried.\n"
     ]
    },
    {
     "name": "stdout",
     "output_type": "stream",
     "text": [
      "[I 13:50:29.661       server:  152] Asyncio server starting up...\n"
     ]
    },
    {
     "name": "stderr",
     "output_type": "stream",
     "text": [
      "13:50:29|caproto.ctx|Asyncio server starting up...\n"
     ]
    },
    {
     "name": "stdout",
     "output_type": "stream",
     "text": [
      "[I 13:50:29.663       server:  159] Listening on 0.0.0.0:5064\n"
     ]
    },
    {
     "name": "stderr",
     "output_type": "stream",
     "text": [
      "13:50:29|caproto.ctx|Listening on 0.0.0.0:5064\n"
     ]
    },
    {
     "name": "stdout",
     "output_type": "stream",
     "text": [
      "[E 13:50:29.665       server:  168] Beacon (255.255.255.255:5065) socket setup failed: [WinError 10065] A socket operation was attempted to an unreachable host\n"
     ]
    },
    {
     "name": "stderr",
     "output_type": "stream",
     "text": [
      "13:50:29|caproto.ctx|Beacon (255.255.255.255:5065) socket setup failed: [WinError 10065] A socket operation was attempted to an unreachable host\n"
     ]
    },
    {
     "name": "stdout",
     "output_type": "stream",
     "text": [
      "[D 13:50:29.668       server:  248] UDP socket bound on 0.0.0.0:5064\n"
     ]
    },
    {
     "name": "stderr",
     "output_type": "stream",
     "text": [
      "13:50:29|caproto.ctx|UDP socket bound on 0.0.0.0:5064\n"
     ]
    },
    {
     "name": "stdout",
     "output_type": "stream",
     "text": [
      "[I 13:50:29.669       server:  196] Server startup complete.\n"
     ]
    },
    {
     "name": "stderr",
     "output_type": "stream",
     "text": [
      "13:50:29|caproto.ctx|Server startup complete.\n"
     ]
    },
    {
     "name": "stdout",
     "output_type": "stream",
     "text": [
      "[I 13:50:29.671       server:  198] PVs available:\n",
      "    TEST:B\n"
     ]
    },
    {
     "name": "stderr",
     "output_type": "stream",
     "text": [
      "13:50:29|caproto.ctx|PVs available:\n",
      "TEST:B\n"
     ]
    },
    {
     "name": "stdout",
     "output_type": "stream",
     "text": [
      "[D 13:50:29.672       common: 1021] Will send beacons to []\n"
     ]
    },
    {
     "name": "stderr",
     "output_type": "stream",
     "text": [
      "13:50:29|caproto.ctx|Will send beacons to []\n"
     ]
    },
    {
     "name": "stdout",
     "output_type": "stream",
     "text": [
      "[D 13:51:00.091 _broadcaster:  136] 0.0.0.0:5064 <<<--- 127.0.0.1:52320 16B VersionRequest(priority=0, version=13)\n"
     ]
    },
    {
     "name": "stderr",
     "output_type": "stream",
     "text": [
      "13:51:00|caproto.bcast|VersionRequest(priority=0, version=13)\n"
     ]
    },
    {
     "name": "stdout",
     "output_type": "stream",
     "text": [
      "[D 13:51:00.093 _broadcaster:  136] 0.0.0.0:5064 <<<--- 127.0.0.1:52320 24B SearchRequest(name='TEST:B', cid=34080, version=13, reply=5)\n"
     ]
    },
    {
     "name": "stderr",
     "output_type": "stream",
     "text": [
      "13:51:00|caproto.bcast|SearchRequest(name='TEST:B', cid=34080, version=13, reply=5)\n"
     ]
    },
    {
     "name": "stdout",
     "output_type": "stream",
     "text": [
      "[D 13:51:00.094 _broadcaster:   94] (1 of 2) VersionResponse(version=13)\n"
     ]
    },
    {
     "name": "stderr",
     "output_type": "stream",
     "text": [
      "13:51:00|caproto.bcast|VersionResponse(version=13)\n"
     ]
    },
    {
     "name": "stdout",
     "output_type": "stream",
     "text": [
      "[D 13:51:00.096 _broadcaster:   92] (2 of 2) SearchResponse(port=5064, ip='255.255.255.255', cid=34080, version=13)\n"
     ]
    },
    {
     "name": "stderr",
     "output_type": "stream",
     "text": [
      "13:51:00|caproto.bcast.search|SearchResponse(port=5064, ip='255.255.255.255', cid=34080, version=13)\n"
     ]
    },
    {
     "name": "stdout",
     "output_type": "stream",
     "text": [
      "[I 13:51:00.102       common: 1099] Connected to new client at 127.0.0.1:57574 (total: 1).\n"
     ]
    },
    {
     "name": "stderr",
     "output_type": "stream",
     "text": [
      "13:51:00|caproto.ctx|Connected to new client at 127.0.0.1:57574 (total: 1).\n"
     ]
    },
    {
     "name": "stdout",
     "output_type": "stream",
     "text": [
      "[D 13:51:00.105       common:  688] 127.0.0.1:5064 <<<--- 127.0.0.1:57574 16B VersionRequest(priority=0, version=13)\n"
     ]
    },
    {
     "name": "stderr",
     "output_type": "stream",
     "text": [
      "13:51:00|caproto.circ|VersionRequest(priority=0, version=13)\n"
     ]
    },
    {
     "name": "stdout",
     "output_type": "stream",
     "text": [
      "[D 13:51:00.106     _circuit:  166] 127.0.0.1:5064 --->>> 127.0.0.1:57574 16B VersionResponse(version=13)\n"
     ]
    },
    {
     "name": "stderr",
     "output_type": "stream",
     "text": [
      "13:51:00|caproto.circ|VersionResponse(version=13)\n"
     ]
    },
    {
     "name": "stdout",
     "output_type": "stream",
     "text": [
      "[D 13:51:00.108       common:  688] 127.0.0.1:5064 <<<--- 127.0.0.1:57574 24B HostNameRequest(name='SERVY')\n"
     ]
    },
    {
     "name": "stderr",
     "output_type": "stream",
     "text": [
      "13:51:00|caproto.circ|HostNameRequest(name='SERVY')\n"
     ]
    },
    {
     "name": "stdout",
     "output_type": "stream",
     "text": [
      "[D 13:51:00.110       common:  688] 127.0.0.1:5064 <<<--- 127.0.0.1:57574 24B ClientNameRequest(name='boss')\n"
     ]
    },
    {
     "name": "stderr",
     "output_type": "stream",
     "text": [
      "13:51:00|caproto.circ|ClientNameRequest(name='boss')\n"
     ]
    },
    {
     "name": "stdout",
     "output_type": "stream",
     "text": [
      "[D 13:51:00.134       common:  688] 127.0.0.1:5064 <<<--- 127.0.0.1:57574 24B CreateChanRequest(name='TEST:B', cid=0, version=13)\n"
     ]
    },
    {
     "name": "stderr",
     "output_type": "stream",
     "text": [
      "13:51:00|caproto.circ|CreateChanRequest(name='TEST:B', cid=0, version=13)\n"
     ]
    },
    {
     "name": "stdout",
     "output_type": "stream",
     "text": [
      "[D 13:51:00.136     _circuit:  166] 127.0.0.1:5064 --->>> 127.0.0.1:57574 16B AccessRightsResponse(cid=0, access_rights=<AccessRights.WRITE|READ: 3>)\n"
     ]
    },
    {
     "name": "stderr",
     "output_type": "stream",
     "text": [
      "13:51:00|caproto.circ|AccessRightsResponse(cid=0, access_rights=<AccessRights.WRITE|READ: 3>)\n"
     ]
    },
    {
     "name": "stdout",
     "output_type": "stream",
     "text": [
      "[D 13:51:00.137     _circuit:  166] 127.0.0.1:5064 --->>> 127.0.0.1:57574 16B CreateChanResponse(data_type=<ChannelType.DOUBLE: 6>, data_count=1, cid=0, sid=0)\n"
     ]
    },
    {
     "name": "stderr",
     "output_type": "stream",
     "text": [
      "13:51:00|caproto.circ|CreateChanResponse(data_type=<ChannelType.DOUBLE: 6>, data_count=1, cid=0, sid=0)\n"
     ]
    },
    {
     "name": "stdout",
     "output_type": "stream",
     "text": [
      "[D 13:51:31.537       common:  688] 127.0.0.1:5064 <<<--- 127.0.0.1:57574 16B EchoRequest()\n"
     ]
    },
    {
     "name": "stderr",
     "output_type": "stream",
     "text": [
      "13:51:31|caproto.circ|EchoRequest()\n"
     ]
    },
    {
     "name": "stdout",
     "output_type": "stream",
     "text": [
      "[D 13:51:31.538     _circuit:  166] 127.0.0.1:5064 --->>> 127.0.0.1:57574 16B EchoResponse()\n"
     ]
    },
    {
     "name": "stderr",
     "output_type": "stream",
     "text": [
      "13:51:31|caproto.circ|EchoResponse()\n"
     ]
    },
    {
     "name": "stdout",
     "output_type": "stream",
     "text": [
      "[D 13:51:34.982       common:  688] 127.0.0.1:5064 <<<--- 127.0.0.1:57574 16B ReadNotifyRequest(data_type=<ChannelType.DOUBLE: 6>, data_count=0, sid=0, ioid=0)\n"
     ]
    },
    {
     "name": "stderr",
     "output_type": "stream",
     "text": [
      "13:51:34|caproto.circ|ReadNotifyRequest(data_type=<ChannelType.DOUBLE: 6>, data_count=0, sid=0, ioid=0)\n"
     ]
    },
    {
     "name": "stdout",
     "output_type": "stream",
     "text": [
      "[D 13:51:34.985     _circuit:  166] 127.0.0.1:5064 --->>> 127.0.0.1:57574 24B ReadNotifyResponse(data=array([2.]), data_type=<ChannelType.DOUBLE: 6>, data_count=1, status=CAStatusCode(name='ECA_NORMAL', code=0, code_with_severity=1, severity=<CASeverity.SUCCESS: 1>, success=1, defunct=False, description='Normal successful completion'), ioid=0, metadata=None)\n"
     ]
    },
    {
     "name": "stderr",
     "output_type": "stream",
     "text": [
      "13:51:34|caproto.circ|ReadNotifyResponse(data=array([2.]), data_type=<ChannelType.DOUBLE: 6>, data_count=1, status=CAStatusCode(name='ECA_NORMAL', code=0, code_with_severity=1, severity=<CASeverity.SUCCESS: 1>, success=1, defunct=False, description='Normal successful completion'), ioid=0, metadata=None)\n"
     ]
    },
    {
     "name": "stdout",
     "output_type": "stream",
     "text": [
      "[D 13:52:06.078       common:  688] 127.0.0.1:5064 <<<--- 127.0.0.1:57574 16B EchoRequest()\n"
     ]
    },
    {
     "name": "stderr",
     "output_type": "stream",
     "text": [
      "13:52:06|caproto.circ|EchoRequest()\n"
     ]
    },
    {
     "name": "stdout",
     "output_type": "stream",
     "text": [
      "[D 13:52:06.080     _circuit:  166] 127.0.0.1:5064 --->>> 127.0.0.1:57574 16B EchoResponse()\n"
     ]
    },
    {
     "name": "stderr",
     "output_type": "stream",
     "text": [
      "13:52:06|caproto.circ|EchoResponse()\n"
     ]
    },
    {
     "name": "stdout",
     "output_type": "stream",
     "text": [
      "[D 13:52:37.184       common:  688] 127.0.0.1:5064 <<<--- 127.0.0.1:57574 16B EchoRequest()\n"
     ]
    },
    {
     "name": "stderr",
     "output_type": "stream",
     "text": [
      "13:52:37|caproto.circ|EchoRequest()\n"
     ]
    },
    {
     "name": "stdout",
     "output_type": "stream",
     "text": [
      "[D 13:52:37.186     _circuit:  166] 127.0.0.1:5064 --->>> 127.0.0.1:57574 16B EchoResponse()\n"
     ]
    },
    {
     "name": "stderr",
     "output_type": "stream",
     "text": [
      "13:52:37|caproto.circ|EchoResponse()\n"
     ]
    },
    {
     "name": "stdout",
     "output_type": "stream",
     "text": [
      "[D 13:53:08.213       common:  688] 127.0.0.1:5064 <<<--- 127.0.0.1:57574 16B EchoRequest()\n"
     ]
    },
    {
     "name": "stderr",
     "output_type": "stream",
     "text": [
      "13:53:08|caproto.circ|EchoRequest()\n"
     ]
    },
    {
     "name": "stdout",
     "output_type": "stream",
     "text": [
      "[D 13:53:08.214     _circuit:  166] 127.0.0.1:5064 --->>> 127.0.0.1:57574 16B EchoResponse()\n"
     ]
    },
    {
     "name": "stderr",
     "output_type": "stream",
     "text": [
      "13:53:08|caproto.circ|EchoResponse()\n"
     ]
    },
    {
     "name": "stdout",
     "output_type": "stream",
     "text": [
      "[D 13:53:39.292       common:  688] 127.0.0.1:5064 <<<--- 127.0.0.1:57574 16B EchoRequest()\n"
     ]
    },
    {
     "name": "stderr",
     "output_type": "stream",
     "text": [
      "13:53:39|caproto.circ|EchoRequest()\n"
     ]
    },
    {
     "name": "stdout",
     "output_type": "stream",
     "text": [
      "[D 13:53:39.294     _circuit:  166] 127.0.0.1:5064 --->>> 127.0.0.1:57574 16B EchoResponse()\n"
     ]
    },
    {
     "name": "stderr",
     "output_type": "stream",
     "text": [
      "13:53:39|caproto.circ|EchoResponse()\n"
     ]
    },
    {
     "name": "stdout",
     "output_type": "stream",
     "text": [
      "[D 13:54:10.388       common:  688] 127.0.0.1:5064 <<<--- 127.0.0.1:57574 16B EchoRequest()\n"
     ]
    },
    {
     "name": "stderr",
     "output_type": "stream",
     "text": [
      "13:54:10|caproto.circ|EchoRequest()\n"
     ]
    },
    {
     "name": "stdout",
     "output_type": "stream",
     "text": [
      "[D 13:54:10.390     _circuit:  166] 127.0.0.1:5064 --->>> 127.0.0.1:57574 16B EchoResponse()\n"
     ]
    },
    {
     "name": "stderr",
     "output_type": "stream",
     "text": [
      "13:54:10|caproto.circ|EchoResponse()\n"
     ]
    },
    {
     "name": "stdout",
     "output_type": "stream",
     "text": [
      "[D 13:54:41.549       common:  688] 127.0.0.1:5064 <<<--- 127.0.0.1:57574 16B EchoRequest()\n"
     ]
    },
    {
     "name": "stderr",
     "output_type": "stream",
     "text": [
      "13:54:41|caproto.circ|EchoRequest()\n"
     ]
    },
    {
     "name": "stdout",
     "output_type": "stream",
     "text": [
      "[D 13:54:41.550     _circuit:  166] 127.0.0.1:5064 --->>> 127.0.0.1:57574 16B EchoResponse()\n"
     ]
    },
    {
     "name": "stderr",
     "output_type": "stream",
     "text": [
      "13:54:41|caproto.circ|EchoResponse()\n"
     ]
    },
    {
     "name": "stdout",
     "output_type": "stream",
     "text": [
      "[D 13:55:12.672       common:  688] 127.0.0.1:5064 <<<--- 127.0.0.1:57574 16B EchoRequest()\n"
     ]
    },
    {
     "name": "stderr",
     "output_type": "stream",
     "text": [
      "13:55:12|caproto.circ|EchoRequest()\n"
     ]
    },
    {
     "name": "stdout",
     "output_type": "stream",
     "text": [
      "[D 13:55:12.673     _circuit:  166] 127.0.0.1:5064 --->>> 127.0.0.1:57574 16B EchoResponse()\n"
     ]
    },
    {
     "name": "stderr",
     "output_type": "stream",
     "text": [
      "13:55:12|caproto.circ|EchoResponse()\n"
     ]
    },
    {
     "name": "stdout",
     "output_type": "stream",
     "text": [
      "[D 13:55:43.751       common:  688] 127.0.0.1:5064 <<<--- 127.0.0.1:57574 16B EchoRequest()\n"
     ]
    },
    {
     "name": "stderr",
     "output_type": "stream",
     "text": [
      "13:55:43|caproto.circ|EchoRequest()\n"
     ]
    },
    {
     "name": "stdout",
     "output_type": "stream",
     "text": [
      "[D 13:55:43.752     _circuit:  166] 127.0.0.1:5064 --->>> 127.0.0.1:57574 16B EchoResponse()\n"
     ]
    },
    {
     "name": "stderr",
     "output_type": "stream",
     "text": [
      "13:55:43|caproto.circ|EchoResponse()\n"
     ]
    },
    {
     "name": "stdout",
     "output_type": "stream",
     "text": [
      "[D 13:56:14.862       common:  688] 127.0.0.1:5064 <<<--- 127.0.0.1:57574 16B EchoRequest()\n"
     ]
    },
    {
     "name": "stderr",
     "output_type": "stream",
     "text": [
      "13:56:14|caproto.circ|EchoRequest()\n"
     ]
    },
    {
     "name": "stdout",
     "output_type": "stream",
     "text": [
      "[D 13:56:14.863     _circuit:  166] 127.0.0.1:5064 --->>> 127.0.0.1:57574 16B EchoResponse()\n"
     ]
    },
    {
     "name": "stderr",
     "output_type": "stream",
     "text": [
      "13:56:14|caproto.circ|EchoResponse()\n"
     ]
    },
    {
     "name": "stdout",
     "output_type": "stream",
     "text": [
      "[D 13:56:46.364       common:  688] 127.0.0.1:5064 <<<--- 127.0.0.1:57574 16B EchoRequest()\n"
     ]
    },
    {
     "name": "stderr",
     "output_type": "stream",
     "text": [
      "13:56:46|caproto.circ|EchoRequest()\n"
     ]
    },
    {
     "name": "stdout",
     "output_type": "stream",
     "text": [
      "[D 13:56:46.365     _circuit:  166] 127.0.0.1:5064 --->>> 127.0.0.1:57574 16B EchoResponse()\n"
     ]
    },
    {
     "name": "stderr",
     "output_type": "stream",
     "text": [
      "13:56:46|caproto.circ|EchoResponse()\n"
     ]
    },
    {
     "name": "stdout",
     "output_type": "stream",
     "text": [
      "[D 13:57:17.508       common:  688] 127.0.0.1:5064 <<<--- 127.0.0.1:57574 16B EchoRequest()\n"
     ]
    },
    {
     "name": "stderr",
     "output_type": "stream",
     "text": [
      "13:57:17|caproto.circ|EchoRequest()\n"
     ]
    },
    {
     "name": "stdout",
     "output_type": "stream",
     "text": [
      "[D 13:57:17.510     _circuit:  166] 127.0.0.1:5064 --->>> 127.0.0.1:57574 16B EchoResponse()\n"
     ]
    },
    {
     "name": "stderr",
     "output_type": "stream",
     "text": [
      "13:57:17|caproto.circ|EchoResponse()\n"
     ]
    },
    {
     "name": "stdout",
     "output_type": "stream",
     "text": [
      "[D 13:57:48.615       common:  688] 127.0.0.1:5064 <<<--- 127.0.0.1:57574 16B EchoRequest()\n"
     ]
    },
    {
     "name": "stderr",
     "output_type": "stream",
     "text": [
      "13:57:48|caproto.circ|EchoRequest()\n"
     ]
    },
    {
     "name": "stdout",
     "output_type": "stream",
     "text": [
      "[D 13:57:48.617     _circuit:  166] 127.0.0.1:5064 --->>> 127.0.0.1:57574 16B EchoResponse()\n"
     ]
    },
    {
     "name": "stderr",
     "output_type": "stream",
     "text": [
      "13:57:48|caproto.circ|EchoResponse()\n"
     ]
    },
    {
     "name": "stdout",
     "output_type": "stream",
     "text": [
      "[D 13:58:19.692       common:  688] 127.0.0.1:5064 <<<--- 127.0.0.1:57574 16B EchoRequest()\n"
     ]
    },
    {
     "name": "stderr",
     "output_type": "stream",
     "text": [
      "13:58:19|caproto.circ|EchoRequest()\n"
     ]
    },
    {
     "name": "stdout",
     "output_type": "stream",
     "text": [
      "[D 13:58:19.694     _circuit:  166] 127.0.0.1:5064 --->>> 127.0.0.1:57574 16B EchoResponse()\n"
     ]
    },
    {
     "name": "stderr",
     "output_type": "stream",
     "text": [
      "13:58:19|caproto.circ|EchoResponse()\n"
     ]
    },
    {
     "name": "stdout",
     "output_type": "stream",
     "text": [
      "[D 13:58:50.770       common:  688] 127.0.0.1:5064 <<<--- 127.0.0.1:57574 16B EchoRequest()\n"
     ]
    },
    {
     "name": "stderr",
     "output_type": "stream",
     "text": [
      "13:58:50|caproto.circ|EchoRequest()\n"
     ]
    },
    {
     "name": "stdout",
     "output_type": "stream",
     "text": [
      "[D 13:58:50.772     _circuit:  166] 127.0.0.1:5064 --->>> 127.0.0.1:57574 16B EchoResponse()\n"
     ]
    },
    {
     "name": "stderr",
     "output_type": "stream",
     "text": [
      "13:58:50|caproto.circ|EchoResponse()\n"
     ]
    },
    {
     "name": "stdout",
     "output_type": "stream",
     "text": [
      "[D 13:59:21.846       common:  688] 127.0.0.1:5064 <<<--- 127.0.0.1:57574 16B EchoRequest()\n"
     ]
    },
    {
     "name": "stderr",
     "output_type": "stream",
     "text": [
      "13:59:21|caproto.circ|EchoRequest()\n"
     ]
    },
    {
     "name": "stdout",
     "output_type": "stream",
     "text": [
      "[D 13:59:21.848     _circuit:  166] 127.0.0.1:5064 --->>> 127.0.0.1:57574 16B EchoResponse()\n"
     ]
    },
    {
     "name": "stderr",
     "output_type": "stream",
     "text": [
      "13:59:21|caproto.circ|EchoResponse()\n"
     ]
    },
    {
     "name": "stdout",
     "output_type": "stream",
     "text": [
      "[D 13:59:53.005       common:  688] 127.0.0.1:5064 <<<--- 127.0.0.1:57574 16B EchoRequest()\n"
     ]
    },
    {
     "name": "stderr",
     "output_type": "stream",
     "text": [
      "13:59:53|caproto.circ|EchoRequest()\n"
     ]
    },
    {
     "name": "stdout",
     "output_type": "stream",
     "text": [
      "[D 13:59:53.007     _circuit:  166] 127.0.0.1:5064 --->>> 127.0.0.1:57574 16B EchoResponse()\n"
     ]
    },
    {
     "name": "stderr",
     "output_type": "stream",
     "text": [
      "13:59:53|caproto.circ|EchoResponse()\n"
     ]
    },
    {
     "name": "stdout",
     "output_type": "stream",
     "text": [
      "[D 14:00:24.518       common:  688] 127.0.0.1:5064 <<<--- 127.0.0.1:57574 16B EchoRequest()\n"
     ]
    },
    {
     "name": "stderr",
     "output_type": "stream",
     "text": [
      "14:00:24|caproto.circ|EchoRequest()\n"
     ]
    },
    {
     "name": "stdout",
     "output_type": "stream",
     "text": [
      "[D 14:00:24.519     _circuit:  166] 127.0.0.1:5064 --->>> 127.0.0.1:57574 16B EchoResponse()\n"
     ]
    },
    {
     "name": "stderr",
     "output_type": "stream",
     "text": [
      "14:00:24|caproto.circ|EchoResponse()\n"
     ]
    },
    {
     "name": "stdout",
     "output_type": "stream",
     "text": [
      "[D 14:00:56.026       common:  688] 127.0.0.1:5064 <<<--- 127.0.0.1:57574 16B EchoRequest()\n"
     ]
    },
    {
     "name": "stderr",
     "output_type": "stream",
     "text": [
      "14:00:56|caproto.circ|EchoRequest()\n"
     ]
    },
    {
     "name": "stdout",
     "output_type": "stream",
     "text": [
      "[D 14:00:56.028     _circuit:  166] 127.0.0.1:5064 --->>> 127.0.0.1:57574 16B EchoResponse()\n"
     ]
    },
    {
     "name": "stderr",
     "output_type": "stream",
     "text": [
      "14:00:56|caproto.circ|EchoResponse()\n"
     ]
    },
    {
     "name": "stdout",
     "output_type": "stream",
     "text": [
      "[D 14:01:27.230       common:  688] 127.0.0.1:5064 <<<--- 127.0.0.1:57574 16B EchoRequest()\n"
     ]
    },
    {
     "name": "stderr",
     "output_type": "stream",
     "text": [
      "14:01:27|caproto.circ|EchoRequest()\n"
     ]
    },
    {
     "name": "stdout",
     "output_type": "stream",
     "text": [
      "[D 14:01:27.232     _circuit:  166] 127.0.0.1:5064 --->>> 127.0.0.1:57574 16B EchoResponse()\n"
     ]
    },
    {
     "name": "stderr",
     "output_type": "stream",
     "text": [
      "14:01:27|caproto.circ|EchoResponse()\n"
     ]
    },
    {
     "name": "stdout",
     "output_type": "stream",
     "text": [
      "[D 14:01:58.380       common:  688] 127.0.0.1:5064 <<<--- 127.0.0.1:57574 16B EchoRequest()\n"
     ]
    },
    {
     "name": "stderr",
     "output_type": "stream",
     "text": [
      "14:01:58|caproto.circ|EchoRequest()\n"
     ]
    },
    {
     "name": "stdout",
     "output_type": "stream",
     "text": [
      "[D 14:01:58.383     _circuit:  166] 127.0.0.1:5064 --->>> 127.0.0.1:57574 16B EchoResponse()\n"
     ]
    },
    {
     "name": "stderr",
     "output_type": "stream",
     "text": [
      "14:01:58|caproto.circ|EchoResponse()\n"
     ]
    },
    {
     "name": "stdout",
     "output_type": "stream",
     "text": [
      "[D 14:02:29.460       common:  688] 127.0.0.1:5064 <<<--- 127.0.0.1:57574 16B EchoRequest()\n"
     ]
    },
    {
     "name": "stderr",
     "output_type": "stream",
     "text": [
      "14:02:29|caproto.circ|EchoRequest()\n"
     ]
    },
    {
     "name": "stdout",
     "output_type": "stream",
     "text": [
      "[D 14:02:29.462     _circuit:  166] 127.0.0.1:5064 --->>> 127.0.0.1:57574 16B EchoResponse()\n"
     ]
    },
    {
     "name": "stderr",
     "output_type": "stream",
     "text": [
      "14:02:29|caproto.circ|EchoResponse()\n"
     ]
    },
    {
     "name": "stdout",
     "output_type": "stream",
     "text": [
      "[D 14:03:00.571       common:  688] 127.0.0.1:5064 <<<--- 127.0.0.1:57574 16B EchoRequest()\n"
     ]
    },
    {
     "name": "stderr",
     "output_type": "stream",
     "text": [
      "14:03:00|caproto.circ|EchoRequest()\n"
     ]
    },
    {
     "name": "stdout",
     "output_type": "stream",
     "text": [
      "[D 14:03:00.573     _circuit:  166] 127.0.0.1:5064 --->>> 127.0.0.1:57574 16B EchoResponse()\n"
     ]
    },
    {
     "name": "stderr",
     "output_type": "stream",
     "text": [
      "14:03:00|caproto.circ|EchoResponse()\n"
     ]
    },
    {
     "name": "stdout",
     "output_type": "stream",
     "text": [
      "[D 14:03:31.623       common:  688] 127.0.0.1:5064 <<<--- 127.0.0.1:57574 16B EchoRequest()\n"
     ]
    },
    {
     "name": "stderr",
     "output_type": "stream",
     "text": [
      "14:03:31|caproto.circ|EchoRequest()\n"
     ]
    },
    {
     "name": "stdout",
     "output_type": "stream",
     "text": [
      "[D 14:03:31.625     _circuit:  166] 127.0.0.1:5064 --->>> 127.0.0.1:57574 16B EchoResponse()\n"
     ]
    },
    {
     "name": "stderr",
     "output_type": "stream",
     "text": [
      "14:03:31|caproto.circ|EchoResponse()\n"
     ]
    },
    {
     "name": "stdout",
     "output_type": "stream",
     "text": [
      "[D 14:04:03.035       common:  688] 127.0.0.1:5064 <<<--- 127.0.0.1:57574 16B EchoRequest()\n"
     ]
    },
    {
     "name": "stderr",
     "output_type": "stream",
     "text": [
      "14:04:03|caproto.circ|EchoRequest()\n"
     ]
    },
    {
     "name": "stdout",
     "output_type": "stream",
     "text": [
      "[D 14:04:03.036     _circuit:  166] 127.0.0.1:5064 --->>> 127.0.0.1:57574 16B EchoResponse()\n"
     ]
    },
    {
     "name": "stderr",
     "output_type": "stream",
     "text": [
      "14:04:03|caproto.circ|EchoResponse()\n"
     ]
    },
    {
     "name": "stdout",
     "output_type": "stream",
     "text": [
      "[D 14:04:34.110       common:  688] 127.0.0.1:5064 <<<--- 127.0.0.1:57574 16B EchoRequest()\n"
     ]
    },
    {
     "name": "stderr",
     "output_type": "stream",
     "text": [
      "14:04:34|caproto.circ|EchoRequest()\n"
     ]
    },
    {
     "name": "stdout",
     "output_type": "stream",
     "text": [
      "[D 14:04:34.112     _circuit:  166] 127.0.0.1:5064 --->>> 127.0.0.1:57574 16B EchoResponse()\n"
     ]
    },
    {
     "name": "stderr",
     "output_type": "stream",
     "text": [
      "14:04:34|caproto.circ|EchoResponse()\n"
     ]
    },
    {
     "name": "stdout",
     "output_type": "stream",
     "text": [
      "[D 14:05:05.232       common:  688] 127.0.0.1:5064 <<<--- 127.0.0.1:57574 16B EchoRequest()\n"
     ]
    },
    {
     "name": "stderr",
     "output_type": "stream",
     "text": [
      "14:05:05|caproto.circ|EchoRequest()\n"
     ]
    },
    {
     "name": "stdout",
     "output_type": "stream",
     "text": [
      "[D 14:05:05.233     _circuit:  166] 127.0.0.1:5064 --->>> 127.0.0.1:57574 16B EchoResponse()\n"
     ]
    },
    {
     "name": "stderr",
     "output_type": "stream",
     "text": [
      "14:05:05|caproto.circ|EchoResponse()\n"
     ]
    },
    {
     "name": "stdout",
     "output_type": "stream",
     "text": [
      "[D 14:05:36.343       common:  688] 127.0.0.1:5064 <<<--- 127.0.0.1:57574 16B EchoRequest()\n"
     ]
    },
    {
     "name": "stderr",
     "output_type": "stream",
     "text": [
      "14:05:36|caproto.circ|EchoRequest()\n"
     ]
    },
    {
     "name": "stdout",
     "output_type": "stream",
     "text": [
      "[D 14:05:36.344     _circuit:  166] 127.0.0.1:5064 --->>> 127.0.0.1:57574 16B EchoResponse()\n"
     ]
    },
    {
     "name": "stderr",
     "output_type": "stream",
     "text": [
      "14:05:36|caproto.circ|EchoResponse()\n"
     ]
    },
    {
     "name": "stdout",
     "output_type": "stream",
     "text": [
      "[D 14:06:07.428       common:  688] 127.0.0.1:5064 <<<--- 127.0.0.1:57574 16B EchoRequest()\n"
     ]
    },
    {
     "name": "stderr",
     "output_type": "stream",
     "text": [
      "14:06:07|caproto.circ|EchoRequest()\n"
     ]
    },
    {
     "name": "stdout",
     "output_type": "stream",
     "text": [
      "[D 14:06:07.430     _circuit:  166] 127.0.0.1:5064 --->>> 127.0.0.1:57574 16B EchoResponse()\n"
     ]
    },
    {
     "name": "stderr",
     "output_type": "stream",
     "text": [
      "14:06:07|caproto.circ|EchoResponse()\n"
     ]
    },
    {
     "name": "stdout",
     "output_type": "stream",
     "text": [
      "[D 14:06:38.496       common:  688] 127.0.0.1:5064 <<<--- 127.0.0.1:57574 16B EchoRequest()\n"
     ]
    },
    {
     "name": "stderr",
     "output_type": "stream",
     "text": [
      "14:06:38|caproto.circ|EchoRequest()\n"
     ]
    },
    {
     "name": "stdout",
     "output_type": "stream",
     "text": [
      "[D 14:06:38.498     _circuit:  166] 127.0.0.1:5064 --->>> 127.0.0.1:57574 16B EchoResponse()\n"
     ]
    },
    {
     "name": "stderr",
     "output_type": "stream",
     "text": [
      "14:06:38|caproto.circ|EchoResponse()\n"
     ]
    },
    {
     "name": "stdout",
     "output_type": "stream",
     "text": [
      "[D 14:07:09.545       common:  688] 127.0.0.1:5064 <<<--- 127.0.0.1:57574 16B EchoRequest()\n"
     ]
    },
    {
     "name": "stderr",
     "output_type": "stream",
     "text": [
      "14:07:09|caproto.circ|EchoRequest()\n"
     ]
    },
    {
     "name": "stdout",
     "output_type": "stream",
     "text": [
      "[D 14:07:09.547     _circuit:  166] 127.0.0.1:5064 --->>> 127.0.0.1:57574 16B EchoResponse()\n"
     ]
    },
    {
     "name": "stderr",
     "output_type": "stream",
     "text": [
      "14:07:09|caproto.circ|EchoResponse()\n"
     ]
    },
    {
     "name": "stdout",
     "output_type": "stream",
     "text": [
      "[D 14:07:40.696       common:  688] 127.0.0.1:5064 <<<--- 127.0.0.1:57574 16B EchoRequest()\n"
     ]
    },
    {
     "name": "stderr",
     "output_type": "stream",
     "text": [
      "14:07:40|caproto.circ|EchoRequest()\n"
     ]
    },
    {
     "name": "stdout",
     "output_type": "stream",
     "text": [
      "[D 14:07:40.697     _circuit:  166] 127.0.0.1:5064 --->>> 127.0.0.1:57574 16B EchoResponse()\n"
     ]
    },
    {
     "name": "stderr",
     "output_type": "stream",
     "text": [
      "14:07:40|caproto.circ|EchoResponse()\n"
     ]
    },
    {
     "name": "stdout",
     "output_type": "stream",
     "text": [
      "[D 14:08:11.895       common:  688] 127.0.0.1:5064 <<<--- 127.0.0.1:57574 16B EchoRequest()\n"
     ]
    },
    {
     "name": "stderr",
     "output_type": "stream",
     "text": [
      "14:08:11|caproto.circ|EchoRequest()\n"
     ]
    },
    {
     "name": "stdout",
     "output_type": "stream",
     "text": [
      "[D 14:08:11.896     _circuit:  166] 127.0.0.1:5064 --->>> 127.0.0.1:57574 16B EchoResponse()\n"
     ]
    },
    {
     "name": "stderr",
     "output_type": "stream",
     "text": [
      "14:08:11|caproto.circ|EchoResponse()\n"
     ]
    },
    {
     "name": "stdout",
     "output_type": "stream",
     "text": [
      "[D 14:08:43.045       common:  688] 127.0.0.1:5064 <<<--- 127.0.0.1:57574 16B EchoRequest()\n"
     ]
    },
    {
     "name": "stderr",
     "output_type": "stream",
     "text": [
      "14:08:43|caproto.circ|EchoRequest()\n"
     ]
    },
    {
     "name": "stdout",
     "output_type": "stream",
     "text": [
      "[D 14:08:43.046     _circuit:  166] 127.0.0.1:5064 --->>> 127.0.0.1:57574 16B EchoResponse()\n"
     ]
    },
    {
     "name": "stderr",
     "output_type": "stream",
     "text": [
      "14:08:43|caproto.circ|EchoResponse()\n"
     ]
    },
    {
     "name": "stdout",
     "output_type": "stream",
     "text": [
      "[D 14:09:14.172       common:  688] 127.0.0.1:5064 <<<--- 127.0.0.1:57574 16B EchoRequest()\n"
     ]
    },
    {
     "name": "stderr",
     "output_type": "stream",
     "text": [
      "14:09:14|caproto.circ|EchoRequest()\n"
     ]
    },
    {
     "name": "stdout",
     "output_type": "stream",
     "text": [
      "[D 14:09:14.174     _circuit:  166] 127.0.0.1:5064 --->>> 127.0.0.1:57574 16B EchoResponse()\n"
     ]
    },
    {
     "name": "stderr",
     "output_type": "stream",
     "text": [
      "14:09:14|caproto.circ|EchoResponse()\n"
     ]
    },
    {
     "name": "stdout",
     "output_type": "stream",
     "text": [
      "[D 14:09:45.350       common:  688] 127.0.0.1:5064 <<<--- 127.0.0.1:57574 16B EchoRequest()\n"
     ]
    },
    {
     "name": "stderr",
     "output_type": "stream",
     "text": [
      "14:09:45|caproto.circ|EchoRequest()\n"
     ]
    },
    {
     "name": "stdout",
     "output_type": "stream",
     "text": [
      "[D 14:09:45.352     _circuit:  166] 127.0.0.1:5064 --->>> 127.0.0.1:57574 16B EchoResponse()\n"
     ]
    },
    {
     "name": "stderr",
     "output_type": "stream",
     "text": [
      "14:09:45|caproto.circ|EchoResponse()\n"
     ]
    },
    {
     "name": "stdout",
     "output_type": "stream",
     "text": [
      "[D 14:10:16.594       common:  688] 127.0.0.1:5064 <<<--- 127.0.0.1:57574 16B EchoRequest()\n"
     ]
    },
    {
     "name": "stderr",
     "output_type": "stream",
     "text": [
      "14:10:16|caproto.circ|EchoRequest()\n"
     ]
    },
    {
     "name": "stdout",
     "output_type": "stream",
     "text": [
      "[D 14:10:16.596     _circuit:  166] 127.0.0.1:5064 --->>> 127.0.0.1:57574 16B EchoResponse()\n"
     ]
    },
    {
     "name": "stderr",
     "output_type": "stream",
     "text": [
      "14:10:16|caproto.circ|EchoResponse()\n"
     ]
    },
    {
     "name": "stdout",
     "output_type": "stream",
     "text": [
      "[D 14:10:47.760       common:  688] 127.0.0.1:5064 <<<--- 127.0.0.1:57574 16B EchoRequest()\n"
     ]
    },
    {
     "name": "stderr",
     "output_type": "stream",
     "text": [
      "14:10:47|caproto.circ|EchoRequest()\n"
     ]
    },
    {
     "name": "stdout",
     "output_type": "stream",
     "text": [
      "[D 14:10:47.761     _circuit:  166] 127.0.0.1:5064 --->>> 127.0.0.1:57574 16B EchoResponse()\n"
     ]
    },
    {
     "name": "stderr",
     "output_type": "stream",
     "text": [
      "14:10:47|caproto.circ|EchoResponse()\n"
     ]
    },
    {
     "name": "stdout",
     "output_type": "stream",
     "text": [
      "[D 14:11:18.905       common:  688] 127.0.0.1:5064 <<<--- 127.0.0.1:57574 16B EchoRequest()\n"
     ]
    },
    {
     "name": "stderr",
     "output_type": "stream",
     "text": [
      "14:11:18|caproto.circ|EchoRequest()\n"
     ]
    },
    {
     "name": "stdout",
     "output_type": "stream",
     "text": [
      "[D 14:11:18.907     _circuit:  166] 127.0.0.1:5064 --->>> 127.0.0.1:57574 16B EchoResponse()\n"
     ]
    },
    {
     "name": "stderr",
     "output_type": "stream",
     "text": [
      "14:11:18|caproto.circ|EchoResponse()\n"
     ]
    },
    {
     "name": "stdout",
     "output_type": "stream",
     "text": [
      "[D 14:11:50.075       common:  688] 127.0.0.1:5064 <<<--- 127.0.0.1:57574 16B EchoRequest()\n"
     ]
    },
    {
     "name": "stderr",
     "output_type": "stream",
     "text": [
      "14:11:50|caproto.circ|EchoRequest()\n"
     ]
    },
    {
     "name": "stdout",
     "output_type": "stream",
     "text": [
      "[D 14:11:50.077     _circuit:  166] 127.0.0.1:5064 --->>> 127.0.0.1:57574 16B EchoResponse()\n"
     ]
    },
    {
     "name": "stderr",
     "output_type": "stream",
     "text": [
      "14:11:50|caproto.circ|EchoResponse()\n"
     ]
    },
    {
     "name": "stdout",
     "output_type": "stream",
     "text": [
      "[D 14:12:21.221       common:  688] 127.0.0.1:5064 <<<--- 127.0.0.1:57574 16B EchoRequest()\n"
     ]
    },
    {
     "name": "stderr",
     "output_type": "stream",
     "text": [
      "14:12:21|caproto.circ|EchoRequest()\n"
     ]
    },
    {
     "name": "stdout",
     "output_type": "stream",
     "text": [
      "[D 14:12:21.223     _circuit:  166] 127.0.0.1:5064 --->>> 127.0.0.1:57574 16B EchoResponse()\n"
     ]
    },
    {
     "name": "stderr",
     "output_type": "stream",
     "text": [
      "14:12:21|caproto.circ|EchoResponse()\n"
     ]
    },
    {
     "name": "stdout",
     "output_type": "stream",
     "text": [
      "[D 14:12:52.359       common:  688] 127.0.0.1:5064 <<<--- 127.0.0.1:57574 16B EchoRequest()\n"
     ]
    },
    {
     "name": "stderr",
     "output_type": "stream",
     "text": [
      "14:12:52|caproto.circ|EchoRequest()\n"
     ]
    },
    {
     "name": "stdout",
     "output_type": "stream",
     "text": [
      "[D 14:12:52.361     _circuit:  166] 127.0.0.1:5064 --->>> 127.0.0.1:57574 16B EchoResponse()\n"
     ]
    },
    {
     "name": "stderr",
     "output_type": "stream",
     "text": [
      "14:12:52|caproto.circ|EchoResponse()\n"
     ]
    },
    {
     "name": "stdout",
     "output_type": "stream",
     "text": [
      "[D 14:13:23.501       common:  688] 127.0.0.1:5064 <<<--- 127.0.0.1:57574 16B EchoRequest()\n"
     ]
    },
    {
     "name": "stderr",
     "output_type": "stream",
     "text": [
      "14:13:23|caproto.circ|EchoRequest()\n"
     ]
    },
    {
     "name": "stdout",
     "output_type": "stream",
     "text": [
      "[D 14:13:23.503     _circuit:  166] 127.0.0.1:5064 --->>> 127.0.0.1:57574 16B EchoResponse()\n"
     ]
    },
    {
     "name": "stderr",
     "output_type": "stream",
     "text": [
      "14:13:23|caproto.circ|EchoResponse()\n"
     ]
    },
    {
     "name": "stdout",
     "output_type": "stream",
     "text": [
      "[D 14:13:54.682       common:  688] 127.0.0.1:5064 <<<--- 127.0.0.1:57574 16B EchoRequest()\n"
     ]
    },
    {
     "name": "stderr",
     "output_type": "stream",
     "text": [
      "14:13:54|caproto.circ|EchoRequest()\n"
     ]
    },
    {
     "name": "stdout",
     "output_type": "stream",
     "text": [
      "[D 14:13:54.684     _circuit:  166] 127.0.0.1:5064 --->>> 127.0.0.1:57574 16B EchoResponse()\n"
     ]
    },
    {
     "name": "stderr",
     "output_type": "stream",
     "text": [
      "14:13:54|caproto.circ|EchoResponse()\n"
     ]
    },
    {
     "name": "stdout",
     "output_type": "stream",
     "text": [
      "[D 14:14:25.819       common:  688] 127.0.0.1:5064 <<<--- 127.0.0.1:57574 16B EchoRequest()\n"
     ]
    },
    {
     "name": "stderr",
     "output_type": "stream",
     "text": [
      "14:14:25|caproto.circ|EchoRequest()\n"
     ]
    },
    {
     "name": "stdout",
     "output_type": "stream",
     "text": [
      "[D 14:14:25.821     _circuit:  166] 127.0.0.1:5064 --->>> 127.0.0.1:57574 16B EchoResponse()\n"
     ]
    },
    {
     "name": "stderr",
     "output_type": "stream",
     "text": [
      "14:14:25|caproto.circ|EchoResponse()\n"
     ]
    },
    {
     "name": "stdout",
     "output_type": "stream",
     "text": [
      "[D 14:14:56.924       common:  688] 127.0.0.1:5064 <<<--- 127.0.0.1:57574 16B EchoRequest()\n"
     ]
    },
    {
     "name": "stderr",
     "output_type": "stream",
     "text": [
      "14:14:56|caproto.circ|EchoRequest()\n"
     ]
    },
    {
     "name": "stdout",
     "output_type": "stream",
     "text": [
      "[D 14:14:56.925     _circuit:  166] 127.0.0.1:5064 --->>> 127.0.0.1:57574 16B EchoResponse()\n"
     ]
    },
    {
     "name": "stderr",
     "output_type": "stream",
     "text": [
      "14:14:56|caproto.circ|EchoResponse()\n"
     ]
    },
    {
     "name": "stdout",
     "output_type": "stream",
     "text": [
      "[D 14:15:28.031       common:  688] 127.0.0.1:5064 <<<--- 127.0.0.1:57574 16B EchoRequest()\n"
     ]
    },
    {
     "name": "stderr",
     "output_type": "stream",
     "text": [
      "14:15:28|caproto.circ|EchoRequest()\n"
     ]
    },
    {
     "name": "stdout",
     "output_type": "stream",
     "text": [
      "[D 14:15:28.032     _circuit:  166] 127.0.0.1:5064 --->>> 127.0.0.1:57574 16B EchoResponse()\n"
     ]
    },
    {
     "name": "stderr",
     "output_type": "stream",
     "text": [
      "14:15:28|caproto.circ|EchoResponse()\n"
     ]
    },
    {
     "name": "stdout",
     "output_type": "stream",
     "text": [
      "[D 14:15:59.251       common:  688] 127.0.0.1:5064 <<<--- 127.0.0.1:57574 16B EchoRequest()\n"
     ]
    },
    {
     "name": "stderr",
     "output_type": "stream",
     "text": [
      "14:15:59|caproto.circ|EchoRequest()\n"
     ]
    },
    {
     "name": "stdout",
     "output_type": "stream",
     "text": [
      "[D 14:15:59.253     _circuit:  166] 127.0.0.1:5064 --->>> 127.0.0.1:57574 16B EchoResponse()\n"
     ]
    },
    {
     "name": "stderr",
     "output_type": "stream",
     "text": [
      "14:15:59|caproto.circ|EchoResponse()\n"
     ]
    },
    {
     "name": "stdout",
     "output_type": "stream",
     "text": [
      "[D 14:16:30.344       common:  688] 127.0.0.1:5064 <<<--- 127.0.0.1:57574 16B EchoRequest()\n"
     ]
    },
    {
     "name": "stderr",
     "output_type": "stream",
     "text": [
      "14:16:30|caproto.circ|EchoRequest()\n"
     ]
    },
    {
     "name": "stdout",
     "output_type": "stream",
     "text": [
      "[D 14:16:30.346     _circuit:  166] 127.0.0.1:5064 --->>> 127.0.0.1:57574 16B EchoResponse()\n"
     ]
    },
    {
     "name": "stderr",
     "output_type": "stream",
     "text": [
      "14:16:30|caproto.circ|EchoResponse()\n"
     ]
    },
    {
     "name": "stdout",
     "output_type": "stream",
     "text": [
      "[D 14:17:01.456       common:  688] 127.0.0.1:5064 <<<--- 127.0.0.1:57574 16B EchoRequest()\n"
     ]
    },
    {
     "name": "stderr",
     "output_type": "stream",
     "text": [
      "14:17:01|caproto.circ|EchoRequest()\n"
     ]
    },
    {
     "name": "stdout",
     "output_type": "stream",
     "text": [
      "[D 14:17:01.458     _circuit:  166] 127.0.0.1:5064 --->>> 127.0.0.1:57574 16B EchoResponse()\n"
     ]
    },
    {
     "name": "stderr",
     "output_type": "stream",
     "text": [
      "14:17:01|caproto.circ|EchoResponse()\n"
     ]
    },
    {
     "name": "stdout",
     "output_type": "stream",
     "text": [
      "[D 14:17:32.564       common:  688] 127.0.0.1:5064 <<<--- 127.0.0.1:57574 16B EchoRequest()\n"
     ]
    },
    {
     "name": "stderr",
     "output_type": "stream",
     "text": [
      "14:17:32|caproto.circ|EchoRequest()\n"
     ]
    },
    {
     "name": "stdout",
     "output_type": "stream",
     "text": [
      "[D 14:17:32.566     _circuit:  166] 127.0.0.1:5064 --->>> 127.0.0.1:57574 16B EchoResponse()\n"
     ]
    },
    {
     "name": "stderr",
     "output_type": "stream",
     "text": [
      "14:17:32|caproto.circ|EchoResponse()\n"
     ]
    },
    {
     "name": "stdout",
     "output_type": "stream",
     "text": [
      "[D 14:18:03.681       common:  688] 127.0.0.1:5064 <<<--- 127.0.0.1:57574 16B EchoRequest()\n"
     ]
    },
    {
     "name": "stderr",
     "output_type": "stream",
     "text": [
      "14:18:03|caproto.circ|EchoRequest()\n"
     ]
    },
    {
     "name": "stdout",
     "output_type": "stream",
     "text": [
      "[D 14:18:03.682     _circuit:  166] 127.0.0.1:5064 --->>> 127.0.0.1:57574 16B EchoResponse()\n"
     ]
    },
    {
     "name": "stderr",
     "output_type": "stream",
     "text": [
      "14:18:03|caproto.circ|EchoResponse()\n"
     ]
    },
    {
     "name": "stdout",
     "output_type": "stream",
     "text": [
      "[D 14:18:34.853       common:  688] 127.0.0.1:5064 <<<--- 127.0.0.1:57574 16B EchoRequest()\n"
     ]
    },
    {
     "name": "stderr",
     "output_type": "stream",
     "text": [
      "14:18:34|caproto.circ|EchoRequest()\n"
     ]
    },
    {
     "name": "stdout",
     "output_type": "stream",
     "text": [
      "[D 14:18:34.855     _circuit:  166] 127.0.0.1:5064 --->>> 127.0.0.1:57574 16B EchoResponse()\n"
     ]
    },
    {
     "name": "stderr",
     "output_type": "stream",
     "text": [
      "14:18:34|caproto.circ|EchoResponse()\n"
     ]
    },
    {
     "name": "stdout",
     "output_type": "stream",
     "text": [
      "[D 14:19:05.953       common:  688] 127.0.0.1:5064 <<<--- 127.0.0.1:57574 16B EchoRequest()\n"
     ]
    },
    {
     "name": "stderr",
     "output_type": "stream",
     "text": [
      "14:19:05|caproto.circ|EchoRequest()\n"
     ]
    },
    {
     "name": "stdout",
     "output_type": "stream",
     "text": [
      "[D 14:19:05.955     _circuit:  166] 127.0.0.1:5064 --->>> 127.0.0.1:57574 16B EchoResponse()\n"
     ]
    },
    {
     "name": "stderr",
     "output_type": "stream",
     "text": [
      "14:19:05|caproto.circ|EchoResponse()\n"
     ]
    },
    {
     "name": "stdout",
     "output_type": "stream",
     "text": [
      "[D 14:19:37.106       common:  688] 127.0.0.1:5064 <<<--- 127.0.0.1:57574 16B EchoRequest()\n"
     ]
    },
    {
     "name": "stderr",
     "output_type": "stream",
     "text": [
      "14:19:37|caproto.circ|EchoRequest()\n"
     ]
    },
    {
     "name": "stdout",
     "output_type": "stream",
     "text": [
      "[D 14:19:37.108     _circuit:  166] 127.0.0.1:5064 --->>> 127.0.0.1:57574 16B EchoResponse()\n"
     ]
    },
    {
     "name": "stderr",
     "output_type": "stream",
     "text": [
      "14:19:37|caproto.circ|EchoResponse()\n"
     ]
    },
    {
     "name": "stdout",
     "output_type": "stream",
     "text": [
      "[D 14:20:08.221       common:  688] 127.0.0.1:5064 <<<--- 127.0.0.1:57574 16B EchoRequest()\n"
     ]
    },
    {
     "name": "stderr",
     "output_type": "stream",
     "text": [
      "14:20:08|caproto.circ|EchoRequest()\n"
     ]
    },
    {
     "name": "stdout",
     "output_type": "stream",
     "text": [
      "[D 14:20:08.223     _circuit:  166] 127.0.0.1:5064 --->>> 127.0.0.1:57574 16B EchoResponse()\n"
     ]
    },
    {
     "name": "stderr",
     "output_type": "stream",
     "text": [
      "14:20:08|caproto.circ|EchoResponse()\n"
     ]
    },
    {
     "name": "stdout",
     "output_type": "stream",
     "text": [
      "[D 14:20:39.408       common:  688] 127.0.0.1:5064 <<<--- 127.0.0.1:57574 16B EchoRequest()\n"
     ]
    },
    {
     "name": "stderr",
     "output_type": "stream",
     "text": [
      "14:20:39|caproto.circ|EchoRequest()\n"
     ]
    },
    {
     "name": "stdout",
     "output_type": "stream",
     "text": [
      "[D 14:20:39.409     _circuit:  166] 127.0.0.1:5064 --->>> 127.0.0.1:57574 16B EchoResponse()\n"
     ]
    },
    {
     "name": "stderr",
     "output_type": "stream",
     "text": [
      "14:20:39|caproto.circ|EchoResponse()\n"
     ]
    },
    {
     "name": "stdout",
     "output_type": "stream",
     "text": [
      "[D 14:21:10.488       common:  688] 127.0.0.1:5064 <<<--- 127.0.0.1:57574 16B EchoRequest()\n"
     ]
    },
    {
     "name": "stderr",
     "output_type": "stream",
     "text": [
      "14:21:10|caproto.circ|EchoRequest()\n"
     ]
    },
    {
     "name": "stdout",
     "output_type": "stream",
     "text": [
      "[D 14:21:10.490     _circuit:  166] 127.0.0.1:5064 --->>> 127.0.0.1:57574 16B EchoResponse()\n"
     ]
    },
    {
     "name": "stderr",
     "output_type": "stream",
     "text": [
      "14:21:10|caproto.circ|EchoResponse()\n"
     ]
    },
    {
     "name": "stdout",
     "output_type": "stream",
     "text": [
      "[D 14:21:41.652       common:  688] 127.0.0.1:5064 <<<--- 127.0.0.1:57574 16B EchoRequest()\n"
     ]
    },
    {
     "name": "stderr",
     "output_type": "stream",
     "text": [
      "14:21:41|caproto.circ|EchoRequest()\n"
     ]
    },
    {
     "name": "stdout",
     "output_type": "stream",
     "text": [
      "[D 14:21:41.654     _circuit:  166] 127.0.0.1:5064 --->>> 127.0.0.1:57574 16B EchoResponse()\n"
     ]
    },
    {
     "name": "stderr",
     "output_type": "stream",
     "text": [
      "14:21:41|caproto.circ|EchoResponse()\n"
     ]
    },
    {
     "name": "stdout",
     "output_type": "stream",
     "text": [
      "[D 14:22:12.787       common:  688] 127.0.0.1:5064 <<<--- 127.0.0.1:57574 16B EchoRequest()\n"
     ]
    },
    {
     "name": "stderr",
     "output_type": "stream",
     "text": [
      "14:22:12|caproto.circ|EchoRequest()\n"
     ]
    },
    {
     "name": "stdout",
     "output_type": "stream",
     "text": [
      "[D 14:22:12.789     _circuit:  166] 127.0.0.1:5064 --->>> 127.0.0.1:57574 16B EchoResponse()\n"
     ]
    },
    {
     "name": "stderr",
     "output_type": "stream",
     "text": [
      "14:22:12|caproto.circ|EchoResponse()\n"
     ]
    },
    {
     "name": "stdout",
     "output_type": "stream",
     "text": [
      "[D 14:22:44.022       common:  688] 127.0.0.1:5064 <<<--- 127.0.0.1:57574 16B EchoRequest()\n"
     ]
    },
    {
     "name": "stderr",
     "output_type": "stream",
     "text": [
      "14:22:44|caproto.circ|EchoRequest()\n"
     ]
    },
    {
     "name": "stdout",
     "output_type": "stream",
     "text": [
      "[D 14:22:44.023     _circuit:  166] 127.0.0.1:5064 --->>> 127.0.0.1:57574 16B EchoResponse()\n"
     ]
    },
    {
     "name": "stderr",
     "output_type": "stream",
     "text": [
      "14:22:44|caproto.circ|EchoResponse()\n"
     ]
    },
    {
     "name": "stdout",
     "output_type": "stream",
     "text": [
      "[D 14:23:15.123       common:  688] 127.0.0.1:5064 <<<--- 127.0.0.1:57574 16B EchoRequest()\n"
     ]
    },
    {
     "name": "stderr",
     "output_type": "stream",
     "text": [
      "14:23:15|caproto.circ|EchoRequest()\n"
     ]
    },
    {
     "name": "stdout",
     "output_type": "stream",
     "text": [
      "[D 14:23:15.125     _circuit:  166] 127.0.0.1:5064 --->>> 127.0.0.1:57574 16B EchoResponse()\n"
     ]
    },
    {
     "name": "stderr",
     "output_type": "stream",
     "text": [
      "14:23:15|caproto.circ|EchoResponse()\n"
     ]
    },
    {
     "name": "stdout",
     "output_type": "stream",
     "text": [
      "[D 14:23:46.262       common:  688] 127.0.0.1:5064 <<<--- 127.0.0.1:57574 16B EchoRequest()\n"
     ]
    },
    {
     "name": "stderr",
     "output_type": "stream",
     "text": [
      "14:23:46|caproto.circ|EchoRequest()\n"
     ]
    },
    {
     "name": "stdout",
     "output_type": "stream",
     "text": [
      "[D 14:23:46.264     _circuit:  166] 127.0.0.1:5064 --->>> 127.0.0.1:57574 16B EchoResponse()\n"
     ]
    },
    {
     "name": "stderr",
     "output_type": "stream",
     "text": [
      "14:23:46|caproto.circ|EchoResponse()\n"
     ]
    },
    {
     "name": "stdout",
     "output_type": "stream",
     "text": [
      "[D 14:24:17.380       common:  688] 127.0.0.1:5064 <<<--- 127.0.0.1:57574 16B EchoRequest()\n"
     ]
    },
    {
     "name": "stderr",
     "output_type": "stream",
     "text": [
      "14:24:17|caproto.circ|EchoRequest()\n"
     ]
    },
    {
     "name": "stdout",
     "output_type": "stream",
     "text": [
      "[D 14:24:17.381     _circuit:  166] 127.0.0.1:5064 --->>> 127.0.0.1:57574 16B EchoResponse()\n"
     ]
    },
    {
     "name": "stderr",
     "output_type": "stream",
     "text": [
      "14:24:17|caproto.circ|EchoResponse()\n"
     ]
    },
    {
     "name": "stdout",
     "output_type": "stream",
     "text": [
      "[D 14:24:48.455       common:  688] 127.0.0.1:5064 <<<--- 127.0.0.1:57574 16B EchoRequest()\n"
     ]
    },
    {
     "name": "stderr",
     "output_type": "stream",
     "text": [
      "14:24:48|caproto.circ|EchoRequest()\n"
     ]
    },
    {
     "name": "stdout",
     "output_type": "stream",
     "text": [
      "[D 14:24:48.457     _circuit:  166] 127.0.0.1:5064 --->>> 127.0.0.1:57574 16B EchoResponse()\n"
     ]
    },
    {
     "name": "stderr",
     "output_type": "stream",
     "text": [
      "14:24:48|caproto.circ|EchoResponse()\n"
     ]
    },
    {
     "name": "stdout",
     "output_type": "stream",
     "text": [
      "[D 14:25:19.592       common:  688] 127.0.0.1:5064 <<<--- 127.0.0.1:57574 16B EchoRequest()\n"
     ]
    },
    {
     "name": "stderr",
     "output_type": "stream",
     "text": [
      "14:25:19|caproto.circ|EchoRequest()\n"
     ]
    },
    {
     "name": "stdout",
     "output_type": "stream",
     "text": [
      "[D 14:25:19.594     _circuit:  166] 127.0.0.1:5064 --->>> 127.0.0.1:57574 16B EchoResponse()\n"
     ]
    },
    {
     "name": "stderr",
     "output_type": "stream",
     "text": [
      "14:25:19|caproto.circ|EchoResponse()\n"
     ]
    },
    {
     "name": "stdout",
     "output_type": "stream",
     "text": [
      "[D 14:25:50.740       common:  688] 127.0.0.1:5064 <<<--- 127.0.0.1:57574 16B EchoRequest()\n"
     ]
    },
    {
     "name": "stderr",
     "output_type": "stream",
     "text": [
      "14:25:50|caproto.circ|EchoRequest()\n"
     ]
    },
    {
     "name": "stdout",
     "output_type": "stream",
     "text": [
      "[D 14:25:50.742     _circuit:  166] 127.0.0.1:5064 --->>> 127.0.0.1:57574 16B EchoResponse()\n"
     ]
    },
    {
     "name": "stderr",
     "output_type": "stream",
     "text": [
      "14:25:50|caproto.circ|EchoResponse()\n"
     ]
    },
    {
     "name": "stdout",
     "output_type": "stream",
     "text": [
      "[D 14:26:21.807       common:  688] 127.0.0.1:5064 <<<--- 127.0.0.1:57574 16B EchoRequest()\n"
     ]
    },
    {
     "name": "stderr",
     "output_type": "stream",
     "text": [
      "14:26:21|caproto.circ|EchoRequest()\n"
     ]
    },
    {
     "name": "stdout",
     "output_type": "stream",
     "text": [
      "[D 14:26:21.809     _circuit:  166] 127.0.0.1:5064 --->>> 127.0.0.1:57574 16B EchoResponse()\n"
     ]
    },
    {
     "name": "stderr",
     "output_type": "stream",
     "text": [
      "14:26:21|caproto.circ|EchoResponse()\n"
     ]
    },
    {
     "name": "stdout",
     "output_type": "stream",
     "text": [
      "[D 14:26:52.911       common:  688] 127.0.0.1:5064 <<<--- 127.0.0.1:57574 16B EchoRequest()\n"
     ]
    },
    {
     "name": "stderr",
     "output_type": "stream",
     "text": [
      "14:26:52|caproto.circ|EchoRequest()\n"
     ]
    },
    {
     "name": "stdout",
     "output_type": "stream",
     "text": [
      "[D 14:26:52.913     _circuit:  166] 127.0.0.1:5064 --->>> 127.0.0.1:57574 16B EchoResponse()\n"
     ]
    },
    {
     "name": "stderr",
     "output_type": "stream",
     "text": [
      "14:26:52|caproto.circ|EchoResponse()\n"
     ]
    },
    {
     "name": "stdout",
     "output_type": "stream",
     "text": [
      "[D 14:27:24.001       common:  688] 127.0.0.1:5064 <<<--- 127.0.0.1:57574 16B EchoRequest()\n"
     ]
    },
    {
     "name": "stderr",
     "output_type": "stream",
     "text": [
      "14:27:24|caproto.circ|EchoRequest()\n"
     ]
    },
    {
     "name": "stdout",
     "output_type": "stream",
     "text": [
      "[D 14:27:24.002     _circuit:  166] 127.0.0.1:5064 --->>> 127.0.0.1:57574 16B EchoResponse()\n"
     ]
    },
    {
     "name": "stderr",
     "output_type": "stream",
     "text": [
      "14:27:24|caproto.circ|EchoResponse()\n"
     ]
    },
    {
     "name": "stdout",
     "output_type": "stream",
     "text": [
      "[D 14:27:55.164       common:  688] 127.0.0.1:5064 <<<--- 127.0.0.1:57574 16B EchoRequest()\n"
     ]
    },
    {
     "name": "stderr",
     "output_type": "stream",
     "text": [
      "14:27:55|caproto.circ|EchoRequest()\n"
     ]
    },
    {
     "name": "stdout",
     "output_type": "stream",
     "text": [
      "[D 14:27:55.165     _circuit:  166] 127.0.0.1:5064 --->>> 127.0.0.1:57574 16B EchoResponse()\n"
     ]
    },
    {
     "name": "stderr",
     "output_type": "stream",
     "text": [
      "14:27:55|caproto.circ|EchoResponse()\n"
     ]
    },
    {
     "name": "stdout",
     "output_type": "stream",
     "text": [
      "[D 14:28:26.294       common:  688] 127.0.0.1:5064 <<<--- 127.0.0.1:57574 16B EchoRequest()\n"
     ]
    },
    {
     "name": "stderr",
     "output_type": "stream",
     "text": [
      "14:28:26|caproto.circ|EchoRequest()\n"
     ]
    },
    {
     "name": "stdout",
     "output_type": "stream",
     "text": [
      "[D 14:28:26.295     _circuit:  166] 127.0.0.1:5064 --->>> 127.0.0.1:57574 16B EchoResponse()\n"
     ]
    },
    {
     "name": "stderr",
     "output_type": "stream",
     "text": [
      "14:28:26|caproto.circ|EchoResponse()\n"
     ]
    },
    {
     "name": "stdout",
     "output_type": "stream",
     "text": [
      "[D 14:28:57.380       common:  688] 127.0.0.1:5064 <<<--- 127.0.0.1:57574 16B EchoRequest()\n"
     ]
    },
    {
     "name": "stderr",
     "output_type": "stream",
     "text": [
      "14:28:57|caproto.circ|EchoRequest()\n"
     ]
    },
    {
     "name": "stdout",
     "output_type": "stream",
     "text": [
      "[D 14:28:57.382     _circuit:  166] 127.0.0.1:5064 --->>> 127.0.0.1:57574 16B EchoResponse()\n"
     ]
    },
    {
     "name": "stderr",
     "output_type": "stream",
     "text": [
      "14:28:57|caproto.circ|EchoResponse()\n"
     ]
    },
    {
     "name": "stdout",
     "output_type": "stream",
     "text": [
      "[D 14:29:28.516       common:  688] 127.0.0.1:5064 <<<--- 127.0.0.1:57574 16B EchoRequest()\n"
     ]
    },
    {
     "name": "stderr",
     "output_type": "stream",
     "text": [
      "14:29:28|caproto.circ|EchoRequest()\n"
     ]
    },
    {
     "name": "stdout",
     "output_type": "stream",
     "text": [
      "[D 14:29:28.518     _circuit:  166] 127.0.0.1:5064 --->>> 127.0.0.1:57574 16B EchoResponse()\n"
     ]
    },
    {
     "name": "stderr",
     "output_type": "stream",
     "text": [
      "14:29:28|caproto.circ|EchoResponse()\n"
     ]
    },
    {
     "name": "stdout",
     "output_type": "stream",
     "text": [
      "[D 14:29:59.661       common:  688] 127.0.0.1:5064 <<<--- 127.0.0.1:57574 16B EchoRequest()\n"
     ]
    },
    {
     "name": "stderr",
     "output_type": "stream",
     "text": [
      "14:29:59|caproto.circ|EchoRequest()\n"
     ]
    },
    {
     "name": "stdout",
     "output_type": "stream",
     "text": [
      "[D 14:29:59.662     _circuit:  166] 127.0.0.1:5064 --->>> 127.0.0.1:57574 16B EchoResponse()\n"
     ]
    },
    {
     "name": "stderr",
     "output_type": "stream",
     "text": [
      "14:29:59|caproto.circ|EchoResponse()\n"
     ]
    },
    {
     "name": "stdout",
     "output_type": "stream",
     "text": [
      "[D 14:30:30.781       common:  688] 127.0.0.1:5064 <<<--- 127.0.0.1:57574 16B EchoRequest()\n"
     ]
    },
    {
     "name": "stderr",
     "output_type": "stream",
     "text": [
      "14:30:30|caproto.circ|EchoRequest()\n"
     ]
    },
    {
     "name": "stdout",
     "output_type": "stream",
     "text": [
      "[D 14:30:30.783     _circuit:  166] 127.0.0.1:5064 --->>> 127.0.0.1:57574 16B EchoResponse()\n"
     ]
    },
    {
     "name": "stderr",
     "output_type": "stream",
     "text": [
      "14:30:30|caproto.circ|EchoResponse()\n"
     ]
    },
    {
     "name": "stdout",
     "output_type": "stream",
     "text": [
      "[D 14:31:01.891       common:  688] 127.0.0.1:5064 <<<--- 127.0.0.1:57574 16B EchoRequest()\n"
     ]
    },
    {
     "name": "stderr",
     "output_type": "stream",
     "text": [
      "14:31:01|caproto.circ|EchoRequest()\n"
     ]
    },
    {
     "name": "stdout",
     "output_type": "stream",
     "text": [
      "[D 14:31:01.892     _circuit:  166] 127.0.0.1:5064 --->>> 127.0.0.1:57574 16B EchoResponse()\n"
     ]
    },
    {
     "name": "stderr",
     "output_type": "stream",
     "text": [
      "14:31:01|caproto.circ|EchoResponse()\n"
     ]
    },
    {
     "name": "stdout",
     "output_type": "stream",
     "text": [
      "[D 14:31:33.040       common:  688] 127.0.0.1:5064 <<<--- 127.0.0.1:57574 16B EchoRequest()\n"
     ]
    },
    {
     "name": "stderr",
     "output_type": "stream",
     "text": [
      "14:31:33|caproto.circ|EchoRequest()\n"
     ]
    },
    {
     "name": "stdout",
     "output_type": "stream",
     "text": [
      "[D 14:31:33.042     _circuit:  166] 127.0.0.1:5064 --->>> 127.0.0.1:57574 16B EchoResponse()\n"
     ]
    },
    {
     "name": "stderr",
     "output_type": "stream",
     "text": [
      "14:31:33|caproto.circ|EchoResponse()\n"
     ]
    },
    {
     "name": "stdout",
     "output_type": "stream",
     "text": [
      "[D 14:32:04.129       common:  688] 127.0.0.1:5064 <<<--- 127.0.0.1:57574 16B EchoRequest()\n"
     ]
    },
    {
     "name": "stderr",
     "output_type": "stream",
     "text": [
      "14:32:04|caproto.circ|EchoRequest()\n"
     ]
    },
    {
     "name": "stdout",
     "output_type": "stream",
     "text": [
      "[D 14:32:04.130     _circuit:  166] 127.0.0.1:5064 --->>> 127.0.0.1:57574 16B EchoResponse()\n"
     ]
    },
    {
     "name": "stderr",
     "output_type": "stream",
     "text": [
      "14:32:04|caproto.circ|EchoResponse()\n"
     ]
    },
    {
     "name": "stdout",
     "output_type": "stream",
     "text": [
      "[D 14:32:35.228       common:  688] 127.0.0.1:5064 <<<--- 127.0.0.1:57574 16B EchoRequest()\n"
     ]
    },
    {
     "name": "stderr",
     "output_type": "stream",
     "text": [
      "14:32:35|caproto.circ|EchoRequest()\n"
     ]
    },
    {
     "name": "stdout",
     "output_type": "stream",
     "text": [
      "[D 14:32:35.230     _circuit:  166] 127.0.0.1:5064 --->>> 127.0.0.1:57574 16B EchoResponse()\n"
     ]
    },
    {
     "name": "stderr",
     "output_type": "stream",
     "text": [
      "14:32:35|caproto.circ|EchoResponse()\n"
     ]
    },
    {
     "name": "stdout",
     "output_type": "stream",
     "text": [
      "[D 14:33:06.340       common:  688] 127.0.0.1:5064 <<<--- 127.0.0.1:57574 16B EchoRequest()\n"
     ]
    },
    {
     "name": "stderr",
     "output_type": "stream",
     "text": [
      "14:33:06|caproto.circ|EchoRequest()\n"
     ]
    },
    {
     "name": "stdout",
     "output_type": "stream",
     "text": [
      "[D 14:33:06.342     _circuit:  166] 127.0.0.1:5064 --->>> 127.0.0.1:57574 16B EchoResponse()\n"
     ]
    },
    {
     "name": "stderr",
     "output_type": "stream",
     "text": [
      "14:33:06|caproto.circ|EchoResponse()\n"
     ]
    },
    {
     "name": "stdout",
     "output_type": "stream",
     "text": [
      "[D 14:33:37.436       common:  688] 127.0.0.1:5064 <<<--- 127.0.0.1:57574 16B EchoRequest()\n"
     ]
    },
    {
     "name": "stderr",
     "output_type": "stream",
     "text": [
      "14:33:37|caproto.circ|EchoRequest()\n"
     ]
    },
    {
     "name": "stdout",
     "output_type": "stream",
     "text": [
      "[D 14:33:37.438     _circuit:  166] 127.0.0.1:5064 --->>> 127.0.0.1:57574 16B EchoResponse()\n"
     ]
    },
    {
     "name": "stderr",
     "output_type": "stream",
     "text": [
      "14:33:37|caproto.circ|EchoResponse()\n"
     ]
    },
    {
     "name": "stdout",
     "output_type": "stream",
     "text": [
      "[D 14:34:08.559       common:  688] 127.0.0.1:5064 <<<--- 127.0.0.1:57574 16B EchoRequest()\n"
     ]
    },
    {
     "name": "stderr",
     "output_type": "stream",
     "text": [
      "14:34:08|caproto.circ|EchoRequest()\n"
     ]
    },
    {
     "name": "stdout",
     "output_type": "stream",
     "text": [
      "[D 14:34:08.561     _circuit:  166] 127.0.0.1:5064 --->>> 127.0.0.1:57574 16B EchoResponse()\n"
     ]
    },
    {
     "name": "stderr",
     "output_type": "stream",
     "text": [
      "14:34:08|caproto.circ|EchoResponse()\n"
     ]
    },
    {
     "name": "stdout",
     "output_type": "stream",
     "text": [
      "[D 14:34:39.718       common:  688] 127.0.0.1:5064 <<<--- 127.0.0.1:57574 16B EchoRequest()\n"
     ]
    },
    {
     "name": "stderr",
     "output_type": "stream",
     "text": [
      "14:34:39|caproto.circ|EchoRequest()\n"
     ]
    },
    {
     "name": "stdout",
     "output_type": "stream",
     "text": [
      "[D 14:34:39.719     _circuit:  166] 127.0.0.1:5064 --->>> 127.0.0.1:57574 16B EchoResponse()\n"
     ]
    },
    {
     "name": "stderr",
     "output_type": "stream",
     "text": [
      "14:34:39|caproto.circ|EchoResponse()\n"
     ]
    },
    {
     "name": "stdout",
     "output_type": "stream",
     "text": [
      "[D 14:35:10.839       common:  688] 127.0.0.1:5064 <<<--- 127.0.0.1:57574 16B EchoRequest()\n"
     ]
    },
    {
     "name": "stderr",
     "output_type": "stream",
     "text": [
      "14:35:10|caproto.circ|EchoRequest()\n"
     ]
    },
    {
     "name": "stdout",
     "output_type": "stream",
     "text": [
      "[D 14:35:10.841     _circuit:  166] 127.0.0.1:5064 --->>> 127.0.0.1:57574 16B EchoResponse()\n"
     ]
    },
    {
     "name": "stderr",
     "output_type": "stream",
     "text": [
      "14:35:10|caproto.circ|EchoResponse()\n"
     ]
    },
    {
     "name": "stdout",
     "output_type": "stream",
     "text": [
      "[D 14:35:41.923       common:  688] 127.0.0.1:5064 <<<--- 127.0.0.1:57574 16B EchoRequest()\n"
     ]
    },
    {
     "name": "stderr",
     "output_type": "stream",
     "text": [
      "14:35:41|caproto.circ|EchoRequest()\n"
     ]
    },
    {
     "name": "stdout",
     "output_type": "stream",
     "text": [
      "[D 14:35:41.925     _circuit:  166] 127.0.0.1:5064 --->>> 127.0.0.1:57574 16B EchoResponse()\n"
     ]
    },
    {
     "name": "stderr",
     "output_type": "stream",
     "text": [
      "14:35:41|caproto.circ|EchoResponse()\n"
     ]
    },
    {
     "name": "stdout",
     "output_type": "stream",
     "text": [
      "[D 14:36:13.038       common:  688] 127.0.0.1:5064 <<<--- 127.0.0.1:57574 16B EchoRequest()\n"
     ]
    },
    {
     "name": "stderr",
     "output_type": "stream",
     "text": [
      "14:36:13|caproto.circ|EchoRequest()\n"
     ]
    },
    {
     "name": "stdout",
     "output_type": "stream",
     "text": [
      "[D 14:36:13.040     _circuit:  166] 127.0.0.1:5064 --->>> 127.0.0.1:57574 16B EchoResponse()\n"
     ]
    },
    {
     "name": "stderr",
     "output_type": "stream",
     "text": [
      "14:36:13|caproto.circ|EchoResponse()\n"
     ]
    },
    {
     "name": "stdout",
     "output_type": "stream",
     "text": [
      "[D 14:36:44.149       common:  688] 127.0.0.1:5064 <<<--- 127.0.0.1:57574 16B EchoRequest()\n"
     ]
    },
    {
     "name": "stderr",
     "output_type": "stream",
     "text": [
      "14:36:44|caproto.circ|EchoRequest()\n"
     ]
    },
    {
     "name": "stdout",
     "output_type": "stream",
     "text": [
      "[D 14:36:44.151     _circuit:  166] 127.0.0.1:5064 --->>> 127.0.0.1:57574 16B EchoResponse()\n"
     ]
    },
    {
     "name": "stderr",
     "output_type": "stream",
     "text": [
      "14:36:44|caproto.circ|EchoResponse()\n"
     ]
    },
    {
     "name": "stdout",
     "output_type": "stream",
     "text": [
      "[D 14:37:15.336       common:  688] 127.0.0.1:5064 <<<--- 127.0.0.1:57574 16B EchoRequest()\n"
     ]
    },
    {
     "name": "stderr",
     "output_type": "stream",
     "text": [
      "14:37:15|caproto.circ|EchoRequest()\n"
     ]
    },
    {
     "name": "stdout",
     "output_type": "stream",
     "text": [
      "[D 14:37:15.337     _circuit:  166] 127.0.0.1:5064 --->>> 127.0.0.1:57574 16B EchoResponse()\n"
     ]
    },
    {
     "name": "stderr",
     "output_type": "stream",
     "text": [
      "14:37:15|caproto.circ|EchoResponse()\n"
     ]
    },
    {
     "name": "stdout",
     "output_type": "stream",
     "text": [
      "[D 14:37:46.455       common:  688] 127.0.0.1:5064 <<<--- 127.0.0.1:57574 16B EchoRequest()\n"
     ]
    },
    {
     "name": "stderr",
     "output_type": "stream",
     "text": [
      "14:37:46|caproto.circ|EchoRequest()\n"
     ]
    },
    {
     "name": "stdout",
     "output_type": "stream",
     "text": [
      "[D 14:37:46.457     _circuit:  166] 127.0.0.1:5064 --->>> 127.0.0.1:57574 16B EchoResponse()\n"
     ]
    },
    {
     "name": "stderr",
     "output_type": "stream",
     "text": [
      "14:37:46|caproto.circ|EchoResponse()\n"
     ]
    },
    {
     "name": "stdout",
     "output_type": "stream",
     "text": [
      "[D 14:38:17.580       common:  688] 127.0.0.1:5064 <<<--- 127.0.0.1:57574 16B EchoRequest()\n"
     ]
    },
    {
     "name": "stderr",
     "output_type": "stream",
     "text": [
      "14:38:17|caproto.circ|EchoRequest()\n"
     ]
    },
    {
     "name": "stdout",
     "output_type": "stream",
     "text": [
      "[D 14:38:17.582     _circuit:  166] 127.0.0.1:5064 --->>> 127.0.0.1:57574 16B EchoResponse()\n"
     ]
    },
    {
     "name": "stderr",
     "output_type": "stream",
     "text": [
      "14:38:17|caproto.circ|EchoResponse()\n"
     ]
    },
    {
     "name": "stdout",
     "output_type": "stream",
     "text": [
      "[D 14:38:48.760       common:  688] 127.0.0.1:5064 <<<--- 127.0.0.1:57574 16B EchoRequest()\n"
     ]
    },
    {
     "name": "stderr",
     "output_type": "stream",
     "text": [
      "14:38:48|caproto.circ|EchoRequest()\n"
     ]
    },
    {
     "name": "stdout",
     "output_type": "stream",
     "text": [
      "[D 14:38:48.763     _circuit:  166] 127.0.0.1:5064 --->>> 127.0.0.1:57574 16B EchoResponse()\n"
     ]
    },
    {
     "name": "stderr",
     "output_type": "stream",
     "text": [
      "14:38:48|caproto.circ|EchoResponse()\n"
     ]
    },
    {
     "name": "stdout",
     "output_type": "stream",
     "text": [
      "[D 14:39:19.923       common:  688] 127.0.0.1:5064 <<<--- 127.0.0.1:57574 16B EchoRequest()\n"
     ]
    },
    {
     "name": "stderr",
     "output_type": "stream",
     "text": [
      "14:39:19|caproto.circ|EchoRequest()\n"
     ]
    },
    {
     "name": "stdout",
     "output_type": "stream",
     "text": [
      "[D 14:39:19.924     _circuit:  166] 127.0.0.1:5064 --->>> 127.0.0.1:57574 16B EchoResponse()\n"
     ]
    },
    {
     "name": "stderr",
     "output_type": "stream",
     "text": [
      "14:39:19|caproto.circ|EchoResponse()\n"
     ]
    },
    {
     "name": "stdout",
     "output_type": "stream",
     "text": [
      "[D 14:39:51.038       common:  688] 127.0.0.1:5064 <<<--- 127.0.0.1:57574 16B EchoRequest()\n"
     ]
    },
    {
     "name": "stderr",
     "output_type": "stream",
     "text": [
      "14:39:51|caproto.circ|EchoRequest()\n"
     ]
    },
    {
     "name": "stdout",
     "output_type": "stream",
     "text": [
      "[D 14:39:51.040     _circuit:  166] 127.0.0.1:5064 --->>> 127.0.0.1:57574 16B EchoResponse()\n"
     ]
    },
    {
     "name": "stderr",
     "output_type": "stream",
     "text": [
      "14:39:51|caproto.circ|EchoResponse()\n"
     ]
    },
    {
     "name": "stdout",
     "output_type": "stream",
     "text": [
      "[D 14:40:22.212       common:  688] 127.0.0.1:5064 <<<--- 127.0.0.1:57574 16B EchoRequest()\n"
     ]
    },
    {
     "name": "stderr",
     "output_type": "stream",
     "text": [
      "14:40:22|caproto.circ|EchoRequest()\n"
     ]
    },
    {
     "name": "stdout",
     "output_type": "stream",
     "text": [
      "[D 14:40:22.214     _circuit:  166] 127.0.0.1:5064 --->>> 127.0.0.1:57574 16B EchoResponse()\n"
     ]
    },
    {
     "name": "stderr",
     "output_type": "stream",
     "text": [
      "14:40:22|caproto.circ|EchoResponse()\n"
     ]
    },
    {
     "name": "stdout",
     "output_type": "stream",
     "text": [
      "[D 14:40:53.239       common:  688] 127.0.0.1:5064 <<<--- 127.0.0.1:57574 16B EchoRequest()\n"
     ]
    },
    {
     "name": "stderr",
     "output_type": "stream",
     "text": [
      "14:40:53|caproto.circ|EchoRequest()\n"
     ]
    },
    {
     "name": "stdout",
     "output_type": "stream",
     "text": [
      "[D 14:40:53.241     _circuit:  166] 127.0.0.1:5064 --->>> 127.0.0.1:57574 16B EchoResponse()\n"
     ]
    },
    {
     "name": "stderr",
     "output_type": "stream",
     "text": [
      "14:40:53|caproto.circ|EchoResponse()\n"
     ]
    },
    {
     "name": "stdout",
     "output_type": "stream",
     "text": [
      "[D 14:41:24.750       common:  688] 127.0.0.1:5064 <<<--- 127.0.0.1:57574 16B EchoRequest()\n"
     ]
    },
    {
     "name": "stderr",
     "output_type": "stream",
     "text": [
      "14:41:24|caproto.circ|EchoRequest()\n"
     ]
    },
    {
     "name": "stdout",
     "output_type": "stream",
     "text": [
      "[D 14:41:24.751     _circuit:  166] 127.0.0.1:5064 --->>> 127.0.0.1:57574 16B EchoResponse()\n"
     ]
    },
    {
     "name": "stderr",
     "output_type": "stream",
     "text": [
      "14:41:24|caproto.circ|EchoResponse()\n"
     ]
    },
    {
     "name": "stdout",
     "output_type": "stream",
     "text": [
      "[D 14:41:55.889       common:  688] 127.0.0.1:5064 <<<--- 127.0.0.1:57574 16B EchoRequest()\n"
     ]
    },
    {
     "name": "stderr",
     "output_type": "stream",
     "text": [
      "14:41:55|caproto.circ|EchoRequest()\n"
     ]
    },
    {
     "name": "stdout",
     "output_type": "stream",
     "text": [
      "[D 14:41:55.890     _circuit:  166] 127.0.0.1:5064 --->>> 127.0.0.1:57574 16B EchoResponse()\n"
     ]
    },
    {
     "name": "stderr",
     "output_type": "stream",
     "text": [
      "14:41:55|caproto.circ|EchoResponse()\n"
     ]
    },
    {
     "name": "stdout",
     "output_type": "stream",
     "text": [
      "[D 14:42:27.025       common:  688] 127.0.0.1:5064 <<<--- 127.0.0.1:57574 16B EchoRequest()\n"
     ]
    },
    {
     "name": "stderr",
     "output_type": "stream",
     "text": [
      "14:42:27|caproto.circ|EchoRequest()\n"
     ]
    },
    {
     "name": "stdout",
     "output_type": "stream",
     "text": [
      "[D 14:42:27.026     _circuit:  166] 127.0.0.1:5064 --->>> 127.0.0.1:57574 16B EchoResponse()\n"
     ]
    },
    {
     "name": "stderr",
     "output_type": "stream",
     "text": [
      "14:42:27|caproto.circ|EchoResponse()\n"
     ]
    },
    {
     "name": "stdout",
     "output_type": "stream",
     "text": [
      "[D 14:42:58.225       common:  688] 127.0.0.1:5064 <<<--- 127.0.0.1:57574 16B EchoRequest()\n"
     ]
    },
    {
     "name": "stderr",
     "output_type": "stream",
     "text": [
      "14:42:58|caproto.circ|EchoRequest()\n"
     ]
    },
    {
     "name": "stdout",
     "output_type": "stream",
     "text": [
      "[D 14:42:58.227     _circuit:  166] 127.0.0.1:5064 --->>> 127.0.0.1:57574 16B EchoResponse()\n"
     ]
    },
    {
     "name": "stderr",
     "output_type": "stream",
     "text": [
      "14:42:58|caproto.circ|EchoResponse()\n"
     ]
    },
    {
     "name": "stdout",
     "output_type": "stream",
     "text": [
      "[D 14:43:29.523       common:  688] 127.0.0.1:5064 <<<--- 127.0.0.1:57574 16B EchoRequest()\n"
     ]
    },
    {
     "name": "stderr",
     "output_type": "stream",
     "text": [
      "14:43:29|caproto.circ|EchoRequest()\n"
     ]
    },
    {
     "name": "stdout",
     "output_type": "stream",
     "text": [
      "[D 14:43:29.524     _circuit:  166] 127.0.0.1:5064 --->>> 127.0.0.1:57574 16B EchoResponse()\n"
     ]
    },
    {
     "name": "stderr",
     "output_type": "stream",
     "text": [
      "14:43:29|caproto.circ|EchoResponse()\n"
     ]
    },
    {
     "name": "stdout",
     "output_type": "stream",
     "text": [
      "[D 14:44:00.635       common:  688] 127.0.0.1:5064 <<<--- 127.0.0.1:57574 16B EchoRequest()\n"
     ]
    },
    {
     "name": "stderr",
     "output_type": "stream",
     "text": [
      "14:44:00|caproto.circ|EchoRequest()\n"
     ]
    },
    {
     "name": "stdout",
     "output_type": "stream",
     "text": [
      "[D 14:44:00.636     _circuit:  166] 127.0.0.1:5064 --->>> 127.0.0.1:57574 16B EchoResponse()\n"
     ]
    },
    {
     "name": "stderr",
     "output_type": "stream",
     "text": [
      "14:44:00|caproto.circ|EchoResponse()\n"
     ]
    },
    {
     "name": "stdout",
     "output_type": "stream",
     "text": [
      "[D 14:44:31.781       common:  688] 127.0.0.1:5064 <<<--- 127.0.0.1:57574 16B EchoRequest()\n"
     ]
    },
    {
     "name": "stderr",
     "output_type": "stream",
     "text": [
      "14:44:31|caproto.circ|EchoRequest()\n"
     ]
    },
    {
     "name": "stdout",
     "output_type": "stream",
     "text": [
      "[D 14:44:31.782     _circuit:  166] 127.0.0.1:5064 --->>> 127.0.0.1:57574 16B EchoResponse()\n"
     ]
    },
    {
     "name": "stderr",
     "output_type": "stream",
     "text": [
      "14:44:31|caproto.circ|EchoResponse()\n"
     ]
    },
    {
     "name": "stdout",
     "output_type": "stream",
     "text": [
      "[D 14:45:02.944       common:  688] 127.0.0.1:5064 <<<--- 127.0.0.1:57574 16B EchoRequest()\n"
     ]
    },
    {
     "name": "stderr",
     "output_type": "stream",
     "text": [
      "14:45:02|caproto.circ|EchoRequest()\n"
     ]
    },
    {
     "name": "stdout",
     "output_type": "stream",
     "text": [
      "[D 14:45:02.946     _circuit:  166] 127.0.0.1:5064 --->>> 127.0.0.1:57574 16B EchoResponse()\n"
     ]
    },
    {
     "name": "stderr",
     "output_type": "stream",
     "text": [
      "14:45:02|caproto.circ|EchoResponse()\n"
     ]
    },
    {
     "name": "stdout",
     "output_type": "stream",
     "text": [
      "[D 14:45:34.105       common:  688] 127.0.0.1:5064 <<<--- 127.0.0.1:57574 16B EchoRequest()\n"
     ]
    },
    {
     "name": "stderr",
     "output_type": "stream",
     "text": [
      "14:45:34|caproto.circ|EchoRequest()\n"
     ]
    },
    {
     "name": "stdout",
     "output_type": "stream",
     "text": [
      "[D 14:45:34.106     _circuit:  166] 127.0.0.1:5064 --->>> 127.0.0.1:57574 16B EchoResponse()\n"
     ]
    },
    {
     "name": "stderr",
     "output_type": "stream",
     "text": [
      "14:45:34|caproto.circ|EchoResponse()\n"
     ]
    },
    {
     "name": "stdout",
     "output_type": "stream",
     "text": [
      "[D 14:46:05.124       common:  688] 127.0.0.1:5064 <<<--- 127.0.0.1:57574 16B EchoRequest()\n"
     ]
    },
    {
     "name": "stderr",
     "output_type": "stream",
     "text": [
      "14:46:05|caproto.circ|EchoRequest()\n"
     ]
    },
    {
     "name": "stdout",
     "output_type": "stream",
     "text": [
      "[D 14:46:05.126     _circuit:  166] 127.0.0.1:5064 --->>> 127.0.0.1:57574 16B EchoResponse()\n"
     ]
    },
    {
     "name": "stderr",
     "output_type": "stream",
     "text": [
      "14:46:05|caproto.circ|EchoResponse()\n"
     ]
    },
    {
     "name": "stdout",
     "output_type": "stream",
     "text": [
      "[D 14:46:36.314       common:  688] 127.0.0.1:5064 <<<--- 127.0.0.1:57574 16B EchoRequest()\n"
     ]
    },
    {
     "name": "stderr",
     "output_type": "stream",
     "text": [
      "14:46:36|caproto.circ|EchoRequest()\n"
     ]
    },
    {
     "name": "stdout",
     "output_type": "stream",
     "text": [
      "[D 14:46:36.316     _circuit:  166] 127.0.0.1:5064 --->>> 127.0.0.1:57574 16B EchoResponse()\n"
     ]
    },
    {
     "name": "stderr",
     "output_type": "stream",
     "text": [
      "14:46:36|caproto.circ|EchoResponse()\n"
     ]
    },
    {
     "name": "stdout",
     "output_type": "stream",
     "text": [
      "[D 14:47:07.454       common:  688] 127.0.0.1:5064 <<<--- 127.0.0.1:57574 16B EchoRequest()\n"
     ]
    },
    {
     "name": "stderr",
     "output_type": "stream",
     "text": [
      "14:47:07|caproto.circ|EchoRequest()\n"
     ]
    },
    {
     "name": "stdout",
     "output_type": "stream",
     "text": [
      "[D 14:47:07.455     _circuit:  166] 127.0.0.1:5064 --->>> 127.0.0.1:57574 16B EchoResponse()\n"
     ]
    },
    {
     "name": "stderr",
     "output_type": "stream",
     "text": [
      "14:47:07|caproto.circ|EchoResponse()\n"
     ]
    },
    {
     "name": "stdout",
     "output_type": "stream",
     "text": [
      "[D 14:47:38.538       common:  688] 127.0.0.1:5064 <<<--- 127.0.0.1:57574 16B EchoRequest()\n"
     ]
    },
    {
     "name": "stderr",
     "output_type": "stream",
     "text": [
      "14:47:38|caproto.circ|EchoRequest()\n"
     ]
    },
    {
     "name": "stdout",
     "output_type": "stream",
     "text": [
      "[D 14:47:38.539     _circuit:  166] 127.0.0.1:5064 --->>> 127.0.0.1:57574 16B EchoResponse()\n"
     ]
    },
    {
     "name": "stderr",
     "output_type": "stream",
     "text": [
      "14:47:38|caproto.circ|EchoResponse()\n"
     ]
    },
    {
     "name": "stdout",
     "output_type": "stream",
     "text": [
      "[D 14:48:09.691       common:  688] 127.0.0.1:5064 <<<--- 127.0.0.1:57574 16B EchoRequest()\n"
     ]
    },
    {
     "name": "stderr",
     "output_type": "stream",
     "text": [
      "14:48:09|caproto.circ|EchoRequest()\n"
     ]
    },
    {
     "name": "stdout",
     "output_type": "stream",
     "text": [
      "[D 14:48:09.693     _circuit:  166] 127.0.0.1:5064 --->>> 127.0.0.1:57574 16B EchoResponse()\n"
     ]
    },
    {
     "name": "stderr",
     "output_type": "stream",
     "text": [
      "14:48:09|caproto.circ|EchoResponse()\n"
     ]
    },
    {
     "name": "stdout",
     "output_type": "stream",
     "text": [
      "[D 14:48:40.809       common:  688] 127.0.0.1:5064 <<<--- 127.0.0.1:57574 16B EchoRequest()\n"
     ]
    },
    {
     "name": "stderr",
     "output_type": "stream",
     "text": [
      "14:48:40|caproto.circ|EchoRequest()\n"
     ]
    },
    {
     "name": "stdout",
     "output_type": "stream",
     "text": [
      "[D 14:48:40.811     _circuit:  166] 127.0.0.1:5064 --->>> 127.0.0.1:57574 16B EchoResponse()\n"
     ]
    },
    {
     "name": "stderr",
     "output_type": "stream",
     "text": [
      "14:48:40|caproto.circ|EchoResponse()\n"
     ]
    },
    {
     "name": "stdout",
     "output_type": "stream",
     "text": [
      "[D 14:49:11.984       common:  688] 127.0.0.1:5064 <<<--- 127.0.0.1:57574 16B EchoRequest()\n"
     ]
    },
    {
     "name": "stderr",
     "output_type": "stream",
     "text": [
      "14:49:11|caproto.circ|EchoRequest()\n"
     ]
    },
    {
     "name": "stdout",
     "output_type": "stream",
     "text": [
      "[D 14:49:11.985     _circuit:  166] 127.0.0.1:5064 --->>> 127.0.0.1:57574 16B EchoResponse()\n"
     ]
    },
    {
     "name": "stderr",
     "output_type": "stream",
     "text": [
      "14:49:11|caproto.circ|EchoResponse()\n"
     ]
    },
    {
     "name": "stdout",
     "output_type": "stream",
     "text": [
      "[D 14:49:43.164       common:  688] 127.0.0.1:5064 <<<--- 127.0.0.1:57574 16B EchoRequest()\n"
     ]
    },
    {
     "name": "stderr",
     "output_type": "stream",
     "text": [
      "14:49:43|caproto.circ|EchoRequest()\n"
     ]
    },
    {
     "name": "stdout",
     "output_type": "stream",
     "text": [
      "[D 14:49:43.165     _circuit:  166] 127.0.0.1:5064 --->>> 127.0.0.1:57574 16B EchoResponse()\n"
     ]
    },
    {
     "name": "stderr",
     "output_type": "stream",
     "text": [
      "14:49:43|caproto.circ|EchoResponse()\n"
     ]
    },
    {
     "name": "stdout",
     "output_type": "stream",
     "text": [
      "[D 14:50:14.277       common:  688] 127.0.0.1:5064 <<<--- 127.0.0.1:57574 16B EchoRequest()\n"
     ]
    },
    {
     "name": "stderr",
     "output_type": "stream",
     "text": [
      "14:50:14|caproto.circ|EchoRequest()\n"
     ]
    },
    {
     "name": "stdout",
     "output_type": "stream",
     "text": [
      "[D 14:50:14.279     _circuit:  166] 127.0.0.1:5064 --->>> 127.0.0.1:57574 16B EchoResponse()\n"
     ]
    },
    {
     "name": "stderr",
     "output_type": "stream",
     "text": [
      "14:50:14|caproto.circ|EchoResponse()\n"
     ]
    },
    {
     "name": "stdout",
     "output_type": "stream",
     "text": [
      "[D 14:50:45.384       common:  688] 127.0.0.1:5064 <<<--- 127.0.0.1:57574 16B EchoRequest()\n"
     ]
    },
    {
     "name": "stderr",
     "output_type": "stream",
     "text": [
      "14:50:45|caproto.circ|EchoRequest()\n"
     ]
    },
    {
     "name": "stdout",
     "output_type": "stream",
     "text": [
      "[D 14:50:45.386     _circuit:  166] 127.0.0.1:5064 --->>> 127.0.0.1:57574 16B EchoResponse()\n"
     ]
    },
    {
     "name": "stderr",
     "output_type": "stream",
     "text": [
      "14:50:45|caproto.circ|EchoResponse()\n"
     ]
    },
    {
     "name": "stdout",
     "output_type": "stream",
     "text": [
      "[D 14:51:16.532       common:  688] 127.0.0.1:5064 <<<--- 127.0.0.1:57574 16B EchoRequest()\n"
     ]
    },
    {
     "name": "stderr",
     "output_type": "stream",
     "text": [
      "14:51:16|caproto.circ|EchoRequest()\n"
     ]
    },
    {
     "name": "stdout",
     "output_type": "stream",
     "text": [
      "[D 14:51:16.534     _circuit:  166] 127.0.0.1:5064 --->>> 127.0.0.1:57574 16B EchoResponse()\n"
     ]
    },
    {
     "name": "stderr",
     "output_type": "stream",
     "text": [
      "14:51:16|caproto.circ|EchoResponse()\n"
     ]
    },
    {
     "name": "stdout",
     "output_type": "stream",
     "text": [
      "[D 14:51:48.016       common:  688] 127.0.0.1:5064 <<<--- 127.0.0.1:57574 16B EchoRequest()\n"
     ]
    },
    {
     "name": "stderr",
     "output_type": "stream",
     "text": [
      "14:51:48|caproto.circ|EchoRequest()\n"
     ]
    },
    {
     "name": "stdout",
     "output_type": "stream",
     "text": [
      "[D 14:51:48.017     _circuit:  166] 127.0.0.1:5064 --->>> 127.0.0.1:57574 16B EchoResponse()\n"
     ]
    },
    {
     "name": "stderr",
     "output_type": "stream",
     "text": [
      "14:51:48|caproto.circ|EchoResponse()\n"
     ]
    },
    {
     "name": "stdout",
     "output_type": "stream",
     "text": [
      "[D 14:52:19.082       common:  688] 127.0.0.1:5064 <<<--- 127.0.0.1:57574 16B EchoRequest()\n"
     ]
    },
    {
     "name": "stderr",
     "output_type": "stream",
     "text": [
      "14:52:19|caproto.circ|EchoRequest()\n"
     ]
    },
    {
     "name": "stdout",
     "output_type": "stream",
     "text": [
      "[D 14:52:19.083     _circuit:  166] 127.0.0.1:5064 --->>> 127.0.0.1:57574 16B EchoResponse()\n"
     ]
    },
    {
     "name": "stderr",
     "output_type": "stream",
     "text": [
      "14:52:19|caproto.circ|EchoResponse()\n"
     ]
    },
    {
     "name": "stdout",
     "output_type": "stream",
     "text": [
      "[D 14:52:50.525       common:  688] 127.0.0.1:5064 <<<--- 127.0.0.1:57574 16B EchoRequest()\n"
     ]
    },
    {
     "name": "stderr",
     "output_type": "stream",
     "text": [
      "14:52:50|caproto.circ|EchoRequest()\n"
     ]
    },
    {
     "name": "stdout",
     "output_type": "stream",
     "text": [
      "[D 14:52:50.527     _circuit:  166] 127.0.0.1:5064 --->>> 127.0.0.1:57574 16B EchoResponse()\n"
     ]
    },
    {
     "name": "stderr",
     "output_type": "stream",
     "text": [
      "14:52:50|caproto.circ|EchoResponse()\n"
     ]
    },
    {
     "name": "stdout",
     "output_type": "stream",
     "text": [
      "[D 14:53:21.653       common:  688] 127.0.0.1:5064 <<<--- 127.0.0.1:57574 16B EchoRequest()\n"
     ]
    },
    {
     "name": "stderr",
     "output_type": "stream",
     "text": [
      "14:53:21|caproto.circ|EchoRequest()\n"
     ]
    },
    {
     "name": "stdout",
     "output_type": "stream",
     "text": [
      "[D 14:53:21.654     _circuit:  166] 127.0.0.1:5064 --->>> 127.0.0.1:57574 16B EchoResponse()\n"
     ]
    },
    {
     "name": "stderr",
     "output_type": "stream",
     "text": [
      "14:53:21|caproto.circ|EchoResponse()\n"
     ]
    },
    {
     "name": "stdout",
     "output_type": "stream",
     "text": [
      "[D 14:53:53.123       common:  688] 127.0.0.1:5064 <<<--- 127.0.0.1:57574 16B EchoRequest()\n"
     ]
    },
    {
     "name": "stderr",
     "output_type": "stream",
     "text": [
      "14:53:53|caproto.circ|EchoRequest()\n"
     ]
    },
    {
     "name": "stdout",
     "output_type": "stream",
     "text": [
      "[D 14:53:53.124     _circuit:  166] 127.0.0.1:5064 --->>> 127.0.0.1:57574 16B EchoResponse()\n"
     ]
    },
    {
     "name": "stderr",
     "output_type": "stream",
     "text": [
      "14:53:53|caproto.circ|EchoResponse()\n"
     ]
    },
    {
     "name": "stdout",
     "output_type": "stream",
     "text": [
      "[D 14:54:24.530       common:  688] 127.0.0.1:5064 <<<--- 127.0.0.1:57574 16B EchoRequest()\n"
     ]
    },
    {
     "name": "stderr",
     "output_type": "stream",
     "text": [
      "14:54:24|caproto.circ|EchoRequest()\n"
     ]
    },
    {
     "name": "stdout",
     "output_type": "stream",
     "text": [
      "[D 14:54:24.532     _circuit:  166] 127.0.0.1:5064 --->>> 127.0.0.1:57574 16B EchoResponse()\n"
     ]
    },
    {
     "name": "stderr",
     "output_type": "stream",
     "text": [
      "14:54:24|caproto.circ|EchoResponse()\n"
     ]
    },
    {
     "name": "stdout",
     "output_type": "stream",
     "text": [
      "[D 14:54:55.689       common:  688] 127.0.0.1:5064 <<<--- 127.0.0.1:57574 16B EchoRequest()\n"
     ]
    },
    {
     "name": "stderr",
     "output_type": "stream",
     "text": [
      "14:54:55|caproto.circ|EchoRequest()\n"
     ]
    },
    {
     "name": "stdout",
     "output_type": "stream",
     "text": [
      "[D 14:54:55.691     _circuit:  166] 127.0.0.1:5064 --->>> 127.0.0.1:57574 16B EchoResponse()\n"
     ]
    },
    {
     "name": "stderr",
     "output_type": "stream",
     "text": [
      "14:54:55|caproto.circ|EchoResponse()\n"
     ]
    },
    {
     "name": "stdout",
     "output_type": "stream",
     "text": [
      "[D 14:55:26.809       common:  688] 127.0.0.1:5064 <<<--- 127.0.0.1:57574 16B EchoRequest()\n"
     ]
    },
    {
     "name": "stderr",
     "output_type": "stream",
     "text": [
      "14:55:26|caproto.circ|EchoRequest()\n"
     ]
    },
    {
     "name": "stdout",
     "output_type": "stream",
     "text": [
      "[D 14:55:26.811     _circuit:  166] 127.0.0.1:5064 --->>> 127.0.0.1:57574 16B EchoResponse()\n"
     ]
    },
    {
     "name": "stderr",
     "output_type": "stream",
     "text": [
      "14:55:26|caproto.circ|EchoResponse()\n"
     ]
    },
    {
     "name": "stdout",
     "output_type": "stream",
     "text": [
      "[D 14:55:57.912       common:  688] 127.0.0.1:5064 <<<--- 127.0.0.1:57574 16B EchoRequest()\n"
     ]
    },
    {
     "name": "stderr",
     "output_type": "stream",
     "text": [
      "14:55:57|caproto.circ|EchoRequest()\n"
     ]
    },
    {
     "name": "stdout",
     "output_type": "stream",
     "text": [
      "[D 14:55:57.913     _circuit:  166] 127.0.0.1:5064 --->>> 127.0.0.1:57574 16B EchoResponse()\n"
     ]
    },
    {
     "name": "stderr",
     "output_type": "stream",
     "text": [
      "14:55:57|caproto.circ|EchoResponse()\n"
     ]
    },
    {
     "name": "stdout",
     "output_type": "stream",
     "text": [
      "[D 14:56:29.420       common:  688] 127.0.0.1:5064 <<<--- 127.0.0.1:57574 16B EchoRequest()\n"
     ]
    },
    {
     "name": "stderr",
     "output_type": "stream",
     "text": [
      "14:56:29|caproto.circ|EchoRequest()\n"
     ]
    },
    {
     "name": "stdout",
     "output_type": "stream",
     "text": [
      "[D 14:56:29.422     _circuit:  166] 127.0.0.1:5064 --->>> 127.0.0.1:57574 16B EchoResponse()\n"
     ]
    },
    {
     "name": "stderr",
     "output_type": "stream",
     "text": [
      "14:56:29|caproto.circ|EchoResponse()\n"
     ]
    },
    {
     "name": "stdout",
     "output_type": "stream",
     "text": [
      "[D 14:57:00.558       common:  688] 127.0.0.1:5064 <<<--- 127.0.0.1:57574 16B EchoRequest()\n"
     ]
    },
    {
     "name": "stderr",
     "output_type": "stream",
     "text": [
      "14:57:00|caproto.circ|EchoRequest()\n"
     ]
    },
    {
     "name": "stdout",
     "output_type": "stream",
     "text": [
      "[D 14:57:00.560     _circuit:  166] 127.0.0.1:5064 --->>> 127.0.0.1:57574 16B EchoResponse()\n"
     ]
    },
    {
     "name": "stderr",
     "output_type": "stream",
     "text": [
      "14:57:00|caproto.circ|EchoResponse()\n"
     ]
    },
    {
     "name": "stdout",
     "output_type": "stream",
     "text": [
      "[D 14:57:31.612       common:  688] 127.0.0.1:5064 <<<--- 127.0.0.1:57574 16B EchoRequest()\n"
     ]
    },
    {
     "name": "stderr",
     "output_type": "stream",
     "text": [
      "14:57:31|caproto.circ|EchoRequest()\n"
     ]
    },
    {
     "name": "stdout",
     "output_type": "stream",
     "text": [
      "[D 14:57:31.614     _circuit:  166] 127.0.0.1:5064 --->>> 127.0.0.1:57574 16B EchoResponse()\n"
     ]
    },
    {
     "name": "stderr",
     "output_type": "stream",
     "text": [
      "14:57:31|caproto.circ|EchoResponse()\n"
     ]
    },
    {
     "name": "stdout",
     "output_type": "stream",
     "text": [
      "[D 14:58:02.712       common:  688] 127.0.0.1:5064 <<<--- 127.0.0.1:57574 16B EchoRequest()\n"
     ]
    },
    {
     "name": "stderr",
     "output_type": "stream",
     "text": [
      "14:58:02|caproto.circ|EchoRequest()\n"
     ]
    },
    {
     "name": "stdout",
     "output_type": "stream",
     "text": [
      "[D 14:58:02.713     _circuit:  166] 127.0.0.1:5064 --->>> 127.0.0.1:57574 16B EchoResponse()\n"
     ]
    },
    {
     "name": "stderr",
     "output_type": "stream",
     "text": [
      "14:58:02|caproto.circ|EchoResponse()\n"
     ]
    },
    {
     "name": "stdout",
     "output_type": "stream",
     "text": [
      "[D 14:58:33.841       common:  688] 127.0.0.1:5064 <<<--- 127.0.0.1:57574 16B EchoRequest()\n"
     ]
    },
    {
     "name": "stderr",
     "output_type": "stream",
     "text": [
      "14:58:33|caproto.circ|EchoRequest()\n"
     ]
    },
    {
     "name": "stdout",
     "output_type": "stream",
     "text": [
      "[D 14:58:33.843     _circuit:  166] 127.0.0.1:5064 --->>> 127.0.0.1:57574 16B EchoResponse()\n"
     ]
    },
    {
     "name": "stderr",
     "output_type": "stream",
     "text": [
      "14:58:33|caproto.circ|EchoResponse()\n"
     ]
    },
    {
     "name": "stdout",
     "output_type": "stream",
     "text": [
      "[D 14:59:04.901       common:  688] 127.0.0.1:5064 <<<--- 127.0.0.1:57574 16B EchoRequest()\n"
     ]
    },
    {
     "name": "stderr",
     "output_type": "stream",
     "text": [
      "14:59:04|caproto.circ|EchoRequest()\n"
     ]
    },
    {
     "name": "stdout",
     "output_type": "stream",
     "text": [
      "[D 14:59:04.902     _circuit:  166] 127.0.0.1:5064 --->>> 127.0.0.1:57574 16B EchoResponse()\n"
     ]
    },
    {
     "name": "stderr",
     "output_type": "stream",
     "text": [
      "14:59:04|caproto.circ|EchoResponse()\n"
     ]
    },
    {
     "name": "stdout",
     "output_type": "stream",
     "text": [
      "[D 14:59:36.373       common:  688] 127.0.0.1:5064 <<<--- 127.0.0.1:57574 16B EchoRequest()\n"
     ]
    },
    {
     "name": "stderr",
     "output_type": "stream",
     "text": [
      "14:59:36|caproto.circ|EchoRequest()\n"
     ]
    },
    {
     "name": "stdout",
     "output_type": "stream",
     "text": [
      "[D 14:59:36.375     _circuit:  166] 127.0.0.1:5064 --->>> 127.0.0.1:57574 16B EchoResponse()\n"
     ]
    },
    {
     "name": "stderr",
     "output_type": "stream",
     "text": [
      "14:59:36|caproto.circ|EchoResponse()\n"
     ]
    },
    {
     "name": "stdout",
     "output_type": "stream",
     "text": [
      "[D 15:00:07.832       common:  688] 127.0.0.1:5064 <<<--- 127.0.0.1:57574 16B EchoRequest()\n"
     ]
    },
    {
     "name": "stderr",
     "output_type": "stream",
     "text": [
      "15:00:07|caproto.circ|EchoRequest()\n"
     ]
    },
    {
     "name": "stdout",
     "output_type": "stream",
     "text": [
      "[D 15:00:07.833     _circuit:  166] 127.0.0.1:5064 --->>> 127.0.0.1:57574 16B EchoResponse()\n"
     ]
    },
    {
     "name": "stderr",
     "output_type": "stream",
     "text": [
      "15:00:07|caproto.circ|EchoResponse()\n"
     ]
    },
    {
     "name": "stdout",
     "output_type": "stream",
     "text": [
      "[D 15:00:39.011       common:  688] 127.0.0.1:5064 <<<--- 127.0.0.1:57574 16B EchoRequest()\n"
     ]
    },
    {
     "name": "stderr",
     "output_type": "stream",
     "text": [
      "15:00:39|caproto.circ|EchoRequest()\n"
     ]
    },
    {
     "name": "stdout",
     "output_type": "stream",
     "text": [
      "[D 15:00:39.013     _circuit:  166] 127.0.0.1:5064 --->>> 127.0.0.1:57574 16B EchoResponse()\n"
     ]
    },
    {
     "name": "stderr",
     "output_type": "stream",
     "text": [
      "15:00:39|caproto.circ|EchoResponse()\n"
     ]
    },
    {
     "name": "stdout",
     "output_type": "stream",
     "text": [
      "[D 15:01:10.135       common:  688] 127.0.0.1:5064 <<<--- 127.0.0.1:57574 16B EchoRequest()\n"
     ]
    },
    {
     "name": "stderr",
     "output_type": "stream",
     "text": [
      "15:01:10|caproto.circ|EchoRequest()\n"
     ]
    },
    {
     "name": "stdout",
     "output_type": "stream",
     "text": [
      "[D 15:01:10.137     _circuit:  166] 127.0.0.1:5064 --->>> 127.0.0.1:57574 16B EchoResponse()\n"
     ]
    },
    {
     "name": "stderr",
     "output_type": "stream",
     "text": [
      "15:01:10|caproto.circ|EchoResponse()\n"
     ]
    },
    {
     "name": "stdout",
     "output_type": "stream",
     "text": [
      "[D 15:01:41.245       common:  688] 127.0.0.1:5064 <<<--- 127.0.0.1:57574 16B EchoRequest()\n"
     ]
    },
    {
     "name": "stderr",
     "output_type": "stream",
     "text": [
      "15:01:41|caproto.circ|EchoRequest()\n"
     ]
    },
    {
     "name": "stdout",
     "output_type": "stream",
     "text": [
      "[D 15:01:41.247     _circuit:  166] 127.0.0.1:5064 --->>> 127.0.0.1:57574 16B EchoResponse()\n"
     ]
    },
    {
     "name": "stderr",
     "output_type": "stream",
     "text": [
      "15:01:41|caproto.circ|EchoResponse()\n"
     ]
    },
    {
     "name": "stdout",
     "output_type": "stream",
     "text": [
      "[D 15:02:12.356       common:  688] 127.0.0.1:5064 <<<--- 127.0.0.1:57574 16B EchoRequest()\n"
     ]
    },
    {
     "name": "stderr",
     "output_type": "stream",
     "text": [
      "15:02:12|caproto.circ|EchoRequest()\n"
     ]
    },
    {
     "name": "stdout",
     "output_type": "stream",
     "text": [
      "[D 15:02:12.357     _circuit:  166] 127.0.0.1:5064 --->>> 127.0.0.1:57574 16B EchoResponse()\n"
     ]
    },
    {
     "name": "stderr",
     "output_type": "stream",
     "text": [
      "15:02:12|caproto.circ|EchoResponse()\n"
     ]
    },
    {
     "name": "stdout",
     "output_type": "stream",
     "text": [
      "[D 15:02:43.436       common:  688] 127.0.0.1:5064 <<<--- 127.0.0.1:57574 16B EchoRequest()\n"
     ]
    },
    {
     "name": "stderr",
     "output_type": "stream",
     "text": [
      "15:02:43|caproto.circ|EchoRequest()\n"
     ]
    },
    {
     "name": "stdout",
     "output_type": "stream",
     "text": [
      "[D 15:02:43.438     _circuit:  166] 127.0.0.1:5064 --->>> 127.0.0.1:57574 16B EchoResponse()\n"
     ]
    },
    {
     "name": "stderr",
     "output_type": "stream",
     "text": [
      "15:02:43|caproto.circ|EchoResponse()\n"
     ]
    },
    {
     "name": "stdout",
     "output_type": "stream",
     "text": [
      "[D 15:03:14.919       common:  688] 127.0.0.1:5064 <<<--- 127.0.0.1:57574 16B EchoRequest()\n"
     ]
    },
    {
     "name": "stderr",
     "output_type": "stream",
     "text": [
      "15:03:14|caproto.circ|EchoRequest()\n"
     ]
    },
    {
     "name": "stdout",
     "output_type": "stream",
     "text": [
      "[D 15:03:14.921     _circuit:  166] 127.0.0.1:5064 --->>> 127.0.0.1:57574 16B EchoResponse()\n"
     ]
    },
    {
     "name": "stderr",
     "output_type": "stream",
     "text": [
      "15:03:14|caproto.circ|EchoResponse()\n"
     ]
    },
    {
     "name": "stdout",
     "output_type": "stream",
     "text": [
      "[D 15:03:46.400       common:  688] 127.0.0.1:5064 <<<--- 127.0.0.1:57574 16B EchoRequest()\n"
     ]
    },
    {
     "name": "stderr",
     "output_type": "stream",
     "text": [
      "15:03:46|caproto.circ|EchoRequest()\n"
     ]
    },
    {
     "name": "stdout",
     "output_type": "stream",
     "text": [
      "[D 15:03:46.401     _circuit:  166] 127.0.0.1:5064 --->>> 127.0.0.1:57574 16B EchoResponse()\n"
     ]
    },
    {
     "name": "stderr",
     "output_type": "stream",
     "text": [
      "15:03:46|caproto.circ|EchoResponse()\n"
     ]
    },
    {
     "name": "stdout",
     "output_type": "stream",
     "text": [
      "[D 15:04:17.489       common:  688] 127.0.0.1:5064 <<<--- 127.0.0.1:57574 16B EchoRequest()\n"
     ]
    },
    {
     "name": "stderr",
     "output_type": "stream",
     "text": [
      "15:04:17|caproto.circ|EchoRequest()\n"
     ]
    },
    {
     "name": "stdout",
     "output_type": "stream",
     "text": [
      "[D 15:04:17.491     _circuit:  166] 127.0.0.1:5064 --->>> 127.0.0.1:57574 16B EchoResponse()\n"
     ]
    },
    {
     "name": "stderr",
     "output_type": "stream",
     "text": [
      "15:04:17|caproto.circ|EchoResponse()\n"
     ]
    },
    {
     "name": "stdout",
     "output_type": "stream",
     "text": [
      "[D 15:04:48.886       common:  688] 127.0.0.1:5064 <<<--- 127.0.0.1:57574 16B EchoRequest()\n"
     ]
    },
    {
     "name": "stderr",
     "output_type": "stream",
     "text": [
      "15:04:48|caproto.circ|EchoRequest()\n"
     ]
    },
    {
     "name": "stdout",
     "output_type": "stream",
     "text": [
      "[D 15:04:48.888     _circuit:  166] 127.0.0.1:5064 --->>> 127.0.0.1:57574 16B EchoResponse()\n"
     ]
    },
    {
     "name": "stderr",
     "output_type": "stream",
     "text": [
      "15:04:48|caproto.circ|EchoResponse()\n"
     ]
    },
    {
     "name": "stdout",
     "output_type": "stream",
     "text": [
      "[D 15:05:20.187       common:  688] 127.0.0.1:5064 <<<--- 127.0.0.1:57574 16B EchoRequest()\n"
     ]
    },
    {
     "name": "stderr",
     "output_type": "stream",
     "text": [
      "15:05:20|caproto.circ|EchoRequest()\n"
     ]
    },
    {
     "name": "stdout",
     "output_type": "stream",
     "text": [
      "[D 15:05:20.189     _circuit:  166] 127.0.0.1:5064 --->>> 127.0.0.1:57574 16B EchoResponse()\n"
     ]
    },
    {
     "name": "stderr",
     "output_type": "stream",
     "text": [
      "15:05:20|caproto.circ|EchoResponse()\n"
     ]
    },
    {
     "name": "stdout",
     "output_type": "stream",
     "text": [
      "[D 15:05:51.219       common:  688] 127.0.0.1:5064 <<<--- 127.0.0.1:57574 16B EchoRequest()\n"
     ]
    },
    {
     "name": "stderr",
     "output_type": "stream",
     "text": [
      "15:05:51|caproto.circ|EchoRequest()\n"
     ]
    },
    {
     "name": "stdout",
     "output_type": "stream",
     "text": [
      "[D 15:05:51.221     _circuit:  166] 127.0.0.1:5064 --->>> 127.0.0.1:57574 16B EchoResponse()\n"
     ]
    },
    {
     "name": "stderr",
     "output_type": "stream",
     "text": [
      "15:05:51|caproto.circ|EchoResponse()\n"
     ]
    },
    {
     "name": "stdout",
     "output_type": "stream",
     "text": [
      "[D 15:06:22.679       common:  688] 127.0.0.1:5064 <<<--- 127.0.0.1:57574 16B EchoRequest()\n"
     ]
    },
    {
     "name": "stderr",
     "output_type": "stream",
     "text": [
      "15:06:22|caproto.circ|EchoRequest()\n"
     ]
    },
    {
     "name": "stdout",
     "output_type": "stream",
     "text": [
      "[D 15:06:22.680     _circuit:  166] 127.0.0.1:5064 --->>> 127.0.0.1:57574 16B EchoResponse()\n"
     ]
    },
    {
     "name": "stderr",
     "output_type": "stream",
     "text": [
      "15:06:22|caproto.circ|EchoResponse()\n"
     ]
    },
    {
     "name": "stdout",
     "output_type": "stream",
     "text": [
      "[D 15:06:53.800       common:  688] 127.0.0.1:5064 <<<--- 127.0.0.1:57574 16B EchoRequest()\n"
     ]
    },
    {
     "name": "stderr",
     "output_type": "stream",
     "text": [
      "15:06:53|caproto.circ|EchoRequest()\n"
     ]
    },
    {
     "name": "stdout",
     "output_type": "stream",
     "text": [
      "[D 15:06:53.802     _circuit:  166] 127.0.0.1:5064 --->>> 127.0.0.1:57574 16B EchoResponse()\n"
     ]
    },
    {
     "name": "stderr",
     "output_type": "stream",
     "text": [
      "15:06:53|caproto.circ|EchoResponse()\n"
     ]
    },
    {
     "name": "stdout",
     "output_type": "stream",
     "text": [
      "[D 15:07:25.269       common:  688] 127.0.0.1:5064 <<<--- 127.0.0.1:57574 16B EchoRequest()\n"
     ]
    },
    {
     "name": "stderr",
     "output_type": "stream",
     "text": [
      "15:07:25|caproto.circ|EchoRequest()\n"
     ]
    },
    {
     "name": "stdout",
     "output_type": "stream",
     "text": [
      "[D 15:07:25.271     _circuit:  166] 127.0.0.1:5064 --->>> 127.0.0.1:57574 16B EchoResponse()\n"
     ]
    },
    {
     "name": "stderr",
     "output_type": "stream",
     "text": [
      "15:07:25|caproto.circ|EchoResponse()\n"
     ]
    },
    {
     "name": "stdout",
     "output_type": "stream",
     "text": [
      "[D 15:07:56.290       common:  688] 127.0.0.1:5064 <<<--- 127.0.0.1:57574 16B EchoRequest()\n"
     ]
    },
    {
     "name": "stderr",
     "output_type": "stream",
     "text": [
      "15:07:56|caproto.circ|EchoRequest()\n"
     ]
    },
    {
     "name": "stdout",
     "output_type": "stream",
     "text": [
      "[D 15:07:56.292     _circuit:  166] 127.0.0.1:5064 --->>> 127.0.0.1:57574 16B EchoResponse()\n"
     ]
    },
    {
     "name": "stderr",
     "output_type": "stream",
     "text": [
      "15:07:56|caproto.circ|EchoResponse()\n"
     ]
    },
    {
     "name": "stdout",
     "output_type": "stream",
     "text": [
      "[D 15:08:27.318       common:  688] 127.0.0.1:5064 <<<--- 127.0.0.1:57574 16B EchoRequest()\n"
     ]
    },
    {
     "name": "stderr",
     "output_type": "stream",
     "text": [
      "15:08:27|caproto.circ|EchoRequest()\n"
     ]
    },
    {
     "name": "stdout",
     "output_type": "stream",
     "text": [
      "[D 15:08:27.319     _circuit:  166] 127.0.0.1:5064 --->>> 127.0.0.1:57574 16B EchoResponse()\n"
     ]
    },
    {
     "name": "stderr",
     "output_type": "stream",
     "text": [
      "15:08:27|caproto.circ|EchoResponse()\n"
     ]
    },
    {
     "name": "stdout",
     "output_type": "stream",
     "text": [
      "[D 15:08:58.713       common:  688] 127.0.0.1:5064 <<<--- 127.0.0.1:57574 16B EchoRequest()\n"
     ]
    },
    {
     "name": "stderr",
     "output_type": "stream",
     "text": [
      "15:08:58|caproto.circ|EchoRequest()\n"
     ]
    },
    {
     "name": "stdout",
     "output_type": "stream",
     "text": [
      "[D 15:08:58.714     _circuit:  166] 127.0.0.1:5064 --->>> 127.0.0.1:57574 16B EchoResponse()\n"
     ]
    },
    {
     "name": "stderr",
     "output_type": "stream",
     "text": [
      "15:08:58|caproto.circ|EchoResponse()\n"
     ]
    },
    {
     "name": "stdout",
     "output_type": "stream",
     "text": [
      "[D 15:09:29.747       common:  688] 127.0.0.1:5064 <<<--- 127.0.0.1:57574 16B EchoRequest()\n"
     ]
    },
    {
     "name": "stderr",
     "output_type": "stream",
     "text": [
      "15:09:29|caproto.circ|EchoRequest()\n"
     ]
    },
    {
     "name": "stdout",
     "output_type": "stream",
     "text": [
      "[D 15:09:29.749     _circuit:  166] 127.0.0.1:5064 --->>> 127.0.0.1:57574 16B EchoResponse()\n"
     ]
    },
    {
     "name": "stderr",
     "output_type": "stream",
     "text": [
      "15:09:29|caproto.circ|EchoResponse()\n"
     ]
    },
    {
     "name": "stdout",
     "output_type": "stream",
     "text": [
      "[D 15:10:01.271       common:  688] 127.0.0.1:5064 <<<--- 127.0.0.1:57574 16B EchoRequest()\n"
     ]
    },
    {
     "name": "stderr",
     "output_type": "stream",
     "text": [
      "15:10:01|caproto.circ|EchoRequest()\n"
     ]
    },
    {
     "name": "stdout",
     "output_type": "stream",
     "text": [
      "[D 15:10:01.273     _circuit:  166] 127.0.0.1:5064 --->>> 127.0.0.1:57574 16B EchoResponse()\n"
     ]
    },
    {
     "name": "stderr",
     "output_type": "stream",
     "text": [
      "15:10:01|caproto.circ|EchoResponse()\n"
     ]
    },
    {
     "name": "stdout",
     "output_type": "stream",
     "text": [
      "[D 15:10:32.305       common:  688] 127.0.0.1:5064 <<<--- 127.0.0.1:57574 16B EchoRequest()\n"
     ]
    },
    {
     "name": "stderr",
     "output_type": "stream",
     "text": [
      "15:10:32|caproto.circ|EchoRequest()\n"
     ]
    },
    {
     "name": "stdout",
     "output_type": "stream",
     "text": [
      "[D 15:10:32.306     _circuit:  166] 127.0.0.1:5064 --->>> 127.0.0.1:57574 16B EchoResponse()\n"
     ]
    },
    {
     "name": "stderr",
     "output_type": "stream",
     "text": [
      "15:10:32|caproto.circ|EchoResponse()\n"
     ]
    },
    {
     "name": "stdout",
     "output_type": "stream",
     "text": [
      "[D 15:11:03.337       common:  688] 127.0.0.1:5064 <<<--- 127.0.0.1:57574 16B EchoRequest()\n"
     ]
    },
    {
     "name": "stderr",
     "output_type": "stream",
     "text": [
      "15:11:03|caproto.circ|EchoRequest()\n"
     ]
    },
    {
     "name": "stdout",
     "output_type": "stream",
     "text": [
      "[D 15:11:03.338     _circuit:  166] 127.0.0.1:5064 --->>> 127.0.0.1:57574 16B EchoResponse()\n"
     ]
    },
    {
     "name": "stderr",
     "output_type": "stream",
     "text": [
      "15:11:03|caproto.circ|EchoResponse()\n"
     ]
    },
    {
     "name": "stdout",
     "output_type": "stream",
     "text": [
      "[D 15:11:34.473       common:  688] 127.0.0.1:5064 <<<--- 127.0.0.1:57574 16B EchoRequest()\n"
     ]
    },
    {
     "name": "stderr",
     "output_type": "stream",
     "text": [
      "15:11:34|caproto.circ|EchoRequest()\n"
     ]
    },
    {
     "name": "stdout",
     "output_type": "stream",
     "text": [
      "[D 15:11:34.474     _circuit:  166] 127.0.0.1:5064 --->>> 127.0.0.1:57574 16B EchoResponse()\n"
     ]
    },
    {
     "name": "stderr",
     "output_type": "stream",
     "text": [
      "15:11:34|caproto.circ|EchoResponse()\n"
     ]
    },
    {
     "name": "stdout",
     "output_type": "stream",
     "text": [
      "[D 15:12:05.577       common:  688] 127.0.0.1:5064 <<<--- 127.0.0.1:57574 16B EchoRequest()\n"
     ]
    },
    {
     "name": "stderr",
     "output_type": "stream",
     "text": [
      "15:12:05|caproto.circ|EchoRequest()\n"
     ]
    },
    {
     "name": "stdout",
     "output_type": "stream",
     "text": [
      "[D 15:12:05.580     _circuit:  166] 127.0.0.1:5064 --->>> 127.0.0.1:57574 16B EchoResponse()\n"
     ]
    },
    {
     "name": "stderr",
     "output_type": "stream",
     "text": [
      "15:12:05|caproto.circ|EchoResponse()\n"
     ]
    },
    {
     "name": "stdout",
     "output_type": "stream",
     "text": [
      "[D 15:12:36.743       common:  688] 127.0.0.1:5064 <<<--- 127.0.0.1:57574 16B EchoRequest()\n"
     ]
    },
    {
     "name": "stderr",
     "output_type": "stream",
     "text": [
      "15:12:36|caproto.circ|EchoRequest()\n"
     ]
    },
    {
     "name": "stdout",
     "output_type": "stream",
     "text": [
      "[D 15:12:36.745     _circuit:  166] 127.0.0.1:5064 --->>> 127.0.0.1:57574 16B EchoResponse()\n"
     ]
    },
    {
     "name": "stderr",
     "output_type": "stream",
     "text": [
      "15:12:36|caproto.circ|EchoResponse()\n"
     ]
    },
    {
     "name": "stdout",
     "output_type": "stream",
     "text": [
      "[D 15:13:07.904       common:  688] 127.0.0.1:5064 <<<--- 127.0.0.1:57574 16B EchoRequest()\n"
     ]
    },
    {
     "name": "stderr",
     "output_type": "stream",
     "text": [
      "15:13:07|caproto.circ|EchoRequest()\n"
     ]
    },
    {
     "name": "stdout",
     "output_type": "stream",
     "text": [
      "[D 15:13:07.906     _circuit:  166] 127.0.0.1:5064 --->>> 127.0.0.1:57574 16B EchoResponse()\n"
     ]
    },
    {
     "name": "stderr",
     "output_type": "stream",
     "text": [
      "15:13:07|caproto.circ|EchoResponse()\n"
     ]
    },
    {
     "name": "stdout",
     "output_type": "stream",
     "text": [
      "[D 15:13:39.359       common:  688] 127.0.0.1:5064 <<<--- 127.0.0.1:57574 16B EchoRequest()\n"
     ]
    },
    {
     "name": "stderr",
     "output_type": "stream",
     "text": [
      "15:13:39|caproto.circ|EchoRequest()\n"
     ]
    },
    {
     "name": "stdout",
     "output_type": "stream",
     "text": [
      "[D 15:13:39.361     _circuit:  166] 127.0.0.1:5064 --->>> 127.0.0.1:57574 16B EchoResponse()\n"
     ]
    },
    {
     "name": "stderr",
     "output_type": "stream",
     "text": [
      "15:13:39|caproto.circ|EchoResponse()\n"
     ]
    },
    {
     "name": "stdout",
     "output_type": "stream",
     "text": [
      "[D 15:14:10.545       common:  688] 127.0.0.1:5064 <<<--- 127.0.0.1:57574 16B EchoRequest()\n"
     ]
    },
    {
     "name": "stderr",
     "output_type": "stream",
     "text": [
      "15:14:10|caproto.circ|EchoRequest()\n"
     ]
    },
    {
     "name": "stdout",
     "output_type": "stream",
     "text": [
      "[D 15:14:10.547     _circuit:  166] 127.0.0.1:5064 --->>> 127.0.0.1:57574 16B EchoResponse()\n"
     ]
    },
    {
     "name": "stderr",
     "output_type": "stream",
     "text": [
      "15:14:10|caproto.circ|EchoResponse()\n"
     ]
    },
    {
     "name": "stdout",
     "output_type": "stream",
     "text": [
      "[D 15:14:41.690       common:  688] 127.0.0.1:5064 <<<--- 127.0.0.1:57574 16B EchoRequest()\n"
     ]
    },
    {
     "name": "stderr",
     "output_type": "stream",
     "text": [
      "15:14:41|caproto.circ|EchoRequest()\n"
     ]
    },
    {
     "name": "stdout",
     "output_type": "stream",
     "text": [
      "[D 15:14:41.691     _circuit:  166] 127.0.0.1:5064 --->>> 127.0.0.1:57574 16B EchoResponse()\n"
     ]
    },
    {
     "name": "stderr",
     "output_type": "stream",
     "text": [
      "15:14:41|caproto.circ|EchoResponse()\n"
     ]
    },
    {
     "name": "stdout",
     "output_type": "stream",
     "text": [
      "[D 15:15:12.724       common:  688] 127.0.0.1:5064 <<<--- 127.0.0.1:57574 16B EchoRequest()\n"
     ]
    },
    {
     "name": "stderr",
     "output_type": "stream",
     "text": [
      "15:15:12|caproto.circ|EchoRequest()\n"
     ]
    },
    {
     "name": "stdout",
     "output_type": "stream",
     "text": [
      "[D 15:15:12.725     _circuit:  166] 127.0.0.1:5064 --->>> 127.0.0.1:57574 16B EchoResponse()\n"
     ]
    },
    {
     "name": "stderr",
     "output_type": "stream",
     "text": [
      "15:15:12|caproto.circ|EchoResponse()\n"
     ]
    },
    {
     "name": "stdout",
     "output_type": "stream",
     "text": [
      "[D 15:15:43.757       common:  688] 127.0.0.1:5064 <<<--- 127.0.0.1:57574 16B EchoRequest()\n"
     ]
    },
    {
     "name": "stderr",
     "output_type": "stream",
     "text": [
      "15:15:43|caproto.circ|EchoRequest()\n"
     ]
    },
    {
     "name": "stdout",
     "output_type": "stream",
     "text": [
      "[D 15:15:43.758     _circuit:  166] 127.0.0.1:5064 --->>> 127.0.0.1:57574 16B EchoResponse()\n"
     ]
    },
    {
     "name": "stderr",
     "output_type": "stream",
     "text": [
      "15:15:43|caproto.circ|EchoResponse()\n"
     ]
    },
    {
     "name": "stdout",
     "output_type": "stream",
     "text": [
      "[D 15:16:14.871       common:  688] 127.0.0.1:5064 <<<--- 127.0.0.1:57574 16B EchoRequest()\n"
     ]
    },
    {
     "name": "stderr",
     "output_type": "stream",
     "text": [
      "15:16:14|caproto.circ|EchoRequest()\n"
     ]
    },
    {
     "name": "stdout",
     "output_type": "stream",
     "text": [
      "[D 15:16:14.872     _circuit:  166] 127.0.0.1:5064 --->>> 127.0.0.1:57574 16B EchoResponse()\n"
     ]
    },
    {
     "name": "stderr",
     "output_type": "stream",
     "text": [
      "15:16:14|caproto.circ|EchoResponse()\n"
     ]
    },
    {
     "name": "stdout",
     "output_type": "stream",
     "text": [
      "[D 15:16:45.933       common:  688] 127.0.0.1:5064 <<<--- 127.0.0.1:57574 16B EchoRequest()\n"
     ]
    },
    {
     "name": "stderr",
     "output_type": "stream",
     "text": [
      "15:16:45|caproto.circ|EchoRequest()\n"
     ]
    },
    {
     "name": "stdout",
     "output_type": "stream",
     "text": [
      "[D 15:16:45.935     _circuit:  166] 127.0.0.1:5064 --->>> 127.0.0.1:57574 16B EchoResponse()\n"
     ]
    },
    {
     "name": "stderr",
     "output_type": "stream",
     "text": [
      "15:16:45|caproto.circ|EchoResponse()\n"
     ]
    },
    {
     "name": "stdout",
     "output_type": "stream",
     "text": [
      "[D 15:17:17.076       common:  688] 127.0.0.1:5064 <<<--- 127.0.0.1:57574 16B EchoRequest()\n"
     ]
    },
    {
     "name": "stderr",
     "output_type": "stream",
     "text": [
      "15:17:17|caproto.circ|EchoRequest()\n"
     ]
    },
    {
     "name": "stdout",
     "output_type": "stream",
     "text": [
      "[D 15:17:17.078     _circuit:  166] 127.0.0.1:5064 --->>> 127.0.0.1:57574 16B EchoResponse()\n"
     ]
    },
    {
     "name": "stderr",
     "output_type": "stream",
     "text": [
      "15:17:17|caproto.circ|EchoResponse()\n"
     ]
    },
    {
     "name": "stdout",
     "output_type": "stream",
     "text": [
      "[D 15:17:48.204       common:  688] 127.0.0.1:5064 <<<--- 127.0.0.1:57574 16B EchoRequest()\n"
     ]
    },
    {
     "name": "stderr",
     "output_type": "stream",
     "text": [
      "15:17:48|caproto.circ|EchoRequest()\n"
     ]
    },
    {
     "name": "stdout",
     "output_type": "stream",
     "text": [
      "[D 15:17:48.206     _circuit:  166] 127.0.0.1:5064 --->>> 127.0.0.1:57574 16B EchoResponse()\n"
     ]
    },
    {
     "name": "stderr",
     "output_type": "stream",
     "text": [
      "15:17:48|caproto.circ|EchoResponse()\n"
     ]
    },
    {
     "name": "stdout",
     "output_type": "stream",
     "text": [
      "[D 15:18:19.305       common:  688] 127.0.0.1:5064 <<<--- 127.0.0.1:57574 16B EchoRequest()\n"
     ]
    },
    {
     "name": "stderr",
     "output_type": "stream",
     "text": [
      "15:18:19|caproto.circ|EchoRequest()\n"
     ]
    },
    {
     "name": "stdout",
     "output_type": "stream",
     "text": [
      "[D 15:18:19.307     _circuit:  166] 127.0.0.1:5064 --->>> 127.0.0.1:57574 16B EchoResponse()\n"
     ]
    },
    {
     "name": "stderr",
     "output_type": "stream",
     "text": [
      "15:18:19|caproto.circ|EchoResponse()\n"
     ]
    },
    {
     "name": "stdout",
     "output_type": "stream",
     "text": [
      "[D 15:18:50.452       common:  688] 127.0.0.1:5064 <<<--- 127.0.0.1:57574 16B EchoRequest()\n"
     ]
    },
    {
     "name": "stderr",
     "output_type": "stream",
     "text": [
      "15:18:50|caproto.circ|EchoRequest()\n"
     ]
    },
    {
     "name": "stdout",
     "output_type": "stream",
     "text": [
      "[D 15:18:50.453     _circuit:  166] 127.0.0.1:5064 --->>> 127.0.0.1:57574 16B EchoResponse()\n"
     ]
    },
    {
     "name": "stderr",
     "output_type": "stream",
     "text": [
      "15:18:50|caproto.circ|EchoResponse()\n"
     ]
    },
    {
     "name": "stdout",
     "output_type": "stream",
     "text": [
      "[D 15:19:21.580       common:  688] 127.0.0.1:5064 <<<--- 127.0.0.1:57574 16B EchoRequest()\n"
     ]
    },
    {
     "name": "stderr",
     "output_type": "stream",
     "text": [
      "15:19:21|caproto.circ|EchoRequest()\n"
     ]
    },
    {
     "name": "stdout",
     "output_type": "stream",
     "text": [
      "[D 15:19:21.581     _circuit:  166] 127.0.0.1:5064 --->>> 127.0.0.1:57574 16B EchoResponse()\n"
     ]
    },
    {
     "name": "stderr",
     "output_type": "stream",
     "text": [
      "15:19:21|caproto.circ|EchoResponse()\n"
     ]
    },
    {
     "name": "stdout",
     "output_type": "stream",
     "text": [
      "[D 15:19:52.726       common:  688] 127.0.0.1:5064 <<<--- 127.0.0.1:57574 16B EchoRequest()\n"
     ]
    },
    {
     "name": "stderr",
     "output_type": "stream",
     "text": [
      "15:19:52|caproto.circ|EchoRequest()\n"
     ]
    },
    {
     "name": "stdout",
     "output_type": "stream",
     "text": [
      "[D 15:19:52.728     _circuit:  166] 127.0.0.1:5064 --->>> 127.0.0.1:57574 16B EchoResponse()\n"
     ]
    },
    {
     "name": "stderr",
     "output_type": "stream",
     "text": [
      "15:19:52|caproto.circ|EchoResponse()\n"
     ]
    },
    {
     "name": "stdout",
     "output_type": "stream",
     "text": [
      "[D 15:20:24.205       common:  688] 127.0.0.1:5064 <<<--- 127.0.0.1:57574 16B EchoRequest()\n"
     ]
    },
    {
     "name": "stderr",
     "output_type": "stream",
     "text": [
      "15:20:24|caproto.circ|EchoRequest()\n"
     ]
    },
    {
     "name": "stdout",
     "output_type": "stream",
     "text": [
      "[D 15:20:24.207     _circuit:  166] 127.0.0.1:5064 --->>> 127.0.0.1:57574 16B EchoResponse()\n"
     ]
    },
    {
     "name": "stderr",
     "output_type": "stream",
     "text": [
      "15:20:24|caproto.circ|EchoResponse()\n"
     ]
    },
    {
     "name": "stdout",
     "output_type": "stream",
     "text": [
      "[D 15:20:55.352       common:  688] 127.0.0.1:5064 <<<--- 127.0.0.1:57574 16B EchoRequest()\n"
     ]
    },
    {
     "name": "stderr",
     "output_type": "stream",
     "text": [
      "15:20:55|caproto.circ|EchoRequest()\n"
     ]
    },
    {
     "name": "stdout",
     "output_type": "stream",
     "text": [
      "[D 15:20:55.353     _circuit:  166] 127.0.0.1:5064 --->>> 127.0.0.1:57574 16B EchoResponse()\n"
     ]
    },
    {
     "name": "stderr",
     "output_type": "stream",
     "text": [
      "15:20:55|caproto.circ|EchoResponse()\n"
     ]
    },
    {
     "name": "stdout",
     "output_type": "stream",
     "text": [
      "[D 15:21:26.520       common:  688] 127.0.0.1:5064 <<<--- 127.0.0.1:57574 16B EchoRequest()\n"
     ]
    },
    {
     "name": "stderr",
     "output_type": "stream",
     "text": [
      "15:21:26|caproto.circ|EchoRequest()\n"
     ]
    },
    {
     "name": "stdout",
     "output_type": "stream",
     "text": [
      "[D 15:21:26.522     _circuit:  166] 127.0.0.1:5064 --->>> 127.0.0.1:57574 16B EchoResponse()\n"
     ]
    },
    {
     "name": "stderr",
     "output_type": "stream",
     "text": [
      "15:21:26|caproto.circ|EchoResponse()\n"
     ]
    },
    {
     "name": "stdout",
     "output_type": "stream",
     "text": [
      "[D 15:21:57.669       common:  688] 127.0.0.1:5064 <<<--- 127.0.0.1:57574 16B EchoRequest()\n"
     ]
    },
    {
     "name": "stderr",
     "output_type": "stream",
     "text": [
      "15:21:57|caproto.circ|EchoRequest()\n"
     ]
    },
    {
     "name": "stdout",
     "output_type": "stream",
     "text": [
      "[D 15:21:57.670     _circuit:  166] 127.0.0.1:5064 --->>> 127.0.0.1:57574 16B EchoResponse()\n"
     ]
    },
    {
     "name": "stderr",
     "output_type": "stream",
     "text": [
      "15:21:57|caproto.circ|EchoResponse()\n"
     ]
    },
    {
     "name": "stdout",
     "output_type": "stream",
     "text": [
      "[D 15:22:28.820       common:  688] 127.0.0.1:5064 <<<--- 127.0.0.1:57574 16B EchoRequest()\n"
     ]
    },
    {
     "name": "stderr",
     "output_type": "stream",
     "text": [
      "15:22:28|caproto.circ|EchoRequest()\n"
     ]
    },
    {
     "name": "stdout",
     "output_type": "stream",
     "text": [
      "[D 15:22:28.822     _circuit:  166] 127.0.0.1:5064 --->>> 127.0.0.1:57574 16B EchoResponse()\n"
     ]
    },
    {
     "name": "stderr",
     "output_type": "stream",
     "text": [
      "15:22:28|caproto.circ|EchoResponse()\n"
     ]
    },
    {
     "name": "stdout",
     "output_type": "stream",
     "text": [
      "[D 15:23:00.008       common:  688] 127.0.0.1:5064 <<<--- 127.0.0.1:57574 16B EchoRequest()\n"
     ]
    },
    {
     "name": "stderr",
     "output_type": "stream",
     "text": [
      "15:23:00|caproto.circ|EchoRequest()\n"
     ]
    },
    {
     "name": "stdout",
     "output_type": "stream",
     "text": [
      "[D 15:23:00.010     _circuit:  166] 127.0.0.1:5064 --->>> 127.0.0.1:57574 16B EchoResponse()\n"
     ]
    },
    {
     "name": "stderr",
     "output_type": "stream",
     "text": [
      "15:23:00|caproto.circ|EchoResponse()\n"
     ]
    },
    {
     "name": "stdout",
     "output_type": "stream",
     "text": [
      "[D 15:23:31.206       common:  688] 127.0.0.1:5064 <<<--- 127.0.0.1:57574 16B EchoRequest()\n"
     ]
    },
    {
     "name": "stderr",
     "output_type": "stream",
     "text": [
      "15:23:31|caproto.circ|EchoRequest()\n"
     ]
    },
    {
     "name": "stdout",
     "output_type": "stream",
     "text": [
      "[D 15:23:31.207     _circuit:  166] 127.0.0.1:5064 --->>> 127.0.0.1:57574 16B EchoResponse()\n"
     ]
    },
    {
     "name": "stderr",
     "output_type": "stream",
     "text": [
      "15:23:31|caproto.circ|EchoResponse()\n"
     ]
    },
    {
     "name": "stdout",
     "output_type": "stream",
     "text": [
      "[D 15:24:02.359       common:  688] 127.0.0.1:5064 <<<--- 127.0.0.1:57574 16B EchoRequest()\n"
     ]
    },
    {
     "name": "stderr",
     "output_type": "stream",
     "text": [
      "15:24:02|caproto.circ|EchoRequest()\n"
     ]
    },
    {
     "name": "stdout",
     "output_type": "stream",
     "text": [
      "[D 15:24:02.360     _circuit:  166] 127.0.0.1:5064 --->>> 127.0.0.1:57574 16B EchoResponse()\n"
     ]
    },
    {
     "name": "stderr",
     "output_type": "stream",
     "text": [
      "15:24:02|caproto.circ|EchoResponse()\n"
     ]
    },
    {
     "name": "stdout",
     "output_type": "stream",
     "text": [
      "[D 15:24:33.534       common:  688] 127.0.0.1:5064 <<<--- 127.0.0.1:57574 16B EchoRequest()\n"
     ]
    },
    {
     "name": "stderr",
     "output_type": "stream",
     "text": [
      "15:24:33|caproto.circ|EchoRequest()\n"
     ]
    },
    {
     "name": "stdout",
     "output_type": "stream",
     "text": [
      "[D 15:24:33.536     _circuit:  166] 127.0.0.1:5064 --->>> 127.0.0.1:57574 16B EchoResponse()\n"
     ]
    },
    {
     "name": "stderr",
     "output_type": "stream",
     "text": [
      "15:24:33|caproto.circ|EchoResponse()\n"
     ]
    },
    {
     "name": "stdout",
     "output_type": "stream",
     "text": [
      "[D 15:25:04.694       common:  688] 127.0.0.1:5064 <<<--- 127.0.0.1:57574 16B EchoRequest()\n"
     ]
    },
    {
     "name": "stderr",
     "output_type": "stream",
     "text": [
      "15:25:04|caproto.circ|EchoRequest()\n"
     ]
    },
    {
     "name": "stdout",
     "output_type": "stream",
     "text": [
      "[D 15:25:04.695     _circuit:  166] 127.0.0.1:5064 --->>> 127.0.0.1:57574 16B EchoResponse()\n"
     ]
    },
    {
     "name": "stderr",
     "output_type": "stream",
     "text": [
      "15:25:04|caproto.circ|EchoResponse()\n"
     ]
    },
    {
     "name": "stdout",
     "output_type": "stream",
     "text": [
      "[D 15:25:35.848       common:  688] 127.0.0.1:5064 <<<--- 127.0.0.1:57574 16B EchoRequest()\n"
     ]
    },
    {
     "name": "stderr",
     "output_type": "stream",
     "text": [
      "15:25:35|caproto.circ|EchoRequest()\n"
     ]
    },
    {
     "name": "stdout",
     "output_type": "stream",
     "text": [
      "[D 15:25:35.850     _circuit:  166] 127.0.0.1:5064 --->>> 127.0.0.1:57574 16B EchoResponse()\n"
     ]
    },
    {
     "name": "stderr",
     "output_type": "stream",
     "text": [
      "15:25:35|caproto.circ|EchoResponse()\n"
     ]
    },
    {
     "name": "stdout",
     "output_type": "stream",
     "text": [
      "[D 15:26:06.959       common:  688] 127.0.0.1:5064 <<<--- 127.0.0.1:57574 16B EchoRequest()\n"
     ]
    },
    {
     "name": "stderr",
     "output_type": "stream",
     "text": [
      "15:26:06|caproto.circ|EchoRequest()\n"
     ]
    },
    {
     "name": "stdout",
     "output_type": "stream",
     "text": [
      "[D 15:26:06.961     _circuit:  166] 127.0.0.1:5064 --->>> 127.0.0.1:57574 16B EchoResponse()\n"
     ]
    },
    {
     "name": "stderr",
     "output_type": "stream",
     "text": [
      "15:26:06|caproto.circ|EchoResponse()\n"
     ]
    },
    {
     "name": "stdout",
     "output_type": "stream",
     "text": [
      "[D 15:26:38.160       common:  688] 127.0.0.1:5064 <<<--- 127.0.0.1:57574 16B EchoRequest()\n"
     ]
    },
    {
     "name": "stderr",
     "output_type": "stream",
     "text": [
      "15:26:38|caproto.circ|EchoRequest()\n"
     ]
    },
    {
     "name": "stdout",
     "output_type": "stream",
     "text": [
      "[D 15:26:38.161     _circuit:  166] 127.0.0.1:5064 --->>> 127.0.0.1:57574 16B EchoResponse()\n"
     ]
    },
    {
     "name": "stderr",
     "output_type": "stream",
     "text": [
      "15:26:38|caproto.circ|EchoResponse()\n"
     ]
    },
    {
     "name": "stdout",
     "output_type": "stream",
     "text": [
      "[D 15:27:09.283       common:  688] 127.0.0.1:5064 <<<--- 127.0.0.1:57574 16B EchoRequest()\n"
     ]
    },
    {
     "name": "stderr",
     "output_type": "stream",
     "text": [
      "15:27:09|caproto.circ|EchoRequest()\n"
     ]
    },
    {
     "name": "stdout",
     "output_type": "stream",
     "text": [
      "[D 15:27:09.284     _circuit:  166] 127.0.0.1:5064 --->>> 127.0.0.1:57574 16B EchoResponse()\n"
     ]
    },
    {
     "name": "stderr",
     "output_type": "stream",
     "text": [
      "15:27:09|caproto.circ|EchoResponse()\n"
     ]
    },
    {
     "name": "stdout",
     "output_type": "stream",
     "text": [
      "[D 15:27:40.408       common:  688] 127.0.0.1:5064 <<<--- 127.0.0.1:57574 16B EchoRequest()\n"
     ]
    },
    {
     "name": "stderr",
     "output_type": "stream",
     "text": [
      "15:27:40|caproto.circ|EchoRequest()\n"
     ]
    },
    {
     "name": "stdout",
     "output_type": "stream",
     "text": [
      "[D 15:27:40.410     _circuit:  166] 127.0.0.1:5064 --->>> 127.0.0.1:57574 16B EchoResponse()\n"
     ]
    },
    {
     "name": "stderr",
     "output_type": "stream",
     "text": [
      "15:27:40|caproto.circ|EchoResponse()\n"
     ]
    },
    {
     "name": "stdout",
     "output_type": "stream",
     "text": [
      "[D 15:28:11.512       common:  688] 127.0.0.1:5064 <<<--- 127.0.0.1:57574 16B EchoRequest()\n"
     ]
    },
    {
     "name": "stderr",
     "output_type": "stream",
     "text": [
      "15:28:11|caproto.circ|EchoRequest()\n"
     ]
    },
    {
     "name": "stdout",
     "output_type": "stream",
     "text": [
      "[D 15:28:11.514     _circuit:  166] 127.0.0.1:5064 --->>> 127.0.0.1:57574 16B EchoResponse()\n"
     ]
    },
    {
     "name": "stderr",
     "output_type": "stream",
     "text": [
      "15:28:11|caproto.circ|EchoResponse()\n"
     ]
    },
    {
     "name": "stdout",
     "output_type": "stream",
     "text": [
      "[D 15:28:42.651       common:  688] 127.0.0.1:5064 <<<--- 127.0.0.1:57574 16B EchoRequest()\n"
     ]
    },
    {
     "name": "stderr",
     "output_type": "stream",
     "text": [
      "15:28:42|caproto.circ|EchoRequest()\n"
     ]
    },
    {
     "name": "stdout",
     "output_type": "stream",
     "text": [
      "[D 15:28:42.652     _circuit:  166] 127.0.0.1:5064 --->>> 127.0.0.1:57574 16B EchoResponse()\n"
     ]
    },
    {
     "name": "stderr",
     "output_type": "stream",
     "text": [
      "15:28:42|caproto.circ|EchoResponse()\n"
     ]
    },
    {
     "name": "stdout",
     "output_type": "stream",
     "text": [
      "[D 15:29:13.852       common:  688] 127.0.0.1:5064 <<<--- 127.0.0.1:57574 16B EchoRequest()\n"
     ]
    },
    {
     "name": "stderr",
     "output_type": "stream",
     "text": [
      "15:29:13|caproto.circ|EchoRequest()\n"
     ]
    },
    {
     "name": "stdout",
     "output_type": "stream",
     "text": [
      "[D 15:29:13.853     _circuit:  166] 127.0.0.1:5064 --->>> 127.0.0.1:57574 16B EchoResponse()\n"
     ]
    },
    {
     "name": "stderr",
     "output_type": "stream",
     "text": [
      "15:29:13|caproto.circ|EchoResponse()\n"
     ]
    },
    {
     "name": "stdout",
     "output_type": "stream",
     "text": [
      "[D 15:29:45.169       common:  688] 127.0.0.1:5064 <<<--- 127.0.0.1:57574 16B EchoRequest()\n"
     ]
    },
    {
     "name": "stderr",
     "output_type": "stream",
     "text": [
      "15:29:45|caproto.circ|EchoRequest()\n"
     ]
    },
    {
     "name": "stdout",
     "output_type": "stream",
     "text": [
      "[D 15:29:45.170     _circuit:  166] 127.0.0.1:5064 --->>> 127.0.0.1:57574 16B EchoResponse()\n"
     ]
    },
    {
     "name": "stderr",
     "output_type": "stream",
     "text": [
      "15:29:45|caproto.circ|EchoResponse()\n"
     ]
    },
    {
     "name": "stdout",
     "output_type": "stream",
     "text": [
      "[D 15:30:16.286       common:  688] 127.0.0.1:5064 <<<--- 127.0.0.1:57574 16B EchoRequest()\n"
     ]
    },
    {
     "name": "stderr",
     "output_type": "stream",
     "text": [
      "15:30:16|caproto.circ|EchoRequest()\n"
     ]
    },
    {
     "name": "stdout",
     "output_type": "stream",
     "text": [
      "[D 15:30:16.288     _circuit:  166] 127.0.0.1:5064 --->>> 127.0.0.1:57574 16B EchoResponse()\n"
     ]
    },
    {
     "name": "stderr",
     "output_type": "stream",
     "text": [
      "15:30:16|caproto.circ|EchoResponse()\n"
     ]
    },
    {
     "name": "stdout",
     "output_type": "stream",
     "text": [
      "[D 15:30:47.797       common:  688] 127.0.0.1:5064 <<<--- 127.0.0.1:57574 16B EchoRequest()\n"
     ]
    },
    {
     "name": "stderr",
     "output_type": "stream",
     "text": [
      "15:30:47|caproto.circ|EchoRequest()\n"
     ]
    },
    {
     "name": "stdout",
     "output_type": "stream",
     "text": [
      "[D 15:30:47.799     _circuit:  166] 127.0.0.1:5064 --->>> 127.0.0.1:57574 16B EchoResponse()\n"
     ]
    },
    {
     "name": "stderr",
     "output_type": "stream",
     "text": [
      "15:30:47|caproto.circ|EchoResponse()\n"
     ]
    },
    {
     "name": "stdout",
     "output_type": "stream",
     "text": [
      "[D 15:31:19.291       common:  688] 127.0.0.1:5064 <<<--- 127.0.0.1:57574 16B EchoRequest()\n"
     ]
    },
    {
     "name": "stderr",
     "output_type": "stream",
     "text": [
      "15:31:19|caproto.circ|EchoRequest()\n"
     ]
    },
    {
     "name": "stdout",
     "output_type": "stream",
     "text": [
      "[D 15:31:19.292     _circuit:  166] 127.0.0.1:5064 --->>> 127.0.0.1:57574 16B EchoResponse()\n"
     ]
    },
    {
     "name": "stderr",
     "output_type": "stream",
     "text": [
      "15:31:19|caproto.circ|EchoResponse()\n"
     ]
    },
    {
     "name": "stdout",
     "output_type": "stream",
     "text": [
      "[D 15:31:50.516       common:  688] 127.0.0.1:5064 <<<--- 127.0.0.1:57574 16B EchoRequest()\n"
     ]
    },
    {
     "name": "stderr",
     "output_type": "stream",
     "text": [
      "15:31:50|caproto.circ|EchoRequest()\n"
     ]
    },
    {
     "name": "stdout",
     "output_type": "stream",
     "text": [
      "[D 15:31:50.517     _circuit:  166] 127.0.0.1:5064 --->>> 127.0.0.1:57574 16B EchoResponse()\n"
     ]
    },
    {
     "name": "stderr",
     "output_type": "stream",
     "text": [
      "15:31:50|caproto.circ|EchoResponse()\n"
     ]
    },
    {
     "name": "stdout",
     "output_type": "stream",
     "text": [
      "[D 15:32:21.614       common:  688] 127.0.0.1:5064 <<<--- 127.0.0.1:57574 16B EchoRequest()\n"
     ]
    },
    {
     "name": "stderr",
     "output_type": "stream",
     "text": [
      "15:32:21|caproto.circ|EchoRequest()\n"
     ]
    },
    {
     "name": "stdout",
     "output_type": "stream",
     "text": [
      "[D 15:32:21.616     _circuit:  166] 127.0.0.1:5064 --->>> 127.0.0.1:57574 16B EchoResponse()\n"
     ]
    },
    {
     "name": "stderr",
     "output_type": "stream",
     "text": [
      "15:32:21|caproto.circ|EchoResponse()\n"
     ]
    },
    {
     "name": "stdout",
     "output_type": "stream",
     "text": [
      "[D 15:32:52.739       common:  688] 127.0.0.1:5064 <<<--- 127.0.0.1:57574 16B EchoRequest()\n"
     ]
    },
    {
     "name": "stderr",
     "output_type": "stream",
     "text": [
      "15:32:52|caproto.circ|EchoRequest()\n"
     ]
    },
    {
     "name": "stdout",
     "output_type": "stream",
     "text": [
      "[D 15:32:52.741     _circuit:  166] 127.0.0.1:5064 --->>> 127.0.0.1:57574 16B EchoResponse()\n"
     ]
    },
    {
     "name": "stderr",
     "output_type": "stream",
     "text": [
      "15:32:52|caproto.circ|EchoResponse()\n"
     ]
    },
    {
     "name": "stdout",
     "output_type": "stream",
     "text": [
      "[D 15:33:23.935       common:  688] 127.0.0.1:5064 <<<--- 127.0.0.1:57574 16B EchoRequest()\n"
     ]
    },
    {
     "name": "stderr",
     "output_type": "stream",
     "text": [
      "15:33:23|caproto.circ|EchoRequest()\n"
     ]
    },
    {
     "name": "stdout",
     "output_type": "stream",
     "text": [
      "[D 15:33:23.936     _circuit:  166] 127.0.0.1:5064 --->>> 127.0.0.1:57574 16B EchoResponse()\n"
     ]
    },
    {
     "name": "stderr",
     "output_type": "stream",
     "text": [
      "15:33:23|caproto.circ|EchoResponse()\n"
     ]
    },
    {
     "name": "stdout",
     "output_type": "stream",
     "text": [
      "[D 15:33:55.080       common:  688] 127.0.0.1:5064 <<<--- 127.0.0.1:57574 16B EchoRequest()\n"
     ]
    },
    {
     "name": "stderr",
     "output_type": "stream",
     "text": [
      "15:33:55|caproto.circ|EchoRequest()\n"
     ]
    },
    {
     "name": "stdout",
     "output_type": "stream",
     "text": [
      "[D 15:33:55.081     _circuit:  166] 127.0.0.1:5064 --->>> 127.0.0.1:57574 16B EchoResponse()\n"
     ]
    },
    {
     "name": "stderr",
     "output_type": "stream",
     "text": [
      "15:33:55|caproto.circ|EchoResponse()\n"
     ]
    },
    {
     "name": "stdout",
     "output_type": "stream",
     "text": [
      "[D 15:34:26.214       common:  688] 127.0.0.1:5064 <<<--- 127.0.0.1:57574 16B EchoRequest()\n"
     ]
    },
    {
     "name": "stderr",
     "output_type": "stream",
     "text": [
      "15:34:26|caproto.circ|EchoRequest()\n"
     ]
    },
    {
     "name": "stdout",
     "output_type": "stream",
     "text": [
      "[D 15:34:26.216     _circuit:  166] 127.0.0.1:5064 --->>> 127.0.0.1:57574 16B EchoResponse()\n"
     ]
    },
    {
     "name": "stderr",
     "output_type": "stream",
     "text": [
      "15:34:26|caproto.circ|EchoResponse()\n"
     ]
    },
    {
     "name": "stdout",
     "output_type": "stream",
     "text": [
      "[D 15:34:57.411       common:  688] 127.0.0.1:5064 <<<--- 127.0.0.1:57574 16B EchoRequest()\n"
     ]
    },
    {
     "name": "stderr",
     "output_type": "stream",
     "text": [
      "15:34:57|caproto.circ|EchoRequest()\n"
     ]
    },
    {
     "name": "stdout",
     "output_type": "stream",
     "text": [
      "[D 15:34:57.413     _circuit:  166] 127.0.0.1:5064 --->>> 127.0.0.1:57574 16B EchoResponse()\n"
     ]
    },
    {
     "name": "stderr",
     "output_type": "stream",
     "text": [
      "15:34:57|caproto.circ|EchoResponse()\n"
     ]
    },
    {
     "name": "stdout",
     "output_type": "stream",
     "text": [
      "[D 15:35:28.498       common:  688] 127.0.0.1:5064 <<<--- 127.0.0.1:57574 16B EchoRequest()\n"
     ]
    },
    {
     "name": "stderr",
     "output_type": "stream",
     "text": [
      "15:35:28|caproto.circ|EchoRequest()\n"
     ]
    },
    {
     "name": "stdout",
     "output_type": "stream",
     "text": [
      "[D 15:35:28.499     _circuit:  166] 127.0.0.1:5064 --->>> 127.0.0.1:57574 16B EchoResponse()\n"
     ]
    },
    {
     "name": "stderr",
     "output_type": "stream",
     "text": [
      "15:35:28|caproto.circ|EchoResponse()\n"
     ]
    },
    {
     "name": "stdout",
     "output_type": "stream",
     "text": [
      "[D 15:35:59.984       common:  688] 127.0.0.1:5064 <<<--- 127.0.0.1:57574 16B EchoRequest()\n"
     ]
    },
    {
     "name": "stderr",
     "output_type": "stream",
     "text": [
      "15:35:59|caproto.circ|EchoRequest()\n"
     ]
    },
    {
     "name": "stdout",
     "output_type": "stream",
     "text": [
      "[D 15:35:59.986     _circuit:  166] 127.0.0.1:5064 --->>> 127.0.0.1:57574 16B EchoResponse()\n"
     ]
    },
    {
     "name": "stderr",
     "output_type": "stream",
     "text": [
      "15:35:59|caproto.circ|EchoResponse()\n"
     ]
    },
    {
     "name": "stdout",
     "output_type": "stream",
     "text": [
      "[D 15:36:31.499       common:  688] 127.0.0.1:5064 <<<--- 127.0.0.1:57574 16B EchoRequest()\n"
     ]
    },
    {
     "name": "stderr",
     "output_type": "stream",
     "text": [
      "15:36:31|caproto.circ|EchoRequest()\n"
     ]
    },
    {
     "name": "stdout",
     "output_type": "stream",
     "text": [
      "[D 15:36:31.500     _circuit:  166] 127.0.0.1:5064 --->>> 127.0.0.1:57574 16B EchoResponse()\n"
     ]
    },
    {
     "name": "stderr",
     "output_type": "stream",
     "text": [
      "15:36:31|caproto.circ|EchoResponse()\n"
     ]
    },
    {
     "name": "stdout",
     "output_type": "stream",
     "text": [
      "[D 15:37:03.000       common:  688] 127.0.0.1:5064 <<<--- 127.0.0.1:57574 16B EchoRequest()\n"
     ]
    },
    {
     "name": "stderr",
     "output_type": "stream",
     "text": [
      "15:37:03|caproto.circ|EchoRequest()\n"
     ]
    },
    {
     "name": "stdout",
     "output_type": "stream",
     "text": [
      "[D 15:37:03.002     _circuit:  166] 127.0.0.1:5064 --->>> 127.0.0.1:57574 16B EchoResponse()\n"
     ]
    },
    {
     "name": "stderr",
     "output_type": "stream",
     "text": [
      "15:37:03|caproto.circ|EchoResponse()\n"
     ]
    },
    {
     "name": "stdout",
     "output_type": "stream",
     "text": [
      "[D 15:37:34.517       common:  688] 127.0.0.1:5064 <<<--- 127.0.0.1:57574 16B EchoRequest()\n"
     ]
    },
    {
     "name": "stderr",
     "output_type": "stream",
     "text": [
      "15:37:34|caproto.circ|EchoRequest()\n"
     ]
    },
    {
     "name": "stdout",
     "output_type": "stream",
     "text": [
      "[D 15:37:34.519     _circuit:  166] 127.0.0.1:5064 --->>> 127.0.0.1:57574 16B EchoResponse()\n"
     ]
    },
    {
     "name": "stderr",
     "output_type": "stream",
     "text": [
      "15:37:34|caproto.circ|EchoResponse()\n"
     ]
    },
    {
     "name": "stdout",
     "output_type": "stream",
     "text": [
      "[D 15:38:05.611       common:  688] 127.0.0.1:5064 <<<--- 127.0.0.1:57574 16B EchoRequest()\n"
     ]
    },
    {
     "name": "stderr",
     "output_type": "stream",
     "text": [
      "15:38:05|caproto.circ|EchoRequest()\n"
     ]
    },
    {
     "name": "stdout",
     "output_type": "stream",
     "text": [
      "[D 15:38:05.613     _circuit:  166] 127.0.0.1:5064 --->>> 127.0.0.1:57574 16B EchoResponse()\n"
     ]
    },
    {
     "name": "stderr",
     "output_type": "stream",
     "text": [
      "15:38:05|caproto.circ|EchoResponse()\n"
     ]
    },
    {
     "name": "stdout",
     "output_type": "stream",
     "text": [
      "[D 15:38:36.710       common:  688] 127.0.0.1:5064 <<<--- 127.0.0.1:57574 16B EchoRequest()\n"
     ]
    },
    {
     "name": "stderr",
     "output_type": "stream",
     "text": [
      "15:38:36|caproto.circ|EchoRequest()\n"
     ]
    },
    {
     "name": "stdout",
     "output_type": "stream",
     "text": [
      "[D 15:38:36.711     _circuit:  166] 127.0.0.1:5064 --->>> 127.0.0.1:57574 16B EchoResponse()\n"
     ]
    },
    {
     "name": "stderr",
     "output_type": "stream",
     "text": [
      "15:38:36|caproto.circ|EchoResponse()\n"
     ]
    },
    {
     "name": "stdout",
     "output_type": "stream",
     "text": [
      "[D 15:39:07.783       common:  688] 127.0.0.1:5064 <<<--- 127.0.0.1:57574 16B EchoRequest()\n"
     ]
    },
    {
     "name": "stderr",
     "output_type": "stream",
     "text": [
      "15:39:07|caproto.circ|EchoRequest()\n"
     ]
    },
    {
     "name": "stdout",
     "output_type": "stream",
     "text": [
      "[D 15:39:07.785     _circuit:  166] 127.0.0.1:5064 --->>> 127.0.0.1:57574 16B EchoResponse()\n"
     ]
    },
    {
     "name": "stderr",
     "output_type": "stream",
     "text": [
      "15:39:07|caproto.circ|EchoResponse()\n"
     ]
    },
    {
     "name": "stdout",
     "output_type": "stream",
     "text": [
      "[D 15:39:38.876       common:  688] 127.0.0.1:5064 <<<--- 127.0.0.1:57574 16B EchoRequest()\n"
     ]
    },
    {
     "name": "stderr",
     "output_type": "stream",
     "text": [
      "15:39:38|caproto.circ|EchoRequest()\n"
     ]
    },
    {
     "name": "stdout",
     "output_type": "stream",
     "text": [
      "[D 15:39:38.878     _circuit:  166] 127.0.0.1:5064 --->>> 127.0.0.1:57574 16B EchoResponse()\n"
     ]
    },
    {
     "name": "stderr",
     "output_type": "stream",
     "text": [
      "15:39:38|caproto.circ|EchoResponse()\n"
     ]
    },
    {
     "name": "stdout",
     "output_type": "stream",
     "text": [
      "[D 15:40:09.986       common:  688] 127.0.0.1:5064 <<<--- 127.0.0.1:57574 16B EchoRequest()\n"
     ]
    },
    {
     "name": "stderr",
     "output_type": "stream",
     "text": [
      "15:40:09|caproto.circ|EchoRequest()\n"
     ]
    },
    {
     "name": "stdout",
     "output_type": "stream",
     "text": [
      "[D 15:40:09.987     _circuit:  166] 127.0.0.1:5064 --->>> 127.0.0.1:57574 16B EchoResponse()\n"
     ]
    },
    {
     "name": "stderr",
     "output_type": "stream",
     "text": [
      "15:40:09|caproto.circ|EchoResponse()\n"
     ]
    },
    {
     "name": "stdout",
     "output_type": "stream",
     "text": [
      "[D 15:40:41.111       common:  688] 127.0.0.1:5064 <<<--- 127.0.0.1:57574 16B EchoRequest()\n"
     ]
    },
    {
     "name": "stderr",
     "output_type": "stream",
     "text": [
      "15:40:41|caproto.circ|EchoRequest()\n"
     ]
    },
    {
     "name": "stdout",
     "output_type": "stream",
     "text": [
      "[D 15:40:41.112     _circuit:  166] 127.0.0.1:5064 --->>> 127.0.0.1:57574 16B EchoResponse()\n"
     ]
    },
    {
     "name": "stderr",
     "output_type": "stream",
     "text": [
      "15:40:41|caproto.circ|EchoResponse()\n"
     ]
    },
    {
     "name": "stdout",
     "output_type": "stream",
     "text": [
      "[D 15:41:12.275       common:  688] 127.0.0.1:5064 <<<--- 127.0.0.1:57574 16B EchoRequest()\n"
     ]
    },
    {
     "name": "stderr",
     "output_type": "stream",
     "text": [
      "15:41:12|caproto.circ|EchoRequest()\n"
     ]
    },
    {
     "name": "stdout",
     "output_type": "stream",
     "text": [
      "[D 15:41:12.277     _circuit:  166] 127.0.0.1:5064 --->>> 127.0.0.1:57574 16B EchoResponse()\n"
     ]
    },
    {
     "name": "stderr",
     "output_type": "stream",
     "text": [
      "15:41:12|caproto.circ|EchoResponse()\n"
     ]
    },
    {
     "name": "stdout",
     "output_type": "stream",
     "text": [
      "[D 15:41:43.399       common:  688] 127.0.0.1:5064 <<<--- 127.0.0.1:57574 16B EchoRequest()\n"
     ]
    },
    {
     "name": "stderr",
     "output_type": "stream",
     "text": [
      "15:41:43|caproto.circ|EchoRequest()\n"
     ]
    },
    {
     "name": "stdout",
     "output_type": "stream",
     "text": [
      "[D 15:41:43.400     _circuit:  166] 127.0.0.1:5064 --->>> 127.0.0.1:57574 16B EchoResponse()\n"
     ]
    },
    {
     "name": "stderr",
     "output_type": "stream",
     "text": [
      "15:41:43|caproto.circ|EchoResponse()\n"
     ]
    },
    {
     "name": "stdout",
     "output_type": "stream",
     "text": [
      "[D 15:42:14.427       common:  688] 127.0.0.1:5064 <<<--- 127.0.0.1:57574 16B EchoRequest()\n"
     ]
    },
    {
     "name": "stderr",
     "output_type": "stream",
     "text": [
      "15:42:14|caproto.circ|EchoRequest()\n"
     ]
    },
    {
     "name": "stdout",
     "output_type": "stream",
     "text": [
      "[D 15:42:14.429     _circuit:  166] 127.0.0.1:5064 --->>> 127.0.0.1:57574 16B EchoResponse()\n"
     ]
    },
    {
     "name": "stderr",
     "output_type": "stream",
     "text": [
      "15:42:14|caproto.circ|EchoResponse()\n"
     ]
    },
    {
     "name": "stdout",
     "output_type": "stream",
     "text": [
      "[D 15:42:45.492       common:  688] 127.0.0.1:5064 <<<--- 127.0.0.1:57574 16B EchoRequest()\n"
     ]
    },
    {
     "name": "stderr",
     "output_type": "stream",
     "text": [
      "15:42:45|caproto.circ|EchoRequest()\n"
     ]
    },
    {
     "name": "stdout",
     "output_type": "stream",
     "text": [
      "[D 15:42:45.494     _circuit:  166] 127.0.0.1:5064 --->>> 127.0.0.1:57574 16B EchoResponse()\n"
     ]
    },
    {
     "name": "stderr",
     "output_type": "stream",
     "text": [
      "15:42:45|caproto.circ|EchoResponse()\n"
     ]
    },
    {
     "name": "stdout",
     "output_type": "stream",
     "text": [
      "[D 15:43:16.562       common:  688] 127.0.0.1:5064 <<<--- 127.0.0.1:57574 16B EchoRequest()\n"
     ]
    },
    {
     "name": "stderr",
     "output_type": "stream",
     "text": [
      "15:43:16|caproto.circ|EchoRequest()\n"
     ]
    },
    {
     "name": "stdout",
     "output_type": "stream",
     "text": [
      "[D 15:43:16.563     _circuit:  166] 127.0.0.1:5064 --->>> 127.0.0.1:57574 16B EchoResponse()\n"
     ]
    },
    {
     "name": "stderr",
     "output_type": "stream",
     "text": [
      "15:43:16|caproto.circ|EchoResponse()\n"
     ]
    },
    {
     "name": "stdout",
     "output_type": "stream",
     "text": [
      "[D 15:43:47.606       common:  688] 127.0.0.1:5064 <<<--- 127.0.0.1:57574 16B EchoRequest()\n"
     ]
    },
    {
     "name": "stderr",
     "output_type": "stream",
     "text": [
      "15:43:47|caproto.circ|EchoRequest()\n"
     ]
    },
    {
     "name": "stdout",
     "output_type": "stream",
     "text": [
      "[D 15:43:47.608     _circuit:  166] 127.0.0.1:5064 --->>> 127.0.0.1:57574 16B EchoResponse()\n"
     ]
    },
    {
     "name": "stderr",
     "output_type": "stream",
     "text": [
      "15:43:47|caproto.circ|EchoResponse()\n"
     ]
    },
    {
     "name": "stdout",
     "output_type": "stream",
     "text": [
      "[D 15:44:18.712       common:  688] 127.0.0.1:5064 <<<--- 127.0.0.1:57574 16B EchoRequest()\n"
     ]
    },
    {
     "name": "stderr",
     "output_type": "stream",
     "text": [
      "15:44:18|caproto.circ|EchoRequest()\n"
     ]
    },
    {
     "name": "stdout",
     "output_type": "stream",
     "text": [
      "[D 15:44:18.713     _circuit:  166] 127.0.0.1:5064 --->>> 127.0.0.1:57574 16B EchoResponse()\n"
     ]
    },
    {
     "name": "stderr",
     "output_type": "stream",
     "text": [
      "15:44:18|caproto.circ|EchoResponse()\n"
     ]
    },
    {
     "name": "stdout",
     "output_type": "stream",
     "text": [
      "[D 15:44:49.886       common:  688] 127.0.0.1:5064 <<<--- 127.0.0.1:57574 16B EchoRequest()\n"
     ]
    },
    {
     "name": "stderr",
     "output_type": "stream",
     "text": [
      "15:44:49|caproto.circ|EchoRequest()\n"
     ]
    },
    {
     "name": "stdout",
     "output_type": "stream",
     "text": [
      "[D 15:44:49.888     _circuit:  166] 127.0.0.1:5064 --->>> 127.0.0.1:57574 16B EchoResponse()\n"
     ]
    },
    {
     "name": "stderr",
     "output_type": "stream",
     "text": [
      "15:44:49|caproto.circ|EchoResponse()\n"
     ]
    },
    {
     "name": "stdout",
     "output_type": "stream",
     "text": [
      "[D 15:45:21.351       common:  688] 127.0.0.1:5064 <<<--- 127.0.0.1:57574 16B EchoRequest()\n"
     ]
    },
    {
     "name": "stderr",
     "output_type": "stream",
     "text": [
      "15:45:21|caproto.circ|EchoRequest()\n"
     ]
    },
    {
     "name": "stdout",
     "output_type": "stream",
     "text": [
      "[D 15:45:21.352     _circuit:  166] 127.0.0.1:5064 --->>> 127.0.0.1:57574 16B EchoResponse()\n"
     ]
    },
    {
     "name": "stderr",
     "output_type": "stream",
     "text": [
      "15:45:21|caproto.circ|EchoResponse()\n"
     ]
    },
    {
     "name": "stdout",
     "output_type": "stream",
     "text": [
      "[D 15:45:52.515       common:  688] 127.0.0.1:5064 <<<--- 127.0.0.1:57574 16B EchoRequest()\n"
     ]
    },
    {
     "name": "stderr",
     "output_type": "stream",
     "text": [
      "15:45:52|caproto.circ|EchoRequest()\n"
     ]
    },
    {
     "name": "stdout",
     "output_type": "stream",
     "text": [
      "[D 15:45:52.516     _circuit:  166] 127.0.0.1:5064 --->>> 127.0.0.1:57574 16B EchoResponse()\n"
     ]
    },
    {
     "name": "stderr",
     "output_type": "stream",
     "text": [
      "15:45:52|caproto.circ|EchoResponse()\n"
     ]
    },
    {
     "name": "stdout",
     "output_type": "stream",
     "text": [
      "[D 15:46:23.671       common:  688] 127.0.0.1:5064 <<<--- 127.0.0.1:57574 16B EchoRequest()\n"
     ]
    },
    {
     "name": "stderr",
     "output_type": "stream",
     "text": [
      "15:46:23|caproto.circ|EchoRequest()\n"
     ]
    },
    {
     "name": "stdout",
     "output_type": "stream",
     "text": [
      "[D 15:46:23.672     _circuit:  166] 127.0.0.1:5064 --->>> 127.0.0.1:57574 16B EchoResponse()\n"
     ]
    },
    {
     "name": "stderr",
     "output_type": "stream",
     "text": [
      "15:46:23|caproto.circ|EchoResponse()\n"
     ]
    },
    {
     "name": "stdout",
     "output_type": "stream",
     "text": [
      "[D 15:46:54.760       common:  688] 127.0.0.1:5064 <<<--- 127.0.0.1:57574 16B EchoRequest()\n"
     ]
    },
    {
     "name": "stderr",
     "output_type": "stream",
     "text": [
      "15:46:54|caproto.circ|EchoRequest()\n"
     ]
    },
    {
     "name": "stdout",
     "output_type": "stream",
     "text": [
      "[D 15:46:54.762     _circuit:  166] 127.0.0.1:5064 --->>> 127.0.0.1:57574 16B EchoResponse()\n"
     ]
    },
    {
     "name": "stderr",
     "output_type": "stream",
     "text": [
      "15:46:54|caproto.circ|EchoResponse()\n"
     ]
    },
    {
     "name": "stdout",
     "output_type": "stream",
     "text": [
      "[D 15:47:25.853       common:  688] 127.0.0.1:5064 <<<--- 127.0.0.1:57574 16B EchoRequest()\n"
     ]
    },
    {
     "name": "stderr",
     "output_type": "stream",
     "text": [
      "15:47:25|caproto.circ|EchoRequest()\n"
     ]
    },
    {
     "name": "stdout",
     "output_type": "stream",
     "text": [
      "[D 15:47:25.855     _circuit:  166] 127.0.0.1:5064 --->>> 127.0.0.1:57574 16B EchoResponse()\n"
     ]
    },
    {
     "name": "stderr",
     "output_type": "stream",
     "text": [
      "15:47:25|caproto.circ|EchoResponse()\n"
     ]
    },
    {
     "name": "stdout",
     "output_type": "stream",
     "text": [
      "[D 15:47:56.988       common:  688] 127.0.0.1:5064 <<<--- 127.0.0.1:57574 16B EchoRequest()\n"
     ]
    },
    {
     "name": "stderr",
     "output_type": "stream",
     "text": [
      "15:47:56|caproto.circ|EchoRequest()\n"
     ]
    },
    {
     "name": "stdout",
     "output_type": "stream",
     "text": [
      "[D 15:47:56.990     _circuit:  166] 127.0.0.1:5064 --->>> 127.0.0.1:57574 16B EchoResponse()\n"
     ]
    },
    {
     "name": "stderr",
     "output_type": "stream",
     "text": [
      "15:47:56|caproto.circ|EchoResponse()\n"
     ]
    },
    {
     "name": "stdout",
     "output_type": "stream",
     "text": [
      "[D 15:48:28.115       common:  688] 127.0.0.1:5064 <<<--- 127.0.0.1:57574 16B EchoRequest()\n"
     ]
    },
    {
     "name": "stderr",
     "output_type": "stream",
     "text": [
      "15:48:28|caproto.circ|EchoRequest()\n"
     ]
    },
    {
     "name": "stdout",
     "output_type": "stream",
     "text": [
      "[D 15:48:28.117     _circuit:  166] 127.0.0.1:5064 --->>> 127.0.0.1:57574 16B EchoResponse()\n"
     ]
    },
    {
     "name": "stderr",
     "output_type": "stream",
     "text": [
      "15:48:28|caproto.circ|EchoResponse()\n"
     ]
    },
    {
     "name": "stdout",
     "output_type": "stream",
     "text": [
      "[D 15:48:59.228       common:  688] 127.0.0.1:5064 <<<--- 127.0.0.1:57574 16B EchoRequest()\n"
     ]
    },
    {
     "name": "stderr",
     "output_type": "stream",
     "text": [
      "15:48:59|caproto.circ|EchoRequest()\n"
     ]
    },
    {
     "name": "stdout",
     "output_type": "stream",
     "text": [
      "[D 15:48:59.229     _circuit:  166] 127.0.0.1:5064 --->>> 127.0.0.1:57574 16B EchoResponse()\n"
     ]
    },
    {
     "name": "stderr",
     "output_type": "stream",
     "text": [
      "15:48:59|caproto.circ|EchoResponse()\n"
     ]
    },
    {
     "name": "stdout",
     "output_type": "stream",
     "text": [
      "[D 15:49:30.299       common:  688] 127.0.0.1:5064 <<<--- 127.0.0.1:57574 16B EchoRequest()\n"
     ]
    },
    {
     "name": "stderr",
     "output_type": "stream",
     "text": [
      "15:49:30|caproto.circ|EchoRequest()\n"
     ]
    },
    {
     "name": "stdout",
     "output_type": "stream",
     "text": [
      "[D 15:49:30.300     _circuit:  166] 127.0.0.1:5064 --->>> 127.0.0.1:57574 16B EchoResponse()\n"
     ]
    },
    {
     "name": "stderr",
     "output_type": "stream",
     "text": [
      "15:49:30|caproto.circ|EchoResponse()\n"
     ]
    },
    {
     "name": "stdout",
     "output_type": "stream",
     "text": [
      "[D 15:50:01.410       common:  688] 127.0.0.1:5064 <<<--- 127.0.0.1:57574 16B EchoRequest()\n"
     ]
    },
    {
     "name": "stderr",
     "output_type": "stream",
     "text": [
      "15:50:01|caproto.circ|EchoRequest()\n"
     ]
    },
    {
     "name": "stdout",
     "output_type": "stream",
     "text": [
      "[D 15:50:01.411     _circuit:  166] 127.0.0.1:5064 --->>> 127.0.0.1:57574 16B EchoResponse()\n"
     ]
    },
    {
     "name": "stderr",
     "output_type": "stream",
     "text": [
      "15:50:01|caproto.circ|EchoResponse()\n"
     ]
    },
    {
     "name": "stdout",
     "output_type": "stream",
     "text": [
      "[D 15:50:32.506       common:  688] 127.0.0.1:5064 <<<--- 127.0.0.1:57574 16B EchoRequest()\n"
     ]
    },
    {
     "name": "stderr",
     "output_type": "stream",
     "text": [
      "15:50:32|caproto.circ|EchoRequest()\n"
     ]
    },
    {
     "name": "stdout",
     "output_type": "stream",
     "text": [
      "[D 15:50:32.507     _circuit:  166] 127.0.0.1:5064 --->>> 127.0.0.1:57574 16B EchoResponse()\n"
     ]
    },
    {
     "name": "stderr",
     "output_type": "stream",
     "text": [
      "15:50:32|caproto.circ|EchoResponse()\n"
     ]
    },
    {
     "name": "stdout",
     "output_type": "stream",
     "text": [
      "[D 15:51:03.640       common:  688] 127.0.0.1:5064 <<<--- 127.0.0.1:57574 16B EchoRequest()\n"
     ]
    },
    {
     "name": "stderr",
     "output_type": "stream",
     "text": [
      "15:51:03|caproto.circ|EchoRequest()\n"
     ]
    },
    {
     "name": "stdout",
     "output_type": "stream",
     "text": [
      "[D 15:51:03.641     _circuit:  166] 127.0.0.1:5064 --->>> 127.0.0.1:57574 16B EchoResponse()\n"
     ]
    },
    {
     "name": "stderr",
     "output_type": "stream",
     "text": [
      "15:51:03|caproto.circ|EchoResponse()\n"
     ]
    },
    {
     "name": "stdout",
     "output_type": "stream",
     "text": [
      "[D 15:51:34.704       common:  688] 127.0.0.1:5064 <<<--- 127.0.0.1:57574 16B EchoRequest()\n"
     ]
    },
    {
     "name": "stderr",
     "output_type": "stream",
     "text": [
      "15:51:34|caproto.circ|EchoRequest()\n"
     ]
    },
    {
     "name": "stdout",
     "output_type": "stream",
     "text": [
      "[D 15:51:34.706     _circuit:  166] 127.0.0.1:5064 --->>> 127.0.0.1:57574 16B EchoResponse()\n"
     ]
    },
    {
     "name": "stderr",
     "output_type": "stream",
     "text": [
      "15:51:34|caproto.circ|EchoResponse()\n"
     ]
    },
    {
     "name": "stdout",
     "output_type": "stream",
     "text": [
      "[D 15:52:06.231       common:  688] 127.0.0.1:5064 <<<--- 127.0.0.1:57574 16B EchoRequest()\n"
     ]
    },
    {
     "name": "stderr",
     "output_type": "stream",
     "text": [
      "15:52:06|caproto.circ|EchoRequest()\n"
     ]
    },
    {
     "name": "stdout",
     "output_type": "stream",
     "text": [
      "[D 15:52:06.232     _circuit:  166] 127.0.0.1:5064 --->>> 127.0.0.1:57574 16B EchoResponse()\n"
     ]
    },
    {
     "name": "stderr",
     "output_type": "stream",
     "text": [
      "15:52:06|caproto.circ|EchoResponse()\n"
     ]
    },
    {
     "name": "stdout",
     "output_type": "stream",
     "text": [
      "[D 15:52:37.352       common:  688] 127.0.0.1:5064 <<<--- 127.0.0.1:57574 16B EchoRequest()\n"
     ]
    },
    {
     "name": "stderr",
     "output_type": "stream",
     "text": [
      "15:52:37|caproto.circ|EchoRequest()\n"
     ]
    },
    {
     "name": "stdout",
     "output_type": "stream",
     "text": [
      "[D 15:52:37.353     _circuit:  166] 127.0.0.1:5064 --->>> 127.0.0.1:57574 16B EchoResponse()\n"
     ]
    },
    {
     "name": "stderr",
     "output_type": "stream",
     "text": [
      "15:52:37|caproto.circ|EchoResponse()\n"
     ]
    },
    {
     "name": "stdout",
     "output_type": "stream",
     "text": [
      "[D 15:53:08.653       common:  688] 127.0.0.1:5064 <<<--- 127.0.0.1:57574 16B EchoRequest()\n"
     ]
    },
    {
     "name": "stderr",
     "output_type": "stream",
     "text": [
      "15:53:08|caproto.circ|EchoRequest()\n"
     ]
    },
    {
     "name": "stdout",
     "output_type": "stream",
     "text": [
      "[D 15:53:08.655     _circuit:  166] 127.0.0.1:5064 --->>> 127.0.0.1:57574 16B EchoResponse()\n"
     ]
    },
    {
     "name": "stderr",
     "output_type": "stream",
     "text": [
      "15:53:08|caproto.circ|EchoResponse()\n"
     ]
    },
    {
     "name": "stdout",
     "output_type": "stream",
     "text": [
      "[D 15:53:39.945       common:  688] 127.0.0.1:5064 <<<--- 127.0.0.1:57574 16B EchoRequest()\n"
     ]
    },
    {
     "name": "stderr",
     "output_type": "stream",
     "text": [
      "15:53:39|caproto.circ|EchoRequest()\n"
     ]
    },
    {
     "name": "stdout",
     "output_type": "stream",
     "text": [
      "[D 15:53:39.947     _circuit:  166] 127.0.0.1:5064 --->>> 127.0.0.1:57574 16B EchoResponse()\n"
     ]
    },
    {
     "name": "stderr",
     "output_type": "stream",
     "text": [
      "15:53:39|caproto.circ|EchoResponse()\n"
     ]
    },
    {
     "name": "stdout",
     "output_type": "stream",
     "text": [
      "[D 15:54:11.028       common:  688] 127.0.0.1:5064 <<<--- 127.0.0.1:57574 16B EchoRequest()\n"
     ]
    },
    {
     "name": "stderr",
     "output_type": "stream",
     "text": [
      "15:54:11|caproto.circ|EchoRequest()\n"
     ]
    },
    {
     "name": "stdout",
     "output_type": "stream",
     "text": [
      "[D 15:54:11.030     _circuit:  166] 127.0.0.1:5064 --->>> 127.0.0.1:57574 16B EchoResponse()\n"
     ]
    },
    {
     "name": "stderr",
     "output_type": "stream",
     "text": [
      "15:54:11|caproto.circ|EchoResponse()\n"
     ]
    },
    {
     "name": "stdout",
     "output_type": "stream",
     "text": [
      "[D 15:54:42.124       common:  688] 127.0.0.1:5064 <<<--- 127.0.0.1:57574 16B EchoRequest()\n"
     ]
    },
    {
     "name": "stderr",
     "output_type": "stream",
     "text": [
      "15:54:42|caproto.circ|EchoRequest()\n"
     ]
    },
    {
     "name": "stdout",
     "output_type": "stream",
     "text": [
      "[D 15:54:42.126     _circuit:  166] 127.0.0.1:5064 --->>> 127.0.0.1:57574 16B EchoResponse()\n"
     ]
    },
    {
     "name": "stderr",
     "output_type": "stream",
     "text": [
      "15:54:42|caproto.circ|EchoResponse()\n"
     ]
    },
    {
     "name": "stdout",
     "output_type": "stream",
     "text": [
      "[D 15:55:13.213       common:  688] 127.0.0.1:5064 <<<--- 127.0.0.1:57574 16B EchoRequest()\n"
     ]
    },
    {
     "name": "stderr",
     "output_type": "stream",
     "text": [
      "15:55:13|caproto.circ|EchoRequest()\n"
     ]
    },
    {
     "name": "stdout",
     "output_type": "stream",
     "text": [
      "[D 15:55:13.214     _circuit:  166] 127.0.0.1:5064 --->>> 127.0.0.1:57574 16B EchoResponse()\n"
     ]
    },
    {
     "name": "stderr",
     "output_type": "stream",
     "text": [
      "15:55:13|caproto.circ|EchoResponse()\n"
     ]
    },
    {
     "name": "stdout",
     "output_type": "stream",
     "text": [
      "[D 15:55:44.464       common:  688] 127.0.0.1:5064 <<<--- 127.0.0.1:57574 16B EchoRequest()\n"
     ]
    },
    {
     "name": "stderr",
     "output_type": "stream",
     "text": [
      "15:55:44|caproto.circ|EchoRequest()\n"
     ]
    },
    {
     "name": "stdout",
     "output_type": "stream",
     "text": [
      "[D 15:55:44.466     _circuit:  166] 127.0.0.1:5064 --->>> 127.0.0.1:57574 16B EchoResponse()\n"
     ]
    },
    {
     "name": "stderr",
     "output_type": "stream",
     "text": [
      "15:55:44|caproto.circ|EchoResponse()\n"
     ]
    },
    {
     "name": "stdout",
     "output_type": "stream",
     "text": [
      "[D 15:56:15.526       common:  688] 127.0.0.1:5064 <<<--- 127.0.0.1:57574 16B EchoRequest()\n"
     ]
    },
    {
     "name": "stderr",
     "output_type": "stream",
     "text": [
      "15:56:15|caproto.circ|EchoRequest()\n"
     ]
    },
    {
     "name": "stdout",
     "output_type": "stream",
     "text": [
      "[D 15:56:15.527     _circuit:  166] 127.0.0.1:5064 --->>> 127.0.0.1:57574 16B EchoResponse()\n"
     ]
    },
    {
     "name": "stderr",
     "output_type": "stream",
     "text": [
      "15:56:15|caproto.circ|EchoResponse()\n"
     ]
    },
    {
     "name": "stdout",
     "output_type": "stream",
     "text": [
      "[D 15:56:46.618       common:  688] 127.0.0.1:5064 <<<--- 127.0.0.1:57574 16B EchoRequest()\n"
     ]
    },
    {
     "name": "stderr",
     "output_type": "stream",
     "text": [
      "15:56:46|caproto.circ|EchoRequest()\n"
     ]
    },
    {
     "name": "stdout",
     "output_type": "stream",
     "text": [
      "[D 15:56:46.619     _circuit:  166] 127.0.0.1:5064 --->>> 127.0.0.1:57574 16B EchoResponse()\n"
     ]
    },
    {
     "name": "stderr",
     "output_type": "stream",
     "text": [
      "15:56:46|caproto.circ|EchoResponse()\n"
     ]
    },
    {
     "name": "stdout",
     "output_type": "stream",
     "text": [
      "[D 15:57:17.791       common:  688] 127.0.0.1:5064 <<<--- 127.0.0.1:57574 16B EchoRequest()\n"
     ]
    },
    {
     "name": "stderr",
     "output_type": "stream",
     "text": [
      "15:57:17|caproto.circ|EchoRequest()\n"
     ]
    },
    {
     "name": "stdout",
     "output_type": "stream",
     "text": [
      "[D 15:57:17.793     _circuit:  166] 127.0.0.1:5064 --->>> 127.0.0.1:57574 16B EchoResponse()\n"
     ]
    },
    {
     "name": "stderr",
     "output_type": "stream",
     "text": [
      "15:57:17|caproto.circ|EchoResponse()\n"
     ]
    },
    {
     "name": "stdout",
     "output_type": "stream",
     "text": [
      "[D 15:57:49.242       common:  688] 127.0.0.1:5064 <<<--- 127.0.0.1:57574 16B EchoRequest()\n"
     ]
    },
    {
     "name": "stderr",
     "output_type": "stream",
     "text": [
      "15:57:49|caproto.circ|EchoRequest()\n"
     ]
    },
    {
     "name": "stdout",
     "output_type": "stream",
     "text": [
      "[D 15:57:49.244     _circuit:  166] 127.0.0.1:5064 --->>> 127.0.0.1:57574 16B EchoResponse()\n"
     ]
    },
    {
     "name": "stderr",
     "output_type": "stream",
     "text": [
      "15:57:49|caproto.circ|EchoResponse()\n"
     ]
    },
    {
     "name": "stdout",
     "output_type": "stream",
     "text": [
      "[D 15:58:20.410       common:  688] 127.0.0.1:5064 <<<--- 127.0.0.1:57574 16B EchoRequest()\n"
     ]
    },
    {
     "name": "stderr",
     "output_type": "stream",
     "text": [
      "15:58:20|caproto.circ|EchoRequest()\n"
     ]
    },
    {
     "name": "stdout",
     "output_type": "stream",
     "text": [
      "[D 15:58:20.412     _circuit:  166] 127.0.0.1:5064 --->>> 127.0.0.1:57574 16B EchoResponse()\n"
     ]
    },
    {
     "name": "stderr",
     "output_type": "stream",
     "text": [
      "15:58:20|caproto.circ|EchoResponse()\n"
     ]
    },
    {
     "name": "stdout",
     "output_type": "stream",
     "text": [
      "[D 15:58:51.792       common:  688] 127.0.0.1:5064 <<<--- 127.0.0.1:57574 16B EchoRequest()\n"
     ]
    },
    {
     "name": "stderr",
     "output_type": "stream",
     "text": [
      "15:58:51|caproto.circ|EchoRequest()\n"
     ]
    },
    {
     "name": "stdout",
     "output_type": "stream",
     "text": [
      "[D 15:58:51.794     _circuit:  166] 127.0.0.1:5064 --->>> 127.0.0.1:57574 16B EchoResponse()\n"
     ]
    },
    {
     "name": "stderr",
     "output_type": "stream",
     "text": [
      "15:58:51|caproto.circ|EchoResponse()\n"
     ]
    },
    {
     "name": "stdout",
     "output_type": "stream",
     "text": [
      "[D 15:59:22.978       common:  688] 127.0.0.1:5064 <<<--- 127.0.0.1:57574 16B EchoRequest()\n"
     ]
    },
    {
     "name": "stderr",
     "output_type": "stream",
     "text": [
      "15:59:22|caproto.circ|EchoRequest()\n"
     ]
    },
    {
     "name": "stdout",
     "output_type": "stream",
     "text": [
      "[D 15:59:22.980     _circuit:  166] 127.0.0.1:5064 --->>> 127.0.0.1:57574 16B EchoResponse()\n"
     ]
    },
    {
     "name": "stderr",
     "output_type": "stream",
     "text": [
      "15:59:22|caproto.circ|EchoResponse()\n"
     ]
    },
    {
     "name": "stdout",
     "output_type": "stream",
     "text": [
      "[D 15:59:54.159       common:  688] 127.0.0.1:5064 <<<--- 127.0.0.1:57574 16B EchoRequest()\n"
     ]
    },
    {
     "name": "stderr",
     "output_type": "stream",
     "text": [
      "15:59:54|caproto.circ|EchoRequest()\n"
     ]
    },
    {
     "name": "stdout",
     "output_type": "stream",
     "text": [
      "[D 15:59:54.161     _circuit:  166] 127.0.0.1:5064 --->>> 127.0.0.1:57574 16B EchoResponse()\n"
     ]
    },
    {
     "name": "stderr",
     "output_type": "stream",
     "text": [
      "15:59:54|caproto.circ|EchoResponse()\n"
     ]
    },
    {
     "name": "stdout",
     "output_type": "stream",
     "text": [
      "[D 16:00:25.651       common:  688] 127.0.0.1:5064 <<<--- 127.0.0.1:57574 16B EchoRequest()\n"
     ]
    },
    {
     "name": "stderr",
     "output_type": "stream",
     "text": [
      "16:00:25|caproto.circ|EchoRequest()\n"
     ]
    },
    {
     "name": "stdout",
     "output_type": "stream",
     "text": [
      "[D 16:00:25.652     _circuit:  166] 127.0.0.1:5064 --->>> 127.0.0.1:57574 16B EchoResponse()\n"
     ]
    },
    {
     "name": "stderr",
     "output_type": "stream",
     "text": [
      "16:00:25|caproto.circ|EchoResponse()\n"
     ]
    },
    {
     "name": "stdout",
     "output_type": "stream",
     "text": [
      "[D 16:00:57.137       common:  688] 127.0.0.1:5064 <<<--- 127.0.0.1:57574 16B EchoRequest()\n"
     ]
    },
    {
     "name": "stderr",
     "output_type": "stream",
     "text": [
      "16:00:57|caproto.circ|EchoRequest()\n"
     ]
    },
    {
     "name": "stdout",
     "output_type": "stream",
     "text": [
      "[D 16:00:57.139     _circuit:  166] 127.0.0.1:5064 --->>> 127.0.0.1:57574 16B EchoResponse()\n"
     ]
    },
    {
     "name": "stderr",
     "output_type": "stream",
     "text": [
      "16:00:57|caproto.circ|EchoResponse()\n"
     ]
    },
    {
     "name": "stdout",
     "output_type": "stream",
     "text": [
      "[D 16:01:28.315       common:  688] 127.0.0.1:5064 <<<--- 127.0.0.1:57574 16B EchoRequest()\n"
     ]
    },
    {
     "name": "stderr",
     "output_type": "stream",
     "text": [
      "16:01:28|caproto.circ|EchoRequest()\n"
     ]
    },
    {
     "name": "stdout",
     "output_type": "stream",
     "text": [
      "[D 16:01:28.317     _circuit:  166] 127.0.0.1:5064 --->>> 127.0.0.1:57574 16B EchoResponse()\n"
     ]
    },
    {
     "name": "stderr",
     "output_type": "stream",
     "text": [
      "16:01:28|caproto.circ|EchoResponse()\n"
     ]
    },
    {
     "name": "stdout",
     "output_type": "stream",
     "text": [
      "[D 16:01:59.456       common:  688] 127.0.0.1:5064 <<<--- 127.0.0.1:57574 16B EchoRequest()\n"
     ]
    },
    {
     "name": "stderr",
     "output_type": "stream",
     "text": [
      "16:01:59|caproto.circ|EchoRequest()\n"
     ]
    },
    {
     "name": "stdout",
     "output_type": "stream",
     "text": [
      "[D 16:01:59.458     _circuit:  166] 127.0.0.1:5064 --->>> 127.0.0.1:57574 16B EchoResponse()\n"
     ]
    },
    {
     "name": "stderr",
     "output_type": "stream",
     "text": [
      "16:01:59|caproto.circ|EchoResponse()\n"
     ]
    },
    {
     "name": "stdout",
     "output_type": "stream",
     "text": [
      "[D 16:02:30.620       common:  688] 127.0.0.1:5064 <<<--- 127.0.0.1:57574 16B EchoRequest()\n"
     ]
    },
    {
     "name": "stderr",
     "output_type": "stream",
     "text": [
      "16:02:30|caproto.circ|EchoRequest()\n"
     ]
    },
    {
     "name": "stdout",
     "output_type": "stream",
     "text": [
      "[D 16:02:30.622     _circuit:  166] 127.0.0.1:5064 --->>> 127.0.0.1:57574 16B EchoResponse()\n"
     ]
    },
    {
     "name": "stderr",
     "output_type": "stream",
     "text": [
      "16:02:30|caproto.circ|EchoResponse()\n"
     ]
    },
    {
     "name": "stdout",
     "output_type": "stream",
     "text": [
      "[D 16:03:01.790       common:  688] 127.0.0.1:5064 <<<--- 127.0.0.1:57574 16B EchoRequest()\n"
     ]
    },
    {
     "name": "stderr",
     "output_type": "stream",
     "text": [
      "16:03:01|caproto.circ|EchoRequest()\n"
     ]
    },
    {
     "name": "stdout",
     "output_type": "stream",
     "text": [
      "[D 16:03:01.791     _circuit:  166] 127.0.0.1:5064 --->>> 127.0.0.1:57574 16B EchoResponse()\n"
     ]
    },
    {
     "name": "stderr",
     "output_type": "stream",
     "text": [
      "16:03:01|caproto.circ|EchoResponse()\n"
     ]
    },
    {
     "name": "stdout",
     "output_type": "stream",
     "text": [
      "[D 16:03:32.945       common:  688] 127.0.0.1:5064 <<<--- 127.0.0.1:57574 16B EchoRequest()\n"
     ]
    },
    {
     "name": "stderr",
     "output_type": "stream",
     "text": [
      "16:03:32|caproto.circ|EchoRequest()\n"
     ]
    },
    {
     "name": "stdout",
     "output_type": "stream",
     "text": [
      "[D 16:03:32.946     _circuit:  166] 127.0.0.1:5064 --->>> 127.0.0.1:57574 16B EchoResponse()\n"
     ]
    },
    {
     "name": "stderr",
     "output_type": "stream",
     "text": [
      "16:03:32|caproto.circ|EchoResponse()\n"
     ]
    },
    {
     "name": "stdout",
     "output_type": "stream",
     "text": [
      "[D 16:04:04.072       common:  688] 127.0.0.1:5064 <<<--- 127.0.0.1:57574 16B EchoRequest()\n"
     ]
    },
    {
     "name": "stderr",
     "output_type": "stream",
     "text": [
      "16:04:04|caproto.circ|EchoRequest()\n"
     ]
    },
    {
     "name": "stdout",
     "output_type": "stream",
     "text": [
      "[D 16:04:04.073     _circuit:  166] 127.0.0.1:5064 --->>> 127.0.0.1:57574 16B EchoResponse()\n"
     ]
    },
    {
     "name": "stderr",
     "output_type": "stream",
     "text": [
      "16:04:04|caproto.circ|EchoResponse()\n"
     ]
    },
    {
     "name": "stdout",
     "output_type": "stream",
     "text": [
      "[D 16:04:35.081       common:  688] 127.0.0.1:5064 <<<--- 127.0.0.1:57574 16B EchoRequest()\n"
     ]
    },
    {
     "name": "stderr",
     "output_type": "stream",
     "text": [
      "16:04:35|caproto.circ|EchoRequest()\n"
     ]
    },
    {
     "name": "stdout",
     "output_type": "stream",
     "text": [
      "[D 16:04:35.082     _circuit:  166] 127.0.0.1:5064 --->>> 127.0.0.1:57574 16B EchoResponse()\n"
     ]
    },
    {
     "name": "stderr",
     "output_type": "stream",
     "text": [
      "16:04:35|caproto.circ|EchoResponse()\n"
     ]
    },
    {
     "name": "stdout",
     "output_type": "stream",
     "text": [
      "[D 16:05:06.222       common:  688] 127.0.0.1:5064 <<<--- 127.0.0.1:57574 16B EchoRequest()\n"
     ]
    },
    {
     "name": "stderr",
     "output_type": "stream",
     "text": [
      "16:05:06|caproto.circ|EchoRequest()\n"
     ]
    },
    {
     "name": "stdout",
     "output_type": "stream",
     "text": [
      "[D 16:05:06.223     _circuit:  166] 127.0.0.1:5064 --->>> 127.0.0.1:57574 16B EchoResponse()\n"
     ]
    },
    {
     "name": "stderr",
     "output_type": "stream",
     "text": [
      "16:05:06|caproto.circ|EchoResponse()\n"
     ]
    },
    {
     "name": "stdout",
     "output_type": "stream",
     "text": [
      "[D 16:05:37.241       common:  688] 127.0.0.1:5064 <<<--- 127.0.0.1:57574 16B EchoRequest()\n"
     ]
    },
    {
     "name": "stderr",
     "output_type": "stream",
     "text": [
      "16:05:37|caproto.circ|EchoRequest()\n"
     ]
    },
    {
     "name": "stdout",
     "output_type": "stream",
     "text": [
      "[D 16:05:37.242     _circuit:  166] 127.0.0.1:5064 --->>> 127.0.0.1:57574 16B EchoResponse()\n"
     ]
    },
    {
     "name": "stderr",
     "output_type": "stream",
     "text": [
      "16:05:37|caproto.circ|EchoResponse()\n"
     ]
    },
    {
     "name": "stdout",
     "output_type": "stream",
     "text": [
      "[D 16:06:08.351       common:  688] 127.0.0.1:5064 <<<--- 127.0.0.1:57574 16B EchoRequest()\n"
     ]
    },
    {
     "name": "stderr",
     "output_type": "stream",
     "text": [
      "16:06:08|caproto.circ|EchoRequest()\n"
     ]
    },
    {
     "name": "stdout",
     "output_type": "stream",
     "text": [
      "[D 16:06:08.352     _circuit:  166] 127.0.0.1:5064 --->>> 127.0.0.1:57574 16B EchoResponse()\n"
     ]
    },
    {
     "name": "stderr",
     "output_type": "stream",
     "text": [
      "16:06:08|caproto.circ|EchoResponse()\n"
     ]
    },
    {
     "name": "stdout",
     "output_type": "stream",
     "text": [
      "[D 16:06:39.843       common:  688] 127.0.0.1:5064 <<<--- 127.0.0.1:57574 16B EchoRequest()\n"
     ]
    },
    {
     "name": "stderr",
     "output_type": "stream",
     "text": [
      "16:06:39|caproto.circ|EchoRequest()\n"
     ]
    },
    {
     "name": "stdout",
     "output_type": "stream",
     "text": [
      "[D 16:06:39.844     _circuit:  166] 127.0.0.1:5064 --->>> 127.0.0.1:57574 16B EchoResponse()\n"
     ]
    },
    {
     "name": "stderr",
     "output_type": "stream",
     "text": [
      "16:06:39|caproto.circ|EchoResponse()\n"
     ]
    },
    {
     "name": "stdout",
     "output_type": "stream",
     "text": [
      "[D 16:07:10.968       common:  688] 127.0.0.1:5064 <<<--- 127.0.0.1:57574 16B EchoRequest()\n"
     ]
    },
    {
     "name": "stderr",
     "output_type": "stream",
     "text": [
      "16:07:10|caproto.circ|EchoRequest()\n"
     ]
    },
    {
     "name": "stdout",
     "output_type": "stream",
     "text": [
      "[D 16:07:10.969     _circuit:  166] 127.0.0.1:5064 --->>> 127.0.0.1:57574 16B EchoResponse()\n"
     ]
    },
    {
     "name": "stderr",
     "output_type": "stream",
     "text": [
      "16:07:10|caproto.circ|EchoResponse()\n"
     ]
    },
    {
     "name": "stdout",
     "output_type": "stream",
     "text": [
      "[D 16:07:42.109       common:  688] 127.0.0.1:5064 <<<--- 127.0.0.1:57574 16B EchoRequest()\n"
     ]
    },
    {
     "name": "stderr",
     "output_type": "stream",
     "text": [
      "16:07:42|caproto.circ|EchoRequest()\n"
     ]
    },
    {
     "name": "stdout",
     "output_type": "stream",
     "text": [
      "[D 16:07:42.110     _circuit:  166] 127.0.0.1:5064 --->>> 127.0.0.1:57574 16B EchoResponse()\n"
     ]
    },
    {
     "name": "stderr",
     "output_type": "stream",
     "text": [
      "16:07:42|caproto.circ|EchoResponse()\n"
     ]
    },
    {
     "name": "stdout",
     "output_type": "stream",
     "text": [
      "[D 16:08:13.223       common:  688] 127.0.0.1:5064 <<<--- 127.0.0.1:57574 16B EchoRequest()\n"
     ]
    },
    {
     "name": "stderr",
     "output_type": "stream",
     "text": [
      "16:08:13|caproto.circ|EchoRequest()\n"
     ]
    },
    {
     "name": "stdout",
     "output_type": "stream",
     "text": [
      "[D 16:08:13.224     _circuit:  166] 127.0.0.1:5064 --->>> 127.0.0.1:57574 16B EchoResponse()\n"
     ]
    },
    {
     "name": "stderr",
     "output_type": "stream",
     "text": [
      "16:08:13|caproto.circ|EchoResponse()\n"
     ]
    },
    {
     "name": "stdout",
     "output_type": "stream",
     "text": [
      "[D 16:08:44.332       common:  688] 127.0.0.1:5064 <<<--- 127.0.0.1:57574 16B EchoRequest()\n"
     ]
    },
    {
     "name": "stderr",
     "output_type": "stream",
     "text": [
      "16:08:44|caproto.circ|EchoRequest()\n"
     ]
    },
    {
     "name": "stdout",
     "output_type": "stream",
     "text": [
      "[D 16:08:44.333     _circuit:  166] 127.0.0.1:5064 --->>> 127.0.0.1:57574 16B EchoResponse()\n"
     ]
    },
    {
     "name": "stderr",
     "output_type": "stream",
     "text": [
      "16:08:44|caproto.circ|EchoResponse()\n"
     ]
    },
    {
     "name": "stdout",
     "output_type": "stream",
     "text": [
      "[D 16:09:15.394       common:  688] 127.0.0.1:5064 <<<--- 127.0.0.1:57574 16B EchoRequest()\n"
     ]
    },
    {
     "name": "stderr",
     "output_type": "stream",
     "text": [
      "16:09:15|caproto.circ|EchoRequest()\n"
     ]
    },
    {
     "name": "stdout",
     "output_type": "stream",
     "text": [
      "[D 16:09:15.395     _circuit:  166] 127.0.0.1:5064 --->>> 127.0.0.1:57574 16B EchoResponse()\n"
     ]
    },
    {
     "name": "stderr",
     "output_type": "stream",
     "text": [
      "16:09:15|caproto.circ|EchoResponse()\n"
     ]
    },
    {
     "name": "stdout",
     "output_type": "stream",
     "text": [
      "[D 16:09:46.417       common:  688] 127.0.0.1:5064 <<<--- 127.0.0.1:57574 16B EchoRequest()\n"
     ]
    },
    {
     "name": "stderr",
     "output_type": "stream",
     "text": [
      "16:09:46|caproto.circ|EchoRequest()\n"
     ]
    },
    {
     "name": "stdout",
     "output_type": "stream",
     "text": [
      "[D 16:09:46.418     _circuit:  166] 127.0.0.1:5064 --->>> 127.0.0.1:57574 16B EchoResponse()\n"
     ]
    },
    {
     "name": "stderr",
     "output_type": "stream",
     "text": [
      "16:09:46|caproto.circ|EchoResponse()\n"
     ]
    },
    {
     "name": "stdout",
     "output_type": "stream",
     "text": [
      "[D 16:10:17.859       common:  688] 127.0.0.1:5064 <<<--- 127.0.0.1:57574 16B EchoRequest()\n"
     ]
    },
    {
     "name": "stderr",
     "output_type": "stream",
     "text": [
      "16:10:17|caproto.circ|EchoRequest()\n"
     ]
    },
    {
     "name": "stdout",
     "output_type": "stream",
     "text": [
      "[D 16:10:17.860     _circuit:  166] 127.0.0.1:5064 --->>> 127.0.0.1:57574 16B EchoResponse()\n"
     ]
    },
    {
     "name": "stderr",
     "output_type": "stream",
     "text": [
      "16:10:17|caproto.circ|EchoResponse()\n"
     ]
    },
    {
     "name": "stdout",
     "output_type": "stream",
     "text": [
      "[D 16:10:49.217       common:  688] 127.0.0.1:5064 <<<--- 127.0.0.1:57574 16B EchoRequest()\n"
     ]
    },
    {
     "name": "stderr",
     "output_type": "stream",
     "text": [
      "16:10:49|caproto.circ|EchoRequest()\n"
     ]
    },
    {
     "name": "stdout",
     "output_type": "stream",
     "text": [
      "[D 16:10:49.218     _circuit:  166] 127.0.0.1:5064 --->>> 127.0.0.1:57574 16B EchoResponse()\n"
     ]
    },
    {
     "name": "stderr",
     "output_type": "stream",
     "text": [
      "16:10:49|caproto.circ|EchoResponse()\n"
     ]
    },
    {
     "name": "stdout",
     "output_type": "stream",
     "text": [
      "[D 16:11:20.676       common:  688] 127.0.0.1:5064 <<<--- 127.0.0.1:57574 16B EchoRequest()\n"
     ]
    },
    {
     "name": "stderr",
     "output_type": "stream",
     "text": [
      "16:11:20|caproto.circ|EchoRequest()\n"
     ]
    },
    {
     "name": "stdout",
     "output_type": "stream",
     "text": [
      "[D 16:11:20.677     _circuit:  166] 127.0.0.1:5064 --->>> 127.0.0.1:57574 16B EchoResponse()\n"
     ]
    },
    {
     "name": "stderr",
     "output_type": "stream",
     "text": [
      "16:11:20|caproto.circ|EchoResponse()\n"
     ]
    },
    {
     "name": "stdout",
     "output_type": "stream",
     "text": [
      "[D 16:11:51.774       common:  688] 127.0.0.1:5064 <<<--- 127.0.0.1:57574 16B EchoRequest()\n"
     ]
    },
    {
     "name": "stderr",
     "output_type": "stream",
     "text": [
      "16:11:51|caproto.circ|EchoRequest()\n"
     ]
    },
    {
     "name": "stdout",
     "output_type": "stream",
     "text": [
      "[D 16:11:51.775     _circuit:  166] 127.0.0.1:5064 --->>> 127.0.0.1:57574 16B EchoResponse()\n"
     ]
    },
    {
     "name": "stderr",
     "output_type": "stream",
     "text": [
      "16:11:51|caproto.circ|EchoResponse()\n"
     ]
    },
    {
     "name": "stdout",
     "output_type": "stream",
     "text": [
      "[D 16:12:22.858       common:  688] 127.0.0.1:5064 <<<--- 127.0.0.1:57574 16B EchoRequest()\n"
     ]
    },
    {
     "name": "stderr",
     "output_type": "stream",
     "text": [
      "16:12:22|caproto.circ|EchoRequest()\n"
     ]
    },
    {
     "name": "stdout",
     "output_type": "stream",
     "text": [
      "[D 16:12:22.860     _circuit:  166] 127.0.0.1:5064 --->>> 127.0.0.1:57574 16B EchoResponse()\n"
     ]
    },
    {
     "name": "stderr",
     "output_type": "stream",
     "text": [
      "16:12:22|caproto.circ|EchoResponse()\n"
     ]
    },
    {
     "name": "stdout",
     "output_type": "stream",
     "text": [
      "[D 16:12:53.886       common:  688] 127.0.0.1:5064 <<<--- 127.0.0.1:57574 16B EchoRequest()\n"
     ]
    },
    {
     "name": "stderr",
     "output_type": "stream",
     "text": [
      "16:12:53|caproto.circ|EchoRequest()\n"
     ]
    },
    {
     "name": "stdout",
     "output_type": "stream",
     "text": [
      "[D 16:12:53.887     _circuit:  166] 127.0.0.1:5064 --->>> 127.0.0.1:57574 16B EchoResponse()\n"
     ]
    },
    {
     "name": "stderr",
     "output_type": "stream",
     "text": [
      "16:12:53|caproto.circ|EchoResponse()\n"
     ]
    },
    {
     "name": "stdout",
     "output_type": "stream",
     "text": [
      "[D 16:13:25.320       common:  688] 127.0.0.1:5064 <<<--- 127.0.0.1:57574 16B EchoRequest()\n"
     ]
    },
    {
     "name": "stderr",
     "output_type": "stream",
     "text": [
      "16:13:25|caproto.circ|EchoRequest()\n"
     ]
    },
    {
     "name": "stdout",
     "output_type": "stream",
     "text": [
      "[D 16:13:25.321     _circuit:  166] 127.0.0.1:5064 --->>> 127.0.0.1:57574 16B EchoResponse()\n"
     ]
    },
    {
     "name": "stderr",
     "output_type": "stream",
     "text": [
      "16:13:25|caproto.circ|EchoResponse()\n"
     ]
    },
    {
     "name": "stdout",
     "output_type": "stream",
     "text": [
      "[D 16:13:56.666       common:  688] 127.0.0.1:5064 <<<--- 127.0.0.1:57574 16B EchoRequest()\n"
     ]
    },
    {
     "name": "stderr",
     "output_type": "stream",
     "text": [
      "16:13:56|caproto.circ|EchoRequest()\n"
     ]
    },
    {
     "name": "stdout",
     "output_type": "stream",
     "text": [
      "[D 16:13:56.668     _circuit:  166] 127.0.0.1:5064 --->>> 127.0.0.1:57574 16B EchoResponse()\n"
     ]
    },
    {
     "name": "stderr",
     "output_type": "stream",
     "text": [
      "16:13:56|caproto.circ|EchoResponse()\n"
     ]
    },
    {
     "name": "stdout",
     "output_type": "stream",
     "text": [
      "[D 16:14:27.999       common:  688] 127.0.0.1:5064 <<<--- 127.0.0.1:57574 16B EchoRequest()\n"
     ]
    },
    {
     "name": "stderr",
     "output_type": "stream",
     "text": [
      "16:14:27|caproto.circ|EchoRequest()\n"
     ]
    },
    {
     "name": "stdout",
     "output_type": "stream",
     "text": [
      "[D 16:14:28.001     _circuit:  166] 127.0.0.1:5064 --->>> 127.0.0.1:57574 16B EchoResponse()\n"
     ]
    },
    {
     "name": "stderr",
     "output_type": "stream",
     "text": [
      "16:14:28|caproto.circ|EchoResponse()\n"
     ]
    },
    {
     "name": "stdout",
     "output_type": "stream",
     "text": [
      "[D 16:14:59.427       common:  688] 127.0.0.1:5064 <<<--- 127.0.0.1:57574 16B EchoRequest()\n"
     ]
    },
    {
     "name": "stderr",
     "output_type": "stream",
     "text": [
      "16:14:59|caproto.circ|EchoRequest()\n"
     ]
    },
    {
     "name": "stdout",
     "output_type": "stream",
     "text": [
      "[D 16:14:59.428     _circuit:  166] 127.0.0.1:5064 --->>> 127.0.0.1:57574 16B EchoResponse()\n"
     ]
    },
    {
     "name": "stderr",
     "output_type": "stream",
     "text": [
      "16:14:59|caproto.circ|EchoResponse()\n"
     ]
    },
    {
     "name": "stdout",
     "output_type": "stream",
     "text": [
      "[D 16:15:30.538       common:  688] 127.0.0.1:5064 <<<--- 127.0.0.1:57574 16B EchoRequest()\n"
     ]
    },
    {
     "name": "stderr",
     "output_type": "stream",
     "text": [
      "16:15:30|caproto.circ|EchoRequest()\n"
     ]
    },
    {
     "name": "stdout",
     "output_type": "stream",
     "text": [
      "[D 16:15:30.539     _circuit:  166] 127.0.0.1:5064 --->>> 127.0.0.1:57574 16B EchoResponse()\n"
     ]
    },
    {
     "name": "stderr",
     "output_type": "stream",
     "text": [
      "16:15:30|caproto.circ|EchoResponse()\n"
     ]
    },
    {
     "name": "stdout",
     "output_type": "stream",
     "text": [
      "[D 16:16:01.979       common:  688] 127.0.0.1:5064 <<<--- 127.0.0.1:57574 16B EchoRequest()\n"
     ]
    },
    {
     "name": "stderr",
     "output_type": "stream",
     "text": [
      "16:16:01|caproto.circ|EchoRequest()\n"
     ]
    },
    {
     "name": "stdout",
     "output_type": "stream",
     "text": [
      "[D 16:16:01.980     _circuit:  166] 127.0.0.1:5064 --->>> 127.0.0.1:57574 16B EchoResponse()\n"
     ]
    },
    {
     "name": "stderr",
     "output_type": "stream",
     "text": [
      "16:16:01|caproto.circ|EchoResponse()\n"
     ]
    },
    {
     "name": "stdout",
     "output_type": "stream",
     "text": [
      "[D 16:16:33.403       common:  688] 127.0.0.1:5064 <<<--- 127.0.0.1:57574 16B EchoRequest()\n"
     ]
    },
    {
     "name": "stderr",
     "output_type": "stream",
     "text": [
      "16:16:33|caproto.circ|EchoRequest()\n"
     ]
    },
    {
     "name": "stdout",
     "output_type": "stream",
     "text": [
      "[D 16:16:33.404     _circuit:  166] 127.0.0.1:5064 --->>> 127.0.0.1:57574 16B EchoResponse()\n"
     ]
    },
    {
     "name": "stderr",
     "output_type": "stream",
     "text": [
      "16:16:33|caproto.circ|EchoResponse()\n"
     ]
    },
    {
     "name": "stdout",
     "output_type": "stream",
     "text": [
      "[D 16:17:04.824       common:  688] 127.0.0.1:5064 <<<--- 127.0.0.1:57574 16B EchoRequest()\n"
     ]
    },
    {
     "name": "stderr",
     "output_type": "stream",
     "text": [
      "16:17:04|caproto.circ|EchoRequest()\n"
     ]
    },
    {
     "name": "stdout",
     "output_type": "stream",
     "text": [
      "[D 16:17:04.826     _circuit:  166] 127.0.0.1:5064 --->>> 127.0.0.1:57574 16B EchoResponse()\n"
     ]
    },
    {
     "name": "stderr",
     "output_type": "stream",
     "text": [
      "16:17:04|caproto.circ|EchoResponse()\n"
     ]
    },
    {
     "name": "stdout",
     "output_type": "stream",
     "text": [
      "[D 16:17:36.211       common:  688] 127.0.0.1:5064 <<<--- 127.0.0.1:57574 16B EchoRequest()\n"
     ]
    },
    {
     "name": "stderr",
     "output_type": "stream",
     "text": [
      "16:17:36|caproto.circ|EchoRequest()\n"
     ]
    },
    {
     "name": "stdout",
     "output_type": "stream",
     "text": [
      "[D 16:17:36.212     _circuit:  166] 127.0.0.1:5064 --->>> 127.0.0.1:57574 16B EchoResponse()\n"
     ]
    },
    {
     "name": "stderr",
     "output_type": "stream",
     "text": [
      "16:17:36|caproto.circ|EchoResponse()\n"
     ]
    },
    {
     "name": "stdout",
     "output_type": "stream",
     "text": [
      "[D 16:18:07.646       common:  688] 127.0.0.1:5064 <<<--- 127.0.0.1:57574 16B EchoRequest()\n"
     ]
    },
    {
     "name": "stderr",
     "output_type": "stream",
     "text": [
      "16:18:07|caproto.circ|EchoRequest()\n"
     ]
    },
    {
     "name": "stdout",
     "output_type": "stream",
     "text": [
      "[D 16:18:07.647     _circuit:  166] 127.0.0.1:5064 --->>> 127.0.0.1:57574 16B EchoResponse()\n"
     ]
    },
    {
     "name": "stderr",
     "output_type": "stream",
     "text": [
      "16:18:07|caproto.circ|EchoResponse()\n"
     ]
    },
    {
     "name": "stdout",
     "output_type": "stream",
     "text": [
      "[D 16:18:38.727       common:  688] 127.0.0.1:5064 <<<--- 127.0.0.1:57574 16B EchoRequest()\n"
     ]
    },
    {
     "name": "stderr",
     "output_type": "stream",
     "text": [
      "16:18:38|caproto.circ|EchoRequest()\n"
     ]
    },
    {
     "name": "stdout",
     "output_type": "stream",
     "text": [
      "[D 16:18:38.729     _circuit:  166] 127.0.0.1:5064 --->>> 127.0.0.1:57574 16B EchoResponse()\n"
     ]
    },
    {
     "name": "stderr",
     "output_type": "stream",
     "text": [
      "16:18:38|caproto.circ|EchoResponse()\n"
     ]
    },
    {
     "name": "stdout",
     "output_type": "stream",
     "text": [
      "[D 16:19:09.761       common:  688] 127.0.0.1:5064 <<<--- 127.0.0.1:57574 16B EchoRequest()\n"
     ]
    },
    {
     "name": "stderr",
     "output_type": "stream",
     "text": [
      "16:19:09|caproto.circ|EchoRequest()\n"
     ]
    },
    {
     "name": "stdout",
     "output_type": "stream",
     "text": [
      "[D 16:19:09.762     _circuit:  166] 127.0.0.1:5064 --->>> 127.0.0.1:57574 16B EchoResponse()\n"
     ]
    },
    {
     "name": "stderr",
     "output_type": "stream",
     "text": [
      "16:19:09|caproto.circ|EchoResponse()\n"
     ]
    },
    {
     "name": "stdout",
     "output_type": "stream",
     "text": [
      "[D 16:19:40.816       common:  688] 127.0.0.1:5064 <<<--- 127.0.0.1:57574 16B EchoRequest()\n"
     ]
    },
    {
     "name": "stderr",
     "output_type": "stream",
     "text": [
      "16:19:40|caproto.circ|EchoRequest()\n"
     ]
    },
    {
     "name": "stdout",
     "output_type": "stream",
     "text": [
      "[D 16:19:40.817     _circuit:  166] 127.0.0.1:5064 --->>> 127.0.0.1:57574 16B EchoResponse()\n"
     ]
    },
    {
     "name": "stderr",
     "output_type": "stream",
     "text": [
      "16:19:40|caproto.circ|EchoResponse()\n"
     ]
    },
    {
     "name": "stdout",
     "output_type": "stream",
     "text": [
      "[D 16:20:11.908       common:  688] 127.0.0.1:5064 <<<--- 127.0.0.1:57574 16B EchoRequest()\n"
     ]
    },
    {
     "name": "stderr",
     "output_type": "stream",
     "text": [
      "16:20:11|caproto.circ|EchoRequest()\n"
     ]
    },
    {
     "name": "stdout",
     "output_type": "stream",
     "text": [
      "[D 16:20:11.909     _circuit:  166] 127.0.0.1:5064 --->>> 127.0.0.1:57574 16B EchoResponse()\n"
     ]
    },
    {
     "name": "stderr",
     "output_type": "stream",
     "text": [
      "16:20:11|caproto.circ|EchoResponse()\n"
     ]
    },
    {
     "name": "stdout",
     "output_type": "stream",
     "text": [
      "[D 16:20:43.057       common:  688] 127.0.0.1:5064 <<<--- 127.0.0.1:57574 16B EchoRequest()\n"
     ]
    },
    {
     "name": "stderr",
     "output_type": "stream",
     "text": [
      "16:20:43|caproto.circ|EchoRequest()\n"
     ]
    },
    {
     "name": "stdout",
     "output_type": "stream",
     "text": [
      "[D 16:20:43.058     _circuit:  166] 127.0.0.1:5064 --->>> 127.0.0.1:57574 16B EchoResponse()\n"
     ]
    },
    {
     "name": "stderr",
     "output_type": "stream",
     "text": [
      "16:20:43|caproto.circ|EchoResponse()\n"
     ]
    },
    {
     "name": "stdout",
     "output_type": "stream",
     "text": [
      "[D 16:21:14.545       common:  688] 127.0.0.1:5064 <<<--- 127.0.0.1:57574 16B EchoRequest()\n"
     ]
    },
    {
     "name": "stderr",
     "output_type": "stream",
     "text": [
      "16:21:14|caproto.circ|EchoRequest()\n"
     ]
    },
    {
     "name": "stdout",
     "output_type": "stream",
     "text": [
      "[D 16:21:14.546     _circuit:  166] 127.0.0.1:5064 --->>> 127.0.0.1:57574 16B EchoResponse()\n"
     ]
    },
    {
     "name": "stderr",
     "output_type": "stream",
     "text": [
      "16:21:14|caproto.circ|EchoResponse()\n"
     ]
    },
    {
     "name": "stdout",
     "output_type": "stream",
     "text": [
      "[D 16:21:45.702       common:  688] 127.0.0.1:5064 <<<--- 127.0.0.1:57574 16B EchoRequest()\n"
     ]
    },
    {
     "name": "stderr",
     "output_type": "stream",
     "text": [
      "16:21:45|caproto.circ|EchoRequest()\n"
     ]
    },
    {
     "name": "stdout",
     "output_type": "stream",
     "text": [
      "[D 16:21:45.703     _circuit:  166] 127.0.0.1:5064 --->>> 127.0.0.1:57574 16B EchoResponse()\n"
     ]
    },
    {
     "name": "stderr",
     "output_type": "stream",
     "text": [
      "16:21:45|caproto.circ|EchoResponse()\n"
     ]
    },
    {
     "name": "stdout",
     "output_type": "stream",
     "text": [
      "[D 16:22:16.911       common:  688] 127.0.0.1:5064 <<<--- 127.0.0.1:57574 16B EchoRequest()\n"
     ]
    },
    {
     "name": "stderr",
     "output_type": "stream",
     "text": [
      "16:22:16|caproto.circ|EchoRequest()\n"
     ]
    },
    {
     "name": "stdout",
     "output_type": "stream",
     "text": [
      "[D 16:22:16.912     _circuit:  166] 127.0.0.1:5064 --->>> 127.0.0.1:57574 16B EchoResponse()\n"
     ]
    },
    {
     "name": "stderr",
     "output_type": "stream",
     "text": [
      "16:22:16|caproto.circ|EchoResponse()\n"
     ]
    },
    {
     "name": "stdout",
     "output_type": "stream",
     "text": [
      "[D 16:22:48.007       common:  688] 127.0.0.1:5064 <<<--- 127.0.0.1:57574 16B EchoRequest()\n"
     ]
    },
    {
     "name": "stderr",
     "output_type": "stream",
     "text": [
      "16:22:48|caproto.circ|EchoRequest()\n"
     ]
    },
    {
     "name": "stdout",
     "output_type": "stream",
     "text": [
      "[D 16:22:48.009     _circuit:  166] 127.0.0.1:5064 --->>> 127.0.0.1:57574 16B EchoResponse()\n"
     ]
    },
    {
     "name": "stderr",
     "output_type": "stream",
     "text": [
      "16:22:48|caproto.circ|EchoResponse()\n"
     ]
    },
    {
     "name": "stdout",
     "output_type": "stream",
     "text": [
      "[D 16:23:19.370       common:  688] 127.0.0.1:5064 <<<--- 127.0.0.1:57574 16B EchoRequest()\n"
     ]
    },
    {
     "name": "stderr",
     "output_type": "stream",
     "text": [
      "16:23:19|caproto.circ|EchoRequest()\n"
     ]
    },
    {
     "name": "stdout",
     "output_type": "stream",
     "text": [
      "[D 16:23:19.371     _circuit:  166] 127.0.0.1:5064 --->>> 127.0.0.1:57574 16B EchoResponse()\n"
     ]
    },
    {
     "name": "stderr",
     "output_type": "stream",
     "text": [
      "16:23:19|caproto.circ|EchoResponse()\n"
     ]
    },
    {
     "name": "stdout",
     "output_type": "stream",
     "text": [
      "[D 16:23:50.789       common:  688] 127.0.0.1:5064 <<<--- 127.0.0.1:57574 16B EchoRequest()\n"
     ]
    },
    {
     "name": "stderr",
     "output_type": "stream",
     "text": [
      "16:23:50|caproto.circ|EchoRequest()\n"
     ]
    },
    {
     "name": "stdout",
     "output_type": "stream",
     "text": [
      "[D 16:23:50.790     _circuit:  166] 127.0.0.1:5064 --->>> 127.0.0.1:57574 16B EchoResponse()\n"
     ]
    },
    {
     "name": "stderr",
     "output_type": "stream",
     "text": [
      "16:23:50|caproto.circ|EchoResponse()\n"
     ]
    },
    {
     "name": "stdout",
     "output_type": "stream",
     "text": [
      "[D 16:24:22.171       common:  688] 127.0.0.1:5064 <<<--- 127.0.0.1:57574 16B EchoRequest()\n"
     ]
    },
    {
     "name": "stderr",
     "output_type": "stream",
     "text": [
      "16:24:22|caproto.circ|EchoRequest()\n"
     ]
    },
    {
     "name": "stdout",
     "output_type": "stream",
     "text": [
      "[D 16:24:22.173     _circuit:  166] 127.0.0.1:5064 --->>> 127.0.0.1:57574 16B EchoResponse()\n"
     ]
    },
    {
     "name": "stderr",
     "output_type": "stream",
     "text": [
      "16:24:22|caproto.circ|EchoResponse()\n"
     ]
    },
    {
     "name": "stdout",
     "output_type": "stream",
     "text": [
      "[D 16:24:53.518       common:  688] 127.0.0.1:5064 <<<--- 127.0.0.1:57574 16B EchoRequest()\n"
     ]
    },
    {
     "name": "stderr",
     "output_type": "stream",
     "text": [
      "16:24:53|caproto.circ|EchoRequest()\n"
     ]
    },
    {
     "name": "stdout",
     "output_type": "stream",
     "text": [
      "[D 16:24:53.519     _circuit:  166] 127.0.0.1:5064 --->>> 127.0.0.1:57574 16B EchoResponse()\n"
     ]
    },
    {
     "name": "stderr",
     "output_type": "stream",
     "text": [
      "16:24:53|caproto.circ|EchoResponse()\n"
     ]
    },
    {
     "name": "stdout",
     "output_type": "stream",
     "text": [
      "[D 16:25:24.955       common:  688] 127.0.0.1:5064 <<<--- 127.0.0.1:57574 16B EchoRequest()\n"
     ]
    },
    {
     "name": "stderr",
     "output_type": "stream",
     "text": [
      "16:25:24|caproto.circ|EchoRequest()\n"
     ]
    },
    {
     "name": "stdout",
     "output_type": "stream",
     "text": [
      "[D 16:25:24.956     _circuit:  166] 127.0.0.1:5064 --->>> 127.0.0.1:57574 16B EchoResponse()\n"
     ]
    },
    {
     "name": "stderr",
     "output_type": "stream",
     "text": [
      "16:25:24|caproto.circ|EchoResponse()\n"
     ]
    },
    {
     "name": "stdout",
     "output_type": "stream",
     "text": [
      "[D 16:25:56.440       common:  688] 127.0.0.1:5064 <<<--- 127.0.0.1:57574 16B EchoRequest()\n"
     ]
    },
    {
     "name": "stderr",
     "output_type": "stream",
     "text": [
      "16:25:56|caproto.circ|EchoRequest()\n"
     ]
    },
    {
     "name": "stdout",
     "output_type": "stream",
     "text": [
      "[D 16:25:56.441     _circuit:  166] 127.0.0.1:5064 --->>> 127.0.0.1:57574 16B EchoResponse()\n"
     ]
    },
    {
     "name": "stderr",
     "output_type": "stream",
     "text": [
      "16:25:56|caproto.circ|EchoResponse()\n"
     ]
    },
    {
     "name": "stdout",
     "output_type": "stream",
     "text": [
      "[D 16:26:27.925       common:  688] 127.0.0.1:5064 <<<--- 127.0.0.1:57574 16B EchoRequest()\n"
     ]
    },
    {
     "name": "stderr",
     "output_type": "stream",
     "text": [
      "16:26:27|caproto.circ|EchoRequest()\n"
     ]
    },
    {
     "name": "stdout",
     "output_type": "stream",
     "text": [
      "[D 16:26:27.927     _circuit:  166] 127.0.0.1:5064 --->>> 127.0.0.1:57574 16B EchoResponse()\n"
     ]
    },
    {
     "name": "stderr",
     "output_type": "stream",
     "text": [
      "16:26:27|caproto.circ|EchoResponse()\n"
     ]
    },
    {
     "name": "stdout",
     "output_type": "stream",
     "text": [
      "[D 16:26:59.065       common:  688] 127.0.0.1:5064 <<<--- 127.0.0.1:57574 16B EchoRequest()\n"
     ]
    },
    {
     "name": "stderr",
     "output_type": "stream",
     "text": [
      "16:26:59|caproto.circ|EchoRequest()\n"
     ]
    },
    {
     "name": "stdout",
     "output_type": "stream",
     "text": [
      "[D 16:26:59.067     _circuit:  166] 127.0.0.1:5064 --->>> 127.0.0.1:57574 16B EchoResponse()\n"
     ]
    },
    {
     "name": "stderr",
     "output_type": "stream",
     "text": [
      "16:26:59|caproto.circ|EchoResponse()\n"
     ]
    },
    {
     "name": "stdout",
     "output_type": "stream",
     "text": [
      "[D 16:27:30.565       common:  688] 127.0.0.1:5064 <<<--- 127.0.0.1:57574 16B EchoRequest()\n"
     ]
    },
    {
     "name": "stderr",
     "output_type": "stream",
     "text": [
      "16:27:30|caproto.circ|EchoRequest()\n"
     ]
    },
    {
     "name": "stdout",
     "output_type": "stream",
     "text": [
      "[D 16:27:30.566     _circuit:  166] 127.0.0.1:5064 --->>> 127.0.0.1:57574 16B EchoResponse()\n"
     ]
    },
    {
     "name": "stderr",
     "output_type": "stream",
     "text": [
      "16:27:30|caproto.circ|EchoResponse()\n"
     ]
    },
    {
     "name": "stdout",
     "output_type": "stream",
     "text": [
      "[D 16:28:01.602       common:  688] 127.0.0.1:5064 <<<--- 127.0.0.1:57574 16B EchoRequest()\n"
     ]
    },
    {
     "name": "stderr",
     "output_type": "stream",
     "text": [
      "16:28:01|caproto.circ|EchoRequest()\n"
     ]
    },
    {
     "name": "stdout",
     "output_type": "stream",
     "text": [
      "[D 16:28:01.603     _circuit:  166] 127.0.0.1:5064 --->>> 127.0.0.1:57574 16B EchoResponse()\n"
     ]
    },
    {
     "name": "stderr",
     "output_type": "stream",
     "text": [
      "16:28:01|caproto.circ|EchoResponse()\n"
     ]
    },
    {
     "name": "stdout",
     "output_type": "stream",
     "text": [
      "[D 16:28:32.641       common:  688] 127.0.0.1:5064 <<<--- 127.0.0.1:57574 16B EchoRequest()\n"
     ]
    },
    {
     "name": "stderr",
     "output_type": "stream",
     "text": [
      "16:28:32|caproto.circ|EchoRequest()\n"
     ]
    },
    {
     "name": "stdout",
     "output_type": "stream",
     "text": [
      "[D 16:28:32.642     _circuit:  166] 127.0.0.1:5064 --->>> 127.0.0.1:57574 16B EchoResponse()\n"
     ]
    },
    {
     "name": "stderr",
     "output_type": "stream",
     "text": [
      "16:28:32|caproto.circ|EchoResponse()\n"
     ]
    },
    {
     "name": "stdout",
     "output_type": "stream",
     "text": [
      "[D 16:29:03.715       common:  688] 127.0.0.1:5064 <<<--- 127.0.0.1:57574 16B EchoRequest()\n"
     ]
    },
    {
     "name": "stderr",
     "output_type": "stream",
     "text": [
      "16:29:03|caproto.circ|EchoRequest()\n"
     ]
    },
    {
     "name": "stdout",
     "output_type": "stream",
     "text": [
      "[D 16:29:03.716     _circuit:  166] 127.0.0.1:5064 --->>> 127.0.0.1:57574 16B EchoResponse()\n"
     ]
    },
    {
     "name": "stderr",
     "output_type": "stream",
     "text": [
      "16:29:03|caproto.circ|EchoResponse()\n"
     ]
    },
    {
     "name": "stdout",
     "output_type": "stream",
     "text": [
      "[D 16:29:35.118       common:  688] 127.0.0.1:5064 <<<--- 127.0.0.1:57574 16B EchoRequest()\n"
     ]
    },
    {
     "name": "stderr",
     "output_type": "stream",
     "text": [
      "16:29:35|caproto.circ|EchoRequest()\n"
     ]
    },
    {
     "name": "stdout",
     "output_type": "stream",
     "text": [
      "[D 16:29:35.119     _circuit:  166] 127.0.0.1:5064 --->>> 127.0.0.1:57574 16B EchoResponse()\n"
     ]
    },
    {
     "name": "stderr",
     "output_type": "stream",
     "text": [
      "16:29:35|caproto.circ|EchoResponse()\n"
     ]
    },
    {
     "name": "stdout",
     "output_type": "stream",
     "text": [
      "[D 16:30:06.609       common:  688] 127.0.0.1:5064 <<<--- 127.0.0.1:57574 16B EchoRequest()\n"
     ]
    },
    {
     "name": "stderr",
     "output_type": "stream",
     "text": [
      "16:30:06|caproto.circ|EchoRequest()\n"
     ]
    },
    {
     "name": "stdout",
     "output_type": "stream",
     "text": [
      "[D 16:30:06.611     _circuit:  166] 127.0.0.1:5064 --->>> 127.0.0.1:57574 16B EchoResponse()\n"
     ]
    },
    {
     "name": "stderr",
     "output_type": "stream",
     "text": [
      "16:30:06|caproto.circ|EchoResponse()\n"
     ]
    },
    {
     "name": "stdout",
     "output_type": "stream",
     "text": [
      "[D 16:30:37.979       common:  688] 127.0.0.1:5064 <<<--- 127.0.0.1:57574 16B EchoRequest()\n"
     ]
    },
    {
     "name": "stderr",
     "output_type": "stream",
     "text": [
      "16:30:37|caproto.circ|EchoRequest()\n"
     ]
    },
    {
     "name": "stdout",
     "output_type": "stream",
     "text": [
      "[D 16:30:37.980     _circuit:  166] 127.0.0.1:5064 --->>> 127.0.0.1:57574 16B EchoResponse()\n"
     ]
    },
    {
     "name": "stderr",
     "output_type": "stream",
     "text": [
      "16:30:37|caproto.circ|EchoResponse()\n"
     ]
    },
    {
     "name": "stdout",
     "output_type": "stream",
     "text": [
      "[D 16:31:09.456       common:  688] 127.0.0.1:5064 <<<--- 127.0.0.1:57574 16B EchoRequest()\n"
     ]
    },
    {
     "name": "stderr",
     "output_type": "stream",
     "text": [
      "16:31:09|caproto.circ|EchoRequest()\n"
     ]
    },
    {
     "name": "stdout",
     "output_type": "stream",
     "text": [
      "[D 16:31:09.457     _circuit:  166] 127.0.0.1:5064 --->>> 127.0.0.1:57574 16B EchoResponse()\n"
     ]
    },
    {
     "name": "stderr",
     "output_type": "stream",
     "text": [
      "16:31:09|caproto.circ|EchoResponse()\n"
     ]
    },
    {
     "name": "stdout",
     "output_type": "stream",
     "text": [
      "[D 16:31:40.523       common:  688] 127.0.0.1:5064 <<<--- 127.0.0.1:57574 16B EchoRequest()\n"
     ]
    },
    {
     "name": "stderr",
     "output_type": "stream",
     "text": [
      "16:31:40|caproto.circ|EchoRequest()\n"
     ]
    },
    {
     "name": "stdout",
     "output_type": "stream",
     "text": [
      "[D 16:31:40.524     _circuit:  166] 127.0.0.1:5064 --->>> 127.0.0.1:57574 16B EchoResponse()\n"
     ]
    },
    {
     "name": "stderr",
     "output_type": "stream",
     "text": [
      "16:31:40|caproto.circ|EchoResponse()\n"
     ]
    },
    {
     "name": "stdout",
     "output_type": "stream",
     "text": [
      "[D 16:32:11.653       common:  688] 127.0.0.1:5064 <<<--- 127.0.0.1:57574 16B EchoRequest()\n"
     ]
    },
    {
     "name": "stderr",
     "output_type": "stream",
     "text": [
      "16:32:11|caproto.circ|EchoRequest()\n"
     ]
    },
    {
     "name": "stdout",
     "output_type": "stream",
     "text": [
      "[D 16:32:11.654     _circuit:  166] 127.0.0.1:5064 --->>> 127.0.0.1:57574 16B EchoResponse()\n"
     ]
    },
    {
     "name": "stderr",
     "output_type": "stream",
     "text": [
      "16:32:11|caproto.circ|EchoResponse()\n"
     ]
    },
    {
     "name": "stdout",
     "output_type": "stream",
     "text": [
      "[D 16:32:42.703       common:  688] 127.0.0.1:5064 <<<--- 127.0.0.1:57574 16B EchoRequest()\n"
     ]
    },
    {
     "name": "stderr",
     "output_type": "stream",
     "text": [
      "16:32:42|caproto.circ|EchoRequest()\n"
     ]
    },
    {
     "name": "stdout",
     "output_type": "stream",
     "text": [
      "[D 16:32:42.704     _circuit:  166] 127.0.0.1:5064 --->>> 127.0.0.1:57574 16B EchoResponse()\n"
     ]
    },
    {
     "name": "stderr",
     "output_type": "stream",
     "text": [
      "16:32:42|caproto.circ|EchoResponse()\n"
     ]
    },
    {
     "name": "stdout",
     "output_type": "stream",
     "text": [
      "[D 16:33:13.732       common:  688] 127.0.0.1:5064 <<<--- 127.0.0.1:57574 16B EchoRequest()\n"
     ]
    },
    {
     "name": "stderr",
     "output_type": "stream",
     "text": [
      "16:33:13|caproto.circ|EchoRequest()\n"
     ]
    },
    {
     "name": "stdout",
     "output_type": "stream",
     "text": [
      "[D 16:33:13.733     _circuit:  166] 127.0.0.1:5064 --->>> 127.0.0.1:57574 16B EchoResponse()\n"
     ]
    },
    {
     "name": "stderr",
     "output_type": "stream",
     "text": [
      "16:33:13|caproto.circ|EchoResponse()\n"
     ]
    },
    {
     "name": "stdout",
     "output_type": "stream",
     "text": [
      "[D 16:33:44.782       common:  688] 127.0.0.1:5064 <<<--- 127.0.0.1:57574 16B EchoRequest()\n"
     ]
    },
    {
     "name": "stderr",
     "output_type": "stream",
     "text": [
      "16:33:44|caproto.circ|EchoRequest()\n"
     ]
    },
    {
     "name": "stdout",
     "output_type": "stream",
     "text": [
      "[D 16:33:44.784     _circuit:  166] 127.0.0.1:5064 --->>> 127.0.0.1:57574 16B EchoResponse()\n"
     ]
    },
    {
     "name": "stderr",
     "output_type": "stream",
     "text": [
      "16:33:44|caproto.circ|EchoResponse()\n"
     ]
    },
    {
     "name": "stdout",
     "output_type": "stream",
     "text": [
      "[D 16:34:16.290       common:  688] 127.0.0.1:5064 <<<--- 127.0.0.1:57574 16B EchoRequest()\n"
     ]
    },
    {
     "name": "stderr",
     "output_type": "stream",
     "text": [
      "16:34:16|caproto.circ|EchoRequest()\n"
     ]
    },
    {
     "name": "stdout",
     "output_type": "stream",
     "text": [
      "[D 16:34:16.291     _circuit:  166] 127.0.0.1:5064 --->>> 127.0.0.1:57574 16B EchoResponse()\n"
     ]
    },
    {
     "name": "stderr",
     "output_type": "stream",
     "text": [
      "16:34:16|caproto.circ|EchoResponse()\n"
     ]
    },
    {
     "name": "stdout",
     "output_type": "stream",
     "text": [
      "[D 16:34:47.350       common:  688] 127.0.0.1:5064 <<<--- 127.0.0.1:57574 16B EchoRequest()\n"
     ]
    },
    {
     "name": "stderr",
     "output_type": "stream",
     "text": [
      "16:34:47|caproto.circ|EchoRequest()\n"
     ]
    },
    {
     "name": "stdout",
     "output_type": "stream",
     "text": [
      "[D 16:34:47.351     _circuit:  166] 127.0.0.1:5064 --->>> 127.0.0.1:57574 16B EchoResponse()\n"
     ]
    },
    {
     "name": "stderr",
     "output_type": "stream",
     "text": [
      "16:34:47|caproto.circ|EchoResponse()\n"
     ]
    },
    {
     "name": "stdout",
     "output_type": "stream",
     "text": [
      "[D 16:35:18.401       common:  688] 127.0.0.1:5064 <<<--- 127.0.0.1:57574 16B EchoRequest()\n"
     ]
    },
    {
     "name": "stderr",
     "output_type": "stream",
     "text": [
      "16:35:18|caproto.circ|EchoRequest()\n"
     ]
    },
    {
     "name": "stdout",
     "output_type": "stream",
     "text": [
      "[D 16:35:18.402     _circuit:  166] 127.0.0.1:5064 --->>> 127.0.0.1:57574 16B EchoResponse()\n"
     ]
    },
    {
     "name": "stderr",
     "output_type": "stream",
     "text": [
      "16:35:18|caproto.circ|EchoResponse()\n"
     ]
    },
    {
     "name": "stdout",
     "output_type": "stream",
     "text": [
      "[D 16:35:49.898       common:  688] 127.0.0.1:5064 <<<--- 127.0.0.1:57574 16B EchoRequest()\n"
     ]
    },
    {
     "name": "stderr",
     "output_type": "stream",
     "text": [
      "16:35:49|caproto.circ|EchoRequest()\n"
     ]
    },
    {
     "name": "stdout",
     "output_type": "stream",
     "text": [
      "[D 16:35:49.899     _circuit:  166] 127.0.0.1:5064 --->>> 127.0.0.1:57574 16B EchoResponse()\n"
     ]
    },
    {
     "name": "stderr",
     "output_type": "stream",
     "text": [
      "16:35:49|caproto.circ|EchoResponse()\n"
     ]
    }
   ],
   "source": [
    "ioc = SimpleIOC(**ioc_options)\n",
    "#run(self.bl.pvdb, log_pv_names=True, interfaces=['0.0.0.0'])\n",
    "run(ioc.pvdb, **run_options)"
   ]
  },
  {
   "cell_type": "code",
   "execution_count": null,
   "metadata": {},
   "outputs": [],
   "source": []
  }
 ],
 "metadata": {
  "kernelspec": {
   "display_name": "Python 3.9.15 ('py39ml')",
   "language": "python",
   "name": "python3"
  },
  "language_info": {
   "codemirror_mode": {
    "name": "ipython",
    "version": 3
   },
   "file_extension": ".py",
   "mimetype": "text/x-python",
   "name": "python",
   "nbconvert_exporter": "python",
   "pygments_lexer": "ipython3",
   "version": "3.9.15"
  },
  "orig_nbformat": 4,
  "vscode": {
   "interpreter": {
    "hash": "13374264484fde26a6608662cb4d9f2b357aebc4acc640560464425c35bd54c0"
   }
  }
 },
 "nbformat": 4,
 "nbformat_minor": 2
}
