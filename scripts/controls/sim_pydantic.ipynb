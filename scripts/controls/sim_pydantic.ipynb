{
 "cells": [
  {
   "cell_type": "code",
   "execution_count": 8,
   "metadata": {
    "collapsed": true
   },
   "outputs": [],
   "source": [
    "import sys\n",
    "sys.path.append('../..')\n",
    "import pybeamtools"
   ]
  },
  {
   "cell_type": "code",
   "execution_count": 9,
   "metadata": {},
   "outputs": [
    {
     "name": "stdout",
     "output_type": "stream",
     "text": [
      "The autoreload extension is already loaded. To reload it, use:\n",
      "  %reload_ext autoreload\n"
     ]
    }
   ],
   "source": [
    "%load_ext autoreload\n",
    "%autoreload 2"
   ]
  },
  {
   "cell_type": "code",
   "execution_count": 10,
   "metadata": {},
   "outputs": [],
   "source": [
    "def time():\n",
    "    return time.time()*0.5\n",
    "\n",
    "t = 0.0\n",
    "def fixed_time():\n",
    "    return t"
   ]
  },
  {
   "cell_type": "code",
   "execution_count": 17,
   "metadata": {},
   "outputs": [],
   "source": [
    "from pybeamtools.sim.pddevices import EchoDevice, EchoDeviceOptions, TRIGSPEC\n",
    "echo = EchoDevice(options=EchoDeviceOptions(name='echo', data={'TEST:ECHO:1':5}))\n",
    "echo2 = EchoDevice(options=EchoDeviceOptions(name='echo2', data={'TEST:ECHO:2':15}))"
   ]
  },
  {
   "cell_type": "code",
   "execution_count": 18,
   "metadata": {},
   "outputs": [
    {
     "data": {
      "text/plain": [
       "{'name': 'echo', 'device_type': 'echo', 'data': {'TEST:ECHO:1': 5}}"
      ]
     },
     "execution_count": 18,
     "metadata": {},
     "output_type": "execute_result"
    }
   ],
   "source": [
    "echo.options.dict()"
   ]
  },
  {
   "cell_type": "code",
   "execution_count": null,
   "metadata": {},
   "outputs": [],
   "source": [
    "eo = EchoDeviceOptions.parse_obj(echo.options.dict())"
   ]
  },
  {
   "cell_type": "code",
   "execution_count": 19,
   "metadata": {},
   "outputs": [],
   "source": [
    "from pybeamtools.sim.pddevices import ProxyDevice, ProxyDeviceOptions\n",
    "proxy = ProxyDevice(ProxyDeviceOptions(name='proxy', channel_map={'TEST:PROXY:1':{'TEST:ECHO:1': TRIGSPEC.PROPAGATE}}))\n",
    "proxy1b = ProxyDevice(ProxyDeviceOptions(name='proxy1b', channel_map={'TEST:PROXY:1B':{'TEST:ECHO:2': TRIGSPEC.IGNORE}}))\n",
    "proxy2 = ProxyDevice(ProxyDeviceOptions(name='proxy2', channel_map={'TEST:PROXY:2':{'TEST:PROXY:1': TRIGSPEC.PROPAGATE}}))\n",
    "proxy2b = ProxyDevice(ProxyDeviceOptions(name='proxy2b', channel_map={'TEST:PROXY:2B':{'TEST:PROXY:1': TRIGSPEC.PROPAGATE}}))"
   ]
  },
  {
   "cell_type": "code",
   "execution_count": 20,
   "metadata": {},
   "outputs": [],
   "source": [
    "from pybeamtools.sim.core import SimulationEngine, SignalEngineOptions\n",
    "sim = SimulationEngine(SignalEngineOptions(time_function=fixed_time))\n",
    "sim.TRACE = True"
   ]
  },
  {
   "cell_type": "code",
   "execution_count": 21,
   "metadata": {},
   "outputs": [
    {
     "data": {
      "text/plain": [
       "{'history_length': 1000,\n",
       " 'time_function': <function __main__.fixed_time()>,\n",
       " 'devices': [],\n",
       " 'periods': {}}"
      ]
     },
     "execution_count": 21,
     "metadata": {},
     "output_type": "execute_result"
    }
   ],
   "source": [
    "sim.options.dict()"
   ]
  },
  {
   "cell_type": "code",
   "execution_count": 22,
   "metadata": {},
   "outputs": [],
   "source": [
    "opt = SignalEngineOptions.parse_obj(sim.options.dict())"
   ]
  },
  {
   "cell_type": "code",
   "execution_count": null,
   "metadata": {},
   "outputs": [],
   "source": [
    "sim.add_device(echo, period=3.0)\n",
    "sim._update_device('echo')\n",
    "sim.add_device(echo2, period=5.0)\n",
    "sim._update_device('echo2')"
   ]
  },
  {
   "cell_type": "code",
   "execution_count": null,
   "metadata": {},
   "outputs": [],
   "source": [
    "print(sim.channels_map_chain)\n",
    "print(sim.channels_dep_chain)\n",
    "print(sim.next_periodic_read_time)"
   ]
  },
  {
   "cell_type": "code",
   "execution_count": null,
   "metadata": {},
   "outputs": [],
   "source": [
    "proxy = ProxyEngineDevice(name='proxy', channel_map={'TEST:PROXY:1':{'TEST:ECHO:1': TRIGSPEC.PROPAGATE}})\n",
    "proxy1b = ProxyEngineDevice(name='proxy1b', channel_map={'TEST:PROXY:1B':{'TEST:ECHO:2': TRIGSPEC.IGNORE}})\n",
    "proxy2 = ProxyEngineDevice(name='proxy2', channel_map={'TEST:PROXY:2':{'TEST:PROXY:1': TRIGSPEC.PROPAGATE}})\n",
    "proxy2b = ProxyEngineDevice(name='proxy2b', channel_map={'TEST:PROXY:2B':{'TEST:PROXY:1': TRIGSPEC.PROPAGATE}})"
   ]
  },
  {
   "cell_type": "code",
   "execution_count": null,
   "metadata": {},
   "outputs": [],
   "source": [
    "sim.add_device(proxy, period=6.0)\n",
    "sim._update_device('proxy')\n",
    "sim.add_device(proxy1b, period=7.0)\n",
    "sim._update_device('proxy1b')\n",
    "sim.add_device(proxy2, period=9.0)\n",
    "sim._update_device('proxy2')\n",
    "sim.add_device(proxy2b, period=11.0)\n",
    "sim._update_device('proxy2b')"
   ]
  },
  {
   "cell_type": "code",
   "execution_count": null,
   "metadata": {},
   "outputs": [],
   "source": [
    "print(sim.channels_map_chain)\n",
    "print(sim.channels_dep_chain)\n",
    "print(sim.next_periodic_read_time)"
   ]
  },
  {
   "cell_type": "code",
   "execution_count": null,
   "metadata": {},
   "outputs": [],
   "source": [
    "#t = sim.time()"
   ]
  },
  {
   "cell_type": "code",
   "execution_count": null,
   "metadata": {},
   "outputs": [],
   "source": [
    "t += 10\n",
    "sim._time_step(t)"
   ]
  },
  {
   "cell_type": "code",
   "execution_count": null,
   "metadata": {},
   "outputs": [],
   "source": [
    "sim.time()"
   ]
  },
  {
   "cell_type": "code",
   "execution_count": null,
   "metadata": {},
   "outputs": [],
   "source": [
    "def f(sub, v):\n",
    "    print(f'Channel input_var_change_callback', sub.name, v)\n",
    "sub = sim.subscribe_channel('TEST:ECHO:1')\n",
    "sub.add_callback(f)"
   ]
  },
  {
   "cell_type": "code",
   "execution_count": null,
   "metadata": {},
   "outputs": [],
   "source": [
    "t += 10\n",
    "sim._time_step(t)"
   ]
  },
  {
   "cell_type": "code",
   "execution_count": null,
   "metadata": {},
   "outputs": [],
   "source": [
    "def f(sub, v):\n",
    "    print(f'Channel input_var_change_callback 2', sub.name, v)\n",
    "sub = sim.subscribe_channel('TEST:PROXY:2B')\n",
    "sub.add_callback(f)"
   ]
  },
  {
   "cell_type": "code",
   "execution_count": null,
   "metadata": {},
   "outputs": [],
   "source": [
    "t += 10\n",
    "sim._time_step(t)"
   ]
  },
  {
   "cell_type": "code",
   "execution_count": null,
   "metadata": {},
   "outputs": [],
   "source": [
    "from pybeamtools.sim.devices import MagnetEngineDevice\n",
    "mag1 = MagnetEngineDevice('magneto','MAG_VAL','MAG_VAL_EXACT', initial_value=0, low=-2, high=2, noise=0.1, resolution=None, model='instant')"
   ]
  },
  {
   "cell_type": "code",
   "execution_count": null,
   "metadata": {},
   "outputs": [],
   "source": [
    "sim.add_device(mag1, period=5.0)\n",
    "sim._update_device('magneto')"
   ]
  },
  {
   "cell_type": "code",
   "execution_count": null,
   "metadata": {},
   "outputs": [],
   "source": [
    "t += 1\n",
    "sim._time_step(t)"
   ]
  },
  {
   "cell_type": "code",
   "execution_count": null,
   "metadata": {},
   "outputs": [],
   "source": [
    "print(sim.channels_map_chain)\n",
    "print(sim.channels_dep_chain)\n",
    "print(sim.next_periodic_read_time)"
   ]
  },
  {
   "cell_type": "code",
   "execution_count": null,
   "metadata": {},
   "outputs": [],
   "source": [
    "t += 1\n",
    "sim._time_step(t)"
   ]
  },
  {
   "cell_type": "code",
   "execution_count": null,
   "metadata": {},
   "outputs": [],
   "source": [
    "from pybeamtools.sim.devices import RPNEngineDevice\n",
    "rpn1 = RPNEngineDevice(name='rpn1', output_name='TEST:RPN', rpn_expression='TEST:PROXY:2B 10 +')"
   ]
  },
  {
   "cell_type": "code",
   "execution_count": null,
   "metadata": {},
   "outputs": [],
   "source": [
    "sim.add_device(rpn1, period=1.0)\n",
    "sim._update_device(rpn1)"
   ]
  },
  {
   "cell_type": "code",
   "execution_count": null,
   "metadata": {},
   "outputs": [],
   "source": [
    "t += 1\n",
    "sim._time_step(t)"
   ]
  },
  {
   "cell_type": "code",
   "execution_count": null,
   "metadata": {},
   "outputs": [],
   "source": [
    "def f(sub, v):\n",
    "    print(f'Channel input_var_change_callback rpn', sub.name, v)\n",
    "sub = sim.subscribe_channel('TEST:RPN')\n",
    "sub.add_callback(f)"
   ]
  },
  {
   "cell_type": "code",
   "execution_count": null,
   "metadata": {},
   "outputs": [],
   "source": [
    "t += 1\n",
    "sim._time_step(t)"
   ]
  },
  {
   "cell_type": "code",
   "execution_count": null,
   "metadata": {},
   "outputs": [],
   "source": [
    "from pybeamtools.sim.devices import Oscillator, ModelEngineDevice\n",
    "dev_osc = Oscillator(name='osc1', period=60.0, amplitude=1.0, now=t)\n",
    "mdev_osc = ModelEngineDevice(device=dev_osc)"
   ]
  },
  {
   "cell_type": "code",
   "execution_count": null,
   "metadata": {},
   "outputs": [],
   "source": [
    "mdev_osc.channel_map"
   ]
  },
  {
   "cell_type": "code",
   "execution_count": null,
   "metadata": {},
   "outputs": [],
   "source": [
    "sim.add_device(mdev_osc, period=1.0)\n",
    "sim._update_device(mdev_osc)"
   ]
  },
  {
   "cell_type": "code",
   "execution_count": null,
   "metadata": {},
   "outputs": [],
   "source": [
    "t += 1\n",
    "sim._time_step(t)"
   ]
  },
  {
   "cell_type": "code",
   "execution_count": null,
   "metadata": {},
   "outputs": [],
   "source": [
    "sim.latest_data"
   ]
  },
  {
   "cell_type": "code",
   "execution_count": null,
   "metadata": {},
   "outputs": [],
   "source": [
    "sim.latest_data_timestamp"
   ]
  },
  {
   "cell_type": "code",
   "execution_count": null,
   "metadata": {},
   "outputs": [],
   "source": [
    "sim.start_update_thread()\n",
    "print()"
   ]
  },
  {
   "cell_type": "code",
   "execution_count": null,
   "metadata": {},
   "outputs": [],
   "source": []
  },
  {
   "cell_type": "code",
   "execution_count": null,
   "metadata": {},
   "outputs": [],
   "source": []
  },
  {
   "cell_type": "code",
   "execution_count": null,
   "metadata": {},
   "outputs": [],
   "source": [
    "sim.stop_update_thread()"
   ]
  },
  {
   "cell_type": "code",
   "execution_count": null,
   "metadata": {},
   "outputs": [],
   "source": []
  }
 ],
 "metadata": {
  "kernelspec": {
   "display_name": "Python 3.9.15 ('py39ml')",
   "language": "python",
   "name": "python3"
  },
  "language_info": {
   "codemirror_mode": {
    "name": "ipython",
    "version": 3
   },
   "file_extension": ".py",
   "mimetype": "text/x-python",
   "name": "python",
   "nbconvert_exporter": "python",
   "pygments_lexer": "ipython3",
   "version": "3.9.15 | packaged by conda-forge | (main, Nov 22 2022, 08:41:22) [MSC v.1929 64 bit (AMD64)]"
  },
  "vscode": {
   "interpreter": {
    "hash": "13374264484fde26a6608662cb4d9f2b357aebc4acc640560464425c35bd54c0"
   }
  }
 },
 "nbformat": 4,
 "nbformat_minor": 0
}
