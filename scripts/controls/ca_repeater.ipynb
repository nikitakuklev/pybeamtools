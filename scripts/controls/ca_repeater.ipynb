{
 "cells": [
  {
   "cell_type": "code",
   "execution_count": 1,
   "metadata": {
    "collapsed": false,
    "pycharm": {
     "name": "#%%\n"
    }
   },
   "outputs": [],
   "source": [
    "import sys\n",
    "sys.path.append('../..')\n",
    "import time\n",
    "import logging\n",
    "logging.basicConfig(level=logging.DEBUG, format='%(asctime)s|%(name)s|%(message)s', datefmt='%H:%M:%S')\n"
   ]
  },
  {
   "cell_type": "code",
   "execution_count": 2,
   "metadata": {
    "collapsed": false,
    "pycharm": {
     "name": "#%%\n"
    }
   },
   "outputs": [
    {
     "name": "stderr",
     "output_type": "stream",
     "text": [
      "04:19:36|caproto|Backend 'array' registered\n",
      "04:19:36|caproto|Backend 'numpy' registered\n",
      "04:19:36|caproto|Selecting backend: 'numpy'\n",
      "04:19:36|caproto.repeater|Checking for another repeater....\n",
      "04:19:36|caproto.repeater|Repeater is listening on 127.0.0.1:5065\n",
      "04:25:45|caproto.repeater|New client ('127.0.0.1', 56255)\n",
      "04:25:45|caproto.bcast|RepeaterConfirmResponse(repeater_address='127.0.0.1')\n",
      "04:25:55|caproto.repeater|New client ('127.0.0.1', 64146)\n",
      "04:25:55|caproto.bcast|RepeaterConfirmResponse(repeater_address='127.0.0.1')\n",
      "04:27:04|caproto.repeater|New client ('127.0.0.1', 61112)\n",
      "04:27:04|caproto.bcast|RepeaterConfirmResponse(repeater_address='127.0.0.1')\n",
      "04:27:04|caproto.repeater|Removing client :56255\n",
      "04:27:04|caproto.repeater|Removing client :64146\n",
      "04:27:04|caproto.repeater|Active clients: 1 servers: 0\n",
      "04:27:04|caproto.repeater|New client ('127.0.0.1', 57254)\n",
      "04:27:04|caproto.bcast|RepeaterConfirmResponse(repeater_address='127.0.0.1')\n",
      "04:29:12|caproto.repeater|New client ('127.0.0.1', 54960)\n",
      "04:29:12|caproto.bcast|RepeaterConfirmResponse(repeater_address='127.0.0.1')\n"
     ]
    }
   ],
   "source": [
    "from caproto.sync import repeater\n",
    "repeater.run('127.0.0.1')"
   ]
  }
 ],
 "metadata": {
  "kernelspec": {
   "display_name": "Python 3.9.15 ('py39ml')",
   "language": "python",
   "name": "python3"
  },
  "language_info": {
   "codemirror_mode": {
    "name": "ipython",
    "version": 3
   },
   "file_extension": ".py",
   "mimetype": "text/x-python",
   "name": "python",
   "nbconvert_exporter": "python",
   "pygments_lexer": "ipython3",
   "version": "3.9.15"
  },
  "vscode": {
   "interpreter": {
    "hash": "13374264484fde26a6608662cb4d9f2b357aebc4acc640560464425c35bd54c0"
   }
  }
 },
 "nbformat": 4,
 "nbformat_minor": 0
}
