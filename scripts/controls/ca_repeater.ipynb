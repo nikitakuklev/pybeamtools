{
 "cells": [
  {
   "cell_type": "code",
   "execution_count": 1,
   "metadata": {},
   "outputs": [],
   "source": [
    "import os\n",
    "os.environ['EPICS_CA_AUTO_ADDR_LIST'] = 'no'\n",
    "os.environ['EPICS_CA_ADDR_LIST'] = '127.0.0.1'"
   ]
  },
  {
   "cell_type": "code",
   "execution_count": 2,
   "metadata": {
    "collapsed": false,
    "pycharm": {
     "name": "#%%\n"
    }
   },
   "outputs": [],
   "source": [
    "import sys\n",
    "sys.path.append('../..')\n",
    "import time\n",
    "import logging\n",
    "logging.basicConfig(level=logging.DEBUG, format='%(asctime)s|%(name)s|%(message)s', datefmt='%H:%M:%S')"
   ]
  },
  {
   "cell_type": "code",
   "execution_count": 3,
   "metadata": {
    "collapsed": false,
    "pycharm": {
     "name": "#%%\n"
    }
   },
   "outputs": [
    {
     "name": "stderr",
     "output_type": "stream",
     "text": [
      "14:09:07|caproto|Backend 'array' registered\n",
      "14:09:07|caproto|Backend 'numpy' registered\n",
      "14:09:07|caproto|Selecting backend: 'numpy'\n",
      "14:09:07|caproto.repeater|Checking for another repeater....\n",
      "14:09:07|caproto.repeater|Another repeater is already running; exiting.\n"
     ]
    }
   ],
   "source": [
    "from caproto.sync import repeater\n",
    "repeater.run()"
   ]
  },
  {
   "cell_type": "code",
   "execution_count": null,
   "metadata": {},
   "outputs": [],
   "source": []
  }
 ],
 "metadata": {
  "kernelspec": {
   "display_name": "Python 3.9.15 ('py39ml')",
   "language": "python",
   "name": "python3"
  },
  "language_info": {
   "codemirror_mode": {
    "name": "ipython",
    "version": 3
   },
   "file_extension": ".py",
   "mimetype": "text/x-python",
   "name": "python",
   "nbconvert_exporter": "python",
   "pygments_lexer": "ipython3",
   "version": "3.9.15"
  },
  "vscode": {
   "interpreter": {
    "hash": "13374264484fde26a6608662cb4d9f2b357aebc4acc640560464425c35bd54c0"
   }
  }
 },
 "nbformat": 4,
 "nbformat_minor": 0
}
