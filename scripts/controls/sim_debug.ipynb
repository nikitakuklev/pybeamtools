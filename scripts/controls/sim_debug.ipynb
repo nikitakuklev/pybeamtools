{
 "cells": [
  {
   "cell_type": "code",
   "execution_count": 1,
   "metadata": {
    "collapsed": true
   },
   "outputs": [
    {
     "name": "stderr",
     "output_type": "stream",
     "text": [
      "[INFO ] [     MainThread] [13:18:36      logging.py  23] Starting shared logging thread on PID 26500\n",
      "[INFO ] [   log_listener] [13:18:36      logging.py  32] Logging listener started on PID 26500\n",
      "[INFO ] [     MainThread] [13:18:36      logging.py  27] Logging setup finished\n"
     ]
    }
   ],
   "source": [
    "import sys\n",
    "sys.path.append('../..')\n",
    "import pybeamtools"
   ]
  },
  {
   "cell_type": "code",
   "execution_count": 2,
   "metadata": {},
   "outputs": [],
   "source": [
    "from pybeamtools.sim.core import SimulationEngine, ChannelMap, ChannelMapper\n",
    "from pybeamtools.sim.devices import RealisticMagnet\n",
    "mag = RealisticMagnet(name='magneto', value=0, low=-2, high=2, noise=0.1, resolution=None, model='instant')"
   ]
  },
  {
   "cell_type": "code",
   "execution_count": 3,
   "metadata": {},
   "outputs": [
    {
     "name": "stderr",
     "output_type": "stream",
     "text": [
      "[DEBUG] [     MainThread] [13:18:36         core.py  74] Added device magneto with update period of 5.0\n"
     ]
    }
   ],
   "source": [
    "sim = SimulationEngine()\n",
    "sim.add_device(mag, period=5.0)"
   ]
  },
  {
   "cell_type": "code",
   "execution_count": 4,
   "metadata": {},
   "outputs": [],
   "source": [
    "sub = sim.subscribe_device(mag.name)"
   ]
  },
  {
   "cell_type": "code",
   "execution_count": 5,
   "metadata": {},
   "outputs": [],
   "source": [
    "def f(sub, v):\n",
    "    print(v, type(v))\n",
    "\n",
    "sub.add_callback(f)"
   ]
  },
  {
   "cell_type": "code",
   "execution_count": 6,
   "metadata": {},
   "outputs": [],
   "source": [
    "def eval_mag(device, output):\n",
    "    return device.read()\n",
    "m = ChannelMap(device=mag, output='TEST:CHANNEL', f=eval_mag)\n",
    "chm = ChannelMapper(maps=[m])"
   ]
  },
  {
   "cell_type": "code",
   "execution_count": 7,
   "metadata": {},
   "outputs": [],
   "source": [
    "sim.add_mapper(chm)"
   ]
  },
  {
   "cell_type": "code",
   "execution_count": 8,
   "metadata": {},
   "outputs": [
    {
     "name": "stderr",
     "output_type": "stream",
     "text": [
      "[DEBUG] [     MainThread] [13:18:36         core.py 118] Starting poll thread\n",
      "[DEBUG] [sim_engine_poll] [13:18:36         core.py  96] Hello from simulation poll thread (id 22144)\n"
     ]
    }
   ],
   "source": [
    "sim.start_update_thread()"
   ]
  },
  {
   "cell_type": "code",
   "execution_count": 18,
   "metadata": {},
   "outputs": [
    {
     "name": "stderr",
     "output_type": "stream",
     "text": [
      "[DEBUG] [     MainThread] [13:18:45         core.py 144] Reading channel TEST:CHANNEL\n"
     ]
    },
    {
     "data": {
      "text/plain": [
       "array([0.03517315])"
      ]
     },
     "execution_count": 18,
     "metadata": {},
     "output_type": "execute_result"
    },
    {
     "name": "stdout",
     "output_type": "stream",
     "text": [
      "[-0.14356989] <class 'numpy.ndarray'>\n",
      "[-0.17457573] <class 'numpy.ndarray'>\n",
      "[0.11966611] <class 'numpy.ndarray'>\n",
      "[-0.08598688] <class 'numpy.ndarray'>\n",
      "[0.1686105] <class 'numpy.ndarray'>\n",
      "[-0.14192196] <class 'numpy.ndarray'>\n"
     ]
    }
   ],
   "source": [
    "sim.read_channel('TEST:CHANNEL')"
   ]
  },
  {
   "cell_type": "code",
   "execution_count": 19,
   "metadata": {},
   "outputs": [
    {
     "name": "stderr",
     "output_type": "stream",
     "text": [
      "[DEBUG] [sim_engine_poll] [13:19:16         core.py 112] Goodbye from simulation poll thread\n"
     ]
    }
   ],
   "source": [
    "sim.stop_update_thread()"
   ]
  },
  {
   "cell_type": "code",
   "execution_count": null,
   "metadata": {},
   "outputs": [],
   "source": []
  }
 ],
 "metadata": {
  "kernelspec": {
   "display_name": "Python 3.9.15 ('py39ml')",
   "language": "python",
   "name": "python3"
  },
  "language_info": {
   "codemirror_mode": {
    "name": "ipython",
    "version": 3
   },
   "file_extension": ".py",
   "mimetype": "text/x-python",
   "name": "python",
   "nbconvert_exporter": "python",
   "pygments_lexer": "ipython3",
   "version": "3.9.15"
  },
  "vscode": {
   "interpreter": {
    "hash": "13374264484fde26a6608662cb4d9f2b357aebc4acc640560464425c35bd54c0"
   }
  }
 },
 "nbformat": 4,
 "nbformat_minor": 0
}
