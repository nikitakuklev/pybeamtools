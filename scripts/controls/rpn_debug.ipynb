{
 "cells": [
  {
   "cell_type": "code",
   "execution_count": 1,
   "metadata": {},
   "outputs": [
    {
     "name": "stderr",
     "output_type": "stream",
     "text": [
      "[INFO ] [     MainThread] [19:46:56      logging.py  23] [pybeamtools.utils.logging] Starting shared logging thread on PID 3284\n",
      "[INFO ] [   log_listener] [19:46:56      logging.py  32] [pybeamtools.utils.logging] Logging listener started on PID 3284\n",
      "[INFO ] [     MainThread] [19:46:56      logging.py  27] [pybeamtools.utils.logging] Logging setup finished\n"
     ]
    }
   ],
   "source": [
    "import sys\n",
    "sys.path.append('../..')\n",
    "import pybeamtools"
   ]
  },
  {
   "cell_type": "code",
   "execution_count": 2,
   "metadata": {},
   "outputs": [],
   "source": [
    "from pybeamtools.sim.rpn import RPNCalc"
   ]
  },
  {
   "cell_type": "code",
   "execution_count": 3,
   "metadata": {},
   "outputs": [
    {
     "name": "stdout",
     "output_type": "stream",
     "text": [
      "[2.0]\n"
     ]
    }
   ],
   "source": [
    "rpn = RPNCalc()\n",
    "rpn.push('1 1 +')\n",
    "print(rpn.stack)"
   ]
  },
  {
   "cell_type": "code",
   "execution_count": 4,
   "metadata": {},
   "outputs": [
    {
     "name": "stdout",
     "output_type": "stream",
     "text": [
      "[0.015625]\n"
     ]
    }
   ],
   "source": [
    "rpn = RPNCalc()\n",
    "rpn.push('10 1 8 sene')\n",
    "print(rpn.stack)"
   ]
  },
  {
   "cell_type": "code",
   "execution_count": 10,
   "metadata": {},
   "outputs": [
    {
     "name": "stdout",
     "output_type": "stream",
     "text": [
      "[81.00000000000102]\n"
     ]
    }
   ],
   "source": [
    "rpn = RPNCalc()\n",
    "rpn.add_variables({'PV1':123})\n",
    "rpn.push('PV1 122 0.1 sene')\n",
    "print(rpn.stack)"
   ]
  },
  {
   "cell_type": "code",
   "execution_count": 9,
   "metadata": {},
   "outputs": [
    {
     "name": "stdout",
     "output_type": "stream",
     "text": [
      "[123.015625]\n"
     ]
    }
   ],
   "source": [
    "rpn = RPNCalc()\n",
    "rpn.add_variables({'PV1':123})\n",
    "rpn.push('PV1 10 1 8 sene +')\n",
    "print(rpn.stack)"
   ]
  },
  {
   "cell_type": "code",
   "execution_count": null,
   "metadata": {},
   "outputs": [],
   "source": []
  }
 ],
 "metadata": {
  "kernelspec": {
   "display_name": "py39ml",
   "language": "python",
   "name": "python3"
  },
  "language_info": {
   "codemirror_mode": {
    "name": "ipython",
    "version": 3
   },
   "file_extension": ".py",
   "mimetype": "text/x-python",
   "name": "python",
   "nbconvert_exporter": "python",
   "pygments_lexer": "ipython3",
   "version": "3.9.15 | packaged by conda-forge | (main, Nov 22 2022, 08:41:22) [MSC v.1929 64 bit (AMD64)]"
  },
  "orig_nbformat": 4,
  "vscode": {
   "interpreter": {
    "hash": "13374264484fde26a6608662cb4d9f2b357aebc4acc640560464425c35bd54c0"
   }
  }
 },
 "nbformat": 4,
 "nbformat_minor": 2
}
