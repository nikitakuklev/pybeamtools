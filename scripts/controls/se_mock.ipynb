{
 "cells": [
  {
   "cell_type": "code",
   "execution_count": 1,
   "metadata": {
    "collapsed": true
   },
   "outputs": [
    {
     "name": "stderr",
     "output_type": "stream",
     "text": [
      "[INFO ][MainThread][18:07:02.217 logging.py  23] Starting shared logging thread on PID 21360\n",
      "[INFO ][log_listen][18:07:02.218 logging.py  32] Logging listener started on PID 21360\n",
      "[INFO ][MainThread][18:07:02.220 logging.py  27] Logging setup finished\n"
     ]
    }
   ],
   "source": [
    "import sys, time, random\n",
    "import os\n",
    "sys.path.append('../..')\n",
    "import pybeamtools"
   ]
  },
  {
   "cell_type": "code",
   "execution_count": 2,
   "metadata": {},
   "outputs": [],
   "source": [
    "def time_fun():\n",
    "    return time.time()*0.5"
   ]
  },
  {
   "cell_type": "code",
   "execution_count": 3,
   "metadata": {},
   "outputs": [
    {
     "name": "stderr",
     "output_type": "stream",
     "text": [
      "[INFO ][MainThread][18:07:02.825   utils.py 145] Note: NumExpr detected 12 cores but \"NUMEXPR_MAX_THREADS\" not set, so enforcing safe limit of 8.\n",
      "[INFO ][MainThread][18:07:02.825   utils.py 157] NumExpr defaulting to 8 threads.\n",
      "[DEBUG][MainThread][18:07:03.192 _backend.py  35] Backend 'array' registered\n",
      "[DEBUG][MainThread][18:07:03.193 _backend.py  35] Backend 'numpy' registered\n",
      "[DEBUG][MainThread][18:07:03.194 _backend.py  47] Selecting backend: 'numpy'\n",
      "[DEBUG][MainThread][18:07:03.225    core.py 560] Starting update thread\n",
      "[DEBUG][update_thr][18:07:03.226    core.py 534] Hello from update thread (id 22004)\n"
     ]
    }
   ],
   "source": [
    "from pybeamtools.sim.core import SimulationEngine, SignalEngineOptions\n",
    "sim = SimulationEngine(SignalEngineOptions(time_function=time_fun))\n",
    "sim.TRACE = True"
   ]
  },
  {
   "cell_type": "code",
   "execution_count": 4,
   "metadata": {},
   "outputs": [],
   "source": [
    "variables = ['X0', 'X1', 'X2']\n",
    "objectives = ['OBJ0', 'OBJ1', 'OBJ2']\n",
    "test_variables = []\n",
    "\n",
    "from pybeamtools.sim.templates import MockGeneratorEvents\n",
    "from pybeamtools.controls.test_problems import Quadratic\n",
    "mg = MockGeneratorEvents(variables=variables, objectives=objectives, constants=[], extra_vars=[], evaluation_functions={'OBJ0':Quadratic(n_var=2)}, evaluation_variables={'OBJ0':['X0','X1']}, noise=0.01)"
   ]
  },
  {
   "cell_type": "code",
   "execution_count": 5,
   "metadata": {},
   "outputs": [
    {
     "name": "stderr",
     "output_type": "stream",
     "text": [
      "[INFO ][MainThread][18:07:03.330 templates.py  51] Vars: ['X0', 'X1', 'X2']\n",
      "[INFO ][MainThread][18:07:03.331 templates.py  52] Objectives: ['OBJ0', 'OBJ1', 'OBJ2']\n",
      "[INFO ][MainThread][18:07:03.331 templates.py  53] Constants: []\n",
      "[DEBUG][MainThread][18:07:03.333    core.py 236] Added device (X0:AI) (device.channel_map={'X0:AI': {}})\n",
      "[DEBUG][MainThread][18:07:03.333    core.py 236] Added device (X0:AO) (device.channel_map={'X0:AO': {}})\n",
      "[DEBUG][MainThread][18:07:03.334    core.py 236] Added device (X1:AI) (device.channel_map={'X1:AI': {}})\n",
      "[DEBUG][MainThread][18:07:03.334    core.py 236] Added device (X1:AO) (device.channel_map={'X1:AO': {}})\n",
      "[DEBUG][MainThread][18:07:03.335    core.py 236] Added device (X2:AI) (device.channel_map={'X2:AI': {}})\n",
      "[DEBUG][MainThread][18:07:03.335    core.py 236] Added device (X2:AO) (device.channel_map={'X2:AO': {}})\n",
      "[DEBUG][MainThread][18:07:03.336    core.py 236] Added device (OBJ0) (device.channel_map={'OBJ0': {}})\n",
      "[DEBUG][MainThread][18:07:03.337    core.py 236] Added device (OBJ1) (device.channel_map={'OBJ1': {}})\n",
      "[DEBUG][MainThread][18:07:03.337    core.py 236] Added device (OBJ2) (device.channel_map={'OBJ2': {}})\n",
      "[DEBUG][update_thr][18:07:03.342    core.py 545] Update i=1 of ch X0:AI at 837561811.6714908\n"
     ]
    },
    {
     "data": {
      "text/plain": [
       "<pybeamtools.sim.core.SimulationEngine at 0x1ffad7c5b50>"
      ]
     },
     "execution_count": 5,
     "metadata": {},
     "output_type": "execute_result"
    },
    {
     "name": "stderr",
     "output_type": "stream",
     "text": [
      "[DEBUG][update_thr][18:07:03.344    core.py 375] UP (X0:AI): result ({'X0:AI': 0.0})\n",
      "[DEBUG][update_thr][18:07:03.344    core.py 545] Update i=2 of ch X0:AO at 837561811.6724913\n",
      "[DEBUG][update_thr][18:07:03.346    core.py 375] UP (X0:AO): result ({'X0:AO': -0.0032759347355334383})\n",
      "[DEBUG][update_thr][18:07:03.347    core.py 545] Update i=3 of ch X1:AI at 837561811.6739252\n",
      "[DEBUG][update_thr][18:07:03.348    core.py 375] UP (X1:AI): result ({'X1:AI': 0.0})\n"
     ]
    }
   ],
   "source": [
    "mg.create(sim)"
   ]
  },
  {
   "cell_type": "code",
   "execution_count": 6,
   "metadata": {},
   "outputs": [
    {
     "name": "stderr",
     "output_type": "stream",
     "text": [
      "[DEBUG][update_thr][18:07:03.349    core.py 545] Update i=4 of ch X1:AO at 837561811.6749251\n",
      "[DEBUG][update_thr][18:07:03.350    core.py 375] UP (X1:AO): result ({'X1:AO': -0.00047105648154872247})\n",
      "[DEBUG][update_thr][18:07:03.351    core.py 545] Update i=5 of ch X2:AI at 837561811.6759253\n",
      "[DEBUG][update_thr][18:07:03.352    core.py 375] UP (X2:AI): result ({'X2:AI': 0.0})\n",
      "[DEBUG][update_thr][18:07:03.352    core.py 545] Update i=6 of ch X2:AO at 837561811.6764255\n",
      "[DEBUG][update_thr][18:07:03.353    core.py 375] UP (X2:AO): result ({'X2:AO': 0.012001987700884538})\n",
      "[DEBUG][update_thr][18:07:03.353    core.py 545] Update i=7 of ch OBJ0 at 837561811.6769258\n",
      "[DEBUG][update_thr][18:07:03.354    core.py 375] UP (OBJ0): result ({'OBJ0': 1.0})\n",
      "[DEBUG][update_thr][18:07:03.354    core.py 545] Update i=8 of ch OBJ1 at 837561811.6774256\n",
      "[DEBUG][update_thr][18:07:03.355    core.py 375] UP (OBJ1): result ({'OBJ1': 1.0})\n",
      "[DEBUG][update_thr][18:07:03.356    core.py 545] Update i=9 of ch OBJ2 at 837561811.6779256\n",
      "[DEBUG][update_thr][18:07:03.356    core.py 375] UP (OBJ2): result ({'OBJ2': 1.0})\n"
     ]
    },
    {
     "name": "stderr",
     "output_type": "stream",
     "text": [
      "[DEBUG][MainThread][18:07:03.397    core.py 504] Writing (3.0) to channel (X0:AI)\n",
      "[INFO ][MainThread][18:07:03.398 templates.py 123] Computing OBJ0 from ['X0', 'X1']\n",
      "[INFO ][MainThread][18:07:03.399 templates.py 139] Value of OBJ0 for [[ 2.99858822e+00 -8.16226148e-04]] = 7.872423168295487\n",
      "[INFO ][MainThread][18:07:03.399 templates.py 127] Computing OBJ1 from ['X0', 'X1', 'X2']\n",
      "[INFO ][MainThread][18:07:03.400 templates.py 139] Value of OBJ1 for [[ 3.00443075e+00 -1.81502486e-02  7.65275032e-06]] = 7.952418313812975\n",
      "[INFO ][MainThread][18:07:03.401 templates.py 127] Computing OBJ2 from ['X0', 'X1', 'X2']\n",
      "[INFO ][MainThread][18:07:03.402 templates.py 139] Value of OBJ2 for [[ 3.00564185e+00  9.74311662e-03 -2.94587957e-03]] = 7.949010915752451\n",
      "[DEBUG][update_thr][18:07:03.402    core.py 545] Update i=10 of ch X0:AI at 837561811.7013645\n",
      "[DEBUG][update_thr][18:07:03.403    core.py 375] UP (X0:AI): result ({'X0:AI': 3.0})\n",
      "[DEBUG][update_thr][18:07:03.403    core.py 545] Update i=11 of ch X0:AO at 837561811.7018647\n",
      "[DEBUG][update_thr][18:07:03.404    core.py 375] UP (X0:AO): result ({'X0:AO': 3.001348296622935})\n",
      "[DEBUG][update_thr][18:07:03.404    core.py 545] Update i=12 of ch OBJ0 at 837561811.7023648\n",
      "[DEBUG][update_thr][18:07:03.405    core.py 375] UP (OBJ0): result ({'OBJ0': 7.872423168295487})\n",
      "[DEBUG][update_thr][18:07:03.405    core.py 545] Update i=13 of ch OBJ1 at 837561811.7028651\n",
      "[DEBUG][update_thr][18:07:03.406    core.py 375] UP (OBJ1): result ({'OBJ1': 7.952418313812975})\n",
      "[DEBUG][update_thr][18:07:03.406    core.py 545] Update i=14 of ch OBJ2 at 837561811.7033648\n",
      "[DEBUG][update_thr][18:07:03.407    core.py 375] UP (OBJ2): result ({'OBJ2': 7.949010915752451})\n"
     ]
    }
   ],
   "source": [
    "sim.write_channel('X0:AI', 3.0)"
   ]
  },
  {
   "cell_type": "code",
   "execution_count": 7,
   "metadata": {},
   "outputs": [
    {
     "name": "stderr",
     "output_type": "stream",
     "text": [
      "[DEBUG][MainThread][18:07:03.453    core.py 504] Writing (3.0) to channel (X1:AI)\n",
      "[INFO ][MainThread][18:07:03.454 templates.py 123] Computing OBJ0 from ['X0', 'X1']\n",
      "[INFO ][MainThread][18:07:03.455 templates.py 139] Value of OBJ0 for [[2.99113594 2.98472301]] = 15.54512209259339\n",
      "[INFO ][MainThread][18:07:03.455 templates.py 127] Computing OBJ1 from ['X0', 'X1', 'X2']\n",
      "[INFO ][MainThread][18:07:03.456 templates.py 139] Value of OBJ1 for [[ 3.00393083  2.99276682 -0.01150852]] = 15.706310467293676\n",
      "[INFO ][MainThread][18:07:03.456 templates.py 127] Computing OBJ2 from ['X0', 'X1', 'X2']\n",
      "[INFO ][MainThread][18:07:03.457 templates.py 139] Value of OBJ2 for [[3.00701191 2.96737552 0.00877853]] = 15.574248780772692\n",
      "[DEBUG][update_thr][18:07:03.457    core.py 545] Update i=15 of ch X1:AI at 837561811.7289006\n",
      "[DEBUG][update_thr][18:07:03.458    core.py 375] UP (X1:AI): result ({'X1:AI': 3.0})\n",
      "[DEBUG][update_thr][18:07:03.458    core.py 545] Update i=16 of ch X1:AO at 837561811.7294009\n",
      "[DEBUG][update_thr][18:07:03.458    core.py 375] UP (X1:AO): result ({'X1:AO': 2.9948029394841904})\n",
      "[DEBUG][update_thr][18:07:03.459    core.py 545] Update i=17 of ch OBJ0 at 837561811.7299011\n",
      "[DEBUG][update_thr][18:07:03.460    core.py 375] UP (OBJ0): result ({'OBJ0': 15.54512209259339})\n",
      "[DEBUG][update_thr][18:07:03.460    core.py 545] Update i=18 of ch OBJ1 at 837561811.7304012\n",
      "[DEBUG][update_thr][18:07:03.461    core.py 375] UP (OBJ1): result ({'OBJ1': 15.706310467293676})\n",
      "[DEBUG][update_thr][18:07:03.461    core.py 545] Update i=19 of ch OBJ2 at 837561811.7309015\n",
      "[DEBUG][update_thr][18:07:03.462    core.py 375] UP (OBJ2): result ({'OBJ2': 15.574248780772692})\n"
     ]
    }
   ],
   "source": [
    "sim.write_channel('X1:AI', 3.0)"
   ]
  },
  {
   "cell_type": "code",
   "execution_count": 8,
   "metadata": {},
   "outputs": [
    {
     "name": "stderr",
     "output_type": "stream",
     "text": [
      "[DEBUG][MainThread][18:07:03.504    core.py 504] Writing (3.0) to channel (X2:AI)\n",
      "[INFO ][MainThread][18:07:03.504 templates.py 127] Computing OBJ1 from ['X0', 'X1', 'X2']\n",
      "[INFO ][MainThread][18:07:03.505 templates.py 139] Value of OBJ1 for [[3.02839723 3.00051466 3.01340977]] = 23.757987778950724\n",
      "[INFO ][MainThread][18:07:03.505 templates.py 127] Computing OBJ2 from ['X0', 'X1', 'X2']\n",
      "[INFO ][MainThread][18:07:03.506 templates.py 139] Value of OBJ2 for [[2.9923827  2.98745321 2.99460144]] = 23.377093746185928\n",
      "[DEBUG][update_thr][18:07:03.506    core.py 545] Update i=20 of ch X2:AI at 837561811.7534059\n",
      "[DEBUG][update_thr][18:07:03.507    core.py 375] UP (X2:AI): result ({'X2:AI': 3.0})\n",
      "[DEBUG][update_thr][18:07:03.507    core.py 545] Update i=21 of ch X2:AO at 837561811.7539062\n",
      "[DEBUG][update_thr][18:07:03.508    core.py 375] UP (X2:AO): result ({'X2:AO': 3.0091420265176807})\n",
      "[DEBUG][update_thr][18:07:03.508    core.py 545] Update i=22 of ch OBJ1 at 837561811.7544065\n",
      "[DEBUG][update_thr][18:07:03.508    core.py 375] UP (OBJ1): result ({'OBJ1': 23.757987778950724})\n",
      "[DEBUG][update_thr][18:07:03.509    core.py 545] Update i=23 of ch OBJ2 at 837561811.7549064\n",
      "[DEBUG][update_thr][18:07:03.509    core.py 375] UP (OBJ2): result ({'OBJ2': 23.377093746185928})\n"
     ]
    }
   ],
   "source": [
    "sim.write_channel('X2:AI', 3.0)"
   ]
  },
  {
   "cell_type": "code",
   "execution_count": 9,
   "metadata": {},
   "outputs": [
    {
     "data": {
      "text/plain": [
       "{'X0:AI': 3.0,\n",
       " 'X0:AO': 3.001348296622935,\n",
       " 'X1:AI': 3.0,\n",
       " 'X1:AO': 2.9948029394841904,\n",
       " 'X2:AI': 3.0,\n",
       " 'X2:AO': 3.0091420265176807,\n",
       " 'OBJ0': 15.54512209259339,\n",
       " 'OBJ1': 23.757987778950724,\n",
       " 'OBJ2': 23.377093746185928}"
      ]
     },
     "execution_count": 9,
     "metadata": {},
     "output_type": "execute_result"
    }
   ],
   "source": [
    "sim.latest_data"
   ]
  },
  {
   "cell_type": "code",
   "execution_count": 10,
   "metadata": {},
   "outputs": [
    {
     "name": "stdout",
     "output_type": "stream",
     "text": [
      "{'X0:AI': {}, 'X0:AO': {}, 'X1:AI': {}, 'X1:AO': {}, 'X2:AI': {}, 'X2:AO': {}, 'OBJ0': {}, 'OBJ1': {}, 'OBJ2': {}}\n",
      "{}\n",
      "{}\n"
     ]
    }
   ],
   "source": [
    "print(sim.channels_map_chain)\n",
    "print(sim.channels_dep_chain)\n",
    "print(sim.next_periodic_read_time)"
   ]
  },
  {
   "cell_type": "code",
   "execution_count": 11,
   "metadata": {},
   "outputs": [
    {
     "name": "stderr",
     "output_type": "stream",
     "text": [
      "[DEBUG][MainThread][18:07:14.773    core.py 446] Reading channel (OBJ0)\n"
     ]
    },
    {
     "data": {
      "text/plain": [
       "15.54512209259339"
      ]
     },
     "execution_count": 11,
     "metadata": {},
     "output_type": "execute_result"
    }
   ],
   "source": [
    "sim.read_channel('OBJ0')"
   ]
  },
  {
   "cell_type": "code",
   "execution_count": null,
   "metadata": {},
   "outputs": [],
   "source": []
  }
 ],
 "metadata": {
  "kernelspec": {
   "display_name": "Python 3.9.15 ('py39ml')",
   "language": "python",
   "name": "python3"
  },
  "language_info": {
   "codemirror_mode": {
    "name": "ipython",
    "version": 3
   },
   "file_extension": ".py",
   "mimetype": "text/x-python",
   "name": "python",
   "nbconvert_exporter": "python",
   "pygments_lexer": "ipython3",
   "version": "3.9.15"
  },
  "vscode": {
   "interpreter": {
    "hash": "13374264484fde26a6608662cb4d9f2b357aebc4acc640560464425c35bd54c0"
   }
  }
 },
 "nbformat": 4,
 "nbformat_minor": 0
}
