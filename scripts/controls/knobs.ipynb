{
 "cells": [
  {
   "metadata": {},
   "cell_type": "code",
   "source": [
    "from pybeamtools.controls.knobs import Group, Knob, KnobManager\n",
    "import logging"
   ],
   "id": "55055201a69d1f68",
   "outputs": [],
   "execution_count": null
  },
  {
   "metadata": {},
   "cell_type": "code",
   "source": [
    "g = Group(\"test\", {\"a\": 1.0, \"b\": 2.0})\n",
    "g2 = Group(\"test2\", {\"a2\": 3.0, \"b2\": 4.0})\n",
    "g3 = Group(\"test3\", {\"a\": 5.0, \"b3\": 6.0})\n",
    "k1 = Knob(\"k1\", {g2: 1.0, g: 2.0})\n",
    "k2 = Knob(\"k2\", {g3: 1.0, g: 2.0})\n",
    "km = KnobManager(knobs=[k1, k2], groups=[g, g2, g3])"
   ],
   "id": "73dd04ca90b9db97",
   "outputs": [],
   "execution_count": null
  },
  {
   "metadata": {},
   "cell_type": "code",
   "source": "km.validate()",
   "id": "87f690851e1b6158",
   "outputs": [],
   "execution_count": null
  },
  {
   "metadata": {},
   "cell_type": "code",
   "source": "km.knobs",
   "id": "d01d3d00a8bf6357",
   "outputs": [],
   "execution_count": null
  },
  {
   "metadata": {},
   "cell_type": "code",
   "source": "km.groups",
   "id": "cc0a9051f0b3d010",
   "outputs": [],
   "execution_count": null
  },
  {
   "metadata": {},
   "cell_type": "code",
   "source": "km.knobs_matrix",
   "id": "2e86003350dff3bf",
   "outputs": [],
   "execution_count": null
  },
  {
   "metadata": {},
   "cell_type": "code",
   "source": "km.knobs_matrix_str",
   "id": "29752ca8228622b9",
   "outputs": [],
   "execution_count": null
  },
  {
   "metadata": {},
   "cell_type": "code",
   "source": "km.groups_matrix",
   "id": "a52521ee1eb69b65",
   "outputs": [],
   "execution_count": null
  },
  {
   "metadata": {},
   "cell_type": "code",
   "source": "km.compute_groups({\"k1\": 1.0, \"k2\": 2.0})",
   "id": "216d9fefdbcfdd82",
   "outputs": [],
   "execution_count": null
  },
  {
   "metadata": {},
   "cell_type": "code",
   "source": "km.compute_channels({\"k1\": 1.0, \"k2\": 2.0})",
   "id": "b0d09c90837e53ad",
   "outputs": [],
   "execution_count": null
  }
 ],
 "metadata": {
  "kernelspec": {
   "display_name": "Python 3",
   "language": "python",
   "name": "python3"
  },
  "language_info": {
   "codemirror_mode": {
    "name": "ipython",
    "version": 2
   },
   "file_extension": ".py",
   "mimetype": "text/x-python",
   "name": "python",
   "nbconvert_exporter": "python",
   "pygments_lexer": "ipython2",
   "version": "2.7.6"
  }
 },
 "nbformat": 4,
 "nbformat_minor": 5
}
