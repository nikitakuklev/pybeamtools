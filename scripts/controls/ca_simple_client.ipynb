{
 "cells": [
  {
   "cell_type": "code",
   "execution_count": 1,
   "metadata": {},
   "outputs": [],
   "source": [
    "import os\n",
    "os.environ['EPICS_CA_AUTO_ADDR_LIST'] = 'no'\n",
    "os.environ['EPICS_CA_ADDR_LIST'] = '127.0.0.1'\n",
    "import sys\n",
    "sys.path.append('../..')\n",
    "import time\n",
    "import logging\n",
    "logging.basicConfig(level=logging.DEBUG, format='%(asctime)s|%(name)s|%(message)s', datefmt='%H:%M:%S')\n",
    "# from pybeamtools.utils.log import config_logging_short\n",
    "# config_logging_short()"
   ]
  },
  {
   "cell_type": "code",
   "execution_count": 2,
   "metadata": {},
   "outputs": [
    {
     "name": "stderr",
     "output_type": "stream",
     "text": [
      "16:39:02|caproto|Backend 'array' registered\n",
      "16:39:02|caproto|Backend 'numpy' registered\n",
      "16:39:02|caproto|Selecting backend: 'numpy'\n",
      "16:39:02|caproto.bcast|Broadcaster command loop is running.\n",
      "16:39:02|caproto.bcast|Broadcaster check for unresponsive servers loop is running.\n",
      "16:39:02|caproto.bcast|RepeaterRegisterRequest(client_address='0.0.0.0')\n",
      "16:39:02|caproto._utils|Netifaces unavailable; using 127.0.0.1 as local address\n",
      "16:39:02|caproto.bcast|1 commands 16B\n",
      "16:39:02|caproto.bcast|UDP socket indicates previous send failed <caproto.threading.client.SharedBroadcaster object at 0x000001DCEF578400>: [WinError 10054] An existing connection was forcibly closed by the remote host\n"
     ]
    }
   ],
   "source": [
    "from caproto.threading.client import SharedBroadcaster\n",
    "sb = SharedBroadcaster()"
   ]
  },
  {
   "cell_type": "code",
   "execution_count": 3,
   "metadata": {
    "collapsed": false
   },
   "outputs": [
    {
     "name": "stderr",
     "output_type": "stream",
     "text": [
      "16:39:02|caproto.bcast|Broadcaster search-retry thread has started.\n",
      "16:39:02|caproto.ctx|Context search-results processing loop has started.\n"
     ]
    }
   ],
   "source": [
    "from caproto.threading.client import Context\n",
    "ctx = Context(broadcaster=sb)"
   ]
  },
  {
   "cell_type": "code",
   "execution_count": 4,
   "metadata": {
    "collapsed": false
   },
   "outputs": [
    {
     "name": "stderr",
     "output_type": "stream",
     "text": [
      "16:39:02|caproto.bcast.search|Sending 3 SearchRequests\n",
      "16:39:02|caproto.bcast|VersionRequest(priority=0, version=13)\n",
      "16:39:02|caproto.bcast.search|SearchRequest(name='X0:AI', cid=28937, version=13, reply=5)\n",
      "16:39:02|caproto.bcast.search|SearchRequest(name='X0:AO', cid=28938, version=13, reply=5)\n",
      "16:39:02|caproto.bcast.search|SearchRequest(name='OBJ0', cid=28939, version=13, reply=5)\n",
      "16:39:02|caproto.bcast|4 commands 88B\n",
      "16:39:02|caproto.bcast|VersionResponse(version=13)\n",
      "16:39:02|caproto.bcast|SearchResponse(port=5064, ip='255.255.255.255', cid=28937, version=13)\n",
      "16:39:02|caproto.bcast|SearchResponse(port=5064, ip='255.255.255.255', cid=28938, version=13)\n",
      "16:39:02|caproto.bcast|SearchResponse(port=5064, ip='255.255.255.255', cid=28939, version=13)\n",
      "16:39:02|caproto.bcast.search|Connecting X0:AI on circuit with 127.0.0.1:5064\n",
      "16:39:02|caproto.circ|VersionRequest(priority=0, version=13)\n",
      "16:39:02|caproto.circ|HostNameRequest(name='SERVY')\n",
      "16:39:02|caproto.circ|ClientNameRequest(name='boss')\n",
      "16:39:02|caproto.circ|VersionResponse(version=13)\n",
      "16:39:02|caproto.bcast.search|Connecting X0:AO on circuit with 127.0.0.1:5064\n",
      "16:39:02|caproto.bcast.search|Connecting OBJ0 on circuit with 127.0.0.1:5064\n",
      "16:39:02|caproto.circ|CreateChanRequest(name='X0:AI', cid=0, version=13)\n",
      "16:39:02|caproto.circ|CreateChanRequest(name='X0:AO', cid=1, version=13)\n",
      "16:39:02|caproto.circ|CreateChanRequest(name='OBJ0', cid=2, version=13)\n",
      "16:39:02|caproto.circ|AccessRightsResponse(cid=0, access_rights=<AccessRights.WRITE|READ: 3>)\n",
      "16:39:02|caproto.ch|connection state changed to connected.\n",
      "16:39:02|caproto.circ|CreateChanResponse(data_type=<ChannelType.DOUBLE: 6>, data_count=1, cid=0, sid=0)\n",
      "16:39:02|caproto.circ|AccessRightsResponse(cid=1, access_rights=<AccessRights.WRITE|READ: 3>)\n",
      "16:39:02|caproto.ch|connection state changed to connected.\n",
      "16:39:02|caproto.circ|CreateChanResponse(data_type=<ChannelType.DOUBLE: 6>, data_count=1, cid=1, sid=1)\n",
      "16:39:02|caproto.circ|AccessRightsResponse(cid=2, access_rights=<AccessRights.WRITE|READ: 3>)\n",
      "16:39:02|caproto.ch|connection state changed to connected.\n",
      "16:39:02|caproto.circ|CreateChanResponse(data_type=<ChannelType.DOUBLE: 6>, data_count=1, cid=2, sid=2)\n"
     ]
    },
    {
     "name": "stdout",
     "output_type": "stream",
     "text": [
      "\n"
     ]
    }
   ],
   "source": [
    "pv0ai, pv0a0, obj1 = ctx.get_pvs('X0:AI', 'X0:AO', 'OBJ0')\n",
    "time.sleep(1)\n",
    "print()"
   ]
  },
  {
   "cell_type": "code",
   "execution_count": 5,
   "metadata": {
    "collapsed": false
   },
   "outputs": [
    {
     "name": "stderr",
     "output_type": "stream",
     "text": [
      "16:39:03|caproto.circ|ReadNotifyRequest(data_type=<ChannelType.DOUBLE: 6>, data_count=0, sid=0, ioid=0)\n",
      "16:39:03|caproto.circ|ReadNotifyResponse(data=array([0.]), data_type=<ChannelType.DOUBLE: 6>, data_count=1, status=CAStatusCode(name='ECA_NORMAL', code=0, code_with_severity=1, severity=<CASeverity.SUCCESS: 1>, success=1, defunct=False, description='Normal successful completion'), ioid=0, metadata=None)\n"
     ]
    },
    {
     "data": {
      "text/plain": [
       "ReadNotifyResponse(data=array([0.]), data_type=<ChannelType.DOUBLE: 6>, data_count=1, status=CAStatusCode(name='ECA_NORMAL', code=0, code_with_severity=1, severity=<CASeverity.SUCCESS: 1>, success=1, defunct=False, description='Normal successful completion'), ioid=0, metadata=None)"
      ]
     },
     "execution_count": 5,
     "metadata": {},
     "output_type": "execute_result"
    }
   ],
   "source": [
    "pv0ai.read()"
   ]
  },
  {
   "cell_type": "code",
   "execution_count": 6,
   "metadata": {},
   "outputs": [
    {
     "name": "stderr",
     "output_type": "stream",
     "text": [
      "16:39:03|caproto.circ|ReadNotifyRequest(data_type=<ChannelType.DOUBLE: 6>, data_count=0, sid=1, ioid=1)\n",
      "16:39:03|caproto.circ|ReadNotifyResponse(data=array([0.]), data_type=<ChannelType.DOUBLE: 6>, data_count=1, status=CAStatusCode(name='ECA_NORMAL', code=0, code_with_severity=1, severity=<CASeverity.SUCCESS: 1>, success=1, defunct=False, description='Normal successful completion'), ioid=1, metadata=None)\n",
      "16:39:03|caproto.circ|ReadNotifyRequest(data_type=<ChannelType.DOUBLE: 6>, data_count=0, sid=2, ioid=2)\n",
      "16:39:03|caproto.circ|ReadNotifyResponse(data=array([0.08]), data_type=<ChannelType.DOUBLE: 6>, data_count=1, status=CAStatusCode(name='ECA_NORMAL', code=0, code_with_severity=1, severity=<CASeverity.SUCCESS: 1>, success=1, defunct=False, description='Normal successful completion'), ioid=2, metadata=None)\n"
     ]
    },
    {
     "data": {
      "text/plain": [
       "ReadNotifyResponse(data=array([0.08]), data_type=<ChannelType.DOUBLE: 6>, data_count=1, status=CAStatusCode(name='ECA_NORMAL', code=0, code_with_severity=1, severity=<CASeverity.SUCCESS: 1>, success=1, defunct=False, description='Normal successful completion'), ioid=2, metadata=None)"
      ]
     },
     "execution_count": 6,
     "metadata": {},
     "output_type": "execute_result"
    }
   ],
   "source": [
    "pv0a0.read()\n",
    "obj1.read()"
   ]
  },
  {
   "cell_type": "code",
   "execution_count": 7,
   "metadata": {},
   "outputs": [
    {
     "name": "stderr",
     "output_type": "stream",
     "text": [
      "16:39:03|caproto.circ|WriteNotifyRequest(data=array([1.5]), data_type=<ChannelType.DOUBLE: 6>, data_count=1, sid=0, ioid=3, metadata=None)\n",
      "16:39:03|caproto.circ|WriteNotifyResponse(data_type=<ChannelType.DOUBLE: 6>, data_count=1, status=CAStatusCode(name='ECA_NORMAL', code=0, code_with_severity=1, severity=<CASeverity.SUCCESS: 1>, success=1, defunct=False, description='Normal successful completion'), ioid=3)\n"
     ]
    },
    {
     "data": {
      "text/plain": [
       "WriteNotifyResponse(data_type=<ChannelType.DOUBLE: 6>, data_count=1, status=CAStatusCode(name='ECA_NORMAL', code=0, code_with_severity=1, severity=<CASeverity.SUCCESS: 1>, success=1, defunct=False, description='Normal successful completion'), ioid=3)"
      ]
     },
     "execution_count": 7,
     "metadata": {},
     "output_type": "execute_result"
    }
   ],
   "source": [
    "pv0ai.write(1.5)"
   ]
  },
  {
   "cell_type": "code",
   "execution_count": 8,
   "metadata": {},
   "outputs": [
    {
     "name": "stderr",
     "output_type": "stream",
     "text": [
      "16:39:07|caproto.circ|ReadNotifyRequest(data_type=<ChannelType.DOUBLE: 6>, data_count=0, sid=2, ioid=4)\n",
      "16:39:07|caproto.circ|ReadNotifyResponse(data=array([1.73]), data_type=<ChannelType.DOUBLE: 6>, data_count=1, status=CAStatusCode(name='ECA_NORMAL', code=0, code_with_severity=1, severity=<CASeverity.SUCCESS: 1>, success=1, defunct=False, description='Normal successful completion'), ioid=4, metadata=None)\n"
     ]
    },
    {
     "data": {
      "text/plain": [
       "ReadNotifyResponse(data=array([1.73]), data_type=<ChannelType.DOUBLE: 6>, data_count=1, status=CAStatusCode(name='ECA_NORMAL', code=0, code_with_severity=1, severity=<CASeverity.SUCCESS: 1>, success=1, defunct=False, description='Normal successful completion'), ioid=4, metadata=None)"
      ]
     },
     "execution_count": 8,
     "metadata": {},
     "output_type": "execute_result"
    }
   ],
   "source": [
    "obj1.read()"
   ]
  },
  {
   "cell_type": "code",
   "execution_count": 12,
   "metadata": {},
   "outputs": [
    {
     "name": "stderr",
     "output_type": "stream",
     "text": [
      "16:39:23|caproto.circ|WriteNotifyRequest(data=array([1.8]), data_type=<ChannelType.DOUBLE: 6>, data_count=1, sid=0, ioid=8, metadata=None)\n",
      "16:39:23|caproto.circ|WriteNotifyResponse(data_type=<ChannelType.DOUBLE: 6>, data_count=1, status=CAStatusCode(name='ECA_NORMAL', code=0, code_with_severity=1, severity=<CASeverity.SUCCESS: 1>, success=1, defunct=False, description='Normal successful completion'), ioid=8)\n"
     ]
    },
    {
     "data": {
      "text/plain": [
       "WriteNotifyResponse(data_type=<ChannelType.DOUBLE: 6>, data_count=1, status=CAStatusCode(name='ECA_NORMAL', code=0, code_with_severity=1, severity=<CASeverity.SUCCESS: 1>, success=1, defunct=False, description='Normal successful completion'), ioid=8)"
      ]
     },
     "execution_count": 12,
     "metadata": {},
     "output_type": "execute_result"
    }
   ],
   "source": [
    "pv0ai.write(1.8)"
   ]
  },
  {
   "cell_type": "code",
   "execution_count": 13,
   "metadata": {},
   "outputs": [
    {
     "name": "stderr",
     "output_type": "stream",
     "text": [
      "16:39:26|caproto.circ|ReadNotifyRequest(data_type=<ChannelType.DOUBLE: 6>, data_count=0, sid=2, ioid=9)\n",
      "16:39:26|caproto.circ|ReadNotifyResponse(data=array([2.6]), data_type=<ChannelType.DOUBLE: 6>, data_count=1, status=CAStatusCode(name='ECA_NORMAL', code=0, code_with_severity=1, severity=<CASeverity.SUCCESS: 1>, success=1, defunct=False, description='Normal successful completion'), ioid=9, metadata=None)\n"
     ]
    },
    {
     "data": {
      "text/plain": [
       "ReadNotifyResponse(data=array([2.6]), data_type=<ChannelType.DOUBLE: 6>, data_count=1, status=CAStatusCode(name='ECA_NORMAL', code=0, code_with_severity=1, severity=<CASeverity.SUCCESS: 1>, success=1, defunct=False, description='Normal successful completion'), ioid=9, metadata=None)"
      ]
     },
     "execution_count": 13,
     "metadata": {},
     "output_type": "execute_result"
    }
   ],
   "source": [
    "obj1.read()"
   ]
  },
  {
   "cell_type": "code",
   "execution_count": null,
   "metadata": {},
   "outputs": [],
   "source": []
  }
 ],
 "metadata": {
  "kernelspec": {
   "display_name": "Python 3.9.15 ('py39ml')",
   "language": "python",
   "name": "python3"
  },
  "language_info": {
   "codemirror_mode": {
    "name": "ipython",
    "version": 3
   },
   "file_extension": ".py",
   "mimetype": "text/x-python",
   "name": "python",
   "nbconvert_exporter": "python",
   "pygments_lexer": "ipython3",
   "version": "3.9.15 | packaged by conda-forge | (main, Nov 22 2022, 08:41:22) [MSC v.1929 64 bit (AMD64)]"
  },
  "vscode": {
   "interpreter": {
    "hash": "13374264484fde26a6608662cb4d9f2b357aebc4acc640560464425c35bd54c0"
   }
  }
 },
 "nbformat": 4,
 "nbformat_minor": 0
}
