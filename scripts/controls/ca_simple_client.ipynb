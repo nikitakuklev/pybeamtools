{
 "cells": [
  {
   "cell_type": "code",
   "execution_count": 1,
   "metadata": {
    "collapsed": false,
    "pycharm": {
     "name": "#%%\n"
    }
   },
   "outputs": [],
   "source": [
    "import sys\n",
    "sys.path.append('../..')\n",
    "import time\n",
    "import logging\n",
    "logging.basicConfig(level=logging.DEBUG, format='%(asctime)s|%(name)s|%(message)s', datefmt='%H:%M:%S')\n",
    "# from pybeamtools.utils.log import config_logging_short\n",
    "# config_logging_short()"
   ]
  },
  {
   "cell_type": "code",
   "execution_count": 2,
   "metadata": {},
   "outputs": [],
   "source": [
    "import os\n",
    "os.environ['EPICS_CA_ADDR_LIST'] = '127.0.0.1'\n"
   ]
  },
  {
   "cell_type": "code",
   "execution_count": 3,
   "metadata": {},
   "outputs": [
    {
     "name": "stderr",
     "output_type": "stream",
     "text": [
      "04:27:04|caproto|Backend 'array' registered\n",
      "04:27:04|caproto|Backend 'numpy' registered\n",
      "04:27:04|caproto|Selecting backend: 'numpy'\n",
      "04:27:04|caproto.bcast|Broadcaster command loop is running.\n",
      "04:27:04|caproto.bcast|Broadcaster check for unresponsive servers loop is running.\n",
      "04:27:04|caproto.bcast|RepeaterRegisterRequest(client_address='0.0.0.0')\n",
      "04:27:04|caproto._utils|Netifaces unavailable; using 127.0.0.1 as local address\n",
      "04:27:04|caproto.bcast|1 commands 16B\n",
      "04:27:04|caproto.bcast|RepeaterConfirmResponse(repeater_address='127.0.0.1')\n"
     ]
    },
    {
     "data": {
      "text/plain": [
       "<caproto.threading.client.SharedBroadcaster at 0x1b3b0b48d90>"
      ]
     },
     "execution_count": 3,
     "metadata": {},
     "output_type": "execute_result"
    }
   ],
   "source": [
    "from caproto.threading.client import SharedBroadcaster\n",
    "SharedBroadcaster()"
   ]
  },
  {
   "cell_type": "code",
   "execution_count": 4,
   "metadata": {
    "collapsed": false,
    "pycharm": {
     "name": "#%%\n"
    }
   },
   "outputs": [
    {
     "name": "stderr",
     "output_type": "stream",
     "text": [
      "04:27:04|caproto.bcast|Broadcaster command loop is running.\n",
      "04:27:04|caproto.bcast|Broadcaster check for unresponsive servers loop is running.\n",
      "04:27:04|caproto.bcast|RepeaterRegisterRequest(client_address='0.0.0.0')\n",
      "04:27:04|caproto.bcast|1 commands 16B\n",
      "04:27:04|caproto.bcast|Broadcaster search-retry thread has started.\n",
      "04:27:04|caproto.bcast|RepeaterConfirmResponse(repeater_address='127.0.0.1')\n",
      "04:27:04|caproto.ctx|Context search-results processing loop has started.\n"
     ]
    }
   ],
   "source": [
    "from caproto.threading.client import Context\n",
    "ctx = Context()"
   ]
  },
  {
   "cell_type": "code",
   "execution_count": 5,
   "metadata": {
    "collapsed": false,
    "pycharm": {
     "name": "#%%\n"
    }
   },
   "outputs": [
    {
     "name": "stderr",
     "output_type": "stream",
     "text": [
      "04:27:04|caproto.bcast.search|Sending 1 SearchRequests\n",
      "04:27:04|caproto.bcast|VersionRequest(priority=0, version=13)\n",
      "04:27:04|caproto.bcast.search|SearchRequest(name='TEST:OBJ0:AO', cid=59293, version=13, reply=5)\n",
      "04:27:04|caproto.bcast|2 commands 48B\n"
     ]
    }
   ],
   "source": [
    "pv = ctx.get_pvs('TEST:OBJ0:AO')[0]"
   ]
  },
  {
   "cell_type": "code",
   "execution_count": 6,
   "metadata": {
    "collapsed": false,
    "pycharm": {
     "name": "#%%\n"
    }
   },
   "outputs": [
    {
     "ename": "CaprotoTimeoutError",
     "evalue": "<PV name='TEST:OBJ0:AO' priority=0 (searching....)> could not connect within 2.0-second timeout.",
     "output_type": "error",
     "traceback": [
      "\u001b[1;31m---------------------------------------------------------------------------\u001b[0m",
      "\u001b[1;31mCaprotoTimeoutError\u001b[0m                       Traceback (most recent call last)",
      "Cell \u001b[1;32mIn [6], line 1\u001b[0m\n\u001b[1;32m----> 1\u001b[0m pv\u001b[39m.\u001b[39;49mread()\n",
      "File \u001b[1;32mc:\\Users\\boss\\Anaconda3\\envs\\py39ml\\lib\\site-packages\\caproto\\threading\\client.py:96\u001b[0m, in \u001b[0;36mensure_connected.<locals>.inner\u001b[1;34m(self, *args, **kwargs)\u001b[0m\n\u001b[0;32m     94\u001b[0m ready \u001b[39m=\u001b[39m pv\u001b[39m.\u001b[39mchannel_ready\u001b[39m.\u001b[39mwait(timeout\u001b[39m=\u001b[39mtimeout)\n\u001b[0;32m     95\u001b[0m \u001b[39mif\u001b[39;00m \u001b[39mnot\u001b[39;00m ready:\n\u001b[1;32m---> 96\u001b[0m     \u001b[39mraise\u001b[39;00m CaprotoTimeoutError(\n\u001b[0;32m     97\u001b[0m         \u001b[39mf\u001b[39m\u001b[39m\"\u001b[39m\u001b[39m{\u001b[39;00mpv\u001b[39m}\u001b[39;00m\u001b[39m could not connect within \u001b[39m\u001b[39m\"\u001b[39m\n\u001b[0;32m     98\u001b[0m         \u001b[39mf\u001b[39m\u001b[39m\"\u001b[39m\u001b[39m{\u001b[39;00m\u001b[39mfloat\u001b[39m(raw_timeout)\u001b[39m:\u001b[39;00m\u001b[39m.3\u001b[39m\u001b[39m}\u001b[39;00m\u001b[39m-second timeout.\u001b[39m\u001b[39m\"\u001b[39m)\n\u001b[0;32m     99\u001b[0m \u001b[39mif\u001b[39;00m timeout \u001b[39mis\u001b[39;00m \u001b[39mnot\u001b[39;00m \u001b[39mNone\u001b[39;00m:\n\u001b[0;32m    100\u001b[0m     timeout \u001b[39m=\u001b[39m deadline \u001b[39m-\u001b[39m time\u001b[39m.\u001b[39mmonotonic()\n",
      "\u001b[1;31mCaprotoTimeoutError\u001b[0m: <PV name='TEST:OBJ0:AO' priority=0 (searching....)> could not connect within 2.0-second timeout."
     ]
    }
   ],
   "source": [
    "pv.read()"
   ]
  },
  {
   "cell_type": "code",
   "execution_count": 11,
   "metadata": {
    "collapsed": false,
    "pycharm": {
     "name": "#%%\n"
    }
   },
   "outputs": [
    {
     "data": {
      "text/plain": [
       "<PV name='TEST:OBJ0:AO' priority=0 (searching....)>"
      ]
     },
     "execution_count": 11,
     "metadata": {},
     "output_type": "execute_result"
    }
   ],
   "source": [
    "pv"
   ]
  },
  {
   "cell_type": "code",
   "execution_count": null,
   "metadata": {
    "collapsed": false,
    "pycharm": {
     "name": "#%%\n"
    }
   },
   "outputs": [],
   "source": []
  }
 ],
 "metadata": {
  "kernelspec": {
   "display_name": "Python 3.9.15 ('py39ml')",
   "language": "python",
   "name": "python3"
  },
  "language_info": {
   "codemirror_mode": {
    "name": "ipython",
    "version": 3
   },
   "file_extension": ".py",
   "mimetype": "text/x-python",
   "name": "python",
   "nbconvert_exporter": "python",
   "pygments_lexer": "ipython3",
   "version": "3.9.15"
  },
  "vscode": {
   "interpreter": {
    "hash": "13374264484fde26a6608662cb4d9f2b357aebc4acc640560464425c35bd54c0"
   }
  }
 },
 "nbformat": 4,
 "nbformat_minor": 0
}
