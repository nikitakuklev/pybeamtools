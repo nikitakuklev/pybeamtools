{
 "cells": [
  {
   "cell_type": "code",
   "execution_count": 1,
   "metadata": {
    "collapsed": true
   },
   "outputs": [
    {
     "name": "stderr",
     "output_type": "stream",
     "text": [
      "[INFO ][MainThread][00:06:44.970 logging.py  42] Starting shared logging thread on PID 18612\n",
      "[INFO ][log_listen][00:06:44.971 logging.py  54] Logging listener started on PID 18612\n",
      "[INFO ][MainThread][00:06:44.973 logging.py  47] Logging setup finished\n"
     ]
    }
   ],
   "source": [
    "import sys, time, random, os\n",
    "sys.path.append('../..')\n",
    "import pybeamtools"
   ]
  },
  {
   "cell_type": "code",
   "execution_count": 2,
   "metadata": {},
   "outputs": [],
   "source": [
    "t = 0.0\n",
    "def fixed_time():\n",
    "    return t"
   ]
  },
  {
   "cell_type": "code",
   "execution_count": 3,
   "metadata": {},
   "outputs": [
    {
     "name": "stderr",
     "output_type": "stream",
     "text": [
      "[INFO ][MainThread][00:06:45.673   utils.py 145] Note: NumExpr detected 12 cores but \"NUMEXPR_MAX_THREADS\" not set, so enforcing safe limit of 8.\n",
      "[INFO ][MainThread][00:06:45.674   utils.py 157] NumExpr defaulting to 8 threads.\n",
      "[DEBUG][MainThread][00:06:46.093 _backend.py  35] Backend 'array' registered\n",
      "[DEBUG][MainThread][00:06:46.094 _backend.py  35] Backend 'numpy' registered\n",
      "[DEBUG][MainThread][00:06:46.094 _backend.py  47] Selecting backend: 'numpy'\n"
     ]
    }
   ],
   "source": [
    "from pybeamtools.sim.core import SimulationEngine, SignalEngineOptions\n",
    "from pybeamtools.sim.pddevices import *\n",
    "from pybeamtools.controls.pv import PVOptions\n",
    "import pybeamtools.controls as pc\n",
    "from pybeamtools.controls.control_lib import ConnectionOptions"
   ]
  },
  {
   "cell_type": "code",
   "execution_count": 4,
   "metadata": {},
   "outputs": [
    {
     "name": "stderr",
     "output_type": "stream",
     "text": [
      "[INFO ][MainThread][00:06:46.182 logging.py  24] Skipping logger init since already done\n",
      "[DEBUG][MainThread][00:06:46.183    core.py 1186] Starting update thread\n",
      "[DEBUG][update_thr][00:06:46.184    core.py 915] Update thread (id 19004) on\n",
      "[DEBUG][MainThread][00:06:46.186    core.py 303] Added device (echo1) (device.channel_map={'X0PV': {}})\n",
      "[DEBUG][MainThread][00:06:46.187    core.py 743] Event (ev.txid=0) submitted\n",
      "[DEBUG][update_thr][00:06:46.188    core.py 924] E0:0:0 | ev.op=<OP.ENABLE: 3> ev.dn='echo1' ev.data=None ev.t_event=0.0\n",
      "[DEBUG][update_thr][00:06:46.188    core.py 1042] E0:0:0 | Enable (dn='echo1') at (0.0)\n",
      "[DEBUG][update_thr][00:06:46.189    core.py 1053] E0:0:0 | Enable result ({'X0PV': 2.0})\n",
      "[DEBUG][update_thr][00:06:46.189    core.py 738] Future callback for (ev.txid=0)\n",
      "[DEBUG][update_thr][00:06:46.190    core.py 1059] E0:0:0 | Enable done\n",
      "[DEBUG][MainThread][00:06:46.190    core.py 315] Device (echo1) enabled\n",
      "[INFO ][MainThread][00:06:46.191 logging.py  24] Skipping logger init since already done\n",
      "[INFO ][MainThread][00:06:46.191 control_lib.py  57] Control lib init\n",
      "[INFO ][MainThread][00:06:46.192 network.py  56] Creating dummy connection manager\n",
      "[INFO ][MainThread][00:06:46.192 control_lib.py  86] Startup finished\n"
     ]
    }
   ],
   "source": [
    "simacc = SimulationEngine(SignalEngineOptions(time_function=fixed_time))\n",
    "simacc.TRACE = True\n",
    "simacc.TIME_TRACE = True\n",
    "\n",
    "ctxacc = SignalContext(se=simacc)\n",
    "echo1 = EchoDevice(EchoDeviceOptions(name='echo1', data={'X0PV': 2.0}))\n",
    "simacc.add_device(echo1)\n",
    "simacc.enable_device(echo1)\n",
    "\n",
    "ao = pc.AcceleratorOptions(connection_settings=ConnectionOptions(network='dummy'))\n",
    "acc = pc.Accelerator(options=ao, ctx=simacc)\n",
    "acc.TRACE = True"
   ]
  },
  {
   "cell_type": "code",
   "execution_count": 5,
   "metadata": {},
   "outputs": [
    {
     "data": {
      "text/plain": [
       "{}"
      ]
     },
     "execution_count": 5,
     "metadata": {},
     "output_type": "execute_result"
    }
   ],
   "source": [
    "simacc.channel_subs"
   ]
  },
  {
   "cell_type": "code",
   "execution_count": 6,
   "metadata": {},
   "outputs": [
    {
     "name": "stderr",
     "output_type": "stream",
     "text": [
      "[INFO ][MainThread][00:06:46.313 logging.py  24] Skipping logger init since already done\n",
      "[DEBUG][MainThread][00:06:46.314    core.py 1186] Starting update thread\n",
      "[DEBUG][update_thr][00:06:46.315    core.py 915] Update thread (id 11784) on\n",
      "[DEBUG][MainThread][00:06:46.317 pddevices.py 463] EPICS device created: {'X0': {}}\n"
     ]
    }
   ],
   "source": [
    "sim = SimulationEngine(SignalEngineOptions(time_function=fixed_time))\n",
    "sim.TRACE = True\n",
    "sim.TIME_TRACE = True\n",
    "ctx = SignalContext(se=simacc)\n",
    "pvo = PVOptions(name='X0PV', low=-2.0, high=5.0)\n",
    "epics1 = EPICSDevice(EPICSDeviceOptions(name='epics1', name_map={'X0PV':'X0'}, pv_config=pvo, connection='dummy'), ctx=None, acc_context=acc)\n",
    "#epics1.ctx = ctx"
   ]
  },
  {
   "cell_type": "code",
   "execution_count": 7,
   "metadata": {},
   "outputs": [
    {
     "name": "stderr",
     "output_type": "stream",
     "text": [
      "[DEBUG][MainThread][00:06:46.361    core.py 303] Added device (epics1) (device.channel_map={'X0': {}})\n"
     ]
    }
   ],
   "source": [
    "sim.add_device(epics1)"
   ]
  },
  {
   "cell_type": "code",
   "execution_count": 8,
   "metadata": {},
   "outputs": [
    {
     "name": "stderr",
     "output_type": "stream",
     "text": [
      "[DEBUG][MainThread][00:06:46.410    core.py 743] Event (ev.txid=0) submitted\n",
      "[DEBUG][update_thr][00:06:46.411    core.py 924] E0:0:0 | ev.op=<OP.ENABLE: 3> ev.dn='epics1' ev.data=None ev.t_event=0.0\n",
      "[DEBUG][update_thr][00:06:46.411    core.py 1042] E0:0:0 | Enable (dn='epics1') at (0.0)\n",
      "[DEBUG][update_thr][00:06:46.412 pddevices.py 499] Creating SimPV with name='X0PV' low=-2.0 high=5.0 monitor=True security=<PVAccess.RO: 1> read_timeout=2.0 write_timeout=5.0\n",
      "[DEBUG][update_thr][00:06:46.413 network.py  92] Adding (1) PV objects: pv_names=['X0PV']\n",
      "[DEBUG][update_thr][00:06:46.413    core.py 328] Created subscription for channel (X0PV)\n",
      "[DEBUG][update_thr][00:06:46.414 pddevices.py 541] EPICS device (X0PV) enabled\n",
      "[DEBUG][update_thr][00:06:46.414    core.py 1053] E0:0:0 | Enable result ({'X0': None})\n",
      "[DEBUG][update_thr][00:06:46.414    core.py 738] Future callback for (ev.txid=0)\n",
      "[DEBUG][update_thr][00:06:46.415    core.py 1059] E0:0:0 | Enable done\n",
      "[DEBUG][MainThread][00:06:46.415    core.py 315] Device (epics1) enabled\n"
     ]
    },
    {
     "data": {
      "text/plain": [
       "Result ({'X0': None}) at (0.0) (self.metadata={})"
      ]
     },
     "execution_count": 8,
     "metadata": {},
     "output_type": "execute_result"
    }
   ],
   "source": [
    "sim.enable_device(epics1)"
   ]
  },
  {
   "cell_type": "code",
   "execution_count": 9,
   "metadata": {},
   "outputs": [
    {
     "data": {
      "text/plain": [
       "<pybeamtools.sim.pddevices.SignalContext at 0x2bfddca1d30>"
      ]
     },
     "execution_count": 9,
     "metadata": {},
     "output_type": "execute_result"
    }
   ],
   "source": [
    "epics1.ctx"
   ]
  },
  {
   "cell_type": "code",
   "execution_count": 10,
   "metadata": {},
   "outputs": [
    {
     "data": {
      "text/plain": [
       "['X0']"
      ]
     },
     "execution_count": 10,
     "metadata": {},
     "output_type": "execute_result"
    }
   ],
   "source": [
    "epics1.ctx.se.channels"
   ]
  },
  {
   "cell_type": "code",
   "execution_count": 11,
   "metadata": {},
   "outputs": [
    {
     "data": {
      "text/plain": [
       "{'X0PV': <pybeamtools.sim.core.ChannelSubscription at 0x2bfc49d68e0>}"
      ]
     },
     "execution_count": 11,
     "metadata": {},
     "output_type": "execute_result"
    }
   ],
   "source": [
    "simacc.channel_subs"
   ]
  },
  {
   "cell_type": "code",
   "execution_count": 12,
   "metadata": {},
   "outputs": [
    {
     "data": {
      "text/plain": [
       "True"
      ]
     },
     "execution_count": 12,
     "metadata": {},
     "output_type": "execute_result"
    }
   ],
   "source": [
    "epics1.is_connected()"
   ]
  },
  {
   "cell_type": "code",
   "execution_count": 13,
   "metadata": {},
   "outputs": [
    {
     "name": "stderr",
     "output_type": "stream",
     "text": [
      "[DEBUG][MainThread][00:06:46.792    core.py 743] Event (ev.txid=1000) submitted\n",
      "[DEBUG][update_thr][00:06:46.793    core.py 924] E1000:1000:1000 | ev.op=<OP.WRITE: 2> ev.dn='echo1' ev.data={'X0PV': 2.5} ev.t_event=0.0\n",
      "[DEBUG][update_thr][00:06:46.794    core.py 975] E1000:1000:1000 | Write ({'X0PV': 2.5}) at (0.0)\n",
      "[DEBUG][update_thr][00:06:46.794    core.py 980] E1000:1000:1000 | Write result ({'X0PV': 2.5})\n",
      "[DEBUG][update_thr][00:06:46.795    core.py 1088] E2000:1000:1000 | Invoking subs for (X0PV)=(2.5)\n",
      "[DEBUG][update_thr][00:06:46.795    core.py  49] Running (2) callbacks for CH (X0PV)\n",
      "[DEBUG][update_thr][00:06:46.796    core.py  54] Callback (0): (<function SimConnectionManager.subscribe_monitor.<locals>.monitor_callback at 0x000002BFC4952430>)\n",
      "[DEBUG][update_thr][00:06:46.796 network.py 119] ACC callback for PV (X0PV): (2.5)\n",
      "[DEBUG][update_thr][00:06:46.797    core.py  54] Callback (1): (<function EPICSDevice._enable_fun.<locals>.callback at 0x000002BFDDC85AF0>)\n",
      "[DEBUG][update_thr][00:06:46.797 pddevices.py 525] EPICS callback (X0PV)=(2.5) START\n",
      "[DEBUG][update_thr][00:06:46.798 pddevices.py 532] EPICS callback (X0)=(2.5) ISSUE\n",
      "[DEBUG][update_thr][00:06:46.798 pddevices.py 534] EPICS callback (X0PV)=(2.5) END\n",
      "[DEBUG][update_thr][00:06:46.799    core.py 738] Future callback for (ev.txid=1000)\n",
      "[DEBUG][update_thr][00:06:46.800    core.py 996] E1000:1000:1000 | Write update done\n",
      "[DEBUG][MainThread][00:06:46.800    core.py 574] Write event (ev.data={'X0PV': 2.5}) -> (result=Result ({'X0PV': 2.5}) at (0.0) (self.metadata={}))\n"
     ]
    }
   ],
   "source": [
    "simacc.write_channel('X0PV',2.5)"
   ]
  },
  {
   "cell_type": "code",
   "execution_count": 14,
   "metadata": {},
   "outputs": [
    {
     "name": "stderr",
     "output_type": "stream",
     "text": [
      "[DEBUG][MainThread][00:06:46.850    core.py 743] Event (ev.txid=2000) submitted\n",
      "[DEBUG][MainThread][00:06:46.851    core.py 482] Read event (X0) added\n",
      "[DEBUG][update_thr][00:06:46.851    core.py 924] E2000:2000:2000 | ev.op=<OP.READ: 1> ev.dn='epics1' ev.data={'X0': None} ev.t_event=0.0\n",
      "[DEBUG][update_thr][00:06:46.852    core.py 1007] E2000:2000:2000 | Read (X0)=(2.5) at (0.0)\n",
      "[DEBUG][update_thr][00:06:46.852    core.py 738] Future callback for (ev.txid=2000)\n",
      "[DEBUG][MainThread][00:06:46.853    core.py 488] Read event (result=Result ({'X0': 2.5}) at (0.0) (self.metadata={}))\n"
     ]
    },
    {
     "data": {
      "text/plain": [
       "2.5"
      ]
     },
     "execution_count": 14,
     "metadata": {},
     "output_type": "execute_result"
    }
   ],
   "source": [
    "sim.read_channel('X0')"
   ]
  },
  {
   "cell_type": "code",
   "execution_count": 15,
   "metadata": {},
   "outputs": [
    {
     "data": {
      "text/plain": [
       "{'X0': 2.5}"
      ]
     },
     "execution_count": 15,
     "metadata": {},
     "output_type": "execute_result"
    }
   ],
   "source": [
    "sim.latest_data"
   ]
  },
  {
   "cell_type": "code",
   "execution_count": 16,
   "metadata": {},
   "outputs": [
    {
     "data": {
      "text/plain": [
       "({'epics1': <pybeamtools.sim.pddevices.EPICSDevice at 0x2bfc49d67f0>},\n",
       " {'X0': <pybeamtools.sim.pddevices.EPICSDevice at 0x2bfc49d67f0>})"
      ]
     },
     "execution_count": 16,
     "metadata": {},
     "output_type": "execute_result"
    }
   ],
   "source": [
    "sim.devices_map, sim.channel_to_device"
   ]
  },
  {
   "cell_type": "code",
   "execution_count": 17,
   "metadata": {},
   "outputs": [
    {
     "data": {
      "text/plain": [
       "{'X0': 2.5}"
      ]
     },
     "execution_count": 17,
     "metadata": {},
     "output_type": "execute_result"
    }
   ],
   "source": [
    "sim.channel_to_device['X0'].data"
   ]
  },
  {
   "cell_type": "code",
   "execution_count": 18,
   "metadata": {},
   "outputs": [
    {
     "name": "stderr",
     "output_type": "stream",
     "text": [
      "[DEBUG][MainThread][00:06:47.165    core.py 303] Added device (proxy1) (device.channel_map={'TEST:PROXY:1': {'X0': <TRIG.PROPAGATE: 1>}})\n",
      "[DEBUG][MainThread][00:06:47.166    core.py 743] Event (ev.txid=3000) submitted\n",
      "[DEBUG][update_thr][00:06:47.167    core.py 924] E3000:3000:3000 | ev.op=<OP.ENABLE: 3> ev.dn='proxy1' ev.data=None ev.t_event=0.0\n",
      "[DEBUG][update_thr][00:06:47.167    core.py 1042] E3000:3000:3000 | Enable (dn='proxy1') at (0.0)\n",
      "[DEBUG][update_thr][00:06:47.168    core.py 1053] E3000:3000:3000 | Enable result ({'TEST:PROXY:1': 2.5})\n",
      "[DEBUG][update_thr][00:06:47.168    core.py 738] Future callback for (ev.txid=3000)\n",
      "[DEBUG][update_thr][00:06:47.169    core.py 1059] E3000:3000:3000 | Enable done\n",
      "[DEBUG][MainThread][00:06:47.169    core.py 315] Device (proxy1) enabled\n"
     ]
    },
    {
     "data": {
      "text/plain": [
       "Result ({'TEST:PROXY:1': 2.5}) at (0.0) (self.metadata={})"
      ]
     },
     "execution_count": 18,
     "metadata": {},
     "output_type": "execute_result"
    }
   ],
   "source": [
    "proxy1 = ProxyDevice(ProxyDeviceOptions(name='proxy1', channel_map={'TEST:PROXY:1':{'X0': TRIG.PROPAGATE}}))\n",
    "sim.add_device(proxy1)\n",
    "sim.enable_device(proxy1)"
   ]
  },
  {
   "cell_type": "code",
   "execution_count": 19,
   "metadata": {},
   "outputs": [
    {
     "data": {
      "text/plain": [
       "<DS.ENABLED: 1>"
      ]
     },
     "execution_count": 19,
     "metadata": {},
     "output_type": "execute_result"
    }
   ],
   "source": [
    "proxy1.state"
   ]
  },
  {
   "cell_type": "code",
   "execution_count": 20,
   "metadata": {},
   "outputs": [
    {
     "name": "stderr",
     "output_type": "stream",
     "text": [
      "[DEBUG][MainThread][00:06:47.330    core.py 743] Event (ev.txid=4000) submitted\n",
      "[DEBUG][MainThread][00:06:47.330    core.py 482] Read event (TEST:PROXY:1) added\n",
      "[DEBUG][update_thr][00:06:47.331    core.py 924] E4000:4000:4000 | ev.op=<OP.READ: 1> ev.dn='proxy1' ev.data={'TEST:PROXY:1': None} ev.t_event=0.0\n",
      "[DEBUG][update_thr][00:06:47.332    core.py 1007] E4000:4000:4000 | Read (TEST:PROXY:1)=(2.5) at (0.0)\n",
      "[DEBUG][update_thr][00:06:47.332    core.py 738] Future callback for (ev.txid=4000)\n",
      "[DEBUG][MainThread][00:06:47.333    core.py 488] Read event (result=Result ({'TEST:PROXY:1': 2.5}) at (0.0) (self.metadata={}))\n"
     ]
    },
    {
     "data": {
      "text/plain": [
       "2.5"
      ]
     },
     "execution_count": 20,
     "metadata": {},
     "output_type": "execute_result"
    }
   ],
   "source": [
    "sim.read_channel('TEST:PROXY:1')"
   ]
  },
  {
   "cell_type": "code",
   "execution_count": 21,
   "metadata": {},
   "outputs": [
    {
     "data": {
      "text/plain": [
       "{'X0': 2.5, 'TEST:PROXY:1': 2.5}"
      ]
     },
     "execution_count": 21,
     "metadata": {},
     "output_type": "execute_result"
    }
   ],
   "source": [
    "sim.latest_data"
   ]
  },
  {
   "cell_type": "code",
   "execution_count": null,
   "metadata": {},
   "outputs": [],
   "source": []
  }
 ],
 "metadata": {
  "kernelspec": {
   "display_name": "Python 3.9.15 ('py39ml')",
   "language": "python",
   "name": "python3"
  },
  "language_info": {
   "codemirror_mode": {
    "name": "ipython",
    "version": 3
   },
   "file_extension": ".py",
   "mimetype": "text/x-python",
   "name": "python",
   "nbconvert_exporter": "python",
   "pygments_lexer": "ipython3",
   "version": "3.9.15"
  },
  "vscode": {
   "interpreter": {
    "hash": "13374264484fde26a6608662cb4d9f2b357aebc4acc640560464425c35bd54c0"
   }
  }
 },
 "nbformat": 4,
 "nbformat_minor": 0
}
