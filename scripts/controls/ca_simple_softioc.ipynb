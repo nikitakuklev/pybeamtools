{
 "cells": [
  {
   "cell_type": "code",
   "execution_count": 1,
   "metadata": {},
   "outputs": [
    {
     "name": "stderr",
     "output_type": "stream",
     "text": [
      "08:32:01|pybeamtools.utils.logging|Starting shared logging thread on PID 10780\n",
      "08:32:01|pybeamtools.utils.logging|Logging listener started on PID 10780\n",
      "08:32:01|pybeamtools.utils.logging|Logging setup finished\n",
      "08:32:02|caproto|Backend 'array' registered\n",
      "08:32:02|caproto|Backend 'numpy' registered\n",
      "08:32:02|caproto|Selecting backend: 'numpy'\n",
      "08:32:02|caproto.server.records.utils|Registered record type 'ai'\n",
      "08:32:02|caproto.server.records.utils|Registered record type 'aSub'\n",
      "08:32:02|caproto.server.records.utils|Registered record type 'aai'\n",
      "08:32:02|caproto.server.records.utils|Registered record type 'aao'\n",
      "08:32:02|caproto.server.records.utils|Registered record type 'ao'\n",
      "08:32:02|caproto.server.records.utils|Registered record type 'asyn'\n",
      "08:32:02|caproto.server.records.utils|Registered record type 'bi'\n",
      "08:32:02|caproto.server.records.utils|Registered record type 'bo'\n",
      "08:32:02|caproto.server.records.utils|Registered record type 'calc'\n",
      "08:32:02|caproto.server.records.utils|Registered record type 'calcout'\n",
      "08:32:02|caproto.server.records.utils|Registered record type 'compress'\n",
      "08:32:02|caproto.server.records.utils|Registered record type 'dfanout'\n",
      "08:32:02|caproto.server.records.utils|Registered record type 'event'\n",
      "08:32:02|caproto.server.records.utils|Registered record type 'fanout'\n",
      "08:32:02|caproto.server.records.utils|Registered record type 'histogram'\n",
      "08:32:02|caproto.server.records.utils|Registered record type 'int64in'\n",
      "08:32:02|caproto.server.records.utils|Registered record type 'int64out'\n",
      "08:32:02|caproto.server.records.utils|Registered record type 'longin'\n",
      "08:32:02|caproto.server.records.utils|Registered record type 'longout'\n",
      "08:32:02|caproto.server.records.utils|Registered record type 'lsi'\n",
      "08:32:02|caproto.server.records.utils|Registered record type 'lso'\n",
      "08:32:02|caproto.server.records.utils|Registered record type 'mbbi'\n",
      "08:32:02|caproto.server.records.utils|Registered record type 'mbbiDirect'\n",
      "08:32:02|caproto.server.records.utils|Registered record type 'mbbo'\n",
      "08:32:02|caproto.server.records.utils|Registered record type 'mbboDirect'\n",
      "08:32:02|caproto.server.records.utils|Registered record type 'motor'\n",
      "08:32:02|caproto.server.records.utils|Registered record type 'permissive'\n",
      "08:32:02|caproto.server.records.utils|Registered record type 'printf'\n",
      "08:32:02|caproto.server.records.utils|Registered record type 'sel'\n",
      "08:32:02|caproto.server.records.utils|Registered record type 'seq'\n",
      "08:32:02|caproto.server.records.utils|Registered record type 'state'\n",
      "08:32:02|caproto.server.records.utils|Registered record type 'stringin'\n",
      "08:32:02|caproto.server.records.utils|Registered record type 'stringout'\n",
      "08:32:02|caproto.server.records.utils|Registered record type 'sub'\n",
      "08:32:02|caproto.server.records.utils|Registered record type 'subArray'\n",
      "08:32:02|caproto.server.records.utils|Registered record type 'waveform'\n",
      "08:32:02|numexpr.utils|Note: NumExpr detected 12 cores but \"NUMEXPR_MAX_THREADS\" not set, so enforcing safe limit of 8.\n",
      "08:32:02|numexpr.utils|NumExpr defaulting to 8 threads.\n"
     ]
    }
   ],
   "source": [
    "#%reset -f\n",
    "import logging\n",
    "logging.basicConfig(level=logging.DEBUG, format='%(asctime)s|%(name)s|%(message)s', datefmt='%H:%M:%S')\n",
    "import sys\n",
    "sys.path.append('../..')\n",
    "from pybeamtools.sim.softioc import SimpleIOC\n",
    "import os\n",
    "os.environ['EPICS_CA_AUTO_ADDR_LIST'] = 'no'\n",
    "os.environ['EPICS_CA_ADDR_LIST'] = '127.0.0.1'\n",
    "# %load_ext autoreload\n",
    "# %autoreload 2"
   ]
  },
  {
   "cell_type": "code",
   "execution_count": 2,
   "metadata": {},
   "outputs": [],
   "source": [
    "variables = ['X0', 'X1', 'X2']\n",
    "objectives = ['OBJ0']\n",
    "test_variables = []"
   ]
  },
  {
   "cell_type": "code",
   "execution_count": 3,
   "metadata": {},
   "outputs": [],
   "source": [
    "sioc = SimpleIOC(variables, objectives, test_variables, noise=0.001)"
   ]
  },
  {
   "cell_type": "code",
   "execution_count": 4,
   "metadata": {
    "collapsed": false
   },
   "outputs": [
    {
     "name": "stderr",
     "output_type": "stream",
     "text": [
      "08:32:03|pybeamtools.sim.softioc|Soft IOC config:\n",
      "08:32:03|pybeamtools.sim.softioc|Vars: ['X0', 'X1', 'X2']\n",
      "08:32:03|pybeamtools.sim.softioc|Objectives: ['OBJ0']\n",
      "08:32:03|pybeamtools.sim.softioc|Test vars: []\n",
      "08:32:03|pybeamtools.sim.softioc|PVDB: {'X0': <caproto.server.server.PvpropertyDouble object at 0x000002415E62A7C0>, 'X0_RB': <caproto.server.server.PvpropertyDouble object at 0x000002415E62A9D0>, 'X1': <caproto.server.server.PvpropertyDouble object at 0x000002415E64A940>, 'X1_RB': <caproto.server.server.PvpropertyDouble object at 0x000002415E66DBE0>, 'X2': <caproto.server.server.PvpropertyDouble object at 0x000002415E690B20>, 'X2_RB': <caproto.server.server.PvpropertyDouble object at 0x000002415E6B5D30>, 'OBJ0': <caproto.server.server.PvpropertyDouble object at 0x000002415E6D9C70>}\n",
      "08:32:03|pybeamtools.sim.softioc|pvp=<caproto.server.server.pvproperty object at 0x00000241450CBA30>\n",
      "08:32:03|pybeamtools.sim.softioc|pvp=<caproto.server.server.pvproperty object at 0x00000241450CB670>\n",
      "08:32:03|pybeamtools.sim.softioc|pvp=<caproto.server.server.pvproperty object at 0x0000024145150A00>\n",
      "08:32:03|pybeamtools.sim.softioc|pvp=<caproto.server.server.pvproperty object at 0x000002415E613DC0>\n",
      "08:32:03|pybeamtools.sim.softioc|pvp=<caproto.server.server.pvproperty object at 0x000002415E62A520>\n",
      "08:32:03|pybeamtools.sim.softioc|pvp=<caproto.server.server.pvproperty object at 0x000002415E62A5E0>\n",
      "08:32:03|pybeamtools.sim.softioc|pvp=<caproto.server.server.pvproperty object at 0x000002415E62A700>\n"
     ]
    }
   ],
   "source": [
    "sioc.setup()"
   ]
  },
  {
   "cell_type": "code",
   "execution_count": 5,
   "metadata": {
    "collapsed": false
   },
   "outputs": [
    {
     "name": "stderr",
     "output_type": "stream",
     "text": [
      "08:32:03|asyncio|Using selector: SelectSelector\n",
      "08:32:03|pybeamtools.sim.softioc|Starting loop in separate thread\n"
     ]
    },
    {
     "name": "stdout",
     "output_type": "stream",
     "text": [
      "\n"
     ]
    },
    {
     "name": "stderr",
     "output_type": "stream",
     "text": [
      "08:32:03|asyncio|Using selector: SelectSelector\n",
      "08:32:03|caproto.ctx|EPICS_CA_SERVER_PORT set to 5064. This is the UDP port to be used for searches, and the first TCP server port to be tried.\n",
      "08:32:03|caproto.ctx|Asyncio server starting up...\n",
      "08:32:03|caproto.ctx|Listening on 0.0.0.0:5064\n"
     ]
    }
   ],
   "source": [
    "#sioc.run()\n",
    "sioc.run_in_background()\n",
    "print()"
   ]
  },
  {
   "cell_type": "code",
   "execution_count": 6,
   "metadata": {
    "collapsed": false
   },
   "outputs": [
    {
     "name": "stderr",
     "output_type": "stream",
     "text": [
      "08:32:03|caproto.ctx|Beacon (255.255.255.255:5065) socket setup failed: [WinError 10065] A socket operation was attempted to an unreachable host\n"
     ]
    },
    {
     "name": "stdout",
     "output_type": "stream",
     "text": [
      "\n"
     ]
    },
    {
     "name": "stderr",
     "output_type": "stream",
     "text": [
      "08:32:03|caproto.ctx|UDP socket bound on 0.0.0.0:5064\n",
      "08:32:03|caproto.ctx|Calling startup method 'X0_RB.server_startup'\n",
      "08:32:03|caproto.ctx|Calling startup method 'X1_RB.server_startup'\n",
      "08:32:03|caproto.ctx|Calling startup method 'X2_RB.server_startup'\n",
      "08:32:03|caproto.ctx|Calling startup method 'OBJ0.server_startup'\n",
      "08:32:03|caproto.ctx|Server startup complete.\n",
      "08:32:03|caproto.ctx|PVs available:\n",
      "X0\n",
      "X0_RB\n",
      "X1\n",
      "X1_RB\n",
      "X2\n",
      "X2_RB\n",
      "OBJ0\n",
      "08:32:03|caproto.ctx|Will send beacons to []\n",
      "08:32:03|pybeamtools.sim.softioc|Startup for instance.name='X0_RB'\n"
     ]
    }
   ],
   "source": [
    "print()"
   ]
  },
  {
   "cell_type": "code",
   "execution_count": 6,
   "metadata": {},
   "outputs": [
    {
     "name": "stderr",
     "output_type": "stream",
     "text": [
      "08:32:03|pybeamtools.sim.softioc|Startup for instance.name='X2_RB'\n",
      "08:32:03|pybeamtools.sim.softioc|Startup for instance.name='OBJ0'\n"
     ]
    }
   ],
   "source": []
  },
  {
   "cell_type": "code",
   "execution_count": 6,
   "metadata": {},
   "outputs": [],
   "source": []
  }
 ],
 "metadata": {
  "kernelspec": {
   "display_name": "Python 3.9.15 ('py39ml')",
   "language": "python",
   "name": "python3"
  },
  "language_info": {
   "codemirror_mode": {
    "name": "ipython",
    "version": 3
   },
   "file_extension": ".py",
   "mimetype": "text/x-python",
   "name": "python",
   "nbconvert_exporter": "python",
   "pygments_lexer": "ipython3",
   "version": "3.9.15"
  },
  "orig_nbformat": 4,
  "vscode": {
   "interpreter": {
    "hash": "13374264484fde26a6608662cb4d9f2b357aebc4acc640560464425c35bd54c0"
   }
  }
 },
 "nbformat": 4,
 "nbformat_minor": 2
}
