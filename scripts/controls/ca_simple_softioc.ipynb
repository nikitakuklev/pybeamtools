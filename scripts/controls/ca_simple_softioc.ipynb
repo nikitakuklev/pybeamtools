{
 "cells": [
  {
   "cell_type": "code",
   "execution_count": 1,
   "metadata": {
    "pycharm": {
     "name": "#%%\n"
    }
   },
   "outputs": [],
   "source": [
    "import sys\n",
    "sys.path.append('../..')\n",
    "from pybeamtools.controls.softioc import SimpleBeamlineSoftIOC\n",
    "# %load_ext autoreload\n",
    "# %autoreload 2"
   ]
  },
  {
   "cell_type": "code",
   "execution_count": 2,
   "metadata": {
    "collapsed": false,
    "pycharm": {
     "name": "#%%\n"
    }
   },
   "outputs": [],
   "source": [
    "import logging\n",
    "logging.basicConfig(level=logging.DEBUG, format='%(asctime)s|%(name)s|%(message)s', datefmt='%H:%M:%S')"
   ]
  },
  {
   "cell_type": "code",
   "execution_count": 3,
   "metadata": {
    "pycharm": {
     "name": "#%%\n"
    }
   },
   "outputs": [],
   "source": [
    "variables = ['X0', 'X1']\n",
    "objectives = ['OBJ0']\n",
    "#test_variables = ['AI:TEST1:AI']\n",
    "test_variables = [] #[('AI:XT:AO', 'AI:XT:AI')]"
   ]
  },
  {
   "cell_type": "code",
   "execution_count": 4,
   "metadata": {
    "pycharm": {
     "name": "#%%\n"
    }
   },
   "outputs": [],
   "source": [
    "sioc = SimpleBeamlineSoftIOC(variables, objectives, test_variables, prefix='TEST:')"
   ]
  },
  {
   "cell_type": "code",
   "execution_count": 5,
   "metadata": {
    "collapsed": false,
    "pycharm": {
     "name": "#%%\n"
    }
   },
   "outputs": [
    {
     "name": "stderr",
     "output_type": "stream",
     "text": [
      "04:27:56|pybeamtools.controls.virtual_tools|Virtual input called with args=() kwargs={'prefix': 'TEST:OBJ0', 'macros': {}, 'parent': <pybeamtools.controls.softioc.SimpleBeamlineSoftIOC.setup.<locals>.VirtualBeamline object at 0x0000013C72F98D60>, 'name': 'VirtualBeamline.objective_0'}\n",
      "04:27:56|pybeamtools.controls.softioc|Soft IOC config:\n",
      "04:27:56|pybeamtools.controls.softioc|Vars: ['X0', 'X1']\n",
      "04:27:56|pybeamtools.controls.softioc|Objectives: ['OBJ0']\n",
      "04:27:56|pybeamtools.controls.softioc|Test vars: []\n",
      "04:27:56|pybeamtools.controls.softioc|PVDict: {'parent': None, 'macros': {}, 'prefix': 'TEST:', 'alarms': defaultdict(<class 'caproto._data.ChannelAlarm'>, {}), 'pvdb': OrderedDict([('TEST:X0:AI', <caproto.server.server.PvpropertyDoubleRO object at 0x0000013C765CA850>), ('TEST:X0:AO', <caproto.server.server.PvpropertyDouble object at 0x0000013C765CA910>), ('TEST:X1:AI', <caproto.server.server.PvpropertyDoubleRO object at 0x0000013C7660DB20>), ('TEST:X1:AO', <caproto.server.server.PvpropertyDouble object at 0x0000013C7660DC10>), ('TEST:OBJ0:AI', <caproto.server.server.pvproperty object at 0x0000013C76630C10>)]), 'attr_pvdb': OrderedDict([('variable_0.ai', <caproto.server.server.PvpropertyDoubleRO object at 0x0000013C765CA850>), ('variable_0.ao', <caproto.server.server.PvpropertyDouble object at 0x0000013C765CA910>), ('variable_1.ai', <caproto.server.server.PvpropertyDoubleRO object at 0x0000013C7660DB20>), ('variable_1.ao', <caproto.server.server.PvpropertyDouble object at 0x0000013C7660DC10>), ('objective_0.ai', <caproto.server.server.pvproperty object at 0x0000013C76630C10>)]), 'attr_to_pvname': OrderedDict([('variable_0.ai', 'TEST:X0:AI'), ('variable_0.ao', 'TEST:X0:AO'), ('variable_1.ai', 'TEST:X1:AI'), ('variable_1.ao', 'TEST:X1:AO'), ('objective_0.ai', 'TEST:OBJ0:AI')]), 'groups': OrderedDict([('variable_0', <pybeamtools.controls.virtual_tools.EPICSVirtualIOC object at 0x0000013C765CA880>), ('variable_1', <pybeamtools.controls.virtual_tools.EPICSVirtualIOC object at 0x0000013C765CA4F0>), ('objective_0', <pybeamtools.controls.virtual_tools.EPICSVirtualInput object at 0x0000013C765E5910>)]), 'states': {}, 'update_state': functools.partial(<class 'caproto.server.server._StateUpdateContext'>, <pybeamtools.controls.softioc.SimpleBeamlineSoftIOC.setup.<locals>.VirtualBeamline object at 0x0000013C72F98D60>), 'name': 'VirtualBeamline', 'log': <Logger pybeamtools.controls.softioc.VirtualBeamline (DEBUG)>, 'variable_0': <caproto.server.server.SubGroup object at 0x0000013C765CA580>, 'variable_1': <caproto.server.server.SubGroup object at 0x0000013C765CA640>, 'objective_0': <caproto.server.server.SubGroup object at 0x0000013C765CA820>, '_subgroups_': {'variable_0': <caproto.server.server.SubGroup object at 0x0000013C765CA580>, 'variable_1': <caproto.server.server.SubGroup object at 0x0000013C765CA640>, 'objective_0': <caproto.server.server.SubGroup object at 0x0000013C765CA820>}, '_pvs_': {'variable_0.ai': <caproto.server.server.pvproperty object at 0x0000013C765CA160>, 'variable_0.ao': <caproto.server.server.pvproperty object at 0x0000013C765CA250>, 'variable_1.ai': <caproto.server.server.pvproperty object at 0x0000013C765CA160>, 'variable_1.ao': <caproto.server.server.pvproperty object at 0x0000013C765CA250>, 'objective_0.ai': <caproto.server.server.pvproperty object at 0x0000013C765B3D30>}}\n",
      "04:27:56|pybeamtools.controls.softioc|PVDB: OrderedDict([('TEST:X0:AI', <caproto.server.server.PvpropertyDoubleRO object at 0x0000013C765CA850>), ('TEST:X0:AO', <caproto.server.server.PvpropertyDouble object at 0x0000013C765CA910>), ('TEST:X1:AI', <caproto.server.server.PvpropertyDoubleRO object at 0x0000013C7660DB20>), ('TEST:X1:AO', <caproto.server.server.PvpropertyDouble object at 0x0000013C7660DC10>), ('TEST:OBJ0:AI', <caproto.server.server.pvproperty object at 0x0000013C76630C10>)])\n"
     ]
    }
   ],
   "source": [
    "sioc.setup()"
   ]
  },
  {
   "cell_type": "code",
   "execution_count": null,
   "metadata": {
    "collapsed": false,
    "pycharm": {
     "name": "#%%\n"
    }
   },
   "outputs": [
    {
     "name": "stderr",
     "output_type": "stream",
     "text": [
      "04:28:01|pybeamtools.controls.softioc|Starting repeater\n",
      "04:28:01|asyncio|Using selector: SelectSelector\n",
      "04:28:01|pybeamtools.controls.softioc|Starting loop in separate thread\n",
      "04:28:01|asyncio|Using selector: SelectSelector\n",
      "04:28:01|caproto.ctx|EPICS_CA_SERVER_PORT set to 5064. This is the UDP port to be used for searches, and the first TCP server port to be tried.\n",
      "04:28:01|caproto.ctx|Asyncio server starting up...\n",
      "04:28:01|caproto.ctx|Listening on 127.0.0.1:5064\n",
      "04:28:01|caproto.ctx|Beacon (255.255.255.255:5065) socket setup failed: [WinError 10065] A socket operation was attempted to an unreachable host\n",
      "04:28:01|caproto.ctx|UDP socket bound on 127.0.0.1:5064\n",
      "04:28:01|caproto.ctx|Will send beacons to []\n",
      "Exception in thread Thread-3:\n",
      "Traceback (most recent call last):\n",
      "  File \"c:\\Users\\boss\\Anaconda3\\envs\\py39ml\\lib\\threading.py\", line 980, in _bootstrap_inner\n",
      "    self.run()\n"
     ]
    },
    {
     "name": "stderr",
     "output_type": "stream",
     "text": [
      "  File \"c:\\Users\\boss\\Anaconda3\\envs\\py39ml\\lib\\threading.py\", line 917, in run\n",
      "    self._target(*self._args, **self._kwargs)\n",
      "  File \"c:\\googledrive\\work\\acc_code\\pybeamtools\\pybeamtools\\controls\\softioc.py\", line 106, in start_background_loop\n",
      "    run(self.bl.pvdb, log_pv_names=True, interfaces=['127.0.0.1'])#\n",
      "  File \"c:\\Users\\boss\\Anaconda3\\envs\\py39ml\\lib\\site-packages\\caproto\\asyncio\\server.py\", line 303, in run\n",
      "    asyncio.run(\n",
      "  File \"c:\\Users\\boss\\Anaconda3\\envs\\py39ml\\lib\\asyncio\\runners.py\", line 44, in run\n",
      "    return loop.run_until_complete(main)\n",
      "  File \"c:\\Users\\boss\\Anaconda3\\envs\\py39ml\\lib\\asyncio\\base_events.py\", line 647, in run_until_complete\n",
      "    return future.result()\n",
      "  File \"c:\\Users\\boss\\Anaconda3\\envs\\py39ml\\lib\\site-packages\\caproto\\asyncio\\server.py\", line 279, in start_server\n",
      "    return await ctx.run(log_pv_names=log_pv_names, startup_hook=startup_hook)\n",
      "  File \"c:\\Users\\boss\\Anaconda3\\envs\\py39ml\\lib\\site-packages\\caproto\\asyncio\\server.py\", line 193, in run\n",
      "    for name, method in self.startup_methods.items():\n",
      "  File \"c:\\Users\\boss\\Anaconda3\\envs\\py39ml\\lib\\site-packages\\caproto\\server\\common.py\", line 1062, in startup_methods\n",
      "    return self._find_hook_methods(\"server_startup\", \"server_scan\")\n",
      "  File \"c:\\Users\\boss\\Anaconda3\\envs\\py39ml\\lib\\site-packages\\caproto\\server\\common.py\", line 1052, in _find_hook_methods\n",
      "    return {\n",
      "  File \"c:\\Users\\boss\\Anaconda3\\envs\\py39ml\\lib\\site-packages\\caproto\\server\\common.py\", line 1055, in <dictcomp>\n",
      "    for name, instance in self.pvdb_with_fields.items()\n",
      "  File \"c:\\Users\\boss\\Anaconda3\\envs\\py39ml\\lib\\site-packages\\caproto\\server\\common.py\", line 738, in pvdb_with_fields\n",
      "    for field_name, field in instance.fields.items():\n",
      "  File \"c:\\Users\\boss\\Anaconda3\\envs\\py39ml\\lib\\site-packages\\caproto\\server\\server.py\", line 914, in __getattr__\n",
      "    raise CaprotoAttributeError(f'Unknown field specified: {attr}')\n",
      "caproto._utils.CaprotoAttributeError: Unknown field specified: items\n"
     ]
    }
   ],
   "source": [
    "#sioc.run()\n",
    "sioc.run_in_background()"
   ]
  },
  {
   "cell_type": "code",
   "execution_count": null,
   "metadata": {
    "collapsed": false,
    "pycharm": {
     "name": "#%%\n"
    }
   },
   "outputs": [],
   "source": []
  },
  {
   "cell_type": "code",
   "execution_count": null,
   "metadata": {
    "collapsed": false,
    "pycharm": {
     "name": "#%%\n"
    }
   },
   "outputs": [],
   "source": []
  }
 ],
 "metadata": {
  "kernelspec": {
   "display_name": "Python 3.9.15 ('py39ml')",
   "language": "python",
   "name": "python3"
  },
  "language_info": {
   "codemirror_mode": {
    "name": "ipython",
    "version": 3
   },
   "file_extension": ".py",
   "mimetype": "text/x-python",
   "name": "python",
   "nbconvert_exporter": "python",
   "pygments_lexer": "ipython3",
   "version": "3.9.15"
  },
  "orig_nbformat": 4,
  "vscode": {
   "interpreter": {
    "hash": "13374264484fde26a6608662cb4d9f2b357aebc4acc640560464425c35bd54c0"
   }
  }
 },
 "nbformat": 4,
 "nbformat_minor": 2
}
