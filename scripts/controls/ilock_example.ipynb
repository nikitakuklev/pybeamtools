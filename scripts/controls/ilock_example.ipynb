{
 "cells": [
  {
   "cell_type": "code",
   "execution_count": 1,
   "metadata": {
    "collapsed": true
   },
   "outputs": [
    {
     "name": "stderr",
     "output_type": "stream",
     "text": [
      "[INFO ] [     MainThread] [09:24:39      logging.py  23] [pybeamtools.utils.logging] Starting shared logging thread on PID 25324\n",
      "[INFO ] [   log_listener] [09:24:39      logging.py  32] [pybeamtools.utils.logging] Logging listener started on PID 25324\n",
      "[INFO ] [     MainThread] [09:24:39      logging.py  27] [pybeamtools.utils.logging] Logging setup finished\n",
      "[INFO ] [     MainThread] [09:24:39        utils.py 145] [numexpr.utils] Note: NumExpr detected 12 cores but \"NUMEXPR_MAX_THREADS\" not set, so enforcing safe limit of 8.\n",
      "[INFO ] [     MainThread] [09:24:39        utils.py 157] [numexpr.utils] NumExpr defaulting to 8 threads.\n",
      "[DEBUG] [     MainThread] [09:24:39     _backend.py  35] [caproto] Backend 'array' registered\n",
      "[DEBUG] [     MainThread] [09:24:39     _backend.py  35] [caproto] Backend 'numpy' registered\n",
      "[DEBUG] [     MainThread] [09:24:39     _backend.py  47] [caproto] Selecting backend: 'numpy'\n"
     ]
    }
   ],
   "source": [
    "import sys\n",
    "sys.path.append('../..')\n",
    "import pybeamtools.controls as pc"
   ]
  },
  {
   "attachments": {},
   "cell_type": "markdown",
   "metadata": {},
   "source": [
    "### Create simulation with 3 magnets [will present in detail next week]"
   ]
  },
  {
   "cell_type": "code",
   "execution_count": 2,
   "metadata": {},
   "outputs": [
    {
     "name": "stderr",
     "output_type": "stream",
     "text": [
      "[DEBUG] [     MainThread] [09:24:41         core.py 152] [SimulationEngine] Added device (mag1) with update period of (10.0)\n",
      "[DEBUG] [     MainThread] [09:24:41         core.py 171] [SimulationEngine] Added mapper for outputs (['WRITE_PV_1']) from devices (['mag1'])\n",
      "[DEBUG] [     MainThread] [09:24:41         core.py 152] [SimulationEngine] Added device (mag2) with update period of (10.0)\n",
      "[DEBUG] [     MainThread] [09:24:41         core.py 171] [SimulationEngine] Added mapper for outputs (['READ_PV_1']) from devices (['mag2'])\n",
      "[DEBUG] [     MainThread] [09:24:41         core.py 152] [SimulationEngine] Added device (osc) with update period of (5.0)\n",
      "[DEBUG] [     MainThread] [09:24:41         core.py 171] [SimulationEngine] Added mapper for outputs (['OSCILLATING_PV_1']) from devices (['osc'])\n",
      "[DEBUG] [     MainThread] [09:24:41         core.py 243] [SimulationEngine] Starting poll thread\n",
      "[DEBUG] [sim_engine_poll] [09:24:41         core.py 198] [SimulationEngine] Hello from simulation poll thread (id 19288)\n"
     ]
    },
    {
     "name": "stdout",
     "output_type": "stream",
     "text": [
      "\n"
     ]
    }
   ],
   "source": [
    "from pybeamtools.sim.core import SimulationEngine, ChannelMap, ChannelMapper\n",
    "from pybeamtools.sim.devices import RealisticMagnet, Oscillator\n",
    "\n",
    "sim = SimulationEngine()\n",
    "\n",
    "def read_device(device, output):\n",
    "    return device.read()\n",
    "\n",
    "def write_device(device, output, value):\n",
    "    return device.write(value)\n",
    "\n",
    "mag1 = RealisticMagnet(name='mag1', value=0, low=-20.0, high=20.0, noise=0.1, resolution=None, model='instant')\n",
    "m = ChannelMap(device=mag1, output='WRITE_PV_1', read_fun=read_device, write_fun=write_device)\n",
    "chm = ChannelMapper(maps=[m])\n",
    "sim.add_device(mag1, period=10.0)\n",
    "sim.add_mapper(chm)\n",
    "\n",
    "mag2 = RealisticMagnet(name='mag2', value=0, low=-20.0, high=20.0, noise=0.1, resolution=None, model='instant')\n",
    "m = ChannelMap(device=mag2, output='READ_PV_1', read_fun=read_device)\n",
    "chm = ChannelMapper(maps=[m])\n",
    "sim.add_device(mag2, period=10.0)\n",
    "sim.add_mapper(chm)\n",
    "\n",
    "osc = Oscillator(name='osc', period = 20.0, amplitude = 2.0)\n",
    "m = ChannelMap(device=osc, output='OSCILLATING_PV_1', read_fun=read_device)\n",
    "chm = ChannelMapper(maps=[m])\n",
    "sim.add_device(osc, period=5.0)\n",
    "sim.add_mapper(chm)\n",
    "\n",
    "sim.start_update_thread()\n",
    "print()"
   ]
  },
  {
   "cell_type": "code",
   "execution_count": 3,
   "metadata": {},
   "outputs": [
    {
     "data": {
      "text/plain": [
       "(['WRITE_PV_1', 'READ_PV_1', 'OSCILLATING_PV_1'],\n",
       " {'mag1': <pybeamtools.sim.devices.RealisticMagnet at 0x257607cf8e0>,\n",
       "  'mag2': <pybeamtools.sim.devices.RealisticMagnet at 0x257607cf700>,\n",
       "  'osc': <pybeamtools.sim.devices.Oscillator at 0x25747509490>})"
      ]
     },
     "execution_count": 3,
     "metadata": {},
     "output_type": "execute_result"
    }
   ],
   "source": [
    "# Simulation is ready to go\n",
    "sim.channels, sim.devices"
   ]
  },
  {
   "attachments": {},
   "cell_type": "markdown",
   "metadata": {},
   "source": [
    "### Configs"
   ]
  },
  {
   "cell_type": "code",
   "execution_count": 4,
   "metadata": {},
   "outputs": [],
   "source": [
    "# Create options that fully define initial configuration\n",
    "from pybeamtools.controls.control_lib import ConnectionOptions\n",
    "ao = pc.AcceleratorOptions(connection_settings=ConnectionOptions(network='dummy'))"
   ]
  },
  {
   "cell_type": "code",
   "execution_count": 5,
   "metadata": {},
   "outputs": [
    {
     "data": {
      "text/plain": [
       "{'write_settings': {},\n",
       " 'readback_settings': {'delay_after_write': 1.0,\n",
       "  'readback_match_timeout': 60.0,\n",
       "  'delay_after_readback': 3.0,\n",
       "  'total_set_and_readback_cycle_min_time': 0.0},\n",
       " 'connection_settings': {'network': 'dummy', 'pvs': [], 'timeout': 5.0},\n",
       " 'interlocks': []}"
      ]
     },
     "execution_count": 5,
     "metadata": {},
     "output_type": "execute_result"
    }
   ],
   "source": [
    "ao.dict()"
   ]
  },
  {
   "cell_type": "code",
   "execution_count": 6,
   "metadata": {},
   "outputs": [
    {
     "ename": "ValidationError",
     "evalue": "1 validation error for ConnectionOptions\nnetwork\n  unexpected value; permitted: 'epics', 'dummy' (type=value_error.const; given=badnetwork; permitted=('epics', 'dummy'))",
     "output_type": "error",
     "traceback": [
      "\u001b[1;31m---------------------------------------------------------------------------\u001b[0m",
      "\u001b[1;31mValidationError\u001b[0m                           Traceback (most recent call last)",
      "Cell \u001b[1;32mIn[6], line 2\u001b[0m\n\u001b[0;32m      1\u001b[0m \u001b[39m# Note that config is validated\u001b[39;00m\n\u001b[1;32m----> 2\u001b[0m ConnectionOptions(network\u001b[39m=\u001b[39;49m\u001b[39m'\u001b[39;49m\u001b[39mbadnetwork\u001b[39;49m\u001b[39m'\u001b[39;49m)\n",
      "File \u001b[1;32mc:\\Users\\boss\\Anaconda3\\envs\\py39ml\\lib\\site-packages\\pydantic\\main.py:342\u001b[0m, in \u001b[0;36mpydantic.main.BaseModel.__init__\u001b[1;34m()\u001b[0m\n",
      "\u001b[1;31mValidationError\u001b[0m: 1 validation error for ConnectionOptions\nnetwork\n  unexpected value; permitted: 'epics', 'dummy' (type=value_error.const; given=badnetwork; permitted=('epics', 'dummy'))"
     ]
    }
   ],
   "source": [
    "# Note that config is validated\n",
    "ConnectionOptions(network='badnetwork')"
   ]
  },
  {
   "cell_type": "code",
   "execution_count": 7,
   "metadata": {},
   "outputs": [
    {
     "ename": "ValidationError",
     "evalue": "1 validation error for ConnectionOptions\ntimeout\n  value is not a valid float (type=type_error.float)",
     "output_type": "error",
     "traceback": [
      "\u001b[1;31m---------------------------------------------------------------------------\u001b[0m",
      "\u001b[1;31mValidationError\u001b[0m                           Traceback (most recent call last)",
      "Cell \u001b[1;32mIn[7], line 1\u001b[0m\n\u001b[1;32m----> 1\u001b[0m ConnectionOptions(timeout\u001b[39m=\u001b[39;49m\u001b[39m'\u001b[39;49m\u001b[39mnotafloat\u001b[39;49m\u001b[39m'\u001b[39;49m)\n",
      "File \u001b[1;32mc:\\Users\\boss\\Anaconda3\\envs\\py39ml\\lib\\site-packages\\pydantic\\main.py:342\u001b[0m, in \u001b[0;36mpydantic.main.BaseModel.__init__\u001b[1;34m()\u001b[0m\n",
      "\u001b[1;31mValidationError\u001b[0m: 1 validation error for ConnectionOptions\ntimeout\n  value is not a valid float (type=type_error.float)"
     ]
    }
   ],
   "source": [
    "ConnectionOptions(timeout='notafloat')"
   ]
  },
  {
   "attachments": {},
   "cell_type": "markdown",
   "metadata": {},
   "source": [
    "### Controller"
   ]
  },
  {
   "cell_type": "code",
   "execution_count": 10,
   "metadata": {},
   "outputs": [
    {
     "name": "stderr",
     "output_type": "stream",
     "text": [
      "[INFO ] [     MainThread] [09:26:52  control_lib.py  58] [Accelerator] Control lib init\n",
      "[INFO ] [     MainThread] [09:26:52      network.py 176] [SimConnectionManager] Creating dummy connection manager\n",
      "[INFO ] [     MainThread] [09:26:52  control_lib.py  86] [Accelerator] Startup finished\n"
     ]
    },
    {
     "name": "stdout",
     "output_type": "stream",
     "text": [
      "PV NAME LIST: ['OSCILLATING_PV_1', 'READ_PV_1', 'WRITE_PV_1']\n"
     ]
    }
   ],
   "source": [
    "# Now create accelerator interface (what is used for control)\n",
    "acc = pc.Accelerator(options=ao, ctx=sim)\n",
    "\n",
    "# Add PVs\n",
    "from pybeamtools.controls.network import SimPV, PVOptions, PVAccess\n",
    "write_triggers = ['WRITE_PV_1']\n",
    "write_pv_1 = SimPV(PVOptions(name='WRITE_PV_1', low=-5.0, high=5.0, security=PVAccess.READWRITE))\n",
    "read_triggers = ['READ_PV_1']\n",
    "read_pv_1 = SimPV(PVOptions(name='READ_PV_1', security=PVAccess.READONLY))\n",
    "oscillating_pv_1 = SimPV(PVOptions(name='OSCILLATING_PV_1', security=PVAccess.READONLY))\n",
    "pv_list = ['OSCILLATING_PV_1'] + read_triggers + write_triggers\n",
    "print(f'PV NAME LIST: {pv_list}')"
   ]
  },
  {
   "cell_type": "code",
   "execution_count": 14,
   "metadata": {},
   "outputs": [
    {
     "data": {
      "text/plain": [
       "{'write_settings': {},\n",
       " 'readback_settings': {'delay_after_write': 1.0,\n",
       "  'readback_match_timeout': 60.0,\n",
       "  'delay_after_readback': 3.0,\n",
       "  'total_set_and_readback_cycle_min_time': 0.0},\n",
       " 'connection_settings': {'network': 'dummy',\n",
       "  'pvs': [{'name': 'READ_PV_1',\n",
       "    'low': None,\n",
       "    'high': None,\n",
       "    'monitor': True,\n",
       "    'security': 1,\n",
       "    'read_timeout': 2.0,\n",
       "    'write_timeout': 5.0},\n",
       "   {'name': 'WRITE_PV_1',\n",
       "    'low': -5.0,\n",
       "    'high': 5.0,\n",
       "    'monitor': True,\n",
       "    'security': 3,\n",
       "    'read_timeout': 2.0,\n",
       "    'write_timeout': 5.0},\n",
       "   {'name': 'OSCILLATING_PV_1',\n",
       "    'low': None,\n",
       "    'high': None,\n",
       "    'monitor': True,\n",
       "    'security': 1,\n",
       "    'read_timeout': 2.0,\n",
       "    'write_timeout': 5.0}],\n",
       "  'timeout': 5.0},\n",
       " 'interlocks': []}"
      ]
     },
     "execution_count": 14,
     "metadata": {},
     "output_type": "execute_result"
    }
   ],
   "source": [
    "# Settings serialization\n",
    "acc.options.dict()"
   ]
  },
  {
   "cell_type": "code",
   "execution_count": 15,
   "metadata": {},
   "outputs": [
    {
     "data": {
      "text/plain": [
       "[('pybeamtools:readback_settings:delay_after_write', '1.0'),\n",
       " ('pybeamtools:readback_settings:readback_match_timeout', '60.0'),\n",
       " ('pybeamtools:readback_settings:delay_after_readback', '3.0'),\n",
       " ('pybeamtools:readback_settings:total_set_and_readback_cycle_min_time',\n",
       "  '0.0'),\n",
       " ('pybeamtools:connection_settings:network', 'dummy'),\n",
       " ('pybeamtools:connection_settings:pvs',\n",
       "  '[{\"name\": \"READ_PV_1\", \"low\": null, \"high\": null, \"monitor\": true, \"security\": 1, \"read_timeout\": 2.0, \"write_timeout\": 5.0}, {\"name\": \"WRITE_PV_1\", \"low\": -5.0, \"high\": 5.0, \"monitor\": true, \"security\": 3, \"read_timeout\": 2.0, \"write_timeout\": 5.0}, {\"name\": \"OSCILLATING_PV_1\", \"low\": null, \"high\": null, \"monitor\": true, \"security\": 1, \"read_timeout\": 2.0, \"write_timeout\": 5.0}]'),\n",
       " ('pybeamtools:connection_settings:timeout', '5.0'),\n",
       " ('pybeamtools:interlocks', '[]')]"
      ]
     },
     "execution_count": 15,
     "metadata": {},
     "output_type": "execute_result"
    }
   ],
   "source": [
    "# Can also output as SDDS parameter list\n",
    "from pybeamtools.utils.pydantic import to_sdds\n",
    "to_sdds(acc.options.dict())"
   ]
  },
  {
   "cell_type": "code",
   "execution_count": 13,
   "metadata": {},
   "outputs": [
    {
     "name": "stderr",
     "output_type": "stream",
     "text": [
      "[DEBUG] [     MainThread] [09:27:16      network.py 212] [SimConnectionManager] Adding 3 PV objects\n",
      "[DEBUG] [     MainThread] [09:27:16         core.py 184] [SimulationEngine] Created subscription for channel (READ_PV_1)\n",
      "[DEBUG] [     MainThread] [09:27:16         core.py 184] [SimulationEngine] Created subscription for channel (WRITE_PV_1)\n",
      "[DEBUG] [     MainThread] [09:27:16         core.py 184] [SimulationEngine] Created subscription for channel (OSCILLATING_PV_1)\n"
     ]
    },
    {
     "name": "stdout",
     "output_type": "stream",
     "text": [
      "\n"
     ]
    }
   ],
   "source": [
    "# Add new PVs to controller\n",
    "acc.add_pv_object([read_pv_1, write_pv_1, oscillating_pv_1])\n",
    "sim.schedule_update()\n",
    "print()"
   ]
  },
  {
   "cell_type": "code",
   "execution_count": 16,
   "metadata": {},
   "outputs": [
    {
     "data": {
      "text/plain": [
       "{'write_settings': {},\n",
       " 'readback_settings': {'delay_after_write': 1.0,\n",
       "  'readback_match_timeout': 60.0,\n",
       "  'delay_after_readback': 3.0,\n",
       "  'total_set_and_readback_cycle_min_time': 0.0},\n",
       " 'connection_settings': {'network': 'dummy',\n",
       "  'pvs': [{'name': 'READ_PV_1',\n",
       "    'low': None,\n",
       "    'high': None,\n",
       "    'monitor': True,\n",
       "    'security': 1,\n",
       "    'read_timeout': 2.0,\n",
       "    'write_timeout': 5.0},\n",
       "   {'name': 'WRITE_PV_1',\n",
       "    'low': -5.0,\n",
       "    'high': 5.0,\n",
       "    'monitor': True,\n",
       "    'security': 3,\n",
       "    'read_timeout': 2.0,\n",
       "    'write_timeout': 5.0},\n",
       "   {'name': 'OSCILLATING_PV_1',\n",
       "    'low': None,\n",
       "    'high': None,\n",
       "    'monitor': True,\n",
       "    'security': 1,\n",
       "    'read_timeout': 2.0,\n",
       "    'write_timeout': 5.0}],\n",
       "  'timeout': 5.0},\n",
       " 'interlocks': []}"
      ]
     },
     "execution_count": 16,
     "metadata": {},
     "output_type": "execute_result"
    }
   ],
   "source": [
    "# note how options have updated to reflect state\n",
    "acc.options.dict()"
   ]
  },
  {
   "attachments": {},
   "cell_type": "markdown",
   "metadata": {},
   "source": [
    "### Interacting with PVs"
   ]
  },
  {
   "cell_type": "code",
   "execution_count": 17,
   "metadata": {},
   "outputs": [
    {
     "ename": "InvalidWriteError",
     "evalue": "Value 5.5 above bounds (-5.0|5.0)",
     "output_type": "error",
     "traceback": [
      "\u001b[1;31m---------------------------------------------------------------------------\u001b[0m",
      "\u001b[1;31mInvalidWriteError\u001b[0m                         Traceback (most recent call last)",
      "Cell \u001b[1;32mIn[17], line 2\u001b[0m\n\u001b[0;32m      1\u001b[0m \u001b[39m# This fails because of PV limits (no interlocks)\u001b[39;00m\n\u001b[1;32m----> 2\u001b[0m write_pv_1\u001b[39m.\u001b[39;49mwrite(\u001b[39m5.5\u001b[39;49m)\n\u001b[0;32m      3\u001b[0m \u001b[39mprint\u001b[39m()\n",
      "File \u001b[1;32mc:\\googledrive\\work\\acc_code\\pybeamtools\\pybeamtools\\controls\\network.py:131\u001b[0m, in \u001b[0;36mSimPV.write\u001b[1;34m(self, data, wait, callback, timeout, notify, data_type, data_count)\u001b[0m\n\u001b[0;32m    129\u001b[0m     \u001b[39mraise\u001b[39;00m SecurityError(\u001b[39mf\u001b[39m\u001b[39m'\u001b[39m\u001b[39mWrite on PV (\u001b[39m\u001b[39m{\u001b[39;00m\u001b[39mself\u001b[39m\u001b[39m.\u001b[39mname\u001b[39m}\u001b[39;00m\u001b[39m) forbidden by access mask\u001b[39m\u001b[39m'\u001b[39m)\n\u001b[0;32m    130\u001b[0m \u001b[39m# Propose a write - any issues will raise an Exception\u001b[39;00m\n\u001b[1;32m--> 131\u001b[0m \u001b[39mself\u001b[39;49m\u001b[39m.\u001b[39;49mcm\u001b[39m.\u001b[39;49macc\u001b[39m.\u001b[39;49mpropose_writes([\u001b[39mself\u001b[39;49m\u001b[39m.\u001b[39;49mname], [data])\n\u001b[0;32m    132\u001b[0m \u001b[39m# Perform write\u001b[39;00m\n\u001b[0;32m    133\u001b[0m \u001b[39mself\u001b[39m\u001b[39m.\u001b[39mcm\u001b[39m.\u001b[39msim\u001b[39m.\u001b[39mwrite_channel(\u001b[39mself\u001b[39m\u001b[39m.\u001b[39mname, data)\n",
      "File \u001b[1;32mc:\\googledrive\\work\\acc_code\\pybeamtools\\pybeamtools\\controls\\control_lib.py:178\u001b[0m, in \u001b[0;36mAccelerator.propose_writes\u001b[1;34m(self, pvs_name, pvs_data)\u001b[0m\n\u001b[0;32m    176\u001b[0m     \u001b[39massert\u001b[39;00m pv_name \u001b[39min\u001b[39;00m \u001b[39mself\u001b[39m\u001b[39m.\u001b[39mcm\u001b[39m.\u001b[39mpv_map\n\u001b[0;32m    177\u001b[0m     pv \u001b[39m=\u001b[39m \u001b[39mself\u001b[39m\u001b[39m.\u001b[39mcm\u001b[39m.\u001b[39mpv_map[pv_name]\n\u001b[1;32m--> 178\u001b[0m     pv\u001b[39m.\u001b[39;49m_check_proposed_write(data)\n\u001b[0;32m    179\u001b[0m \u001b[39mself\u001b[39m\u001b[39m.\u001b[39mlogger\u001b[39m.\u001b[39mdebug(\u001b[39mf\u001b[39m\u001b[39m'\u001b[39m\u001b[39mIndividual PV validation passed\u001b[39m\u001b[39m'\u001b[39m)\n\u001b[0;32m    180\u001b[0m triggered_interlocks \u001b[39m=\u001b[39m [i \u001b[39mfor\u001b[39;00m i \u001b[39min\u001b[39;00m \u001b[39mself\u001b[39m\u001b[39m.\u001b[39minterlocks \u001b[39mif\u001b[39;00m i\u001b[39m.\u001b[39mcheck_match_write(pvs_name, pvs_data)]\n",
      "File \u001b[1;32mc:\\googledrive\\work\\acc_code\\pybeamtools\\pybeamtools\\controls\\network.py:70\u001b[0m, in \u001b[0;36mPV._check_proposed_write\u001b[1;34m(self, data)\u001b[0m\n\u001b[0;32m     68\u001b[0m         \u001b[39m# return False\u001b[39;00m\n\u001b[0;32m     69\u001b[0m     \u001b[39mif\u001b[39;00m \u001b[39mself\u001b[39m\u001b[39m.\u001b[39moptions\u001b[39m.\u001b[39mhigh \u001b[39mand\u001b[39;00m data \u001b[39m>\u001b[39m \u001b[39mself\u001b[39m\u001b[39m.\u001b[39moptions\u001b[39m.\u001b[39mhigh:\n\u001b[1;32m---> 70\u001b[0m         \u001b[39mraise\u001b[39;00m InvalidWriteError(\u001b[39mf\u001b[39m\u001b[39m'\u001b[39m\u001b[39mValue \u001b[39m\u001b[39m{\u001b[39;00mdata\u001b[39m}\u001b[39;00m\u001b[39m above bounds (\u001b[39m\u001b[39m{\u001b[39;00m\u001b[39mself\u001b[39m\u001b[39m.\u001b[39moptions\u001b[39m.\u001b[39mlow\u001b[39m}\u001b[39;00m\u001b[39m|\u001b[39m\u001b[39m{\u001b[39;00m\u001b[39mself\u001b[39m\u001b[39m.\u001b[39moptions\u001b[39m.\u001b[39mhigh\u001b[39m}\u001b[39;00m\u001b[39m)\u001b[39m\u001b[39m'\u001b[39m)\n\u001b[0;32m     71\u001b[0m \u001b[39melif\u001b[39;00m \u001b[39misinstance\u001b[39m(data, \u001b[39mstr\u001b[39m):\n\u001b[0;32m     72\u001b[0m     \u001b[39mpass\u001b[39;00m\n",
      "\u001b[1;31mInvalidWriteError\u001b[0m: Value 5.5 above bounds (-5.0|5.0)"
     ]
    }
   ],
   "source": [
    "# This fails because of PV limits (no interlocks)\n",
    "write_pv_1.write(5.5)\n",
    "print()"
   ]
  },
  {
   "cell_type": "code",
   "execution_count": 18,
   "metadata": {},
   "outputs": [
    {
     "name": "stderr",
     "output_type": "stream",
     "text": [
      "[DEBUG] [     MainThread] [09:28:16  control_lib.py 179] [Accelerator] Individual PV validation passed\n",
      "[INFO ] [     MainThread] [09:28:16  control_lib.py 182] [Accelerator] Write on (['WRITE_PV_1']) triggered (0) of (0) interlocks\n",
      "[DEBUG] [     MainThread] [09:28:16  control_lib.py 185] [Accelerator] No interlocks triggered, skip polling stage\n",
      "[DEBUG] [     MainThread] [09:28:16         core.py 281] [SimulationEngine] Writing (4.5) to channel (WRITE_PV_1)\n"
     ]
    },
    {
     "name": "stdout",
     "output_type": "stream",
     "text": [
      "\n"
     ]
    }
   ],
   "source": [
    "# This is allowed\n",
    "write_pv_1.write(4.5)\n",
    "print()"
   ]
  },
  {
   "attachments": {},
   "cell_type": "markdown",
   "metadata": {},
   "source": [
    "### Interlocks"
   ]
  },
  {
   "cell_type": "code",
   "execution_count": 19,
   "metadata": {},
   "outputs": [
    {
     "name": "stderr",
     "output_type": "stream",
     "text": [
      "[DEBUG] [     MainThread] [09:29:40  distributed.py  99] [ProcessManager] Interlock worker started on PID 21864\n",
      "[INFO ] [     MainThread] [09:29:40  control_lib.py 247] [Accelerator] Interlock (4d6bb552-2a6e-4049-9140-5896d70c6980) with PV list (['OSCILLATING_PV_1', 'READ_PV_1', 'WRITE_PV_1']) added\n"
     ]
    },
    {
     "name": "stdout",
     "output_type": "stream",
     "text": [
      "\n"
     ]
    },
    {
     "name": "stderr",
     "output_type": "stream",
     "text": [
      "[INFO ] [     MainThread] [09:29:41      logging.py  56] [pybeamtools.utils.logging] Starting worker logging finished\n"
     ]
    }
   ],
   "source": [
    "# Add an interlock to further constraint PVs\n",
    "from pybeamtools.controls.interlocks import LimitInterlock, LimitInterlockOptions\n",
    "interlock_limits = {'WRITE_PV_1':(-1.0,1.0)}\n",
    "\n",
    "lopt = LimitInterlockOptions(pv_list=pv_list,\n",
    "                            read_events=[],\n",
    "                            write_events=pv_list,\n",
    "                            limits=interlock_limits)\n",
    "ilock = LimitInterlock(options=lopt)\n",
    "acc.add_interlock(ilock)\n",
    "print()"
   ]
  },
  {
   "cell_type": "code",
   "execution_count": 20,
   "metadata": {},
   "outputs": [
    {
     "name": "stderr",
     "output_type": "stream",
     "text": [
      "[DEBUG] [     MainThread] [09:29:57  control_lib.py 179] [Accelerator] Individual PV validation passed\n",
      "[INFO ] [     MainThread] [09:29:57  control_lib.py 182] [Accelerator] Write on (['WRITE_PV_1']) triggered (1) of (1) interlocks\n",
      "[DEBUG] [     MainThread] [09:29:57  control_lib.py 206] [Accelerator] Polling process manager with data packages of sizes ([3])\n",
      "[DEBUG] [     MainThread] [09:29:57  control_lib.py 207] [Accelerator] data_packages=[{'trigger_pvs': {'WRITE_PV_1': 4.5}, 'data': {'WRITE_PV_1': array([4.51104597]), 'READ_PV_1': array([0.00217953]), 'OSCILLATING_PV_1': array([-1.99210341])}, 'timestamps': None}]\n",
      "[DEBUG] [     MainThread] [09:29:57  distributed.py 127] [ProcessManager] Sent message {'trigger_pvs': {'WRITE_PV_1': 4.5}, 'data': {'WRITE_PV_1': array([4.51104597]), 'READ_PV_1': array([0.00217953]), 'OSCILLATING_PV_1': array([-1.99210341])}, 'timestamps': None} (id 698158) to interlock (4d6bb552-2a6e-4049-9140-5896d70c6980)\n",
      "[INFO ] [     MainThread] [09:29:57  distributed.py  29] [pybeamtools.controls.distributed] RPC message msg.mode='write' received on PID 21864\n",
      "[DEBUG] [     MainThread] [09:29:57  distributed.py 139] [ProcessManager] Received response (id 698158) from interlock (4d6bb552-2a6e-4049-9140-5896d70c6980)\n",
      "[DEBUG] [     MainThread] [09:29:57   interlocks.py 123] [LimitInterlock] Interlock (4d6bb552-2a6e-4049-9140-5896d70c6980) write callback\n",
      "[INFO ] [     MainThread] [09:29:57  control_lib.py 210] [Accelerator] Polling completed in 3.04ms\n",
      "[ERROR] [     MainThread] [09:29:57  control_lib.py 228] [Accelerator] Interlock (4d6bb552-2a6e-4049-9140-5896d70c6980) rejected proposed write - result was ({'result': False, 'ex': InterlockInternalError('PV (WRITE_PV_1) change to (4.5), outside (-1.0|1.0)'), 'reason': 'ex'})\n"
     ]
    },
    {
     "ename": "InterlockWriteError",
     "evalue": "Write on (['WRITE_PV_1']) of ([4.5]) failed due to interlock",
     "output_type": "error",
     "traceback": [
      "\u001b[1;31m---------------------------------------------------------------------------\u001b[0m",
      "\u001b[1;31mInterlockWriteError\u001b[0m                       Traceback (most recent call last)",
      "Cell \u001b[1;32mIn[20], line 2\u001b[0m\n\u001b[0;32m      1\u001b[0m \u001b[39m# Same write now fails due to interlocks\u001b[39;00m\n\u001b[1;32m----> 2\u001b[0m write_pv_1\u001b[39m.\u001b[39;49mwrite(\u001b[39m4.5\u001b[39;49m)\n\u001b[0;32m      3\u001b[0m \u001b[39mprint\u001b[39m()\n",
      "File \u001b[1;32mc:\\googledrive\\work\\acc_code\\pybeamtools\\pybeamtools\\controls\\network.py:131\u001b[0m, in \u001b[0;36mSimPV.write\u001b[1;34m(self, data, wait, callback, timeout, notify, data_type, data_count)\u001b[0m\n\u001b[0;32m    129\u001b[0m     \u001b[39mraise\u001b[39;00m SecurityError(\u001b[39mf\u001b[39m\u001b[39m'\u001b[39m\u001b[39mWrite on PV (\u001b[39m\u001b[39m{\u001b[39;00m\u001b[39mself\u001b[39m\u001b[39m.\u001b[39mname\u001b[39m}\u001b[39;00m\u001b[39m) forbidden by access mask\u001b[39m\u001b[39m'\u001b[39m)\n\u001b[0;32m    130\u001b[0m \u001b[39m# Propose a write - any issues will raise an Exception\u001b[39;00m\n\u001b[1;32m--> 131\u001b[0m \u001b[39mself\u001b[39;49m\u001b[39m.\u001b[39;49mcm\u001b[39m.\u001b[39;49macc\u001b[39m.\u001b[39;49mpropose_writes([\u001b[39mself\u001b[39;49m\u001b[39m.\u001b[39;49mname], [data])\n\u001b[0;32m    132\u001b[0m \u001b[39m# Perform write\u001b[39;00m\n\u001b[0;32m    133\u001b[0m \u001b[39mself\u001b[39m\u001b[39m.\u001b[39mcm\u001b[39m.\u001b[39msim\u001b[39m.\u001b[39mwrite_channel(\u001b[39mself\u001b[39m\u001b[39m.\u001b[39mname, data)\n",
      "File \u001b[1;32mc:\\googledrive\\work\\acc_code\\pybeamtools\\pybeamtools\\controls\\control_lib.py:235\u001b[0m, in \u001b[0;36mAccelerator.propose_writes\u001b[1;34m(self, pvs_name, pvs_data)\u001b[0m\n\u001b[0;32m    232\u001b[0m     \u001b[39mraise\u001b[39;00m InterlockWriteError(\n\u001b[0;32m    233\u001b[0m         \u001b[39mf\u001b[39m\u001b[39m'\u001b[39m\u001b[39mWrite on (\u001b[39m\u001b[39m{\u001b[39;00mpvs_name\u001b[39m}\u001b[39;00m\u001b[39m) of (\u001b[39m\u001b[39m{\u001b[39;00mpvs_data\u001b[39m}\u001b[39;00m\u001b[39m) failed due to exceptions raised by interlocks\u001b[39m\u001b[39m'\u001b[39m)\n\u001b[0;32m    234\u001b[0m \u001b[39mif\u001b[39;00m failed_result:\n\u001b[1;32m--> 235\u001b[0m     \u001b[39mraise\u001b[39;00m InterlockWriteError(\u001b[39mf\u001b[39m\u001b[39m'\u001b[39m\u001b[39mWrite on (\u001b[39m\u001b[39m{\u001b[39;00mpvs_name\u001b[39m}\u001b[39;00m\u001b[39m) of (\u001b[39m\u001b[39m{\u001b[39;00mpvs_data\u001b[39m}\u001b[39;00m\u001b[39m) failed due to interlock\u001b[39m\u001b[39m'\u001b[39m)\n",
      "\u001b[1;31mInterlockWriteError\u001b[0m: Write on (['WRITE_PV_1']) of ([4.5]) failed due to interlock"
     ]
    }
   ],
   "source": [
    "# Same write now fails due to interlocks\n",
    "write_pv_1.write(4.5)\n",
    "print()"
   ]
  },
  {
   "cell_type": "code",
   "execution_count": 21,
   "metadata": {},
   "outputs": [
    {
     "name": "stderr",
     "output_type": "stream",
     "text": [
      "[DEBUG] [     MainThread] [09:30:26  control_lib.py 179] [Accelerator] Individual PV validation passed\n",
      "[INFO ] [     MainThread] [09:30:26  control_lib.py 182] [Accelerator] Write on (['WRITE_PV_1']) triggered (1) of (1) interlocks\n",
      "[DEBUG] [     MainThread] [09:30:26  control_lib.py 206] [Accelerator] Polling process manager with data packages of sizes ([3])\n",
      "[DEBUG] [     MainThread] [09:30:26  control_lib.py 207] [Accelerator] data_packages=[{'trigger_pvs': {'WRITE_PV_1': 0.5}, 'data': {'WRITE_PV_1': array([4.5781034]), 'READ_PV_1': array([0.04285462]), 'OSCILLATING_PV_1': array([0.17829916])}, 'timestamps': None}]\n",
      "[DEBUG] [     MainThread] [09:30:26  distributed.py 127] [ProcessManager] Sent message {'trigger_pvs': {'WRITE_PV_1': 0.5}, 'data': {'WRITE_PV_1': array([4.5781034]), 'READ_PV_1': array([0.04285462]), 'OSCILLATING_PV_1': array([0.17829916])}, 'timestamps': None} (id 137549) to interlock (4d6bb552-2a6e-4049-9140-5896d70c6980)\n",
      "[INFO ] [     MainThread] [09:30:26  distributed.py  29] [pybeamtools.controls.distributed] RPC message msg.mode='write' received on PID 21864\n",
      "[DEBUG] [     MainThread] [09:30:26  distributed.py 139] [ProcessManager] Received response (id 137549) from interlock (4d6bb552-2a6e-4049-9140-5896d70c6980)\n",
      "[DEBUG] [     MainThread] [09:30:26   interlocks.py 123] [LimitInterlock] Interlock (4d6bb552-2a6e-4049-9140-5896d70c6980) write callback\n",
      "[INFO ] [     MainThread] [09:30:26  control_lib.py 210] [Accelerator] Polling completed in 2.36ms\n",
      "[DEBUG] [     MainThread] [09:30:26         core.py 281] [SimulationEngine] Writing (0.5) to channel (WRITE_PV_1)\n"
     ]
    },
    {
     "name": "stdout",
     "output_type": "stream",
     "text": [
      "\n"
     ]
    }
   ],
   "source": [
    "# Smaller write is allowed\n",
    "write_pv_1.write(0.5)\n",
    "print()"
   ]
  },
  {
   "cell_type": "code",
   "execution_count": 23,
   "metadata": {},
   "outputs": [
    {
     "name": "stderr",
     "output_type": "stream",
     "text": [
      "[DEBUG] [     MainThread] [09:31:15  distributed.py  99] [ProcessManager] Interlock worker started on PID 22552\n",
      "[INFO ] [     MainThread] [09:31:15  control_lib.py 247] [Accelerator] Interlock (9bfe7bac-37f2-426a-934f-4d0447be4d94) with PV list (['OSCILLATING_PV_1', 'READ_PV_1', 'WRITE_PV_1']) added\n"
     ]
    },
    {
     "name": "stderr",
     "output_type": "stream",
     "text": [
      "[INFO ] [     MainThread] [09:31:17      logging.py  56] [pybeamtools.utils.logging] Starting worker logging finished\n"
     ]
    }
   ],
   "source": [
    "# Another interlock to block all writes when oscillator PV < 0\n",
    "lopt2 = LimitInterlockOptions(pv_list=pv_list,\n",
    "                            read_events=[],\n",
    "                            write_events=write_triggers,\n",
    "                            limits={'OSCILLATING_PV_1':(-10.0,0.0)},\n",
    "                            block_all_writes=True)\n",
    "ilock2 = LimitInterlock(options=lopt2)\n",
    "acc.add_interlock(ilock2)"
   ]
  },
  {
   "cell_type": "code",
   "execution_count": 25,
   "metadata": {},
   "outputs": [
    {
     "name": "stderr",
     "output_type": "stream",
     "text": [
      "[DEBUG] [     MainThread] [09:31:58  control_lib.py 179] [Accelerator] Individual PV validation passed\n",
      "[INFO ] [     MainThread] [09:31:58  control_lib.py 182] [Accelerator] Write on (['WRITE_PV_1']) triggered (2) of (2) interlocks\n",
      "[DEBUG] [     MainThread] [09:31:58  control_lib.py 206] [Accelerator] Polling process manager with data packages of sizes ([3, 3])\n",
      "[DEBUG] [     MainThread] [09:31:58  control_lib.py 207] [Accelerator] data_packages=[{'trigger_pvs': {'WRITE_PV_1': 0.5}, 'data': {'WRITE_PV_1': array([0.39176043]), 'READ_PV_1': array([0.04424846]), 'OSCILLATING_PV_1': array([-1.99178463])}, 'timestamps': None}, {'trigger_pvs': {'WRITE_PV_1': 0.5}, 'data': {'WRITE_PV_1': array([0.39176043]), 'READ_PV_1': array([0.04424846]), 'OSCILLATING_PV_1': array([-1.99178463])}, 'timestamps': None}]\n",
      "[DEBUG] [     MainThread] [09:31:58  distributed.py 127] [ProcessManager] Sent message {'trigger_pvs': {'WRITE_PV_1': 0.5}, 'data': {'WRITE_PV_1': array([0.39176043]), 'READ_PV_1': array([0.04424846]), 'OSCILLATING_PV_1': array([-1.99178463])}, 'timestamps': None} (id 295045) to interlock (4d6bb552-2a6e-4049-9140-5896d70c6980)\n",
      "[DEBUG] [     MainThread] [09:31:58  distributed.py 127] [ProcessManager] Sent message {'trigger_pvs': {'WRITE_PV_1': 0.5}, 'data': {'WRITE_PV_1': array([0.39176043]), 'READ_PV_1': array([0.04424846]), 'OSCILLATING_PV_1': array([-1.99178463])}, 'timestamps': None} (id 508274) to interlock (9bfe7bac-37f2-426a-934f-4d0447be4d94)\n",
      "[INFO ] [     MainThread] [09:31:58  distributed.py  29] [pybeamtools.controls.distributed] RPC message msg.mode='write' received on PID 21864\n",
      "[DEBUG] [     MainThread] [09:31:58   interlocks.py 123] [LimitInterlock] Interlock (4d6bb552-2a6e-4049-9140-5896d70c6980) write callback\n",
      "[DEBUG] [     MainThread] [09:31:58  distributed.py 139] [ProcessManager] Received response (id 295045) from interlock (4d6bb552-2a6e-4049-9140-5896d70c6980)\n",
      "[INFO ] [     MainThread] [09:31:58  distributed.py  29] [pybeamtools.controls.distributed] RPC message msg.mode='write' received on PID 22552\n",
      "[DEBUG] [     MainThread] [09:31:58  distributed.py 139] [ProcessManager] Received response (id 508274) from interlock (9bfe7bac-37f2-426a-934f-4d0447be4d94)\n",
      "[DEBUG] [     MainThread] [09:31:58   interlocks.py 123] [LimitInterlock] Interlock (9bfe7bac-37f2-426a-934f-4d0447be4d94) write callback\n",
      "[INFO ] [     MainThread] [09:31:58  control_lib.py 210] [Accelerator] Polling completed in 5.39ms\n",
      "[DEBUG] [     MainThread] [09:31:58   interlocks.py 137] [LimitInterlock] Interlock (9bfe7bac-37f2-426a-934f-4d0447be4d94) low=-10.0 value=array([-1.99178463]) high=0.0\n",
      "[DEBUG] [     MainThread] [09:31:58         core.py 281] [SimulationEngine] Writing (0.5) to channel (WRITE_PV_1)\n"
     ]
    },
    {
     "name": "stdout",
     "output_type": "stream",
     "text": [
      "\n"
     ]
    },
    {
     "name": "stderr",
     "output_type": "stream",
     "text": [
      "[DEBUG] [     MainThread] [09:32:00  control_lib.py 179] [Accelerator] Individual PV validation passed\n",
      "[INFO ] [     MainThread] [09:32:00  control_lib.py 182] [Accelerator] Write on (['WRITE_PV_1']) triggered (2) of (2) interlocks\n",
      "[DEBUG] [     MainThread] [09:32:00  control_lib.py 206] [Accelerator] Polling process manager with data packages of sizes ([3, 3])\n",
      "[DEBUG] [     MainThread] [09:32:00  control_lib.py 207] [Accelerator] data_packages=[{'trigger_pvs': {'WRITE_PV_1': 0.5}, 'data': {'WRITE_PV_1': array([0.39176043]), 'READ_PV_1': array([0.04424846]), 'OSCILLATING_PV_1': array([-1.99178463])}, 'timestamps': None}, {'trigger_pvs': {'WRITE_PV_1': 0.5}, 'data': {'WRITE_PV_1': array([0.39176043]), 'READ_PV_1': array([0.04424846]), 'OSCILLATING_PV_1': array([-1.99178463])}, 'timestamps': None}]\n",
      "[DEBUG] [     MainThread] [09:32:00  distributed.py 127] [ProcessManager] Sent message {'trigger_pvs': {'WRITE_PV_1': 0.5}, 'data': {'WRITE_PV_1': array([0.39176043]), 'READ_PV_1': array([0.04424846]), 'OSCILLATING_PV_1': array([-1.99178463])}, 'timestamps': None} (id 66490) to interlock (4d6bb552-2a6e-4049-9140-5896d70c6980)\n",
      "[DEBUG] [     MainThread] [09:32:00  distributed.py 127] [ProcessManager] Sent message {'trigger_pvs': {'WRITE_PV_1': 0.5}, 'data': {'WRITE_PV_1': array([0.39176043]), 'READ_PV_1': array([0.04424846]), 'OSCILLATING_PV_1': array([-1.99178463])}, 'timestamps': None} (id 761389) to interlock (9bfe7bac-37f2-426a-934f-4d0447be4d94)\n",
      "[INFO ] [     MainThread] [09:32:00  distributed.py  29] [pybeamtools.controls.distributed] RPC message msg.mode='write' received on PID 21864\n",
      "[DEBUG] [     MainThread] [09:32:00  distributed.py 139] [ProcessManager] Received response (id 66490) from interlock (4d6bb552-2a6e-4049-9140-5896d70c6980)\n",
      "[DEBUG] [     MainThread] [09:32:00   interlocks.py 123] [LimitInterlock] Interlock (4d6bb552-2a6e-4049-9140-5896d70c6980) write callback\n",
      "[DEBUG] [     MainThread] [09:32:00  distributed.py 139] [ProcessManager] Received response (id 761389) from interlock (9bfe7bac-37f2-426a-934f-4d0447be4d94)\n",
      "[INFO ] [     MainThread] [09:32:00  distributed.py  29] [pybeamtools.controls.distributed] RPC message msg.mode='write' received on PID 22552\n",
      "[INFO ] [     MainThread] [09:32:00  control_lib.py 210] [Accelerator] Polling completed in 4.34ms\n",
      "[DEBUG] [     MainThread] [09:32:00   interlocks.py 123] [LimitInterlock] Interlock (9bfe7bac-37f2-426a-934f-4d0447be4d94) write callback\n",
      "[DEBUG] [     MainThread] [09:32:00         core.py 281] [SimulationEngine] Writing (0.5) to channel (WRITE_PV_1)\n",
      "[DEBUG] [     MainThread] [09:32:00   interlocks.py 137] [LimitInterlock] Interlock (9bfe7bac-37f2-426a-934f-4d0447be4d94) low=-10.0 value=array([-1.99178463]) high=0.0\n"
     ]
    },
    {
     "name": "stdout",
     "output_type": "stream",
     "text": [
      "\n"
     ]
    },
    {
     "name": "stderr",
     "output_type": "stream",
     "text": [
      "[DEBUG] [     MainThread] [09:32:02  control_lib.py 179] [Accelerator] Individual PV validation passed\n",
      "[INFO ] [     MainThread] [09:32:02  control_lib.py 182] [Accelerator] Write on (['WRITE_PV_1']) triggered (2) of (2) interlocks\n",
      "[DEBUG] [     MainThread] [09:32:02  control_lib.py 206] [Accelerator] Polling process manager with data packages of sizes ([3, 3])\n",
      "[DEBUG] [     MainThread] [09:32:02  control_lib.py 207] [Accelerator] data_packages=[{'trigger_pvs': {'WRITE_PV_1': 0.5}, 'data': {'WRITE_PV_1': array([0.39176043]), 'READ_PV_1': array([0.04424846]), 'OSCILLATING_PV_1': array([0.17733557])}, 'timestamps': None}, {'trigger_pvs': {'WRITE_PV_1': 0.5}, 'data': {'WRITE_PV_1': array([0.39176043]), 'READ_PV_1': array([0.04424846]), 'OSCILLATING_PV_1': array([0.17733557])}, 'timestamps': None}]\n",
      "[DEBUG] [     MainThread] [09:32:02  distributed.py 127] [ProcessManager] Sent message {'trigger_pvs': {'WRITE_PV_1': 0.5}, 'data': {'WRITE_PV_1': array([0.39176043]), 'READ_PV_1': array([0.04424846]), 'OSCILLATING_PV_1': array([0.17733557])}, 'timestamps': None} (id 40782) to interlock (4d6bb552-2a6e-4049-9140-5896d70c6980)\n",
      "[DEBUG] [     MainThread] [09:32:02  distributed.py 127] [ProcessManager] Sent message {'trigger_pvs': {'WRITE_PV_1': 0.5}, 'data': {'WRITE_PV_1': array([0.39176043]), 'READ_PV_1': array([0.04424846]), 'OSCILLATING_PV_1': array([0.17733557])}, 'timestamps': None} (id 105581) to interlock (9bfe7bac-37f2-426a-934f-4d0447be4d94)\n",
      "[INFO ] [     MainThread] [09:32:02  distributed.py  29] [pybeamtools.controls.distributed] RPC message msg.mode='write' received on PID 21864\n",
      "[DEBUG] [     MainThread] [09:32:02  distributed.py 139] [ProcessManager] Received response (id 40782) from interlock (4d6bb552-2a6e-4049-9140-5896d70c6980)\n",
      "[DEBUG] [     MainThread] [09:32:02   interlocks.py 123] [LimitInterlock] Interlock (4d6bb552-2a6e-4049-9140-5896d70c6980) write callback\n",
      "[DEBUG] [     MainThread] [09:32:02  distributed.py 139] [ProcessManager] Received response (id 105581) from interlock (9bfe7bac-37f2-426a-934f-4d0447be4d94)\n",
      "[INFO ] [     MainThread] [09:32:02  distributed.py  29] [pybeamtools.controls.distributed] RPC message msg.mode='write' received on PID 22552\n",
      "[INFO ] [     MainThread] [09:32:02  control_lib.py 210] [Accelerator] Polling completed in 3.75ms\n",
      "[DEBUG] [     MainThread] [09:32:02   interlocks.py 123] [LimitInterlock] Interlock (9bfe7bac-37f2-426a-934f-4d0447be4d94) write callback\n",
      "[ERROR] [     MainThread] [09:32:02  control_lib.py 228] [Accelerator] Interlock (9bfe7bac-37f2-426a-934f-4d0447be4d94) rejected proposed write - result was ({'result': False, 'ex': InterlockInternalError('PV (OSCILLATING_PV_1) at ([0.17733557]), outside (-10.0|0.0), blocking all'), 'reason': 'ex'})\n",
      "[DEBUG] [     MainThread] [09:32:02   interlocks.py 137] [LimitInterlock] Interlock (9bfe7bac-37f2-426a-934f-4d0447be4d94) low=-10.0 value=array([0.17733557]) high=0.0\n"
     ]
    },
    {
     "ename": "InterlockWriteError",
     "evalue": "Write on (['WRITE_PV_1']) of ([0.5]) failed due to interlock",
     "output_type": "error",
     "traceback": [
      "\u001b[1;31m---------------------------------------------------------------------------\u001b[0m",
      "\u001b[1;31mInterlockWriteError\u001b[0m                       Traceback (most recent call last)",
      "Cell \u001b[1;32mIn[25], line 3\u001b[0m\n\u001b[0;32m      1\u001b[0m \u001b[39mwhile\u001b[39;00m \u001b[39mTrue\u001b[39;00m:\n\u001b[0;32m      2\u001b[0m     \u001b[39mimport\u001b[39;00m \u001b[39mtime\u001b[39;00m\n\u001b[1;32m----> 3\u001b[0m     write_pv_1\u001b[39m.\u001b[39;49mwrite(\u001b[39m0.5\u001b[39;49m)\n\u001b[0;32m      4\u001b[0m     time\u001b[39m.\u001b[39msleep(\u001b[39m2\u001b[39m)\n\u001b[0;32m      5\u001b[0m     \u001b[39mprint\u001b[39m()\n",
      "File \u001b[1;32mc:\\googledrive\\work\\acc_code\\pybeamtools\\pybeamtools\\controls\\network.py:131\u001b[0m, in \u001b[0;36mSimPV.write\u001b[1;34m(self, data, wait, callback, timeout, notify, data_type, data_count)\u001b[0m\n\u001b[0;32m    129\u001b[0m     \u001b[39mraise\u001b[39;00m SecurityError(\u001b[39mf\u001b[39m\u001b[39m'\u001b[39m\u001b[39mWrite on PV (\u001b[39m\u001b[39m{\u001b[39;00m\u001b[39mself\u001b[39m\u001b[39m.\u001b[39mname\u001b[39m}\u001b[39;00m\u001b[39m) forbidden by access mask\u001b[39m\u001b[39m'\u001b[39m)\n\u001b[0;32m    130\u001b[0m \u001b[39m# Propose a write - any issues will raise an Exception\u001b[39;00m\n\u001b[1;32m--> 131\u001b[0m \u001b[39mself\u001b[39;49m\u001b[39m.\u001b[39;49mcm\u001b[39m.\u001b[39;49macc\u001b[39m.\u001b[39;49mpropose_writes([\u001b[39mself\u001b[39;49m\u001b[39m.\u001b[39;49mname], [data])\n\u001b[0;32m    132\u001b[0m \u001b[39m# Perform write\u001b[39;00m\n\u001b[0;32m    133\u001b[0m \u001b[39mself\u001b[39m\u001b[39m.\u001b[39mcm\u001b[39m.\u001b[39msim\u001b[39m.\u001b[39mwrite_channel(\u001b[39mself\u001b[39m\u001b[39m.\u001b[39mname, data)\n",
      "File \u001b[1;32mc:\\googledrive\\work\\acc_code\\pybeamtools\\pybeamtools\\controls\\control_lib.py:235\u001b[0m, in \u001b[0;36mAccelerator.propose_writes\u001b[1;34m(self, pvs_name, pvs_data)\u001b[0m\n\u001b[0;32m    232\u001b[0m     \u001b[39mraise\u001b[39;00m InterlockWriteError(\n\u001b[0;32m    233\u001b[0m         \u001b[39mf\u001b[39m\u001b[39m'\u001b[39m\u001b[39mWrite on (\u001b[39m\u001b[39m{\u001b[39;00mpvs_name\u001b[39m}\u001b[39;00m\u001b[39m) of (\u001b[39m\u001b[39m{\u001b[39;00mpvs_data\u001b[39m}\u001b[39;00m\u001b[39m) failed due to exceptions raised by interlocks\u001b[39m\u001b[39m'\u001b[39m)\n\u001b[0;32m    234\u001b[0m \u001b[39mif\u001b[39;00m failed_result:\n\u001b[1;32m--> 235\u001b[0m     \u001b[39mraise\u001b[39;00m InterlockWriteError(\u001b[39mf\u001b[39m\u001b[39m'\u001b[39m\u001b[39mWrite on (\u001b[39m\u001b[39m{\u001b[39;00mpvs_name\u001b[39m}\u001b[39;00m\u001b[39m) of (\u001b[39m\u001b[39m{\u001b[39;00mpvs_data\u001b[39m}\u001b[39;00m\u001b[39m) failed due to interlock\u001b[39m\u001b[39m'\u001b[39m)\n",
      "\u001b[1;31mInterlockWriteError\u001b[0m: Write on (['WRITE_PV_1']) of ([0.5]) failed due to interlock"
     ]
    }
   ],
   "source": [
    "while True:\n",
    "    import time\n",
    "    write_pv_1.write(0.5)\n",
    "    time.sleep(2)\n",
    "    print()"
   ]
  },
  {
   "cell_type": "code",
   "execution_count": 26,
   "metadata": {},
   "outputs": [
    {
     "name": "stderr",
     "output_type": "stream",
     "text": [
      "[DEBUG] [     MainThread] [09:33:01  distributed.py  90] [ProcessManager] Terminating worker process_read 22552\n",
      "[INFO ] [     MainThread] [09:33:01  control_lib.py 253] [Accelerator] Interlock (9bfe7bac-37f2-426a-934f-4d0447be4d94) with PV list (['OSCILLATING_PV_1', 'READ_PV_1', 'WRITE_PV_1']) removed\n",
      "[DEBUG] [     MainThread] [09:33:01  distributed.py  99] [ProcessManager] Interlock worker started on PID 8620\n",
      "[INFO ] [     MainThread] [09:33:01  control_lib.py 247] [Accelerator] Interlock (2670c2d8-21e2-41c9-9996-03c5fe78bc2b) with PV list (['OSCILLATING_PV_1', 'READ_PV_1', 'WRITE_PV_1']) added\n"
     ]
    },
    {
     "name": "stderr",
     "output_type": "stream",
     "text": [
      "[INFO ] [     MainThread] [09:33:02      logging.py  56] [pybeamtools.utils.logging] Starting worker logging finished\n"
     ]
    }
   ],
   "source": [
    "# Finally, let's limit maximum setting rate to 2Hz\n",
    "acc.remove_interlock(ilock2)\n",
    "\n",
    "from pybeamtools.controls.interlocks import RatelimitInterlock,RatelimitInterlockOptions\n",
    "lopt3 = RatelimitInterlockOptions(pv_list=pv_list,\n",
    "                            read_events=[],\n",
    "                            write_events=write_triggers,\n",
    "                            min_delay=0.5)\n",
    "ilock3 = RatelimitInterlock(options=lopt3)\n",
    "acc.add_interlock(ilock3)"
   ]
  },
  {
   "cell_type": "code",
   "execution_count": 28,
   "metadata": {},
   "outputs": [
    {
     "name": "stderr",
     "output_type": "stream",
     "text": [
      "[DEBUG] [     MainThread] [09:33:20  control_lib.py 179] [Accelerator] Individual PV validation passed\n",
      "[INFO ] [     MainThread] [09:33:20  control_lib.py 182] [Accelerator] Write on (['WRITE_PV_1']) triggered (2) of (2) interlocks\n",
      "[DEBUG] [     MainThread] [09:33:20  control_lib.py 206] [Accelerator] Polling process manager with data packages of sizes ([3, 3])\n",
      "[DEBUG] [     MainThread] [09:33:20  control_lib.py 207] [Accelerator] data_packages=[{'trigger_pvs': {'WRITE_PV_1': 0.5}, 'data': {'WRITE_PV_1': array([0.29100247]), 'READ_PV_1': array([-0.31402651]), 'OSCILLATING_PV_1': array([-1.99169308])}, 'timestamps': None}, {'trigger_pvs': {'WRITE_PV_1': 0.5}, 'data': {'WRITE_PV_1': array([0.29100247]), 'READ_PV_1': array([-0.31402651]), 'OSCILLATING_PV_1': array([-1.99169308])}, 'timestamps': None}]\n",
      "[DEBUG] [     MainThread] [09:33:20  distributed.py 127] [ProcessManager] Sent message {'trigger_pvs': {'WRITE_PV_1': 0.5}, 'data': {'WRITE_PV_1': array([0.29100247]), 'READ_PV_1': array([-0.31402651]), 'OSCILLATING_PV_1': array([-1.99169308])}, 'timestamps': None} (id 611958) to interlock (4d6bb552-2a6e-4049-9140-5896d70c6980)\n",
      "[DEBUG] [     MainThread] [09:33:20  distributed.py 127] [ProcessManager] Sent message {'trigger_pvs': {'WRITE_PV_1': 0.5}, 'data': {'WRITE_PV_1': array([0.29100247]), 'READ_PV_1': array([-0.31402651]), 'OSCILLATING_PV_1': array([-1.99169308])}, 'timestamps': None} (id 989006) to interlock (2670c2d8-21e2-41c9-9996-03c5fe78bc2b)\n",
      "[INFO ] [     MainThread] [09:33:20  distributed.py  29] [pybeamtools.controls.distributed] RPC message msg.mode='write' received on PID 21864\n",
      "[DEBUG] [     MainThread] [09:33:20  distributed.py 139] [ProcessManager] Received response (id 611958) from interlock (4d6bb552-2a6e-4049-9140-5896d70c6980)\n",
      "[DEBUG] [     MainThread] [09:33:20   interlocks.py 123] [LimitInterlock] Interlock (4d6bb552-2a6e-4049-9140-5896d70c6980) write callback\n",
      "[DEBUG] [     MainThread] [09:33:20  distributed.py 139] [ProcessManager] Received response (id 989006) from interlock (2670c2d8-21e2-41c9-9996-03c5fe78bc2b)\n",
      "[INFO ] [     MainThread] [09:33:20  distributed.py  29] [pybeamtools.controls.distributed] RPC message msg.mode='write' received on PID 8620\n",
      "[INFO ] [     MainThread] [09:33:20  control_lib.py 210] [Accelerator] Polling completed in 4.29ms\n",
      "[DEBUG] [     MainThread] [09:33:20   interlocks.py 210] [RatelimitInterlock] Interlock (2670c2d8-21e2-41c9-9996-03c5fe78bc2b) write callback evaluation with pv_list=['OSCILLATING_PV_1', 'READ_PV_1', 'WRITE_PV_1'] read_events=[] write_events=['WRITE_PV_1'] priority=0 ilock_type='ratelimit' min_delay=0.5 {'WRITE_PV_1': array([0.29100247]), 'READ_PV_1': array([-0.31402651]), 'OSCILLATING_PV_1': array([-1.99169308])}\n",
      "[DEBUG] [     MainThread] [09:33:20         core.py 281] [SimulationEngine] Writing (0.5) to channel (WRITE_PV_1)\n",
      "[DEBUG] [     MainThread] [09:33:21  control_lib.py 179] [Accelerator] Individual PV validation passed\n",
      "[INFO ] [     MainThread] [09:33:21  control_lib.py 182] [Accelerator] Write on (['WRITE_PV_1']) triggered (2) of (2) interlocks\n",
      "[DEBUG] [     MainThread] [09:33:21  control_lib.py 206] [Accelerator] Polling process manager with data packages of sizes ([3, 3])\n",
      "[DEBUG] [     MainThread] [09:33:21  control_lib.py 207] [Accelerator] data_packages=[{'trigger_pvs': {'WRITE_PV_1': 0.5}, 'data': {'WRITE_PV_1': array([0.29100247]), 'READ_PV_1': array([-0.31402651]), 'OSCILLATING_PV_1': array([-1.99169308])}, 'timestamps': None}, {'trigger_pvs': {'WRITE_PV_1': 0.5}, 'data': {'WRITE_PV_1': array([0.29100247]), 'READ_PV_1': array([-0.31402651]), 'OSCILLATING_PV_1': array([-1.99169308])}, 'timestamps': None}]\n",
      "[DEBUG] [     MainThread] [09:33:21  distributed.py 127] [ProcessManager] Sent message {'trigger_pvs': {'WRITE_PV_1': 0.5}, 'data': {'WRITE_PV_1': array([0.29100247]), 'READ_PV_1': array([-0.31402651]), 'OSCILLATING_PV_1': array([-1.99169308])}, 'timestamps': None} (id 206402) to interlock (4d6bb552-2a6e-4049-9140-5896d70c6980)\n",
      "[DEBUG] [     MainThread] [09:33:21  distributed.py 127] [ProcessManager] Sent message {'trigger_pvs': {'WRITE_PV_1': 0.5}, 'data': {'WRITE_PV_1': array([0.29100247]), 'READ_PV_1': array([-0.31402651]), 'OSCILLATING_PV_1': array([-1.99169308])}, 'timestamps': None} (id 705128) to interlock (2670c2d8-21e2-41c9-9996-03c5fe78bc2b)\n",
      "[INFO ] [     MainThread] [09:33:21  distributed.py  29] [pybeamtools.controls.distributed] RPC message msg.mode='write' received on PID 21864\n",
      "[DEBUG] [     MainThread] [09:33:21  distributed.py 139] [ProcessManager] Received response (id 206402) from interlock (4d6bb552-2a6e-4049-9140-5896d70c6980)\n",
      "[DEBUG] [     MainThread] [09:33:21   interlocks.py 123] [LimitInterlock] Interlock (4d6bb552-2a6e-4049-9140-5896d70c6980) write callback\n",
      "[DEBUG] [     MainThread] [09:33:21  distributed.py 139] [ProcessManager] Received response (id 705128) from interlock (2670c2d8-21e2-41c9-9996-03c5fe78bc2b)\n",
      "[INFO ] [     MainThread] [09:33:21  distributed.py  29] [pybeamtools.controls.distributed] RPC message msg.mode='write' received on PID 8620\n",
      "[INFO ] [     MainThread] [09:33:21  control_lib.py 210] [Accelerator] Polling completed in 3.86ms\n",
      "[DEBUG] [     MainThread] [09:33:21   interlocks.py 210] [RatelimitInterlock] Interlock (2670c2d8-21e2-41c9-9996-03c5fe78bc2b) write callback evaluation with pv_list=['OSCILLATING_PV_1', 'READ_PV_1', 'WRITE_PV_1'] read_events=[] write_events=['WRITE_PV_1'] priority=0 ilock_type='ratelimit' min_delay=0.5 {'WRITE_PV_1': array([0.29100247]), 'READ_PV_1': array([-0.31402651]), 'OSCILLATING_PV_1': array([-1.99169308])}\n",
      "[DEBUG] [     MainThread] [09:33:21         core.py 281] [SimulationEngine] Writing (0.5) to channel (WRITE_PV_1)\n",
      "[DEBUG] [     MainThread] [09:33:22  control_lib.py 179] [Accelerator] Individual PV validation passed\n",
      "[INFO ] [     MainThread] [09:33:22  control_lib.py 182] [Accelerator] Write on (['WRITE_PV_1']) triggered (2) of (2) interlocks\n",
      "[DEBUG] [     MainThread] [09:33:22  control_lib.py 206] [Accelerator] Polling process manager with data packages of sizes ([3, 3])\n",
      "[DEBUG] [     MainThread] [09:33:22  control_lib.py 207] [Accelerator] data_packages=[{'trigger_pvs': {'WRITE_PV_1': 0.5}, 'data': {'WRITE_PV_1': array([0.29100247]), 'READ_PV_1': array([-0.31402651]), 'OSCILLATING_PV_1': array([0.17844479])}, 'timestamps': None}, {'trigger_pvs': {'WRITE_PV_1': 0.5}, 'data': {'WRITE_PV_1': array([0.29100247]), 'READ_PV_1': array([-0.31402651]), 'OSCILLATING_PV_1': array([0.17844479])}, 'timestamps': None}]\n",
      "[DEBUG] [     MainThread] [09:33:22  distributed.py 127] [ProcessManager] Sent message {'trigger_pvs': {'WRITE_PV_1': 0.5}, 'data': {'WRITE_PV_1': array([0.29100247]), 'READ_PV_1': array([-0.31402651]), 'OSCILLATING_PV_1': array([0.17844479])}, 'timestamps': None} (id 936789) to interlock (4d6bb552-2a6e-4049-9140-5896d70c6980)\n",
      "[DEBUG] [     MainThread] [09:33:22  distributed.py 127] [ProcessManager] Sent message {'trigger_pvs': {'WRITE_PV_1': 0.5}, 'data': {'WRITE_PV_1': array([0.29100247]), 'READ_PV_1': array([-0.31402651]), 'OSCILLATING_PV_1': array([0.17844479])}, 'timestamps': None} (id 856915) to interlock (2670c2d8-21e2-41c9-9996-03c5fe78bc2b)\n",
      "[INFO ] [     MainThread] [09:33:22  distributed.py  29] [pybeamtools.controls.distributed] RPC message msg.mode='write' received on PID 21864\n",
      "[DEBUG] [     MainThread] [09:33:22  distributed.py 139] [ProcessManager] Received response (id 936789) from interlock (4d6bb552-2a6e-4049-9140-5896d70c6980)\n",
      "[DEBUG] [     MainThread] [09:33:22   interlocks.py 123] [LimitInterlock] Interlock (4d6bb552-2a6e-4049-9140-5896d70c6980) write callback\n",
      "[DEBUG] [     MainThread] [09:33:22  distributed.py 139] [ProcessManager] Received response (id 856915) from interlock (2670c2d8-21e2-41c9-9996-03c5fe78bc2b)\n",
      "[INFO ] [     MainThread] [09:33:22  distributed.py  29] [pybeamtools.controls.distributed] RPC message msg.mode='write' received on PID 8620\n",
      "[INFO ] [     MainThread] [09:33:22  control_lib.py 210] [Accelerator] Polling completed in 4.93ms\n",
      "[DEBUG] [     MainThread] [09:33:22   interlocks.py 210] [RatelimitInterlock] Interlock (2670c2d8-21e2-41c9-9996-03c5fe78bc2b) write callback evaluation with pv_list=['OSCILLATING_PV_1', 'READ_PV_1', 'WRITE_PV_1'] read_events=[] write_events=['WRITE_PV_1'] priority=0 ilock_type='ratelimit' min_delay=0.5 {'WRITE_PV_1': array([0.29100247]), 'READ_PV_1': array([-0.31402651]), 'OSCILLATING_PV_1': array([0.17844479])}\n",
      "[DEBUG] [     MainThread] [09:33:22         core.py 281] [SimulationEngine] Writing (0.5) to channel (WRITE_PV_1)\n",
      "[DEBUG] [     MainThread] [09:33:23  control_lib.py 179] [Accelerator] Individual PV validation passed\n",
      "[INFO ] [     MainThread] [09:33:23  control_lib.py 182] [Accelerator] Write on (['WRITE_PV_1']) triggered (2) of (2) interlocks\n",
      "[DEBUG] [     MainThread] [09:33:23  control_lib.py 206] [Accelerator] Polling process manager with data packages of sizes ([3, 3])\n",
      "[DEBUG] [     MainThread] [09:33:23  control_lib.py 207] [Accelerator] data_packages=[{'trigger_pvs': {'WRITE_PV_1': 0.5}, 'data': {'WRITE_PV_1': array([0.29100247]), 'READ_PV_1': array([-0.31402651]), 'OSCILLATING_PV_1': array([0.17844479])}, 'timestamps': None}, {'trigger_pvs': {'WRITE_PV_1': 0.5}, 'data': {'WRITE_PV_1': array([0.29100247]), 'READ_PV_1': array([-0.31402651]), 'OSCILLATING_PV_1': array([0.17844479])}, 'timestamps': None}]\n",
      "[DEBUG] [     MainThread] [09:33:23  distributed.py 127] [ProcessManager] Sent message {'trigger_pvs': {'WRITE_PV_1': 0.5}, 'data': {'WRITE_PV_1': array([0.29100247]), 'READ_PV_1': array([-0.31402651]), 'OSCILLATING_PV_1': array([0.17844479])}, 'timestamps': None} (id 464912) to interlock (4d6bb552-2a6e-4049-9140-5896d70c6980)\n",
      "[DEBUG] [     MainThread] [09:33:23  distributed.py 127] [ProcessManager] Sent message {'trigger_pvs': {'WRITE_PV_1': 0.5}, 'data': {'WRITE_PV_1': array([0.29100247]), 'READ_PV_1': array([-0.31402651]), 'OSCILLATING_PV_1': array([0.17844479])}, 'timestamps': None} (id 593212) to interlock (2670c2d8-21e2-41c9-9996-03c5fe78bc2b)\n",
      "[INFO ] [     MainThread] [09:33:23  distributed.py  29] [pybeamtools.controls.distributed] RPC message msg.mode='write' received on PID 21864\n",
      "[DEBUG] [     MainThread] [09:33:23  distributed.py 139] [ProcessManager] Received response (id 464912) from interlock (4d6bb552-2a6e-4049-9140-5896d70c6980)\n",
      "[DEBUG] [     MainThread] [09:33:23   interlocks.py 123] [LimitInterlock] Interlock (4d6bb552-2a6e-4049-9140-5896d70c6980) write callback\n",
      "[DEBUG] [     MainThread] [09:33:23  distributed.py 139] [ProcessManager] Received response (id 593212) from interlock (2670c2d8-21e2-41c9-9996-03c5fe78bc2b)\n",
      "[INFO ] [     MainThread] [09:33:23  distributed.py  29] [pybeamtools.controls.distributed] RPC message msg.mode='write' received on PID 8620\n",
      "[INFO ] [     MainThread] [09:33:23  control_lib.py 210] [Accelerator] Polling completed in 3.85ms\n",
      "[DEBUG] [     MainThread] [09:33:23   interlocks.py 210] [RatelimitInterlock] Interlock (2670c2d8-21e2-41c9-9996-03c5fe78bc2b) write callback evaluation with pv_list=['OSCILLATING_PV_1', 'READ_PV_1', 'WRITE_PV_1'] read_events=[] write_events=['WRITE_PV_1'] priority=0 ilock_type='ratelimit' min_delay=0.5 {'WRITE_PV_1': array([0.29100247]), 'READ_PV_1': array([-0.31402651]), 'OSCILLATING_PV_1': array([0.17844479])}\n",
      "[DEBUG] [     MainThread] [09:33:23         core.py 281] [SimulationEngine] Writing (0.5) to channel (WRITE_PV_1)\n",
      "[DEBUG] [     MainThread] [09:33:24  control_lib.py 179] [Accelerator] Individual PV validation passed\n",
      "[INFO ] [     MainThread] [09:33:24  control_lib.py 182] [Accelerator] Write on (['WRITE_PV_1']) triggered (2) of (2) interlocks\n",
      "[DEBUG] [     MainThread] [09:33:24  control_lib.py 206] [Accelerator] Polling process manager with data packages of sizes ([3, 3])\n",
      "[DEBUG] [     MainThread] [09:33:24  control_lib.py 207] [Accelerator] data_packages=[{'trigger_pvs': {'WRITE_PV_1': 0.5}, 'data': {'WRITE_PV_1': array([0.29100247]), 'READ_PV_1': array([-0.31402651]), 'OSCILLATING_PV_1': array([0.17844479])}, 'timestamps': None}, {'trigger_pvs': {'WRITE_PV_1': 0.5}, 'data': {'WRITE_PV_1': array([0.29100247]), 'READ_PV_1': array([-0.31402651]), 'OSCILLATING_PV_1': array([0.17844479])}, 'timestamps': None}]\n",
      "[DEBUG] [     MainThread] [09:33:24  distributed.py 127] [ProcessManager] Sent message {'trigger_pvs': {'WRITE_PV_1': 0.5}, 'data': {'WRITE_PV_1': array([0.29100247]), 'READ_PV_1': array([-0.31402651]), 'OSCILLATING_PV_1': array([0.17844479])}, 'timestamps': None} (id 729705) to interlock (4d6bb552-2a6e-4049-9140-5896d70c6980)\n",
      "[DEBUG] [     MainThread] [09:33:24  distributed.py 127] [ProcessManager] Sent message {'trigger_pvs': {'WRITE_PV_1': 0.5}, 'data': {'WRITE_PV_1': array([0.29100247]), 'READ_PV_1': array([-0.31402651]), 'OSCILLATING_PV_1': array([0.17844479])}, 'timestamps': None} (id 210896) to interlock (2670c2d8-21e2-41c9-9996-03c5fe78bc2b)\n",
      "[INFO ] [     MainThread] [09:33:24  distributed.py  29] [pybeamtools.controls.distributed] RPC message msg.mode='write' received on PID 21864\n",
      "[DEBUG] [     MainThread] [09:33:24  distributed.py 139] [ProcessManager] Received response (id 729705) from interlock (4d6bb552-2a6e-4049-9140-5896d70c6980)\n",
      "[DEBUG] [     MainThread] [09:33:24   interlocks.py 123] [LimitInterlock] Interlock (4d6bb552-2a6e-4049-9140-5896d70c6980) write callback\n",
      "[DEBUG] [     MainThread] [09:33:24  distributed.py 139] [ProcessManager] Received response (id 210896) from interlock (2670c2d8-21e2-41c9-9996-03c5fe78bc2b)\n",
      "[INFO ] [     MainThread] [09:33:24  distributed.py  29] [pybeamtools.controls.distributed] RPC message msg.mode='write' received on PID 8620\n",
      "[INFO ] [     MainThread] [09:33:24  control_lib.py 210] [Accelerator] Polling completed in 3.80ms\n",
      "[DEBUG] [     MainThread] [09:33:24   interlocks.py 210] [RatelimitInterlock] Interlock (2670c2d8-21e2-41c9-9996-03c5fe78bc2b) write callback evaluation with pv_list=['OSCILLATING_PV_1', 'READ_PV_1', 'WRITE_PV_1'] read_events=[] write_events=['WRITE_PV_1'] priority=0 ilock_type='ratelimit' min_delay=0.5 {'WRITE_PV_1': array([0.29100247]), 'READ_PV_1': array([-0.31402651]), 'OSCILLATING_PV_1': array([0.17844479])}\n",
      "[DEBUG] [     MainThread] [09:33:24         core.py 281] [SimulationEngine] Writing (0.5) to channel (WRITE_PV_1)\n"
     ]
    }
   ],
   "source": [
    "# This is below rate limit and works\n",
    "for i in range(5):\n",
    "    time.sleep(1)\n",
    "    write_pv_1.write(0.5)"
   ]
  },
  {
   "cell_type": "code",
   "execution_count": 29,
   "metadata": {},
   "outputs": [
    {
     "name": "stderr",
     "output_type": "stream",
     "text": [
      "[DEBUG] [     MainThread] [09:33:30  control_lib.py 179] [Accelerator] Individual PV validation passed\n",
      "[INFO ] [     MainThread] [09:33:30  control_lib.py 182] [Accelerator] Write on (['WRITE_PV_1']) triggered (2) of (2) interlocks\n",
      "[DEBUG] [     MainThread] [09:33:30  control_lib.py 206] [Accelerator] Polling process manager with data packages of sizes ([3, 3])\n",
      "[DEBUG] [     MainThread] [09:33:30  control_lib.py 207] [Accelerator] data_packages=[{'trigger_pvs': {'WRITE_PV_1': 0.5}, 'data': {'WRITE_PV_1': array([0.33816369]), 'READ_PV_1': array([0.02712348]), 'OSCILLATING_PV_1': array([1.99200668])}, 'timestamps': None}, {'trigger_pvs': {'WRITE_PV_1': 0.5}, 'data': {'WRITE_PV_1': array([0.33816369]), 'READ_PV_1': array([0.02712348]), 'OSCILLATING_PV_1': array([1.99200668])}, 'timestamps': None}]\n",
      "[DEBUG] [     MainThread] [09:33:30  distributed.py 127] [ProcessManager] Sent message {'trigger_pvs': {'WRITE_PV_1': 0.5}, 'data': {'WRITE_PV_1': array([0.33816369]), 'READ_PV_1': array([0.02712348]), 'OSCILLATING_PV_1': array([1.99200668])}, 'timestamps': None} (id 114785) to interlock (4d6bb552-2a6e-4049-9140-5896d70c6980)\n",
      "[DEBUG] [     MainThread] [09:33:30  distributed.py 127] [ProcessManager] Sent message {'trigger_pvs': {'WRITE_PV_1': 0.5}, 'data': {'WRITE_PV_1': array([0.33816369]), 'READ_PV_1': array([0.02712348]), 'OSCILLATING_PV_1': array([1.99200668])}, 'timestamps': None} (id 346046) to interlock (2670c2d8-21e2-41c9-9996-03c5fe78bc2b)\n",
      "[INFO ] [     MainThread] [09:33:30  distributed.py  29] [pybeamtools.controls.distributed] RPC message msg.mode='write' received on PID 21864\n",
      "[DEBUG] [     MainThread] [09:33:30  distributed.py 139] [ProcessManager] Received response (id 114785) from interlock (4d6bb552-2a6e-4049-9140-5896d70c6980)\n",
      "[DEBUG] [     MainThread] [09:33:30   interlocks.py 123] [LimitInterlock] Interlock (4d6bb552-2a6e-4049-9140-5896d70c6980) write callback\n",
      "[DEBUG] [     MainThread] [09:33:30  distributed.py 139] [ProcessManager] Received response (id 346046) from interlock (2670c2d8-21e2-41c9-9996-03c5fe78bc2b)\n",
      "[INFO ] [     MainThread] [09:33:30  distributed.py  29] [pybeamtools.controls.distributed] RPC message msg.mode='write' received on PID 8620\n",
      "[INFO ] [     MainThread] [09:33:30  control_lib.py 210] [Accelerator] Polling completed in 4.13ms\n",
      "[DEBUG] [     MainThread] [09:33:30   interlocks.py 210] [RatelimitInterlock] Interlock (2670c2d8-21e2-41c9-9996-03c5fe78bc2b) write callback evaluation with pv_list=['OSCILLATING_PV_1', 'READ_PV_1', 'WRITE_PV_1'] read_events=[] write_events=['WRITE_PV_1'] priority=0 ilock_type='ratelimit' min_delay=0.5 {'WRITE_PV_1': array([0.33816369]), 'READ_PV_1': array([0.02712348]), 'OSCILLATING_PV_1': array([1.99200668])}\n",
      "[DEBUG] [     MainThread] [09:33:30         core.py 281] [SimulationEngine] Writing (0.5) to channel (WRITE_PV_1)\n",
      "[DEBUG] [     MainThread] [09:33:31  control_lib.py 179] [Accelerator] Individual PV validation passed\n",
      "[INFO ] [     MainThread] [09:33:31  control_lib.py 182] [Accelerator] Write on (['WRITE_PV_1']) triggered (2) of (2) interlocks\n",
      "[DEBUG] [     MainThread] [09:33:31  control_lib.py 206] [Accelerator] Polling process manager with data packages of sizes ([3, 3])\n",
      "[DEBUG] [     MainThread] [09:33:31  control_lib.py 207] [Accelerator] data_packages=[{'trigger_pvs': {'WRITE_PV_1': 0.5}, 'data': {'WRITE_PV_1': array([0.33816369]), 'READ_PV_1': array([0.02712348]), 'OSCILLATING_PV_1': array([1.99200668])}, 'timestamps': None}, {'trigger_pvs': {'WRITE_PV_1': 0.5}, 'data': {'WRITE_PV_1': array([0.33816369]), 'READ_PV_1': array([0.02712348]), 'OSCILLATING_PV_1': array([1.99200668])}, 'timestamps': None}]\n",
      "[DEBUG] [     MainThread] [09:33:31  distributed.py 127] [ProcessManager] Sent message {'trigger_pvs': {'WRITE_PV_1': 0.5}, 'data': {'WRITE_PV_1': array([0.33816369]), 'READ_PV_1': array([0.02712348]), 'OSCILLATING_PV_1': array([1.99200668])}, 'timestamps': None} (id 777672) to interlock (4d6bb552-2a6e-4049-9140-5896d70c6980)\n",
      "[DEBUG] [     MainThread] [09:33:31  distributed.py 127] [ProcessManager] Sent message {'trigger_pvs': {'WRITE_PV_1': 0.5}, 'data': {'WRITE_PV_1': array([0.33816369]), 'READ_PV_1': array([0.02712348]), 'OSCILLATING_PV_1': array([1.99200668])}, 'timestamps': None} (id 25204) to interlock (2670c2d8-21e2-41c9-9996-03c5fe78bc2b)\n",
      "[INFO ] [     MainThread] [09:33:31  distributed.py  29] [pybeamtools.controls.distributed] RPC message msg.mode='write' received on PID 21864\n",
      "[DEBUG] [     MainThread] [09:33:31  distributed.py 139] [ProcessManager] Received response (id 777672) from interlock (4d6bb552-2a6e-4049-9140-5896d70c6980)\n",
      "[DEBUG] [     MainThread] [09:33:31   interlocks.py 123] [LimitInterlock] Interlock (4d6bb552-2a6e-4049-9140-5896d70c6980) write callback\n",
      "[DEBUG] [     MainThread] [09:33:31  distributed.py 139] [ProcessManager] Received response (id 25204) from interlock (2670c2d8-21e2-41c9-9996-03c5fe78bc2b)\n",
      "[INFO ] [     MainThread] [09:33:31  distributed.py  29] [pybeamtools.controls.distributed] RPC message msg.mode='write' received on PID 8620\n",
      "[INFO ] [     MainThread] [09:33:31  control_lib.py 210] [Accelerator] Polling completed in 5.44ms\n",
      "[DEBUG] [     MainThread] [09:33:31   interlocks.py 210] [RatelimitInterlock] Interlock (2670c2d8-21e2-41c9-9996-03c5fe78bc2b) write callback evaluation with pv_list=['OSCILLATING_PV_1', 'READ_PV_1', 'WRITE_PV_1'] read_events=[] write_events=['WRITE_PV_1'] priority=0 ilock_type='ratelimit' min_delay=0.5 {'WRITE_PV_1': array([0.33816369]), 'READ_PV_1': array([0.02712348]), 'OSCILLATING_PV_1': array([1.99200668])}\n",
      "[ERROR] [     MainThread] [09:33:31  control_lib.py 228] [Accelerator] Interlock (2670c2d8-21e2-41c9-9996-03c5fe78bc2b) rejected proposed write - result was ({'result': False, 'ex': None, 'reason': 'Rate throttled (delay 0.4229164123535156, require 0.5)'})\n"
     ]
    },
    {
     "ename": "InterlockWriteError",
     "evalue": "Write on (['WRITE_PV_1']) of ([0.5]) failed due to interlock",
     "output_type": "error",
     "traceback": [
      "\u001b[1;31m---------------------------------------------------------------------------\u001b[0m",
      "\u001b[1;31mInterlockWriteError\u001b[0m                       Traceback (most recent call last)",
      "Cell \u001b[1;32mIn[29], line 4\u001b[0m\n\u001b[0;32m      2\u001b[0m \u001b[39mfor\u001b[39;00m i \u001b[39min\u001b[39;00m \u001b[39mrange\u001b[39m(\u001b[39m5\u001b[39m):\n\u001b[0;32m      3\u001b[0m     time\u001b[39m.\u001b[39msleep(\u001b[39m0.4\u001b[39m)\n\u001b[1;32m----> 4\u001b[0m     write_pv_1\u001b[39m.\u001b[39;49mwrite(\u001b[39m0.5\u001b[39;49m)\n",
      "File \u001b[1;32mc:\\googledrive\\work\\acc_code\\pybeamtools\\pybeamtools\\controls\\network.py:131\u001b[0m, in \u001b[0;36mSimPV.write\u001b[1;34m(self, data, wait, callback, timeout, notify, data_type, data_count)\u001b[0m\n\u001b[0;32m    129\u001b[0m     \u001b[39mraise\u001b[39;00m SecurityError(\u001b[39mf\u001b[39m\u001b[39m'\u001b[39m\u001b[39mWrite on PV (\u001b[39m\u001b[39m{\u001b[39;00m\u001b[39mself\u001b[39m\u001b[39m.\u001b[39mname\u001b[39m}\u001b[39;00m\u001b[39m) forbidden by access mask\u001b[39m\u001b[39m'\u001b[39m)\n\u001b[0;32m    130\u001b[0m \u001b[39m# Propose a write - any issues will raise an Exception\u001b[39;00m\n\u001b[1;32m--> 131\u001b[0m \u001b[39mself\u001b[39;49m\u001b[39m.\u001b[39;49mcm\u001b[39m.\u001b[39;49macc\u001b[39m.\u001b[39;49mpropose_writes([\u001b[39mself\u001b[39;49m\u001b[39m.\u001b[39;49mname], [data])\n\u001b[0;32m    132\u001b[0m \u001b[39m# Perform write\u001b[39;00m\n\u001b[0;32m    133\u001b[0m \u001b[39mself\u001b[39m\u001b[39m.\u001b[39mcm\u001b[39m.\u001b[39msim\u001b[39m.\u001b[39mwrite_channel(\u001b[39mself\u001b[39m\u001b[39m.\u001b[39mname, data)\n",
      "File \u001b[1;32mc:\\googledrive\\work\\acc_code\\pybeamtools\\pybeamtools\\controls\\control_lib.py:235\u001b[0m, in \u001b[0;36mAccelerator.propose_writes\u001b[1;34m(self, pvs_name, pvs_data)\u001b[0m\n\u001b[0;32m    232\u001b[0m     \u001b[39mraise\u001b[39;00m InterlockWriteError(\n\u001b[0;32m    233\u001b[0m         \u001b[39mf\u001b[39m\u001b[39m'\u001b[39m\u001b[39mWrite on (\u001b[39m\u001b[39m{\u001b[39;00mpvs_name\u001b[39m}\u001b[39;00m\u001b[39m) of (\u001b[39m\u001b[39m{\u001b[39;00mpvs_data\u001b[39m}\u001b[39;00m\u001b[39m) failed due to exceptions raised by interlocks\u001b[39m\u001b[39m'\u001b[39m)\n\u001b[0;32m    234\u001b[0m \u001b[39mif\u001b[39;00m failed_result:\n\u001b[1;32m--> 235\u001b[0m     \u001b[39mraise\u001b[39;00m InterlockWriteError(\u001b[39mf\u001b[39m\u001b[39m'\u001b[39m\u001b[39mWrite on (\u001b[39m\u001b[39m{\u001b[39;00mpvs_name\u001b[39m}\u001b[39;00m\u001b[39m) of (\u001b[39m\u001b[39m{\u001b[39;00mpvs_data\u001b[39m}\u001b[39;00m\u001b[39m) failed due to interlock\u001b[39m\u001b[39m'\u001b[39m)\n",
      "\u001b[1;31mInterlockWriteError\u001b[0m: Write on (['WRITE_PV_1']) of ([0.5]) failed due to interlock"
     ]
    }
   ],
   "source": [
    "# This is too fast\n",
    "for i in range(5):\n",
    "    time.sleep(0.4)\n",
    "    write_pv_1.write(0.5)"
   ]
  },
  {
   "attachments": {},
   "cell_type": "markdown",
   "metadata": {},
   "source": [
    "### Fail-safe handling of code crashes"
   ]
  },
  {
   "cell_type": "code",
   "execution_count": 30,
   "metadata": {},
   "outputs": [
    {
     "data": {
      "text/plain": [
       "[<pybeamtools.controls.interlocks.LimitInterlock at 0x25761ae8850>,\n",
       " <pybeamtools.controls.interlocks.RatelimitInterlock at 0x25761db59a0>]"
      ]
     },
     "execution_count": 30,
     "metadata": {},
     "output_type": "execute_result"
    }
   ],
   "source": [
    "acc.interlocks"
   ]
  },
  {
   "cell_type": "code",
   "execution_count": 31,
   "metadata": {},
   "outputs": [
    {
     "data": {
      "text/plain": [
       "(<SpawnProcess name='SpawnProcess-3' pid=8620 parent=25324 started>, 8620)"
      ]
     },
     "execution_count": 31,
     "metadata": {},
     "output_type": "execute_result"
    }
   ],
   "source": [
    "# Each interlock runs in its own process (in future, can be on another node)\n",
    "process = acc.pm.process_map[ilock3.uuid]\n",
    "process, process.pid"
   ]
  },
  {
   "cell_type": "code",
   "execution_count": 32,
   "metadata": {},
   "outputs": [
    {
     "name": "stdout",
     "output_type": "stream",
     "text": [
      "psutil.Process(pid=8620, name='python.exe', status='running', started='09:33:01')\n",
      "psutil.Process(pid=8620, name='python.exe', status='terminated', started='09:33:01')\n"
     ]
    }
   ],
   "source": [
    "# We fake a crash by killing process with a syscall\n",
    "import psutil\n",
    "p = psutil.Process(process.pid)\n",
    "print(p)\n",
    "p.terminate()\n",
    "time.sleep(1.0)\n",
    "print(p)"
   ]
  },
  {
   "cell_type": "code",
   "execution_count": 33,
   "metadata": {},
   "outputs": [
    {
     "name": "stderr",
     "output_type": "stream",
     "text": [
      "[DEBUG] [     MainThread] [09:34:46  control_lib.py 179] [Accelerator] Individual PV validation passed\n",
      "[INFO ] [     MainThread] [09:34:46  control_lib.py 182] [Accelerator] Write on (['WRITE_PV_1']) triggered (2) of (2) interlocks\n",
      "[DEBUG] [     MainThread] [09:34:46  control_lib.py 206] [Accelerator] Polling process manager with data packages of sizes ([3, 3])\n",
      "[DEBUG] [     MainThread] [09:34:46  control_lib.py 207] [Accelerator] data_packages=[{'trigger_pvs': {'WRITE_PV_1': 0.5}, 'data': {'WRITE_PV_1': array([0.48822604]), 'READ_PV_1': array([-0.03868458]), 'OSCILLATING_PV_1': array([0.17467465])}, 'timestamps': None}, {'trigger_pvs': {'WRITE_PV_1': 0.5}, 'data': {'WRITE_PV_1': array([0.48822604]), 'READ_PV_1': array([-0.03868458]), 'OSCILLATING_PV_1': array([0.17467465])}, 'timestamps': None}]\n"
     ]
    },
    {
     "ename": "ControlLibException",
     "evalue": "Interlock process_read terminated unexpectedly with code (15)",
     "output_type": "error",
     "traceback": [
      "\u001b[1;31m---------------------------------------------------------------------------\u001b[0m",
      "\u001b[1;31mControlLibException\u001b[0m                       Traceback (most recent call last)",
      "Cell \u001b[1;32mIn[33], line 1\u001b[0m\n\u001b[1;32m----> 1\u001b[0m write_pv_1\u001b[39m.\u001b[39;49mwrite(\u001b[39m0.5\u001b[39;49m)\n",
      "File \u001b[1;32mc:\\googledrive\\work\\acc_code\\pybeamtools\\pybeamtools\\controls\\network.py:131\u001b[0m, in \u001b[0;36mSimPV.write\u001b[1;34m(self, data, wait, callback, timeout, notify, data_type, data_count)\u001b[0m\n\u001b[0;32m    129\u001b[0m     \u001b[39mraise\u001b[39;00m SecurityError(\u001b[39mf\u001b[39m\u001b[39m'\u001b[39m\u001b[39mWrite on PV (\u001b[39m\u001b[39m{\u001b[39;00m\u001b[39mself\u001b[39m\u001b[39m.\u001b[39mname\u001b[39m}\u001b[39;00m\u001b[39m) forbidden by access mask\u001b[39m\u001b[39m'\u001b[39m)\n\u001b[0;32m    130\u001b[0m \u001b[39m# Propose a write - any issues will raise an Exception\u001b[39;00m\n\u001b[1;32m--> 131\u001b[0m \u001b[39mself\u001b[39;49m\u001b[39m.\u001b[39;49mcm\u001b[39m.\u001b[39;49macc\u001b[39m.\u001b[39;49mpropose_writes([\u001b[39mself\u001b[39;49m\u001b[39m.\u001b[39;49mname], [data])\n\u001b[0;32m    132\u001b[0m \u001b[39m# Perform write\u001b[39;00m\n\u001b[0;32m    133\u001b[0m \u001b[39mself\u001b[39m\u001b[39m.\u001b[39mcm\u001b[39m.\u001b[39msim\u001b[39m.\u001b[39mwrite_channel(\u001b[39mself\u001b[39m\u001b[39m.\u001b[39mname, data)\n",
      "File \u001b[1;32mc:\\googledrive\\work\\acc_code\\pybeamtools\\pybeamtools\\controls\\control_lib.py:209\u001b[0m, in \u001b[0;36mAccelerator.propose_writes\u001b[1;34m(self, pvs_name, pvs_data)\u001b[0m\n\u001b[0;32m    207\u001b[0m \u001b[39mself\u001b[39m\u001b[39m.\u001b[39mlogger\u001b[39m.\u001b[39mdebug(\u001b[39mf\u001b[39m\u001b[39m'\u001b[39m\u001b[39m{\u001b[39;00mdata_packages\u001b[39m=}\u001b[39;00m\u001b[39m'\u001b[39m)\n\u001b[0;32m    208\u001b[0m t1 \u001b[39m=\u001b[39m time\u001b[39m.\u001b[39mperf_counter()\n\u001b[1;32m--> 209\u001b[0m responses \u001b[39m=\u001b[39m \u001b[39mself\u001b[39;49m\u001b[39m.\u001b[39;49mpm\u001b[39m.\u001b[39;49mpoll(interlocks_list\u001b[39m=\u001b[39;49mtriggered_interlocks, data_list\u001b[39m=\u001b[39;49mdata_packages)\n\u001b[0;32m    210\u001b[0m \u001b[39mself\u001b[39m\u001b[39m.\u001b[39mlogger\u001b[39m.\u001b[39minfo(\u001b[39mf\u001b[39m\u001b[39m'\u001b[39m\u001b[39mPolling completed in \u001b[39m\u001b[39m{\u001b[39;00m(time\u001b[39m.\u001b[39mperf_counter() \u001b[39m-\u001b[39m t1) \u001b[39m*\u001b[39m \u001b[39m1000\u001b[39m\u001b[39m:\u001b[39;00m\u001b[39m.2f\u001b[39m\u001b[39m}\u001b[39;00m\u001b[39mms\u001b[39m\u001b[39m'\u001b[39m)\n\u001b[0;32m    211\u001b[0m failed_ex \u001b[39m=\u001b[39m \u001b[39mFalse\u001b[39;00m\n",
      "File \u001b[1;32mc:\\googledrive\\work\\acc_code\\pybeamtools\\pybeamtools\\controls\\distributed.py:119\u001b[0m, in \u001b[0;36mProcessManager.poll\u001b[1;34m(self, interlocks_list, data_list, timeout)\u001b[0m\n\u001b[0;32m    117\u001b[0m         \u001b[39mraise\u001b[39;00m \u001b[39mKeyError\u001b[39;00m(\u001b[39mf\u001b[39m\u001b[39m'\u001b[39m\u001b[39mInterlock internal failure\u001b[39m\u001b[39m'\u001b[39m)\n\u001b[0;32m    118\u001b[0m     \u001b[39mif\u001b[39;00m \u001b[39mself\u001b[39m\u001b[39m.\u001b[39mqueue_map[\u001b[39mself\u001b[39m\u001b[39m.\u001b[39mid_map[i\u001b[39m.\u001b[39muuid]][\u001b[39m0\u001b[39m]\u001b[39m.\u001b[39mexitcode \u001b[39mis\u001b[39;00m \u001b[39mnot\u001b[39;00m \u001b[39mNone\u001b[39;00m:\n\u001b[1;32m--> 119\u001b[0m         \u001b[39mraise\u001b[39;00m ControlLibException(\u001b[39mf\u001b[39m\u001b[39m'\u001b[39m\u001b[39mInterlock process_read terminated unexpectedly with code (\u001b[39m\u001b[39m{\u001b[39;00m\u001b[39mself\u001b[39m\u001b[39m.\u001b[39mqueue_map[\u001b[39mself\u001b[39m\u001b[39m.\u001b[39mid_map[i\u001b[39m.\u001b[39muuid]][\u001b[39m0\u001b[39m]\u001b[39m.\u001b[39mexitcode\u001b[39m}\u001b[39;00m\u001b[39m)\u001b[39m\u001b[39m'\u001b[39m)\n\u001b[0;32m    121\u001b[0m \u001b[39mfor\u001b[39;00m i, v \u001b[39min\u001b[39;00m \u001b[39mzip\u001b[39m(interlocks_list, data_list):\n\u001b[0;32m    122\u001b[0m     pid \u001b[39m=\u001b[39m \u001b[39mself\u001b[39m\u001b[39m.\u001b[39mid_map[i\u001b[39m.\u001b[39muuid]\n",
      "\u001b[1;31mControlLibException\u001b[0m: Interlock process_read terminated unexpectedly with code (15)"
     ]
    }
   ],
   "source": [
    "write_pv_1.write(0.5)"
   ]
  },
  {
   "cell_type": "code",
   "execution_count": null,
   "metadata": {},
   "outputs": [],
   "source": []
  },
  {
   "cell_type": "code",
   "execution_count": null,
   "metadata": {},
   "outputs": [],
   "source": []
  },
  {
   "cell_type": "code",
   "execution_count": null,
   "metadata": {},
   "outputs": [],
   "source": []
  },
  {
   "cell_type": "code",
   "execution_count": null,
   "metadata": {},
   "outputs": [],
   "source": []
  },
  {
   "cell_type": "code",
   "execution_count": null,
   "metadata": {},
   "outputs": [],
   "source": []
  },
  {
   "cell_type": "code",
   "execution_count": null,
   "metadata": {},
   "outputs": [],
   "source": []
  },
  {
   "cell_type": "code",
   "execution_count": null,
   "metadata": {},
   "outputs": [],
   "source": []
  },
  {
   "cell_type": "code",
   "execution_count": null,
   "metadata": {},
   "outputs": [],
   "source": []
  },
  {
   "cell_type": "markdown",
   "metadata": {},
   "source": [
    "### Settings save/restore"
   ]
  },
  {
   "cell_type": "code",
   "execution_count": null,
   "metadata": {},
   "outputs": [],
   "source": [
    "options_dump = acc.options.dict()\n",
    "options_dump"
   ]
  },
  {
   "cell_type": "code",
   "execution_count": null,
   "metadata": {},
   "outputs": [],
   "source": [
    "acc.options.json()"
   ]
  },
  {
   "cell_type": "code",
   "execution_count": null,
   "metadata": {},
   "outputs": [],
   "source": [
    "import json\n",
    "pc.AcceleratorOptions.parse_obj(json.loads(acc.options.json()))"
   ]
  },
  {
   "cell_type": "code",
   "execution_count": null,
   "metadata": {},
   "outputs": [],
   "source": [
    "acc_restored_options = pc.AcceleratorOptions.parse_obj(options_dump)\n",
    "acc_restored_options"
   ]
  },
  {
   "cell_type": "code",
   "execution_count": null,
   "metadata": {},
   "outputs": [],
   "source": [
    "acc_new = pc.Accelerator(acc_restored_options, ctx=sim)"
   ]
  },
  {
   "cell_type": "code",
   "execution_count": null,
   "metadata": {},
   "outputs": [],
   "source": []
  }
 ],
 "metadata": {
  "kernelspec": {
   "display_name": "Python 3.9.15 ('py39ml')",
   "language": "python",
   "name": "python3"
  },
  "language_info": {
   "codemirror_mode": {
    "name": "ipython",
    "version": 3
   },
   "file_extension": ".py",
   "mimetype": "text/x-python",
   "name": "python",
   "nbconvert_exporter": "python",
   "pygments_lexer": "ipython3",
   "version": "3.9.15 | packaged by conda-forge | (main, Nov 22 2022, 08:41:22) [MSC v.1929 64 bit (AMD64)]"
  },
  "vscode": {
   "interpreter": {
    "hash": "13374264484fde26a6608662cb4d9f2b357aebc4acc640560464425c35bd54c0"
   }
  }
 },
 "nbformat": 4,
 "nbformat_minor": 0
}
