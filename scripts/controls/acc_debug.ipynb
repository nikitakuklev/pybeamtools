{
 "cells": [
  {
   "cell_type": "code",
   "execution_count": null,
   "metadata": {
    "collapsed": true
   },
   "outputs": [],
   "source": [
    "import sys\n",
    "sys.path.append('../..')\n",
    "import pybeamtools.controls as pc"
   ]
  },
  {
   "cell_type": "code",
   "execution_count": null,
   "metadata": {},
   "outputs": [],
   "source": [
    "from pybeamtools.sim.core import SimulationEngine, ChannelMap, ChannelMapper\n",
    "from pybeamtools.sim.devices import RealisticMagnet\n",
    "mag = RealisticMagnet(name='magneto', value=0, low=-2, high=2, noise=0.1, resolution=None, model='instant')\n",
    "sim = SimulationEngine()\n",
    "sim.add_device(mag, period=5.0)\n",
    "#sub = sim.subscribe(mag.name)\n",
    "# def f(sub, v):\n",
    "#     pass\n",
    "# sub.add_callback(f)\n",
    "\n",
    "def get_mag(device, output):\n",
    "    return device.read()\n",
    "def get_mag_exact(device, output):\n",
    "    return device.read_exact()\n",
    "def set_mag(device, output, value):\n",
    "    return device.write(value)\n",
    "m = ChannelMap(device=mag, output='TEST:CHANNEL', read_fun=get_mag, write_fun=set_mag)\n",
    "m2 = ChannelMap(device=mag, output='TEST:CHANNEL:EXACT', read_fun=get_mag_exact, write_fun=set_mag)\n",
    "chm = ChannelMapper(maps=[m, m2])\n",
    "sim.add_mapper(chm)\n",
    "\n",
    "sim.start_update_thread()"
   ]
  },
  {
   "cell_type": "code",
   "execution_count": null,
   "metadata": {},
   "outputs": [],
   "source": [
    "from pybeamtools.controls.control_lib import ConnectionOptions\n",
    "ao = pc.AcceleratorOptions(connection_settings=ConnectionOptions(network='dummy'))"
   ]
  },
  {
   "cell_type": "code",
   "execution_count": null,
   "metadata": {},
   "outputs": [],
   "source": [
    "acc = pc.Accelerator(options=ao,ctx=sim)"
   ]
  },
  {
   "cell_type": "code",
   "execution_count": null,
   "metadata": {},
   "outputs": [],
   "source": [
    "# Add PVs\n",
    "from pybeamtools.controls.network import SimPV, PVOptions, PVAccess\n",
    "pv_settings = PVOptions(name='TEST:CHANNEL', low=0.0, high=5.0, security=PVAccess.READWRITE)\n",
    "pv = SimPV(pv_settings)\n",
    "pv_exact = SimPV(options=PVOptions(name='TEST:CHANNEL:EXACT', low=0.0, high=5.0, security=PVAccess.READWRITE))\n",
    "pv, pv_exact"
   ]
  },
  {
   "cell_type": "code",
   "execution_count": null,
   "metadata": {},
   "outputs": [],
   "source": [
    "sim.channels"
   ]
  },
  {
   "cell_type": "code",
   "execution_count": null,
   "metadata": {},
   "outputs": [],
   "source": [
    "acc.add_pv_object([pv, pv_exact])\n",
    "print"
   ]
  },
  {
   "cell_type": "code",
   "execution_count": null,
   "metadata": {},
   "outputs": [],
   "source": [
    "acc.cm.sim.subscriptions, acc.cm.sim.device_channels"
   ]
  },
  {
   "cell_type": "code",
   "execution_count": null,
   "metadata": {},
   "outputs": [],
   "source": [
    "acc.cm.sim.channel_subs"
   ]
  },
  {
   "cell_type": "code",
   "execution_count": null,
   "metadata": {},
   "outputs": [],
   "source": [
    "pv"
   ]
  },
  {
   "cell_type": "code",
   "execution_count": null,
   "metadata": {},
   "outputs": [],
   "source": [
    "pv.read()"
   ]
  },
  {
   "cell_type": "code",
   "execution_count": null,
   "metadata": {},
   "outputs": [],
   "source": [
    "pv_exact.read()"
   ]
  },
  {
   "cell_type": "code",
   "execution_count": null,
   "metadata": {},
   "outputs": [],
   "source": [
    "pv.write(2.0)\n",
    "print()"
   ]
  },
  {
   "cell_type": "code",
   "execution_count": null,
   "metadata": {},
   "outputs": [],
   "source": [
    "mag.read(), mag.read_exact()"
   ]
  },
  {
   "cell_type": "code",
   "execution_count": null,
   "metadata": {},
   "outputs": [],
   "source": []
  }
 ],
 "metadata": {
  "kernelspec": {
   "display_name": "Python 3.9.15 ('py39ml')",
   "language": "python",
   "name": "python3"
  },
  "language_info": {
   "codemirror_mode": {
    "name": "ipython",
    "version": 3
   },
   "file_extension": ".py",
   "mimetype": "text/x-python",
   "name": "python",
   "nbconvert_exporter": "python",
   "pygments_lexer": "ipython3",
   "version": "3.9.15"
  },
  "vscode": {
   "interpreter": {
    "hash": "13374264484fde26a6608662cb4d9f2b357aebc4acc640560464425c35bd54c0"
   }
  }
 },
 "nbformat": 4,
 "nbformat_minor": 0
}
