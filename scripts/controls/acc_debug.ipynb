{
 "cells": [
  {
   "cell_type": "code",
   "execution_count": 1,
   "metadata": {
    "collapsed": true
   },
   "outputs": [
    {
     "name": "stderr",
     "output_type": "stream",
     "text": [
      "[INFO ] [     MainThread] [15:14:21      logging.py  23] [pybeamtools.utils.logging] Starting shared logging thread on PID 16664\n",
      "[INFO ] [   log_listener] [15:14:21      logging.py  32] [pybeamtools.utils.logging] Logging listener started on PID 16664\n",
      "[INFO ] [     MainThread] [15:14:21      logging.py  27] [pybeamtools.utils.logging] Logging setup finished\n",
      "[INFO ] [     MainThread] [15:14:22        utils.py 148] [numexpr.utils] Note: NumExpr detected 12 cores but \"NUMEXPR_MAX_THREADS\" not set, so enforcing safe limit of 8.\n",
      "[INFO ] [     MainThread] [15:14:22        utils.py 160] [numexpr.utils] NumExpr defaulting to 8 threads.\n",
      "[DEBUG] [     MainThread] [15:14:23     _backend.py  35] [caproto] Backend 'array' registered\n",
      "[DEBUG] [     MainThread] [15:14:23     _backend.py  35] [caproto] Backend 'numpy' registered\n",
      "[DEBUG] [     MainThread] [15:14:23     _backend.py  47] [caproto] Selecting backend: 'numpy'\n"
     ]
    }
   ],
   "source": [
    "import sys\n",
    "sys.path.append('../..')\n",
    "import pybeamtools.controls as pc"
   ]
  },
  {
   "cell_type": "code",
   "execution_count": 2,
   "metadata": {},
   "outputs": [
    {
     "name": "stderr",
     "output_type": "stream",
     "text": [
      "[DEBUG] [     MainThread] [15:14:23         core.py 135] [SimulationEngine] Added device (magneto) with update period of (5.0)\n",
      "[DEBUG] [     MainThread] [15:14:23         core.py 151] [SimulationEngine] Added mapper for outputs (['TEST:CHANNEL:EXACT', 'TEST:CHANNEL']) from devices (['magneto'])\n",
      "[DEBUG] [     MainThread] [15:14:23         core.py 207] [SimulationEngine] Starting poll thread\n",
      "[DEBUG] [sim_engine_poll] [15:14:23         core.py 175] [SimulationEngine] Hello from simulation poll thread (id 2748)\n"
     ]
    }
   ],
   "source": [
    "from pybeamtools.sim.core import SimulationEngine, ChannelMap, ChannelMapper\n",
    "from pybeamtools.sim.devices import RealisticMagnet\n",
    "mag = RealisticMagnet(name='magneto', value=0, low=-2, high=2, noise=0.1, resolution=None, model='instant')\n",
    "sim = SimulationEngine()\n",
    "sim.add_device(mag, period=5.0)\n",
    "#sub = sim.subscribe_device(mag.name)\n",
    "# def f(sub, v):\n",
    "#     pass\n",
    "# sub.add_callback(f)\n",
    "\n",
    "def get_mag(device, output):\n",
    "    return device.read()\n",
    "def get_mag_exact(device, output):\n",
    "    return device.read_exact()\n",
    "def set_mag(device, output, value):\n",
    "    return device.write(value)\n",
    "m = ChannelMap(device=mag, output='TEST:CHANNEL', read_fun=get_mag, write_fun=set_mag)\n",
    "m2 = ChannelMap(device=mag, output='TEST:CHANNEL:EXACT', read_fun=get_mag_exact, write_fun=set_mag)\n",
    "chm = ChannelMapper(maps=[m, m2])\n",
    "sim.add_mapper(chm)\n",
    "\n",
    "sim.start_update_thread()"
   ]
  },
  {
   "cell_type": "code",
   "execution_count": 3,
   "metadata": {},
   "outputs": [],
   "source": [
    "from pybeamtools.controls.control_lib import ConnectionOptions\n",
    "ao = pc.AcceleratorOptions(connection_settings=ConnectionOptions(network='dummy'))"
   ]
  },
  {
   "cell_type": "code",
   "execution_count": 4,
   "metadata": {},
   "outputs": [
    {
     "name": "stderr",
     "output_type": "stream",
     "text": [
      "[INFO ] [     MainThread] [15:14:23  control_lib.py  49] [Accelerator] Control lib init\n",
      "[INFO ] [     MainThread] [15:14:23      network.py 157] [SimConnectionManager] Creating dummy connection manager\n",
      "[INFO ] [     MainThread] [15:14:23  control_lib.py  71] [Accelerator] Startup finished\n"
     ]
    }
   ],
   "source": [
    "acc = pc.Accelerator(options=ao,ctx=sim)"
   ]
  },
  {
   "cell_type": "code",
   "execution_count": 5,
   "metadata": {},
   "outputs": [
    {
     "data": {
      "text/plain": [
       "(SimPV name='TEST:CHANNEL' low=0.0 high=5.0 monitor=True security=<PVAccess.READWRITE: 3> read_timeout=2.0 write_timeout=5.0,\n",
       " SimPV name='TEST:CHANNEL:EXACT' low=0.0 high=5.0 monitor=True security=<PVAccess.READWRITE: 3> read_timeout=2.0 write_timeout=5.0)"
      ]
     },
     "execution_count": 5,
     "metadata": {},
     "output_type": "execute_result"
    }
   ],
   "source": [
    "# Add PVs\n",
    "from pybeamtools.controls.network import SimPV, PVOptions, PVAccess\n",
    "pv_settings = PVOptions(name='TEST:CHANNEL', low=0.0, high=5.0, security=PVAccess.READWRITE)\n",
    "pv = SimPV(pv_settings)\n",
    "pv_exact = SimPV(options=PVOptions(name='TEST:CHANNEL:EXACT', low=0.0, high=5.0, security=PVAccess.READWRITE))\n",
    "pv, pv_exact"
   ]
  },
  {
   "cell_type": "code",
   "execution_count": 6,
   "metadata": {},
   "outputs": [
    {
     "data": {
      "text/plain": [
       "['TEST:CHANNEL:EXACT', 'TEST:CHANNEL']"
      ]
     },
     "execution_count": 6,
     "metadata": {},
     "output_type": "execute_result"
    }
   ],
   "source": [
    "sim.channels"
   ]
  },
  {
   "cell_type": "code",
   "execution_count": 7,
   "metadata": {},
   "outputs": [
    {
     "name": "stderr",
     "output_type": "stream",
     "text": [
      "[DEBUG] [     MainThread] [15:14:23      network.py 184] [SimConnectionManager] Adding 2 PV objects\n",
      "[DEBUG] [     MainThread] [15:14:23         core.py 164] [SimulationEngine] Created subscription for channel TEST:CHANNEL\n",
      "[DEBUG] [     MainThread] [15:14:23         core.py 164] [SimulationEngine] Created subscription for channel TEST:CHANNEL:EXACT\n"
     ]
    },
    {
     "data": {
      "text/plain": [
       "<function print>"
      ]
     },
     "execution_count": 7,
     "metadata": {},
     "output_type": "execute_result"
    }
   ],
   "source": [
    "acc.add_pv_object([pv, pv_exact])\n",
    "print"
   ]
  },
  {
   "cell_type": "code",
   "execution_count": 8,
   "metadata": {},
   "outputs": [
    {
     "data": {
      "text/plain": [
       "({}, {'magneto': ['TEST:CHANNEL:EXACT', 'TEST:CHANNEL']})"
      ]
     },
     "execution_count": 8,
     "metadata": {},
     "output_type": "execute_result"
    }
   ],
   "source": [
    "acc.cm.sim.subscriptions, acc.cm.sim.device_channels"
   ]
  },
  {
   "cell_type": "code",
   "execution_count": 9,
   "metadata": {},
   "outputs": [
    {
     "data": {
      "text/plain": [
       "{'TEST:CHANNEL': <pybeamtools.sim.core.ChannelSubscription at 0x200df2d50a0>,\n",
       " 'TEST:CHANNEL:EXACT': <pybeamtools.sim.core.ChannelSubscription at 0x200f876aa60>}"
      ]
     },
     "execution_count": 9,
     "metadata": {},
     "output_type": "execute_result"
    }
   ],
   "source": [
    "acc.cm.sim.channel_subs"
   ]
  },
  {
   "cell_type": "code",
   "execution_count": null,
   "metadata": {},
   "outputs": [],
   "source": [
    "pv"
   ]
  },
  {
   "cell_type": "code",
   "execution_count": null,
   "metadata": {},
   "outputs": [],
   "source": [
    "pv.read()"
   ]
  },
  {
   "cell_type": "code",
   "execution_count": null,
   "metadata": {},
   "outputs": [],
   "source": [
    "pv_exact.read()"
   ]
  },
  {
   "cell_type": "code",
   "execution_count": null,
   "metadata": {},
   "outputs": [],
   "source": [
    "pv.write(2.0)\n",
    "print()"
   ]
  },
  {
   "cell_type": "code",
   "execution_count": null,
   "metadata": {},
   "outputs": [],
   "source": [
    "mag.read(), mag.read_exact()"
   ]
  },
  {
   "cell_type": "code",
   "execution_count": null,
   "metadata": {},
   "outputs": [],
   "source": []
  }
 ],
 "metadata": {
  "kernelspec": {
   "display_name": "Python 3.9.15 ('py39ml')",
   "language": "python",
   "name": "python3"
  },
  "language_info": {
   "codemirror_mode": {
    "name": "ipython",
    "version": 3
   },
   "file_extension": ".py",
   "mimetype": "text/x-python",
   "name": "python",
   "nbconvert_exporter": "python",
   "pygments_lexer": "ipython3",
   "version": "3.9.15"
  },
  "vscode": {
   "interpreter": {
    "hash": "13374264484fde26a6608662cb4d9f2b357aebc4acc640560464425c35bd54c0"
   }
  }
 },
 "nbformat": 4,
 "nbformat_minor": 0
}
