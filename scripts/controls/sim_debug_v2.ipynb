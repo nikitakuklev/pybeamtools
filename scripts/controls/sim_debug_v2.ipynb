{
 "cells": [
  {
   "cell_type": "code",
   "execution_count": 1,
   "metadata": {
    "collapsed": true
   },
   "outputs": [
    {
     "name": "stderr",
     "output_type": "stream",
     "text": [
      "[INFO ] [     MainThread] [00:55:46      logging.py  23] [pybeamtools.utils.logging] Starting shared logging thread on PID 18036\n",
      "[INFO ] [   log_listener] [00:55:46      logging.py  32] [pybeamtools.utils.logging] Logging listener started on PID 18036\n",
      "[INFO ] [     MainThread] [00:55:46      logging.py  27] [pybeamtools.utils.logging] Logging setup finished\n"
     ]
    }
   ],
   "source": [
    "import sys\n",
    "sys.path.append('../..')\n",
    "import pybeamtools"
   ]
  },
  {
   "cell_type": "code",
   "execution_count": 2,
   "metadata": {},
   "outputs": [],
   "source": [
    "%load_ext autoreload\n",
    "%autoreload 2"
   ]
  },
  {
   "cell_type": "code",
   "execution_count": 3,
   "metadata": {},
   "outputs": [],
   "source": [
    "def time():\n",
    "    return time.time()*0.5\n",
    "\n",
    "t = 0.0\n",
    "def fixed_time():\n",
    "    return t"
   ]
  },
  {
   "cell_type": "code",
   "execution_count": 4,
   "metadata": {},
   "outputs": [],
   "source": [
    "from pybeamtools.sim.core import SimulationEngine, ChannelMap\n",
    "sim = SimulationEngine(time_fun=fixed_time)\n",
    "sim.TRACE = True"
   ]
  },
  {
   "cell_type": "code",
   "execution_count": 5,
   "metadata": {},
   "outputs": [],
   "source": [
    "from pybeamtools.sim.devices import EchoEngineDevice, ProxyEngineDevice, TRIGSPEC\n",
    "echo = EchoEngineDevice(name='echo', initial_data={'TEST:ECHO:1':5, 'TEST:ECHO:2':10})\n",
    "echo2 = EchoEngineDevice(name='echo2', initial_data={'TEST:ECHO:3':5, 'TEST:ECHO:4':10})"
   ]
  },
  {
   "cell_type": "code",
   "execution_count": 6,
   "metadata": {},
   "outputs": [
    {
     "name": "stderr",
     "output_type": "stream",
     "text": [
      "[DEBUG] [     MainThread] [00:55:47         core.py 197] [SimulationEngine] Added device (echo) with period (3.0)\n",
      "[DEBUG] [     MainThread] [00:55:47         core.py 197] [SimulationEngine] Added device (echo2) with period (5.0)\n"
     ]
    },
    {
     "data": {
      "text/plain": [
       "{'TEST:ECHO:3': 5, 'TEST:ECHO:4': 10}"
      ]
     },
     "execution_count": 6,
     "metadata": {},
     "output_type": "execute_result"
    }
   ],
   "source": [
    "sim.add_device(echo, period=3.0)\n",
    "sim._update_device('echo')\n",
    "sim.add_device(echo2, period=5.0)\n",
    "sim._update_device('echo2')"
   ]
  },
  {
   "cell_type": "code",
   "execution_count": 7,
   "metadata": {},
   "outputs": [
    {
     "name": "stdout",
     "output_type": "stream",
     "text": [
      "{'TEST:ECHO:1': {}, 'TEST:ECHO:2': {}, 'TEST:ECHO:3': {}, 'TEST:ECHO:4': {}}\n",
      "{}\n",
      "{'echo': 0.0, 'echo2': 0.0}\n"
     ]
    }
   ],
   "source": [
    "print(sim.channels_map_chain)\n",
    "print(sim.channels_dep_chain)\n",
    "print(sim.next_periodic_read_time)"
   ]
  },
  {
   "cell_type": "code",
   "execution_count": 8,
   "metadata": {},
   "outputs": [],
   "source": [
    "proxy = ProxyEngineDevice(name='proxy', channel_map={'TEST:PROXY:1':{'TEST:ECHO:1': TRIGSPEC.PROPAGATE}})\n",
    "proxy1b = ProxyEngineDevice(name='proxy1b', channel_map={'TEST:PROXY:1B':{'TEST:ECHO:2': TRIGSPEC.IGNORE}})\n",
    "proxy2 = ProxyEngineDevice(name='proxy2', channel_map={'TEST:PROXY:2':{'TEST:PROXY:1': TRIGSPEC.PROPAGATE}})\n",
    "proxy2b = ProxyEngineDevice(name='proxy2b', channel_map={'TEST:PROXY:2B':{'TEST:PROXY:1': TRIGSPEC.PROPAGATE}})"
   ]
  },
  {
   "cell_type": "code",
   "execution_count": 9,
   "metadata": {},
   "outputs": [
    {
     "name": "stderr",
     "output_type": "stream",
     "text": [
      "[DEBUG] [     MainThread] [00:55:47         core.py 197] [SimulationEngine] Added device (proxy) with period (6.0)\n",
      "[DEBUG] [     MainThread] [00:55:47         core.py 197] [SimulationEngine] Added device (proxy1b) with period (7.0)\n",
      "[DEBUG] [     MainThread] [00:55:47         core.py 197] [SimulationEngine] Added device (proxy2) with period (9.0)\n",
      "[DEBUG] [     MainThread] [00:55:47         core.py 197] [SimulationEngine] Added device (proxy2b) with period (11.0)\n"
     ]
    },
    {
     "data": {
      "text/plain": [
       "{'TEST:PROXY:2B': 5}"
      ]
     },
     "execution_count": 9,
     "metadata": {},
     "output_type": "execute_result"
    }
   ],
   "source": [
    "sim.add_device(proxy, period=6.0)\n",
    "sim._update_device('proxy')\n",
    "sim.add_device(proxy1b, period=7.0)\n",
    "sim._update_device('proxy1b')\n",
    "sim.add_device(proxy2, period=9.0)\n",
    "sim._update_device('proxy2')\n",
    "sim.add_device(proxy2b, period=11.0)\n",
    "sim._update_device('proxy2b')"
   ]
  },
  {
   "cell_type": "code",
   "execution_count": 10,
   "metadata": {},
   "outputs": [
    {
     "name": "stdout",
     "output_type": "stream",
     "text": [
      "{'TEST:ECHO:1': {}, 'TEST:ECHO:2': {}, 'TEST:ECHO:3': {}, 'TEST:ECHO:4': {}, 'TEST:PROXY:1': {'TEST:ECHO:1': <TRIGSPEC.PROPAGATE: 1>}, 'TEST:PROXY:1B': {'TEST:ECHO:2': <TRIGSPEC.IGNORE: 2>}, 'TEST:PROXY:2': {'TEST:PROXY:1': <TRIGSPEC.PROPAGATE: 1>}, 'TEST:PROXY:2B': {'TEST:PROXY:1': <TRIGSPEC.PROPAGATE: 1>}}\n",
      "{'TEST:ECHO:1': ['TEST:PROXY:1'], 'TEST:ECHO:2': [], 'TEST:PROXY:1': ['TEST:PROXY:2', 'TEST:PROXY:2B']}\n",
      "{'echo': 0.0, 'echo2': 0.0, 'proxy': 0.0, 'proxy1b': 0.0, 'proxy2': 0.0, 'proxy2b': 0.0}\n"
     ]
    }
   ],
   "source": [
    "print(sim.channels_map_chain)\n",
    "print(sim.channels_dep_chain)\n",
    "print(sim.next_periodic_read_time)"
   ]
  },
  {
   "cell_type": "code",
   "execution_count": 11,
   "metadata": {},
   "outputs": [],
   "source": [
    "#t = sim.time()"
   ]
  },
  {
   "cell_type": "code",
   "execution_count": 12,
   "metadata": {},
   "outputs": [
    {
     "name": "stderr",
     "output_type": "stream",
     "text": [
      "[DEBUG] [     MainThread] [00:55:47         core.py 340] [SimulationEngine] Advancing sim to (10.0)\n",
      "[DEBUG] [     MainThread] [00:55:47         core.py 351] [SimulationEngine] Devices to process: [[0.0, 'echo'], [0.0, 'echo2'], [0.0, 'proxy'], [0.0, 'proxy1b'], [0.0, 'proxy2'], [0.0, 'proxy2b']]\n",
      "[DEBUG] [     MainThread] [00:55:47         core.py 411] [SimulationEngine] UP (echo): result ({'TEST:ECHO:1': 5, 'TEST:ECHO:2': 10})\n",
      "[DEBUG] [     MainThread] [00:55:47         core.py 411] [SimulationEngine] >UP (proxy): result ({'TEST:PROXY:1': 5})\n",
      "[DEBUG] [     MainThread] [00:55:47         core.py 411] [SimulationEngine] >>UP (proxy2): result ({'TEST:PROXY:2': 5})\n",
      "[DEBUG] [     MainThread] [00:55:47         core.py 411] [SimulationEngine] >>UP (proxy2b): result ({'TEST:PROXY:2B': 5})\n",
      "[DEBUG] [     MainThread] [00:55:47         core.py 351] [SimulationEngine] Devices to process: [[0.0, 'echo2'], [0.0, 'proxy'], [0.0, 'proxy1b'], [0.0, 'proxy2'], [0.0, 'proxy2b'], [3.0, 'echo']]\n",
      "[DEBUG] [     MainThread] [00:55:47         core.py 411] [SimulationEngine] UP (echo2): result ({'TEST:ECHO:3': 5, 'TEST:ECHO:4': 10})\n",
      "[DEBUG] [     MainThread] [00:55:47         core.py 351] [SimulationEngine] Devices to process: [[0.0, 'proxy'], [0.0, 'proxy1b'], [0.0, 'proxy2'], [0.0, 'proxy2b'], [3.0, 'echo'], [5.0, 'echo2']]\n",
      "[DEBUG] [     MainThread] [00:55:47         core.py 411] [SimulationEngine] UP (proxy): result ({'TEST:PROXY:1': 5})\n",
      "[DEBUG] [     MainThread] [00:55:47         core.py 411] [SimulationEngine] >UP (proxy2): result ({'TEST:PROXY:2': 5})\n",
      "[DEBUG] [     MainThread] [00:55:47         core.py 411] [SimulationEngine] >UP (proxy2b): result ({'TEST:PROXY:2B': 5})\n",
      "[DEBUG] [     MainThread] [00:55:47         core.py 351] [SimulationEngine] Devices to process: [[0.0, 'proxy1b'], [0.0, 'proxy2'], [0.0, 'proxy2b'], [3.0, 'echo'], [5.0, 'echo2'], [6.0, 'proxy']]\n",
      "[DEBUG] [     MainThread] [00:55:47         core.py 411] [SimulationEngine] UP (proxy1b): result ({'TEST:PROXY:1B': 10})\n",
      "[DEBUG] [     MainThread] [00:55:47         core.py 351] [SimulationEngine] Devices to process: [[0.0, 'proxy2'], [0.0, 'proxy2b'], [3.0, 'echo'], [5.0, 'echo2'], [6.0, 'proxy'], [7.0, 'proxy1b']]\n",
      "[DEBUG] [     MainThread] [00:55:47         core.py 411] [SimulationEngine] UP (proxy2): result ({'TEST:PROXY:2': 5})\n",
      "[DEBUG] [     MainThread] [00:55:47         core.py 351] [SimulationEngine] Devices to process: [[0.0, 'proxy2b'], [3.0, 'echo'], [5.0, 'echo2'], [6.0, 'proxy'], [7.0, 'proxy1b'], [9.0, 'proxy2']]\n",
      "[DEBUG] [     MainThread] [00:55:47         core.py 411] [SimulationEngine] UP (proxy2b): result ({'TEST:PROXY:2B': 5})\n",
      "[DEBUG] [     MainThread] [00:55:47         core.py 351] [SimulationEngine] Devices to process: [[3.0, 'echo'], [5.0, 'echo2'], [6.0, 'proxy'], [7.0, 'proxy1b'], [9.0, 'proxy2']]\n",
      "[DEBUG] [     MainThread] [00:55:47         core.py 411] [SimulationEngine] UP (echo): result ({'TEST:ECHO:1': 5, 'TEST:ECHO:2': 10})\n",
      "[DEBUG] [     MainThread] [00:55:47         core.py 411] [SimulationEngine] >UP (proxy): result ({'TEST:PROXY:1': 5})\n",
      "[DEBUG] [     MainThread] [00:55:47         core.py 411] [SimulationEngine] >>UP (proxy2): result ({'TEST:PROXY:2': 5})\n",
      "[DEBUG] [     MainThread] [00:55:47         core.py 411] [SimulationEngine] >>UP (proxy2b): result ({'TEST:PROXY:2B': 5})\n",
      "[DEBUG] [     MainThread] [00:55:47         core.py 351] [SimulationEngine] Devices to process: [[5.0, 'echo2'], [6.0, 'echo'], [6.0, 'proxy'], [7.0, 'proxy1b'], [9.0, 'proxy2']]\n",
      "[DEBUG] [     MainThread] [00:55:47         core.py 411] [SimulationEngine] UP (echo2): result ({'TEST:ECHO:3': 5, 'TEST:ECHO:4': 10})\n",
      "[DEBUG] [     MainThread] [00:55:47         core.py 351] [SimulationEngine] Devices to process: [[6.0, 'echo'], [6.0, 'proxy'], [7.0, 'proxy1b'], [9.0, 'proxy2'], [10.0, 'echo2']]\n",
      "[DEBUG] [     MainThread] [00:55:47         core.py 411] [SimulationEngine] UP (echo): result ({'TEST:ECHO:1': 5, 'TEST:ECHO:2': 10})\n",
      "[DEBUG] [     MainThread] [00:55:47         core.py 411] [SimulationEngine] >UP (proxy): result ({'TEST:PROXY:1': 5})\n",
      "[DEBUG] [     MainThread] [00:55:47         core.py 411] [SimulationEngine] >>UP (proxy2): result ({'TEST:PROXY:2': 5})\n",
      "[DEBUG] [     MainThread] [00:55:47         core.py 411] [SimulationEngine] >>UP (proxy2b): result ({'TEST:PROXY:2B': 5})\n",
      "[DEBUG] [     MainThread] [00:55:47         core.py 351] [SimulationEngine] Devices to process: [[6.0, 'proxy'], [7.0, 'proxy1b'], [9.0, 'echo'], [9.0, 'proxy2'], [10.0, 'echo2']]\n",
      "[DEBUG] [     MainThread] [00:55:47         core.py 411] [SimulationEngine] UP (proxy): result ({'TEST:PROXY:1': 5})\n",
      "[DEBUG] [     MainThread] [00:55:47         core.py 411] [SimulationEngine] >UP (proxy2): result ({'TEST:PROXY:2': 5})\n",
      "[DEBUG] [     MainThread] [00:55:47         core.py 411] [SimulationEngine] >UP (proxy2b): result ({'TEST:PROXY:2B': 5})\n",
      "[DEBUG] [     MainThread] [00:55:47         core.py 351] [SimulationEngine] Devices to process: [[7.0, 'proxy1b'], [9.0, 'echo'], [9.0, 'proxy2'], [10.0, 'echo2']]\n",
      "[DEBUG] [     MainThread] [00:55:47         core.py 411] [SimulationEngine] UP (proxy1b): result ({'TEST:PROXY:1B': 10})\n",
      "[DEBUG] [     MainThread] [00:55:47         core.py 351] [SimulationEngine] Devices to process: [[9.0, 'echo'], [9.0, 'proxy2'], [10.0, 'echo2']]\n",
      "[DEBUG] [     MainThread] [00:55:47         core.py 411] [SimulationEngine] UP (echo): result ({'TEST:ECHO:1': 5, 'TEST:ECHO:2': 10})\n",
      "[DEBUG] [     MainThread] [00:55:47         core.py 411] [SimulationEngine] >UP (proxy): result ({'TEST:PROXY:1': 5})\n",
      "[DEBUG] [     MainThread] [00:55:47         core.py 411] [SimulationEngine] >>UP (proxy2): result ({'TEST:PROXY:2': 5})\n",
      "[DEBUG] [     MainThread] [00:55:47         core.py 411] [SimulationEngine] >>UP (proxy2b): result ({'TEST:PROXY:2B': 5})\n",
      "[DEBUG] [     MainThread] [00:55:47         core.py 351] [SimulationEngine] Devices to process: [[9.0, 'proxy2'], [10.0, 'echo2']]\n",
      "[DEBUG] [     MainThread] [00:55:47         core.py 411] [SimulationEngine] UP (proxy2): result ({'TEST:PROXY:2': 5})\n",
      "[DEBUG] [     MainThread] [00:55:47         core.py 351] [SimulationEngine] Devices to process: [[10.0, 'echo2']]\n",
      "[DEBUG] [     MainThread] [00:55:47         core.py 411] [SimulationEngine] UP (echo2): result ({'TEST:ECHO:3': 5, 'TEST:ECHO:4': 10})\n",
      "[DEBUG] [     MainThread] [00:55:47         core.py 351] [SimulationEngine] Devices to process: []\n",
      "[DEBUG] [     MainThread] [00:55:47         core.py 353] [SimulationEngine] Time step done (14 cycles)\n"
     ]
    }
   ],
   "source": [
    "t += 10\n",
    "sim._time_step(t)"
   ]
  },
  {
   "cell_type": "code",
   "execution_count": 13,
   "metadata": {},
   "outputs": [
    {
     "data": {
      "text/plain": [
       "10.0"
      ]
     },
     "execution_count": 13,
     "metadata": {},
     "output_type": "execute_result"
    }
   ],
   "source": [
    "sim.time()"
   ]
  },
  {
   "cell_type": "code",
   "execution_count": 14,
   "metadata": {},
   "outputs": [
    {
     "name": "stderr",
     "output_type": "stream",
     "text": [
      "[DEBUG] [     MainThread] [00:55:48         core.py 236] [SimulationEngine] Created subscription for channel (TEST:ECHO:1)\n"
     ]
    }
   ],
   "source": [
    "def f(sub, v):\n",
    "    print(f'Channel input_var_change_callback', sub.name, v)\n",
    "sub = sim.subscribe_channel('TEST:ECHO:1')\n",
    "sub.add_callback(f)"
   ]
  },
  {
   "cell_type": "code",
   "execution_count": 15,
   "metadata": {},
   "outputs": [
    {
     "name": "stderr",
     "output_type": "stream",
     "text": [
      "[DEBUG] [     MainThread] [00:55:48         core.py 340] [SimulationEngine] Advancing sim to (20.0)\n",
      "[DEBUG] [     MainThread] [00:55:48         core.py 351] [SimulationEngine] Devices to process: [[11.0, 'proxy2b'], [12.0, 'echo'], [12.0, 'proxy'], [14.0, 'proxy1b'], [15.0, 'echo2'], [18.0, 'proxy2']]\n",
      "[DEBUG] [     MainThread] [00:55:48         core.py 411] [SimulationEngine] UP (proxy2b): result ({'TEST:PROXY:2B': 5})\n",
      "[DEBUG] [     MainThread] [00:55:48         core.py 351] [SimulationEngine] Devices to process: [[12.0, 'echo'], [12.0, 'proxy'], [14.0, 'proxy1b'], [15.0, 'echo2'], [18.0, 'proxy2']]\n",
      "[DEBUG] [     MainThread] [00:55:48         core.py 411] [SimulationEngine] UP (echo): result ({'TEST:ECHO:1': 5, 'TEST:ECHO:2': 10})\n",
      "[DEBUG] [     MainThread] [00:55:48         core.py 421] [SimulationEngine] UP (echo): subs for (TEST:ECHO:1)=(5)\n",
      "[DEBUG] [     MainThread] [00:55:48         core.py  65] [ChannelSubscription] Running (1) callbacks for channel (TEST:ECHO:1)\n",
      "[DEBUG] [     MainThread] [00:55:48         core.py 411] [SimulationEngine] >UP (proxy): result ({'TEST:PROXY:1': 5})\n",
      "[DEBUG] [     MainThread] [00:55:48         core.py 411] [SimulationEngine] >>UP (proxy2): result ({'TEST:PROXY:2': 5})\n",
      "[DEBUG] [     MainThread] [00:55:48         core.py 411] [SimulationEngine] >>UP (proxy2b): result ({'TEST:PROXY:2B': 5})\n",
      "[DEBUG] [     MainThread] [00:55:48         core.py 351] [SimulationEngine] Devices to process: [[12.0, 'proxy'], [14.0, 'proxy1b'], [15.0, 'echo'], [15.0, 'echo2'], [18.0, 'proxy2']]\n",
      "[DEBUG] [     MainThread] [00:55:48         core.py 411] [SimulationEngine] UP (proxy): result ({'TEST:PROXY:1': 5})\n",
      "[DEBUG] [     MainThread] [00:55:48         core.py 411] [SimulationEngine] >UP (proxy2): result ({'TEST:PROXY:2': 5})\n",
      "[DEBUG] [     MainThread] [00:55:48         core.py 411] [SimulationEngine] >UP (proxy2b): result ({'TEST:PROXY:2B': 5})\n",
      "[DEBUG] [     MainThread] [00:55:48         core.py 351] [SimulationEngine] Devices to process: [[14.0, 'proxy1b'], [15.0, 'echo'], [15.0, 'echo2'], [18.0, 'proxy'], [18.0, 'proxy2']]\n",
      "[DEBUG] [     MainThread] [00:55:48         core.py 411] [SimulationEngine] UP (proxy1b): result ({'TEST:PROXY:1B': 10})\n",
      "[DEBUG] [     MainThread] [00:55:48         core.py 351] [SimulationEngine] Devices to process: [[15.0, 'echo'], [15.0, 'echo2'], [18.0, 'proxy'], [18.0, 'proxy2']]\n",
      "[DEBUG] [     MainThread] [00:55:48         core.py 411] [SimulationEngine] UP (echo): result ({'TEST:ECHO:1': 5, 'TEST:ECHO:2': 10})\n",
      "[DEBUG] [     MainThread] [00:55:48         core.py 421] [SimulationEngine] UP (echo): subs for (TEST:ECHO:1)=(5)\n",
      "[DEBUG] [     MainThread] [00:55:48         core.py  65] [ChannelSubscription] Running (1) callbacks for channel (TEST:ECHO:1)\n",
      "[DEBUG] [     MainThread] [00:55:48         core.py 411] [SimulationEngine] >UP (proxy): result ({'TEST:PROXY:1': 5})\n",
      "[DEBUG] [     MainThread] [00:55:48         core.py 411] [SimulationEngine] >>UP (proxy2): result ({'TEST:PROXY:2': 5})\n",
      "[DEBUG] [     MainThread] [00:55:48         core.py 411] [SimulationEngine] >>UP (proxy2b): result ({'TEST:PROXY:2B': 5})\n",
      "[DEBUG] [     MainThread] [00:55:48         core.py 351] [SimulationEngine] Devices to process: [[15.0, 'echo2'], [18.0, 'echo'], [18.0, 'proxy'], [18.0, 'proxy2']]\n",
      "[DEBUG] [     MainThread] [00:55:48         core.py 411] [SimulationEngine] UP (echo2): result ({'TEST:ECHO:3': 5, 'TEST:ECHO:4': 10})\n",
      "[DEBUG] [     MainThread] [00:55:48         core.py 351] [SimulationEngine] Devices to process: [[18.0, 'echo'], [18.0, 'proxy'], [18.0, 'proxy2'], [20.0, 'echo2']]\n",
      "[DEBUG] [     MainThread] [00:55:48         core.py 411] [SimulationEngine] UP (echo): result ({'TEST:ECHO:1': 5, 'TEST:ECHO:2': 10})\n",
      "[DEBUG] [     MainThread] [00:55:48         core.py 421] [SimulationEngine] UP (echo): subs for (TEST:ECHO:1)=(5)\n",
      "[DEBUG] [     MainThread] [00:55:48         core.py  65] [ChannelSubscription] Running (1) callbacks for channel (TEST:ECHO:1)\n",
      "[DEBUG] [     MainThread] [00:55:48         core.py 411] [SimulationEngine] >UP (proxy): result ({'TEST:PROXY:1': 5})\n",
      "[DEBUG] [     MainThread] [00:55:48         core.py 411] [SimulationEngine] >>UP (proxy2): result ({'TEST:PROXY:2': 5})\n",
      "[DEBUG] [     MainThread] [00:55:48         core.py 411] [SimulationEngine] >>UP (proxy2b): result ({'TEST:PROXY:2B': 5})\n",
      "[DEBUG] [     MainThread] [00:55:48         core.py 351] [SimulationEngine] Devices to process: [[18.0, 'proxy'], [18.0, 'proxy2'], [20.0, 'echo2']]\n",
      "[DEBUG] [     MainThread] [00:55:48         core.py 411] [SimulationEngine] UP (proxy): result ({'TEST:PROXY:1': 5})\n",
      "[DEBUG] [     MainThread] [00:55:48         core.py 411] [SimulationEngine] >UP (proxy2): result ({'TEST:PROXY:2': 5})\n",
      "[DEBUG] [     MainThread] [00:55:48         core.py 411] [SimulationEngine] >UP (proxy2b): result ({'TEST:PROXY:2B': 5})\n",
      "[DEBUG] [     MainThread] [00:55:48         core.py 351] [SimulationEngine] Devices to process: [[18.0, 'proxy2'], [20.0, 'echo2']]\n",
      "[DEBUG] [     MainThread] [00:55:48         core.py 411] [SimulationEngine] UP (proxy2): result ({'TEST:PROXY:2': 5})\n",
      "[DEBUG] [     MainThread] [00:55:48         core.py 351] [SimulationEngine] Devices to process: [[20.0, 'echo2']]\n",
      "[DEBUG] [     MainThread] [00:55:48         core.py 411] [SimulationEngine] UP (echo2): result ({'TEST:ECHO:3': 5, 'TEST:ECHO:4': 10})\n",
      "[DEBUG] [     MainThread] [00:55:48         core.py 351] [SimulationEngine] Devices to process: []\n",
      "[DEBUG] [     MainThread] [00:55:48         core.py 353] [SimulationEngine] Time step done (10 cycles)\n"
     ]
    },
    {
     "name": "stdout",
     "output_type": "stream",
     "text": [
      "Channel input_var_change_callback TEST:ECHO:1 5\n",
      "Channel input_var_change_callback TEST:ECHO:1 5\n",
      "Channel input_var_change_callback TEST:ECHO:1 5\n"
     ]
    }
   ],
   "source": [
    "t += 10\n",
    "sim._time_step(t)"
   ]
  },
  {
   "cell_type": "code",
   "execution_count": 16,
   "metadata": {},
   "outputs": [
    {
     "name": "stderr",
     "output_type": "stream",
     "text": [
      "[DEBUG] [     MainThread] [00:55:48         core.py 236] [SimulationEngine] Created subscription for channel (TEST:PROXY:2B)\n"
     ]
    }
   ],
   "source": [
    "def f(sub, v):\n",
    "    print(f'Channel input_var_change_callback 2', sub.name, v)\n",
    "sub = sim.subscribe_channel('TEST:PROXY:2B')\n",
    "sub.add_callback(f)"
   ]
  },
  {
   "cell_type": "code",
   "execution_count": 17,
   "metadata": {},
   "outputs": [
    {
     "name": "stderr",
     "output_type": "stream",
     "text": [
      "[DEBUG] [     MainThread] [00:55:48         core.py 340] [SimulationEngine] Advancing sim to (30.0)\n",
      "[DEBUG] [     MainThread] [00:55:48         core.py 351] [SimulationEngine] Devices to process: [[21.0, 'echo'], [21.0, 'proxy1b'], [22.0, 'proxy2b'], [24.0, 'proxy'], [25.0, 'echo2'], [27.0, 'proxy2']]\n",
      "[DEBUG] [     MainThread] [00:55:48         core.py 411] [SimulationEngine] UP (echo): result ({'TEST:ECHO:1': 5, 'TEST:ECHO:2': 10})\n",
      "[DEBUG] [     MainThread] [00:55:48         core.py 421] [SimulationEngine] UP (echo): subs for (TEST:ECHO:1)=(5)\n",
      "[DEBUG] [     MainThread] [00:55:48         core.py  65] [ChannelSubscription] Running (1) callbacks for channel (TEST:ECHO:1)\n",
      "[DEBUG] [     MainThread] [00:55:48         core.py 411] [SimulationEngine] >UP (proxy): result ({'TEST:PROXY:1': 5})\n",
      "[DEBUG] [     MainThread] [00:55:48         core.py 411] [SimulationEngine] >>UP (proxy2): result ({'TEST:PROXY:2': 5})\n",
      "[DEBUG] [     MainThread] [00:55:48         core.py 411] [SimulationEngine] >>UP (proxy2b): result ({'TEST:PROXY:2B': 5})\n",
      "[DEBUG] [     MainThread] [00:55:48         core.py 421] [SimulationEngine] >>UP (proxy2b): subs for (TEST:PROXY:2B)=(5)\n",
      "[DEBUG] [     MainThread] [00:55:48         core.py  65] [ChannelSubscription] Running (1) callbacks for channel (TEST:PROXY:2B)\n",
      "[DEBUG] [     MainThread] [00:55:48         core.py 351] [SimulationEngine] Devices to process: [[21.0, 'proxy1b'], [22.0, 'proxy2b'], [24.0, 'echo'], [24.0, 'proxy'], [25.0, 'echo2'], [27.0, 'proxy2']]\n",
      "[DEBUG] [     MainThread] [00:55:48         core.py 411] [SimulationEngine] UP (proxy1b): result ({'TEST:PROXY:1B': 10})\n",
      "[DEBUG] [     MainThread] [00:55:48         core.py 351] [SimulationEngine] Devices to process: [[22.0, 'proxy2b'], [24.0, 'echo'], [24.0, 'proxy'], [25.0, 'echo2'], [27.0, 'proxy2'], [28.0, 'proxy1b']]\n",
      "[DEBUG] [     MainThread] [00:55:48         core.py 411] [SimulationEngine] UP (proxy2b): result ({'TEST:PROXY:2B': 5})\n",
      "[DEBUG] [     MainThread] [00:55:48         core.py 421] [SimulationEngine] UP (proxy2b): subs for (TEST:PROXY:2B)=(5)\n",
      "[DEBUG] [     MainThread] [00:55:48         core.py  65] [ChannelSubscription] Running (1) callbacks for channel (TEST:PROXY:2B)\n",
      "[DEBUG] [     MainThread] [00:55:48         core.py 351] [SimulationEngine] Devices to process: [[24.0, 'echo'], [24.0, 'proxy'], [25.0, 'echo2'], [27.0, 'proxy2'], [28.0, 'proxy1b']]\n",
      "[DEBUG] [     MainThread] [00:55:48         core.py 411] [SimulationEngine] UP (echo): result ({'TEST:ECHO:1': 5, 'TEST:ECHO:2': 10})\n",
      "[DEBUG] [     MainThread] [00:55:48         core.py 421] [SimulationEngine] UP (echo): subs for (TEST:ECHO:1)=(5)\n",
      "[DEBUG] [     MainThread] [00:55:48         core.py  65] [ChannelSubscription] Running (1) callbacks for channel (TEST:ECHO:1)\n",
      "[DEBUG] [     MainThread] [00:55:48         core.py 411] [SimulationEngine] >UP (proxy): result ({'TEST:PROXY:1': 5})\n",
      "[DEBUG] [     MainThread] [00:55:48         core.py 411] [SimulationEngine] >>UP (proxy2): result ({'TEST:PROXY:2': 5})\n",
      "[DEBUG] [     MainThread] [00:55:48         core.py 411] [SimulationEngine] >>UP (proxy2b): result ({'TEST:PROXY:2B': 5})\n",
      "[DEBUG] [     MainThread] [00:55:48         core.py 421] [SimulationEngine] >>UP (proxy2b): subs for (TEST:PROXY:2B)=(5)\n",
      "[DEBUG] [     MainThread] [00:55:48         core.py  65] [ChannelSubscription] Running (1) callbacks for channel (TEST:PROXY:2B)\n",
      "[DEBUG] [     MainThread] [00:55:48         core.py 351] [SimulationEngine] Devices to process: [[24.0, 'proxy'], [25.0, 'echo2'], [27.0, 'echo'], [27.0, 'proxy2'], [28.0, 'proxy1b']]\n",
      "[DEBUG] [     MainThread] [00:55:48         core.py 411] [SimulationEngine] UP (proxy): result ({'TEST:PROXY:1': 5})\n",
      "[DEBUG] [     MainThread] [00:55:48         core.py 411] [SimulationEngine] >UP (proxy2): result ({'TEST:PROXY:2': 5})\n",
      "[DEBUG] [     MainThread] [00:55:48         core.py 411] [SimulationEngine] >UP (proxy2b): result ({'TEST:PROXY:2B': 5})\n",
      "[DEBUG] [     MainThread] [00:55:48         core.py 421] [SimulationEngine] >UP (proxy2b): subs for (TEST:PROXY:2B)=(5)\n",
      "[DEBUG] [     MainThread] [00:55:48         core.py  65] [ChannelSubscription] Running (1) callbacks for channel (TEST:PROXY:2B)\n",
      "[DEBUG] [     MainThread] [00:55:48         core.py 351] [SimulationEngine] Devices to process: [[25.0, 'echo2'], [27.0, 'echo'], [27.0, 'proxy2'], [28.0, 'proxy1b'], [30.0, 'proxy']]\n",
      "[DEBUG] [     MainThread] [00:55:48         core.py 411] [SimulationEngine] UP (echo2): result ({'TEST:ECHO:3': 5, 'TEST:ECHO:4': 10})\n",
      "[DEBUG] [     MainThread] [00:55:48         core.py 351] [SimulationEngine] Devices to process: [[27.0, 'echo'], [27.0, 'proxy2'], [28.0, 'proxy1b'], [30.0, 'echo2'], [30.0, 'proxy']]\n",
      "[DEBUG] [     MainThread] [00:55:48         core.py 411] [SimulationEngine] UP (echo): result ({'TEST:ECHO:1': 5, 'TEST:ECHO:2': 10})\n",
      "[DEBUG] [     MainThread] [00:55:48         core.py 421] [SimulationEngine] UP (echo): subs for (TEST:ECHO:1)=(5)\n",
      "[DEBUG] [     MainThread] [00:55:48         core.py  65] [ChannelSubscription] Running (1) callbacks for channel (TEST:ECHO:1)\n",
      "[DEBUG] [     MainThread] [00:55:48         core.py 411] [SimulationEngine] >UP (proxy): result ({'TEST:PROXY:1': 5})\n",
      "[DEBUG] [     MainThread] [00:55:48         core.py 411] [SimulationEngine] >>UP (proxy2): result ({'TEST:PROXY:2': 5})\n",
      "[DEBUG] [     MainThread] [00:55:48         core.py 411] [SimulationEngine] >>UP (proxy2b): result ({'TEST:PROXY:2B': 5})\n",
      "[DEBUG] [     MainThread] [00:55:48         core.py 421] [SimulationEngine] >>UP (proxy2b): subs for (TEST:PROXY:2B)=(5)\n",
      "[DEBUG] [     MainThread] [00:55:48         core.py  65] [ChannelSubscription] Running (1) callbacks for channel (TEST:PROXY:2B)\n",
      "[DEBUG] [     MainThread] [00:55:48         core.py 351] [SimulationEngine] Devices to process: [[27.0, 'proxy2'], [28.0, 'proxy1b'], [30.0, 'echo'], [30.0, 'echo2'], [30.0, 'proxy']]\n",
      "[DEBUG] [     MainThread] [00:55:48         core.py 411] [SimulationEngine] UP (proxy2): result ({'TEST:PROXY:2': 5})\n",
      "[DEBUG] [     MainThread] [00:55:48         core.py 351] [SimulationEngine] Devices to process: [[28.0, 'proxy1b'], [30.0, 'echo'], [30.0, 'echo2'], [30.0, 'proxy']]\n",
      "[DEBUG] [     MainThread] [00:55:48         core.py 411] [SimulationEngine] UP (proxy1b): result ({'TEST:PROXY:1B': 10})\n",
      "[DEBUG] [     MainThread] [00:55:48         core.py 351] [SimulationEngine] Devices to process: [[30.0, 'echo'], [30.0, 'echo2'], [30.0, 'proxy']]\n",
      "[DEBUG] [     MainThread] [00:55:48         core.py 411] [SimulationEngine] UP (echo): result ({'TEST:ECHO:1': 5, 'TEST:ECHO:2': 10})\n",
      "[DEBUG] [     MainThread] [00:55:48         core.py 421] [SimulationEngine] UP (echo): subs for (TEST:ECHO:1)=(5)\n",
      "[DEBUG] [     MainThread] [00:55:48         core.py  65] [ChannelSubscription] Running (1) callbacks for channel (TEST:ECHO:1)\n",
      "[DEBUG] [     MainThread] [00:55:48         core.py 411] [SimulationEngine] >UP (proxy): result ({'TEST:PROXY:1': 5})\n",
      "[DEBUG] [     MainThread] [00:55:48         core.py 411] [SimulationEngine] >>UP (proxy2): result ({'TEST:PROXY:2': 5})\n",
      "[DEBUG] [     MainThread] [00:55:48         core.py 411] [SimulationEngine] >>UP (proxy2b): result ({'TEST:PROXY:2B': 5})\n",
      "[DEBUG] [     MainThread] [00:55:48         core.py 421] [SimulationEngine] >>UP (proxy2b): subs for (TEST:PROXY:2B)=(5)\n",
      "[DEBUG] [     MainThread] [00:55:48         core.py  65] [ChannelSubscription] Running (1) callbacks for channel (TEST:PROXY:2B)\n",
      "[DEBUG] [     MainThread] [00:55:48         core.py 351] [SimulationEngine] Devices to process: [[30.0, 'echo2'], [30.0, 'proxy']]\n",
      "[DEBUG] [     MainThread] [00:55:48         core.py 411] [SimulationEngine] UP (echo2): result ({'TEST:ECHO:3': 5, 'TEST:ECHO:4': 10})\n",
      "[DEBUG] [     MainThread] [00:55:48         core.py 351] [SimulationEngine] Devices to process: [[30.0, 'proxy']]\n",
      "[DEBUG] [     MainThread] [00:55:48         core.py 411] [SimulationEngine] UP (proxy): result ({'TEST:PROXY:1': 5})\n",
      "[DEBUG] [     MainThread] [00:55:48         core.py 411] [SimulationEngine] >UP (proxy2): result ({'TEST:PROXY:2': 5})\n",
      "[DEBUG] [     MainThread] [00:55:48         core.py 411] [SimulationEngine] >UP (proxy2b): result ({'TEST:PROXY:2B': 5})\n",
      "[DEBUG] [     MainThread] [00:55:48         core.py 421] [SimulationEngine] >UP (proxy2b): subs for (TEST:PROXY:2B)=(5)\n",
      "[DEBUG] [     MainThread] [00:55:48         core.py  65] [ChannelSubscription] Running (1) callbacks for channel (TEST:PROXY:2B)\n",
      "[DEBUG] [     MainThread] [00:55:48         core.py 351] [SimulationEngine] Devices to process: []\n",
      "[DEBUG] [     MainThread] [00:55:48         core.py 353] [SimulationEngine] Time step done (12 cycles)\n"
     ]
    },
    {
     "name": "stdout",
     "output_type": "stream",
     "text": [
      "Channel input_var_change_callback TEST:ECHO:1 5\n",
      "Channel input_var_change_callback 2 TEST:PROXY:2B 5\n",
      "Channel input_var_change_callback 2 TEST:PROXY:2B 5\n",
      "Channel input_var_change_callback TEST:ECHO:1 5\n",
      "Channel input_var_change_callback 2 TEST:PROXY:2B 5\n",
      "Channel input_var_change_callback 2 TEST:PROXY:2B 5\n",
      "Channel input_var_change_callback TEST:ECHO:1 5\n",
      "Channel input_var_change_callback 2 TEST:PROXY:2B 5\n",
      "Channel input_var_change_callback TEST:ECHO:1 5\n",
      "Channel input_var_change_callback 2 TEST:PROXY:2B 5\n",
      "Channel input_var_change_callback 2 TEST:PROXY:2B 5\n"
     ]
    }
   ],
   "source": [
    "t += 10\n",
    "sim._time_step(t)"
   ]
  },
  {
   "cell_type": "code",
   "execution_count": 18,
   "metadata": {},
   "outputs": [],
   "source": [
    "from pybeamtools.sim.devices import MagnetEngineDevice\n",
    "mag1 = MagnetEngineDevice('magneto','MAG_VAL','MAG_VAL_EXACT', initial_value=0, low=-2, high=2, noise=0.1, resolution=None, model='instant')"
   ]
  },
  {
   "cell_type": "code",
   "execution_count": 19,
   "metadata": {},
   "outputs": [
    {
     "name": "stderr",
     "output_type": "stream",
     "text": [
      "[DEBUG] [     MainThread] [00:55:48         core.py 197] [SimulationEngine] Added device (magneto) with period (5.0)\n"
     ]
    },
    {
     "data": {
      "text/plain": [
       "{'MAG_VAL': 0.06485413436802367, 'MAG_VAL_EXACT': 0}"
      ]
     },
     "execution_count": 19,
     "metadata": {},
     "output_type": "execute_result"
    }
   ],
   "source": [
    "sim.add_device(mag1, period=5.0)\n",
    "sim._update_device('magneto')"
   ]
  },
  {
   "cell_type": "code",
   "execution_count": 20,
   "metadata": {},
   "outputs": [
    {
     "name": "stderr",
     "output_type": "stream",
     "text": [
      "[DEBUG] [     MainThread] [00:55:48         core.py 340] [SimulationEngine] Advancing sim to (31.0)\n",
      "[DEBUG] [     MainThread] [00:55:48         core.py 351] [SimulationEngine] Devices to process: [[30.0, 'magneto']]\n",
      "[DEBUG] [     MainThread] [00:55:48         core.py 411] [SimulationEngine] UP (magneto): result ({'MAG_VAL': -0.15219315227896948, 'MAG_VAL_EXACT': 0})\n",
      "[DEBUG] [     MainThread] [00:55:48         core.py 351] [SimulationEngine] Devices to process: []\n",
      "[DEBUG] [     MainThread] [00:55:48         core.py 353] [SimulationEngine] Time step done (1 cycles)\n"
     ]
    }
   ],
   "source": [
    "t += 1\n",
    "sim._time_step(t)"
   ]
  },
  {
   "cell_type": "code",
   "execution_count": 21,
   "metadata": {},
   "outputs": [
    {
     "name": "stdout",
     "output_type": "stream",
     "text": [
      "{'TEST:ECHO:1': {}, 'TEST:ECHO:2': {}, 'TEST:ECHO:3': {}, 'TEST:ECHO:4': {}, 'TEST:PROXY:1': {'TEST:ECHO:1': <TRIGSPEC.PROPAGATE: 1>}, 'TEST:PROXY:1B': {'TEST:ECHO:2': <TRIGSPEC.IGNORE: 2>}, 'TEST:PROXY:2': {'TEST:PROXY:1': <TRIGSPEC.PROPAGATE: 1>}, 'TEST:PROXY:2B': {'TEST:PROXY:1': <TRIGSPEC.PROPAGATE: 1>}, 'MAG_VAL': {}, 'MAG_VAL_EXACT': {}}\n",
      "{'TEST:ECHO:1': ['TEST:PROXY:1'], 'TEST:ECHO:2': [], 'TEST:PROXY:1': ['TEST:PROXY:2', 'TEST:PROXY:2B']}\n",
      "{'echo': 33.0, 'echo2': 35.0, 'proxy': 36.0, 'proxy1b': 35.0, 'proxy2': 36.0, 'proxy2b': 33.0, 'magneto': 35.0}\n"
     ]
    }
   ],
   "source": [
    "print(sim.channels_map_chain)\n",
    "print(sim.channels_dep_chain)\n",
    "print(sim.next_periodic_read_time)"
   ]
  },
  {
   "cell_type": "code",
   "execution_count": 22,
   "metadata": {},
   "outputs": [
    {
     "name": "stderr",
     "output_type": "stream",
     "text": [
      "[DEBUG] [     MainThread] [00:55:49         core.py 340] [SimulationEngine] Advancing sim to (32.0)\n",
      "[DEBUG] [     MainThread] [00:55:49         core.py 351] [SimulationEngine] Devices to process: []\n",
      "[DEBUG] [     MainThread] [00:55:49         core.py 353] [SimulationEngine] Time step done (0 cycles)\n"
     ]
    }
   ],
   "source": [
    "t += 1\n",
    "sim._time_step(t)"
   ]
  },
  {
   "cell_type": "code",
   "execution_count": 23,
   "metadata": {},
   "outputs": [],
   "source": [
    "from pybeamtools.sim.devices import RPNEngineDevice\n",
    "rpn1 = RPNEngineDevice(name='rpn1', output_name='TEST:RPN', rpn_expression='TEST:PROXY:2B 10 +')"
   ]
  },
  {
   "cell_type": "code",
   "execution_count": 24,
   "metadata": {},
   "outputs": [
    {
     "name": "stderr",
     "output_type": "stream",
     "text": [
      "[DEBUG] [     MainThread] [00:55:49         core.py 197] [SimulationEngine] Added device (rpn1) with period (1.0)\n"
     ]
    },
    {
     "data": {
      "text/plain": [
       "{'TEST:RPN': 15.0}"
      ]
     },
     "execution_count": 24,
     "metadata": {},
     "output_type": "execute_result"
    }
   ],
   "source": [
    "sim.add_device(rpn1, period=1.0)\n",
    "sim._update_device(rpn1)"
   ]
  },
  {
   "cell_type": "code",
   "execution_count": 25,
   "metadata": {},
   "outputs": [
    {
     "name": "stderr",
     "output_type": "stream",
     "text": [
      "[DEBUG] [     MainThread] [00:55:49         core.py 340] [SimulationEngine] Advancing sim to (33.0)\n",
      "[DEBUG] [     MainThread] [00:55:49         core.py 351] [SimulationEngine] Devices to process: [[32.0, 'rpn1'], [33.0, 'echo'], [33.0, 'proxy2b']]\n",
      "[DEBUG] [     MainThread] [00:55:49         core.py 411] [SimulationEngine] UP (rpn1): result ({'TEST:RPN': 15.0})\n",
      "[DEBUG] [     MainThread] [00:55:49         core.py 351] [SimulationEngine] Devices to process: [[33.0, 'echo'], [33.0, 'proxy2b'], [33.0, 'rpn1']]\n",
      "[DEBUG] [     MainThread] [00:55:49         core.py 411] [SimulationEngine] UP (echo): result ({'TEST:ECHO:1': 5, 'TEST:ECHO:2': 10})\n",
      "[DEBUG] [     MainThread] [00:55:49         core.py 421] [SimulationEngine] UP (echo): subs for (TEST:ECHO:1)=(5)\n",
      "[DEBUG] [     MainThread] [00:55:49         core.py  65] [ChannelSubscription] Running (1) callbacks for channel (TEST:ECHO:1)\n",
      "[DEBUG] [     MainThread] [00:55:49         core.py 411] [SimulationEngine] >UP (proxy): result ({'TEST:PROXY:1': 5})\n",
      "[DEBUG] [     MainThread] [00:55:49         core.py 411] [SimulationEngine] >>UP (proxy2): result ({'TEST:PROXY:2': 5})\n",
      "[DEBUG] [     MainThread] [00:55:49         core.py 411] [SimulationEngine] >>UP (proxy2b): result ({'TEST:PROXY:2B': 5})\n",
      "[DEBUG] [     MainThread] [00:55:49         core.py 421] [SimulationEngine] >>UP (proxy2b): subs for (TEST:PROXY:2B)=(5)\n",
      "[DEBUG] [     MainThread] [00:55:49         core.py  65] [ChannelSubscription] Running (1) callbacks for channel (TEST:PROXY:2B)\n",
      "[DEBUG] [     MainThread] [00:55:49         core.py 411] [SimulationEngine] >>>UP (rpn1): result ({'TEST:RPN': 15.0})\n",
      "[DEBUG] [     MainThread] [00:55:49         core.py 351] [SimulationEngine] Devices to process: [[33.0, 'proxy2b'], [33.0, 'rpn1']]\n",
      "[DEBUG] [     MainThread] [00:55:49         core.py 411] [SimulationEngine] UP (proxy2b): result ({'TEST:PROXY:2B': 5})\n",
      "[DEBUG] [     MainThread] [00:55:49         core.py 421] [SimulationEngine] UP (proxy2b): subs for (TEST:PROXY:2B)=(5)\n",
      "[DEBUG] [     MainThread] [00:55:49         core.py  65] [ChannelSubscription] Running (1) callbacks for channel (TEST:PROXY:2B)\n",
      "[DEBUG] [     MainThread] [00:55:49         core.py 411] [SimulationEngine] >UP (rpn1): result ({'TEST:RPN': 15.0})\n",
      "[DEBUG] [     MainThread] [00:55:49         core.py 351] [SimulationEngine] Devices to process: [[33.0, 'rpn1']]\n",
      "[DEBUG] [     MainThread] [00:55:49         core.py 411] [SimulationEngine] UP (rpn1): result ({'TEST:RPN': 15.0})\n",
      "[DEBUG] [     MainThread] [00:55:49         core.py 351] [SimulationEngine] Devices to process: []\n",
      "[DEBUG] [     MainThread] [00:55:49         core.py 353] [SimulationEngine] Time step done (4 cycles)\n"
     ]
    },
    {
     "name": "stdout",
     "output_type": "stream",
     "text": [
      "Channel input_var_change_callback TEST:ECHO:1 5\n",
      "Channel input_var_change_callback 2 TEST:PROXY:2B 5\n",
      "Channel input_var_change_callback 2 TEST:PROXY:2B 5\n"
     ]
    }
   ],
   "source": [
    "t += 1\n",
    "sim._time_step(t)"
   ]
  },
  {
   "cell_type": "code",
   "execution_count": 26,
   "metadata": {},
   "outputs": [
    {
     "name": "stderr",
     "output_type": "stream",
     "text": [
      "[DEBUG] [     MainThread] [00:55:49         core.py 236] [SimulationEngine] Created subscription for channel (TEST:RPN)\n"
     ]
    }
   ],
   "source": [
    "def f(sub, v):\n",
    "    print(f'Channel input_var_change_callback rpn', sub.name, v)\n",
    "sub = sim.subscribe_channel('TEST:RPN')\n",
    "sub.add_callback(f)"
   ]
  },
  {
   "cell_type": "code",
   "execution_count": 27,
   "metadata": {},
   "outputs": [
    {
     "name": "stderr",
     "output_type": "stream",
     "text": [
      "[DEBUG] [     MainThread] [00:55:49         core.py 340] [SimulationEngine] Advancing sim to (34.0)\n",
      "[DEBUG] [     MainThread] [00:55:49         core.py 351] [SimulationEngine] Devices to process: [[34.0, 'rpn1']]\n",
      "[DEBUG] [     MainThread] [00:55:49         core.py 411] [SimulationEngine] UP (rpn1): result ({'TEST:RPN': 15.0})\n",
      "[DEBUG] [     MainThread] [00:55:49         core.py 421] [SimulationEngine] UP (rpn1): subs for (TEST:RPN)=(15.0)\n",
      "[DEBUG] [     MainThread] [00:55:49         core.py  65] [ChannelSubscription] Running (1) callbacks for channel (TEST:RPN)\n",
      "[DEBUG] [     MainThread] [00:55:49         core.py 351] [SimulationEngine] Devices to process: []\n",
      "[DEBUG] [     MainThread] [00:55:49         core.py 353] [SimulationEngine] Time step done (1 cycles)\n"
     ]
    },
    {
     "name": "stdout",
     "output_type": "stream",
     "text": [
      "Channel input_var_change_callback rpn TEST:RPN 15.0\n"
     ]
    }
   ],
   "source": [
    "t += 1\n",
    "sim._time_step(t)"
   ]
  },
  {
   "cell_type": "code",
   "execution_count": 28,
   "metadata": {},
   "outputs": [],
   "source": [
    "from pybeamtools.sim.devices import Oscillator, ModelEngineDevice\n",
    "dev_osc = Oscillator(name='osc1', period=60.0, amplitude=1.0, now=t)\n",
    "mdev_osc = ModelEngineDevice(device=dev_osc)"
   ]
  },
  {
   "cell_type": "code",
   "execution_count": 29,
   "metadata": {},
   "outputs": [
    {
     "data": {
      "text/plain": [
       "{'osc1': {}}"
      ]
     },
     "execution_count": 29,
     "metadata": {},
     "output_type": "execute_result"
    }
   ],
   "source": [
    "mdev_osc.channel_map"
   ]
  },
  {
   "cell_type": "code",
   "execution_count": 30,
   "metadata": {},
   "outputs": [
    {
     "name": "stderr",
     "output_type": "stream",
     "text": [
      "[DEBUG] [     MainThread] [00:55:50         core.py 197] [SimulationEngine] Added device (osc1) with period (1.0)\n"
     ]
    },
    {
     "data": {
      "text/plain": [
       "{'osc1': 0.0}"
      ]
     },
     "execution_count": 30,
     "metadata": {},
     "output_type": "execute_result"
    }
   ],
   "source": [
    "sim.add_device(mdev_osc, period=1.0)\n",
    "sim._update_device(mdev_osc)"
   ]
  },
  {
   "cell_type": "code",
   "execution_count": 31,
   "metadata": {},
   "outputs": [
    {
     "name": "stderr",
     "output_type": "stream",
     "text": [
      "[DEBUG] [     MainThread] [00:55:50         core.py 340] [SimulationEngine] Advancing sim to (35.0)\n",
      "[DEBUG] [     MainThread] [00:55:50         core.py 351] [SimulationEngine] Devices to process: [[34.0, 'osc1'], [35.0, 'echo2'], [35.0, 'proxy1b'], [35.0, 'magneto'], [35.0, 'rpn1']]\n",
      "[DEBUG] [     MainThread] [00:55:50         core.py 411] [SimulationEngine] UP (osc1): result ({'osc1': 0.10452846326765346})\n",
      "[DEBUG] [     MainThread] [00:55:50         core.py 351] [SimulationEngine] Devices to process: [[35.0, 'echo2'], [35.0, 'proxy1b'], [35.0, 'magneto'], [35.0, 'rpn1'], [35.0, 'osc1']]\n",
      "[DEBUG] [     MainThread] [00:55:50         core.py 411] [SimulationEngine] UP (echo2): result ({'TEST:ECHO:3': 5, 'TEST:ECHO:4': 10})\n",
      "[DEBUG] [     MainThread] [00:55:50         core.py 351] [SimulationEngine] Devices to process: [[35.0, 'proxy1b'], [35.0, 'magneto'], [35.0, 'rpn1'], [35.0, 'osc1']]\n",
      "[DEBUG] [     MainThread] [00:55:50         core.py 411] [SimulationEngine] UP (proxy1b): result ({'TEST:PROXY:1B': 10})\n",
      "[DEBUG] [     MainThread] [00:55:50         core.py 351] [SimulationEngine] Devices to process: [[35.0, 'magneto'], [35.0, 'rpn1'], [35.0, 'osc1']]\n",
      "[DEBUG] [     MainThread] [00:55:50         core.py 411] [SimulationEngine] UP (magneto): result ({'MAG_VAL': 0.23650290165395857, 'MAG_VAL_EXACT': 0})\n",
      "[DEBUG] [     MainThread] [00:55:50         core.py 351] [SimulationEngine] Devices to process: [[35.0, 'rpn1'], [35.0, 'osc1']]\n",
      "[DEBUG] [     MainThread] [00:55:50         core.py 411] [SimulationEngine] UP (rpn1): result ({'TEST:RPN': 15.0})\n",
      "[DEBUG] [     MainThread] [00:55:50         core.py 421] [SimulationEngine] UP (rpn1): subs for (TEST:RPN)=(15.0)\n",
      "[DEBUG] [     MainThread] [00:55:50         core.py  65] [ChannelSubscription] Running (1) callbacks for channel (TEST:RPN)\n",
      "[DEBUG] [     MainThread] [00:55:50         core.py 351] [SimulationEngine] Devices to process: [[35.0, 'osc1']]\n",
      "[DEBUG] [     MainThread] [00:55:50         core.py 411] [SimulationEngine] UP (osc1): result ({'osc1': 0.10452846326765346})\n",
      "[DEBUG] [     MainThread] [00:55:50         core.py 351] [SimulationEngine] Devices to process: []\n",
      "[DEBUG] [     MainThread] [00:55:50         core.py 353] [SimulationEngine] Time step done (6 cycles)\n"
     ]
    },
    {
     "name": "stdout",
     "output_type": "stream",
     "text": [
      "Channel input_var_change_callback rpn TEST:RPN 15.0\n"
     ]
    }
   ],
   "source": [
    "t += 1\n",
    "sim._time_step(t)"
   ]
  },
  {
   "cell_type": "code",
   "execution_count": 32,
   "metadata": {},
   "outputs": [
    {
     "data": {
      "text/plain": [
       "{'TEST:ECHO:1': 5,\n",
       " 'TEST:ECHO:2': 10,\n",
       " 'TEST:ECHO:3': 5,\n",
       " 'TEST:ECHO:4': 10,\n",
       " 'TEST:PROXY:1': 5,\n",
       " 'TEST:PROXY:1B': 10,\n",
       " 'TEST:PROXY:2': 5,\n",
       " 'TEST:PROXY:2B': 5,\n",
       " 'MAG_VAL': 0.23650290165395857,\n",
       " 'MAG_VAL_EXACT': 0,\n",
       " 'TEST:RPN': 15.0,\n",
       " 'osc1': 0.10452846326765346}"
      ]
     },
     "execution_count": 32,
     "metadata": {},
     "output_type": "execute_result"
    }
   ],
   "source": [
    "sim.latest_data"
   ]
  },
  {
   "cell_type": "code",
   "execution_count": 33,
   "metadata": {},
   "outputs": [
    {
     "data": {
      "text/plain": [
       "{'TEST:ECHO:1': 33.0,\n",
       " 'TEST:ECHO:2': 33.0,\n",
       " 'TEST:PROXY:1': 33.0,\n",
       " 'TEST:PROXY:2': 33.0,\n",
       " 'TEST:PROXY:2B': 33.0,\n",
       " 'TEST:ECHO:3': 35.0,\n",
       " 'TEST:ECHO:4': 35.0,\n",
       " 'TEST:PROXY:1B': 35.0,\n",
       " 'MAG_VAL': 35.0,\n",
       " 'MAG_VAL_EXACT': 35.0,\n",
       " 'TEST:RPN': 35.0,\n",
       " 'osc1': 35.0}"
      ]
     },
     "execution_count": 33,
     "metadata": {},
     "output_type": "execute_result"
    }
   ],
   "source": [
    "sim.latest_data_timestamp"
   ]
  },
  {
   "cell_type": "code",
   "execution_count": null,
   "metadata": {},
   "outputs": [],
   "source": [
    "sim.start_update_thread()\n",
    "print()"
   ]
  },
  {
   "cell_type": "code",
   "execution_count": null,
   "metadata": {},
   "outputs": [],
   "source": []
  },
  {
   "cell_type": "code",
   "execution_count": null,
   "metadata": {},
   "outputs": [],
   "source": []
  },
  {
   "cell_type": "code",
   "execution_count": null,
   "metadata": {},
   "outputs": [],
   "source": [
    "sim.stop_update_thread()"
   ]
  },
  {
   "cell_type": "code",
   "execution_count": null,
   "metadata": {},
   "outputs": [],
   "source": []
  }
 ],
 "metadata": {
  "kernelspec": {
   "display_name": "Python 3.9.15 ('py39ml')",
   "language": "python",
   "name": "python3"
  },
  "language_info": {
   "codemirror_mode": {
    "name": "ipython",
    "version": 3
   },
   "file_extension": ".py",
   "mimetype": "text/x-python",
   "name": "python",
   "nbconvert_exporter": "python",
   "pygments_lexer": "ipython3",
   "version": "3.9.15 | packaged by conda-forge | (main, Nov 22 2022, 08:41:22) [MSC v.1929 64 bit (AMD64)]"
  },
  "vscode": {
   "interpreter": {
    "hash": "13374264484fde26a6608662cb4d9f2b357aebc4acc640560464425c35bd54c0"
   }
  }
 },
 "nbformat": 4,
 "nbformat_minor": 0
}
